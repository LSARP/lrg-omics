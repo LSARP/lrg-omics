{
 "cells": [
  {
   "cell_type": "code",
   "execution_count": 1,
   "metadata": {},
   "outputs": [],
   "source": [
    "import pandas as pd\n",
    "import glob\n",
    "import os\n",
    "import numpy as np"
   ]
  },
  {
   "cell_type": "code",
   "execution_count": 2,
   "metadata": {},
   "outputs": [],
   "source": [
    "#the place where the files are placed\n",
    "path1 = 'example-01/2020_05_11RG_SA001_RPT001/'"
   ]
  },
  {
   "cell_type": "code",
   "execution_count": 3,
   "metadata": {},
   "outputs": [],
   "source": [
    "ms_files =[]\n",
    "sizes = []\n",
    "for file in glob.glob(path1+ '*.mzXML'):\n",
    "    ms_files.append(file)\n",
    "    sizes.append(os.path.getsize(file))"
   ]
  },
  {
   "cell_type": "code",
   "execution_count": 4,
   "metadata": {},
   "outputs": [
    {
     "data": {
      "text/html": [
       "<div>\n",
       "<style scoped>\n",
       "    .dataframe tbody tr th:only-of-type {\n",
       "        vertical-align: middle;\n",
       "    }\n",
       "\n",
       "    .dataframe tbody tr th {\n",
       "        vertical-align: top;\n",
       "    }\n",
       "\n",
       "    .dataframe thead th {\n",
       "        text-align: right;\n",
       "    }\n",
       "</style>\n",
       "<table border=\"1\" class=\"dataframe\">\n",
       "  <thead>\n",
       "    <tr style=\"text-align: right;\">\n",
       "      <th></th>\n",
       "      <th>Sample Type</th>\n",
       "      <th>File Name</th>\n",
       "      <th>Sample ID</th>\n",
       "      <th>Path</th>\n",
       "      <th>Instrument Method</th>\n",
       "      <th>Process Method</th>\n",
       "      <th>Calibration File</th>\n",
       "      <th>Position</th>\n",
       "      <th>Inj Vol</th>\n",
       "      <th>Level</th>\n",
       "      <th>...</th>\n",
       "      <th>Sample Vol</th>\n",
       "      <th>ISTD Amt</th>\n",
       "      <th>Dil Factor</th>\n",
       "      <th>L1 Study</th>\n",
       "      <th>L2 Client</th>\n",
       "      <th>L3 Laboratory</th>\n",
       "      <th>L4 Company</th>\n",
       "      <th>L5 Phone</th>\n",
       "      <th>Comment</th>\n",
       "      <th>Sample Name</th>\n",
       "    </tr>\n",
       "  </thead>\n",
       "  <tbody>\n",
       "    <tr>\n",
       "      <th>0</th>\n",
       "      <td>Unknown</td>\n",
       "      <td>2020_04_20RG_HILICPos15S_Col001_LSARP_SA008_Bl...</td>\n",
       "      <td>NaN</td>\n",
       "      <td>F:\\QEHF\\LRG\\LSARP\\2020_04_20RG_SA008</td>\n",
       "      <td>F:\\QEHF\\Methods\\LSARP\\2019_05_07RG_MultiHILICP...</td>\n",
       "      <td>NaN</td>\n",
       "      <td>NaN</td>\n",
       "      <td>G:C11</td>\n",
       "      <td>2</td>\n",
       "      <td>NaN</td>\n",
       "      <td>...</td>\n",
       "      <td>0</td>\n",
       "      <td>0</td>\n",
       "      <td>0</td>\n",
       "      <td>NaN</td>\n",
       "      <td>NaN</td>\n",
       "      <td>NaN</td>\n",
       "      <td>NaN</td>\n",
       "      <td>NaN</td>\n",
       "      <td>NaN</td>\n",
       "      <td>NaN</td>\n",
       "    </tr>\n",
       "    <tr>\n",
       "      <th>1</th>\n",
       "      <td>Unknown</td>\n",
       "      <td>2020_04_20RG_HILICNeg15S_Col002_LSARP_SA008_Bl...</td>\n",
       "      <td>NaN</td>\n",
       "      <td>F:\\QEHF\\LRG\\LSARP\\2020_04_20RG_SA008</td>\n",
       "      <td>F:\\QEHF\\Methods\\LSARP\\2019_05_07RG_MultiHILICN...</td>\n",
       "      <td>NaN</td>\n",
       "      <td>NaN</td>\n",
       "      <td>G:C11</td>\n",
       "      <td>2</td>\n",
       "      <td>NaN</td>\n",
       "      <td>...</td>\n",
       "      <td>0</td>\n",
       "      <td>0</td>\n",
       "      <td>0</td>\n",
       "      <td>NaN</td>\n",
       "      <td>NaN</td>\n",
       "      <td>NaN</td>\n",
       "      <td>NaN</td>\n",
       "      <td>NaN</td>\n",
       "      <td>NaN</td>\n",
       "      <td>NaN</td>\n",
       "    </tr>\n",
       "  </tbody>\n",
       "</table>\n",
       "<p>2 rows × 21 columns</p>\n",
       "</div>"
      ],
      "text/plain": [
       "  Sample Type                                          File Name  Sample ID  \\\n",
       "0     Unknown  2020_04_20RG_HILICPos15S_Col001_LSARP_SA008_Bl...        NaN   \n",
       "1     Unknown  2020_04_20RG_HILICNeg15S_Col002_LSARP_SA008_Bl...        NaN   \n",
       "\n",
       "                                   Path  \\\n",
       "0  F:\\QEHF\\LRG\\LSARP\\2020_04_20RG_SA008   \n",
       "1  F:\\QEHF\\LRG\\LSARP\\2020_04_20RG_SA008   \n",
       "\n",
       "                                   Instrument Method  Process Method  \\\n",
       "0  F:\\QEHF\\Methods\\LSARP\\2019_05_07RG_MultiHILICP...             NaN   \n",
       "1  F:\\QEHF\\Methods\\LSARP\\2019_05_07RG_MultiHILICN...             NaN   \n",
       "\n",
       "   Calibration File Position  Inj Vol  Level     ...       Sample Vol  \\\n",
       "0               NaN    G:C11        2    NaN     ...                0   \n",
       "1               NaN    G:C11        2    NaN     ...                0   \n",
       "\n",
       "   ISTD Amt  Dil Factor  L1 Study  L2 Client  L3 Laboratory  L4 Company  \\\n",
       "0         0           0       NaN        NaN            NaN         NaN   \n",
       "1         0           0       NaN        NaN            NaN         NaN   \n",
       "\n",
       "   L5 Phone  Comment  Sample Name  \n",
       "0       NaN      NaN          NaN  \n",
       "1       NaN      NaN          NaN  \n",
       "\n",
       "[2 rows x 21 columns]"
      ]
     },
     "execution_count": 4,
     "metadata": {},
     "output_type": "execute_result"
    }
   ],
   "source": [
    "info_df = pd.read_csv('LSARP-Full-May2020-Worklist.csv',skiprows=1)\n",
    "info_df.head(2)"
   ]
  },
  {
   "cell_type": "code",
   "execution_count": 5,
   "metadata": {},
   "outputs": [
    {
     "data": {
      "text/plain": [
       "'2020_04_20RG_HILICPos15S_Col001_LSARP_SA008_BlankStart1'"
      ]
     },
     "execution_count": 5,
     "metadata": {},
     "output_type": "execute_result"
    }
   ],
   "source": [
    "info_df['File Name'][0]"
   ]
  },
  {
   "cell_type": "code",
   "execution_count": 6,
   "metadata": {},
   "outputs": [],
   "source": [
    "def info_from_name(name):\n",
    "    file_name = name.split('/')[-1][:-6]\n",
    "    bi_nbr = file_name.split('RPT001_')[-1]\n",
    "    file_size = os.path.getsize(name)\n",
    "    run_date = file_name[:10].replace('_','-')\n",
    "    method = file_name.split('HILIC')[-1][:3]\n",
    "    is_stdr = 'Standard' in bi_nbr\n",
    "#     print(file_name)\n",
    "    df = pd.DataFrame({\n",
    "        'file_name': [file_name], \n",
    "        'FILE_SIZE': [file_size], \n",
    "        'RUN_DATE': [run_date], \n",
    "        'BI_NBR': [bi_nbr],\n",
    "        'METHOD': [method],\n",
    "        'IS_STANDARD':[is_stdr]\n",
    "    })\n",
    "    return df"
   ]
  },
  {
   "cell_type": "code",
   "execution_count": 7,
   "metadata": {},
   "outputs": [],
   "source": [
    "def info_from_worklist(worklist, file_df):\n",
    "    red_wl = worklist[worklist['File Name'] == file_df.file_name[0]]\n",
    "    red_wl = red_wl.reset_index()\n",
    "    file_df_o = file_df.copy()\n",
    "    file_df_o['WELL_ROW'] = [red_wl.Position[0].split(':')[1][:1]]\n",
    "    file_df_o['WELL_COL'] = [red_wl.Position[0].split(':')[1][1:]]\n",
    "    \n",
    "    return file_df_o"
   ]
  },
  {
   "cell_type": "code",
   "execution_count": 8,
   "metadata": {},
   "outputs": [
    {
     "data": {
      "text/html": [
       "<div>\n",
       "<style scoped>\n",
       "    .dataframe tbody tr th:only-of-type {\n",
       "        vertical-align: middle;\n",
       "    }\n",
       "\n",
       "    .dataframe tbody tr th {\n",
       "        vertical-align: top;\n",
       "    }\n",
       "\n",
       "    .dataframe thead th {\n",
       "        text-align: right;\n",
       "    }\n",
       "</style>\n",
       "<table border=\"1\" class=\"dataframe\">\n",
       "  <thead>\n",
       "    <tr style=\"text-align: right;\">\n",
       "      <th></th>\n",
       "      <th>file_name</th>\n",
       "      <th>FILE_SIZE</th>\n",
       "      <th>RUN_DATE</th>\n",
       "      <th>BI_NBR</th>\n",
       "      <th>METHOD</th>\n",
       "      <th>IS_STANDARD</th>\n",
       "    </tr>\n",
       "  </thead>\n",
       "  <tbody>\n",
       "    <tr>\n",
       "      <th>0</th>\n",
       "      <td>2020_05_11RG_HILICNeg15S_Col002_LSARP_SA001_RP...</td>\n",
       "      <td>22298335</td>\n",
       "      <td>2020-05-11</td>\n",
       "      <td>BI_16_0257</td>\n",
       "      <td>Neg</td>\n",
       "      <td>False</td>\n",
       "    </tr>\n",
       "  </tbody>\n",
       "</table>\n",
       "</div>"
      ],
      "text/plain": [
       "                                           file_name  FILE_SIZE    RUN_DATE  \\\n",
       "0  2020_05_11RG_HILICNeg15S_Col002_LSARP_SA001_RP...   22298335  2020-05-11   \n",
       "\n",
       "       BI_NBR METHOD  IS_STANDARD  \n",
       "0  BI_16_0257    Neg        False  "
      ]
     },
     "execution_count": 8,
     "metadata": {},
     "output_type": "execute_result"
    }
   ],
   "source": [
    "info_from_name(ms_files[1])"
   ]
  },
  {
   "cell_type": "code",
   "execution_count": 126,
   "metadata": {},
   "outputs": [
    {
     "data": {
      "text/plain": [
       "'2020_05_11RG_HILICNeg15S_Col002_LSARP_SA001_RPT001_Standard-50nm'"
      ]
     },
     "execution_count": 126,
     "metadata": {},
     "output_type": "execute_result"
    }
   ],
   "source": [
    "info_from_name(ms_files[10]).file_name[0]"
   ]
  },
  {
   "cell_type": "code",
   "execution_count": 138,
   "metadata": {},
   "outputs": [
    {
     "data": {
      "text/plain": [
       "'2020_05_11RG_HILICNeg15S_Col002_LSARP_SA001_RPT001_Blank3'"
      ]
     },
     "execution_count": 138,
     "metadata": {},
     "output_type": "execute_result"
    }
   ],
   "source": [
    "info_from_name(ms_files[12]).file_name[0]"
   ]
  },
  {
   "cell_type": "code",
   "execution_count": null,
   "metadata": {},
   "outputs": [],
   "source": []
  },
  {
   "cell_type": "code",
   "execution_count": 9,
   "metadata": {},
   "outputs": [
    {
     "data": {
      "text/html": [
       "<div>\n",
       "<style scoped>\n",
       "    .dataframe tbody tr th:only-of-type {\n",
       "        vertical-align: middle;\n",
       "    }\n",
       "\n",
       "    .dataframe tbody tr th {\n",
       "        vertical-align: top;\n",
       "    }\n",
       "\n",
       "    .dataframe thead th {\n",
       "        text-align: right;\n",
       "    }\n",
       "</style>\n",
       "<table border=\"1\" class=\"dataframe\">\n",
       "  <thead>\n",
       "    <tr style=\"text-align: right;\">\n",
       "      <th></th>\n",
       "      <th>file_name</th>\n",
       "      <th>FILE_SIZE</th>\n",
       "      <th>RUN_DATE</th>\n",
       "      <th>BI_NBR</th>\n",
       "      <th>METHOD</th>\n",
       "      <th>IS_STANDARD</th>\n",
       "      <th>WELL_ROW</th>\n",
       "      <th>WELL_COL</th>\n",
       "    </tr>\n",
       "  </thead>\n",
       "  <tbody>\n",
       "    <tr>\n",
       "      <th>0</th>\n",
       "      <td>2020_05_11RG_HILICNeg15S_Col002_LSARP_SA001_RP...</td>\n",
       "      <td>22298335</td>\n",
       "      <td>2020-05-11</td>\n",
       "      <td>BI_16_0257</td>\n",
       "      <td>Neg</td>\n",
       "      <td>False</td>\n",
       "      <td>F</td>\n",
       "      <td>4</td>\n",
       "    </tr>\n",
       "  </tbody>\n",
       "</table>\n",
       "</div>"
      ],
      "text/plain": [
       "                                           file_name  FILE_SIZE    RUN_DATE  \\\n",
       "0  2020_05_11RG_HILICNeg15S_Col002_LSARP_SA001_RP...   22298335  2020-05-11   \n",
       "\n",
       "       BI_NBR METHOD  IS_STANDARD WELL_ROW WELL_COL  \n",
       "0  BI_16_0257    Neg        False        F        4  "
      ]
     },
     "execution_count": 9,
     "metadata": {},
     "output_type": "execute_result"
    }
   ],
   "source": [
    "info_from_worklist(info_df, info_from_name(ms_files[1]))"
   ]
  },
  {
   "cell_type": "code",
   "execution_count": 140,
   "metadata": {},
   "outputs": [
    {
     "data": {
      "text/html": [
       "<div>\n",
       "<style scoped>\n",
       "    .dataframe tbody tr th:only-of-type {\n",
       "        vertical-align: middle;\n",
       "    }\n",
       "\n",
       "    .dataframe tbody tr th {\n",
       "        vertical-align: top;\n",
       "    }\n",
       "\n",
       "    .dataframe thead th {\n",
       "        text-align: right;\n",
       "    }\n",
       "</style>\n",
       "<table border=\"1\" class=\"dataframe\">\n",
       "  <thead>\n",
       "    <tr style=\"text-align: right;\">\n",
       "      <th></th>\n",
       "      <th>file_name</th>\n",
       "      <th>FILE_SIZE</th>\n",
       "      <th>RUN_DATE</th>\n",
       "      <th>BI_NBR</th>\n",
       "      <th>METHOD</th>\n",
       "      <th>IS_STANDARD</th>\n",
       "      <th>WELL_ROW</th>\n",
       "      <th>WELL_COL</th>\n",
       "    </tr>\n",
       "  </thead>\n",
       "  <tbody>\n",
       "    <tr>\n",
       "      <th>0</th>\n",
       "      <td>2020_05_11RG_HILICNeg15S_Col002_LSARP_SA001_RP...</td>\n",
       "      <td>21412923</td>\n",
       "      <td>2020-05-11</td>\n",
       "      <td>Standard-50nm</td>\n",
       "      <td>Neg</td>\n",
       "      <td>True</td>\n",
       "      <td>B</td>\n",
       "      <td>12</td>\n",
       "    </tr>\n",
       "  </tbody>\n",
       "</table>\n",
       "</div>"
      ],
      "text/plain": [
       "                                           file_name  FILE_SIZE    RUN_DATE  \\\n",
       "0  2020_05_11RG_HILICNeg15S_Col002_LSARP_SA001_RP...   21412923  2020-05-11   \n",
       "\n",
       "          BI_NBR METHOD  IS_STANDARD WELL_ROW WELL_COL  \n",
       "0  Standard-50nm    Neg         True        B       12  "
      ]
     },
     "execution_count": 140,
     "metadata": {},
     "output_type": "execute_result"
    }
   ],
   "source": [
    "info_from_worklist(info_df, info_from_name(ms_files[10]))"
   ]
  },
  {
   "cell_type": "code",
   "execution_count": 141,
   "metadata": {},
   "outputs": [
    {
     "data": {
      "text/html": [
       "<div>\n",
       "<style scoped>\n",
       "    .dataframe tbody tr th:only-of-type {\n",
       "        vertical-align: middle;\n",
       "    }\n",
       "\n",
       "    .dataframe tbody tr th {\n",
       "        vertical-align: top;\n",
       "    }\n",
       "\n",
       "    .dataframe thead th {\n",
       "        text-align: right;\n",
       "    }\n",
       "</style>\n",
       "<table border=\"1\" class=\"dataframe\">\n",
       "  <thead>\n",
       "    <tr style=\"text-align: right;\">\n",
       "      <th></th>\n",
       "      <th>file_name</th>\n",
       "      <th>FILE_SIZE</th>\n",
       "      <th>RUN_DATE</th>\n",
       "      <th>BI_NBR</th>\n",
       "      <th>METHOD</th>\n",
       "      <th>IS_STANDARD</th>\n",
       "      <th>WELL_ROW</th>\n",
       "      <th>WELL_COL</th>\n",
       "    </tr>\n",
       "  </thead>\n",
       "  <tbody>\n",
       "    <tr>\n",
       "      <th>0</th>\n",
       "      <td>2020_05_11RG_HILICNeg15S_Col002_LSARP_SA001_RP...</td>\n",
       "      <td>21437638</td>\n",
       "      <td>2020-05-11</td>\n",
       "      <td>Blank3</td>\n",
       "      <td>Neg</td>\n",
       "      <td>False</td>\n",
       "      <td>E</td>\n",
       "      <td>11</td>\n",
       "    </tr>\n",
       "  </tbody>\n",
       "</table>\n",
       "</div>"
      ],
      "text/plain": [
       "                                           file_name  FILE_SIZE    RUN_DATE  \\\n",
       "0  2020_05_11RG_HILICNeg15S_Col002_LSARP_SA001_RP...   21437638  2020-05-11   \n",
       "\n",
       "   BI_NBR METHOD  IS_STANDARD WELL_ROW WELL_COL  \n",
       "0  Blank3    Neg        False        E       11  "
      ]
     },
     "execution_count": 141,
     "metadata": {},
     "output_type": "execute_result"
    }
   ],
   "source": [
    "info_from_worklist(info_df, info_from_name(ms_files[12]))"
   ]
  }
 ],
 "metadata": {
  "kernelspec": {
   "display_name": "Python 3",
   "language": "python",
   "name": "python3"
  },
  "language_info": {
   "codemirror_mode": {
    "name": "ipython",
    "version": 3
   },
   "file_extension": ".py",
   "mimetype": "text/x-python",
   "name": "python",
   "nbconvert_exporter": "python",
   "pygments_lexer": "ipython3",
   "version": "3.6.10"
  }
 },
 "nbformat": 4,
 "nbformat_minor": 4
}
