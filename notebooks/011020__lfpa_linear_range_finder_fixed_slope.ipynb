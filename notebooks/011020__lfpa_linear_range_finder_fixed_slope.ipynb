{
 "cells": [
  {
   "cell_type": "code",
   "execution_count": 276,
   "metadata": {},
   "outputs": [],
   "source": [
    "import numpy as np"
   ]
  },
  {
   "cell_type": "code",
   "execution_count": 277,
   "metadata": {},
   "outputs": [],
   "source": [
    "def classic_lstsqr(x_list, y_list):\n",
    "    \"\"\" Computes the least-squares solution to a linear matrix equation. \"\"\"\n",
    "    N = len(x_list)\n",
    "    x_avg = sum(x_list)/N\n",
    "    y_avg = sum(y_list)/N\n",
    "    var_x, cov_xy = 0, 0\n",
    "    for x,y in zip(x_list, y_list):\n",
    "        temp = x - x_avg\n",
    "        var_x += temp**2\n",
    "        cov_xy += temp * (y - y_avg)\n",
    "#     slope = cov_xy / var_x\n",
    "    slope = 1.0\n",
    "    y_interc = y_avg - slope * x_avg\n",
    "    \n",
    "    y_hat = y_interc + slope * x_list\n",
    "    \n",
    "    residual = sum((y_list - y_hat)**2)/N\n",
    "    r_ini = (y_list[0] - y_hat[0])**2\n",
    "    r_last = (y_list[-1] - y_hat[-1])**2\n",
    "    \n",
    "    return (slope, y_interc, residual, r_ini, r_last )"
   ]
  },
  {
   "cell_type": "code",
   "execution_count": 292,
   "metadata": {},
   "outputs": [],
   "source": [
    "def linear_range_finder(x , y , th):\n",
    "    x_c = x\n",
    "    y_c = y\n",
    "    _, _, res, r_ini, r_last = classic_lstsqr(x_c, y_c)\n",
    "    while res > th and len(x_c) > 2:\n",
    "        if r_ini > r_last:\n",
    "            x_c = x_c[1:]\n",
    "            y_c = y_c[1:]\n",
    "        else:\n",
    "            x_c = x_c[:-1]\n",
    "            y_c = y_c[:-1]\n",
    "        _, _, res, r_ini, r_last = classic_lstsqr(x_c, y_c)\n",
    "    return (res, x_c, y_c)"
   ]
  },
  {
   "cell_type": "code",
   "execution_count": 31,
   "metadata": {},
   "outputs": [],
   "source": [
    "%matplotlib inline"
   ]
  },
  {
   "cell_type": "code",
   "execution_count": 32,
   "metadata": {},
   "outputs": [],
   "source": [
    "# from matplotlib import pyplot as plt\n",
    "# import random\n",
    "\n",
    "# random.seed(12345)\n",
    "\n",
    "# x = np.array([x_i*random.randrange(5,6)/10 + random.randrange(0,2) for x_i in range(-20,50)])\n",
    "# y = np.array([0.5*(y_i**1.5)*random.randrange(5,6)/10 + random.randrange(0,2) for y_i in range(-20,50)])\n",
    "\n",
    "# slope, intercept, res, _, _ = classic_lstsqr(x, y)\n",
    "\n",
    "# line_x = [round(min(x)) - 1, round(max(x)) + 1]\n",
    "# line_y = [slope*x_i + intercept for x_i in line_x]"
   ]
  },
  {
   "cell_type": "code",
   "execution_count": 289,
   "metadata": {},
   "outputs": [],
   "source": [
    "# res"
   ]
  },
  {
   "cell_type": "code",
   "execution_count": 290,
   "metadata": {},
   "outputs": [],
   "source": [
    "# x = np.array([x_i*random.randrange(5,6)/10 + random.randrange(0,2) for x_i in range(-20,100)])\n",
    "# y = np.array([0.1*(y_i**1.5)*random.randrange(5,6)/10 + random.randrange(0,2) for y_i in range(-20,100)])\n",
    "\n",
    "# x_c , y_c = linear_range_finder(x, y, 0.75)\n",
    "\n",
    "# slope, intercept, res, _, _ = classic_lstsqr(x_c, y_c)\n",
    "\n",
    "# line_x = [round(min(x)) - 1, round(max(x)) + 1]\n",
    "# line_y = [slope*x_i + intercept for x_i in line_x]"
   ]
  },
  {
   "cell_type": "code",
   "execution_count": 279,
   "metadata": {},
   "outputs": [],
   "source": [
    "# plt.figure(figsize=(8,8))\n",
    "# plt.scatter(x,y)\n",
    "# plt.scatter(x_c,y_c)\n",
    "# plt.plot(line_x, line_y, color='red', lw='2')\n",
    "\n",
    "# plt.ylabel('y')\n",
    "# plt.xlabel('x')\n",
    "# plt.title('Linear regression via least squares fit')\n",
    "\n",
    "# # ftext = 'y = ax + b = {:.3f} + {:.3f}x'\\\n",
    "# #         .format(intercept, slope)\n",
    "# # plt.figtext(.15,.8, ftext, fontsize=11, ha='left')\n",
    "# plt.savefig('fig_method1.png')\n",
    "# plt.show()"
   ]
  },
  {
   "cell_type": "code",
   "execution_count": 281,
   "metadata": {},
   "outputs": [],
   "source": [
    "# import math\n",
    "\n",
    "# x = np.array([x_i*random.randrange(5,6)/10 +random.randrange(0,2) for x_i in np.arange(0,100,1)])\n",
    "# y = np.array([10*math.cos(y_i/10)*random.randrange(5,6)/10 + random.randrange(0,2) for y_i in np.arange(0,100,1)])\n",
    "\n",
    "# x_c , y_c = linear_range_finder(x, y, 0.75)\n",
    "\n",
    "# slope, intercept, res, _, _ = classic_lstsqr(x_c, y_c)\n",
    "\n",
    "# line_x = [round(min(x)), round(max(x))]\n",
    "# line_y = [slope*x_i + intercept for x_i in line_x]"
   ]
  },
  {
   "cell_type": "code",
   "execution_count": 280,
   "metadata": {},
   "outputs": [],
   "source": [
    "# plt.figure(figsize=(8,8))\n",
    "# plt.scatter(x,y)\n",
    "# plt.scatter(x_c,y_c)\n",
    "# plt.plot(line_x, line_y, color='red', lw='2')\n",
    "\n",
    "# plt.ylabel('y')\n",
    "# plt.xlabel('x')\n",
    "# plt.title('Linear regression via least squares fit')\n",
    "\n",
    "# # ftext = 'y = ax + b = {:.3f} + {:.3f}x'\\\n",
    "# #         .format(intercept, slope)\n",
    "# # plt.figtext(.15,.8, ftext, fontsize=11, ha='left')\n",
    "# plt.savefig('fig_method2.png')\n",
    "# plt.show()"
   ]
  },
  {
   "cell_type": "code",
   "execution_count": 173,
   "metadata": {},
   "outputs": [],
   "source": [
    "# sample_data = np.array([[1.0000000e+01, 5.0000000e+01, 1.0000000e+02, 5.0000000e+02,\n",
    "#         1.0000000e+03, 5.0000000e+03, 1.0000000e+04, 5.0000000e+04],\n",
    "#        [6.3506000e+02, 0.0000000e+00, 0.0000000e+00, 1.8822500e+03,\n",
    "#         2.0912500e+03, 1.9070570e+04, 3.9170540e+04, 1.9280542e+05]])"
   ]
  },
  {
   "cell_type": "code",
   "execution_count": 282,
   "metadata": {},
   "outputs": [],
   "source": [
    "# plt.figure()\n",
    "# plt.plot(sample_data[1],sample_data[0],'-o')\n",
    "# plt.xlabel('serine peak area', fontsize = 15)\n",
    "# plt.ylabel('serine conc', fontsize = 15)\n",
    "# plt.tight_layout()\n",
    "# plt.savefig('serine_example_linear_scale.png')\n",
    "# plt.show()"
   ]
  },
  {
   "cell_type": "code",
   "execution_count": 283,
   "metadata": {},
   "outputs": [],
   "source": [
    "# plt.figure()\n",
    "# plt.plot(sample_data[1],sample_data[0],'-o')\n",
    "# plt.xlabel('serine peak area', fontsize = 15)\n",
    "# plt.ylabel('serine conc', fontsize = 15)\n",
    "# plt.xscale('log')\n",
    "# plt.yscale('log')\n",
    "# plt.savefig('serine_example_log_scale.png')\n",
    "# plt.show()"
   ]
  },
  {
   "cell_type": "code",
   "execution_count": 199,
   "metadata": {},
   "outputs": [],
   "source": [
    "# serinex = np.log(sample_data[0][sample_data[1] > 0.0])\n",
    "# seriney = np.log(sample_data[1][sample_data[1] > 0.0])\n",
    "\n",
    "# x_c , y_c = linear_range_finder(seriney, serinex, 0.75)\n",
    "\n",
    "# slope, intercept, res, _, _ = classic_lstsqr(x_c, y_c)\n",
    "\n",
    "# line_x = [round(min(x_c)-1), round(max(x_c) + 1)]\n",
    "# line_y = [slope*x_i + intercept for x_i in line_x]"
   ]
  },
  {
   "cell_type": "code",
   "execution_count": 284,
   "metadata": {},
   "outputs": [],
   "source": [
    "# plt.figure()\n",
    "# plt.scatter(seriney,serinex)\n",
    "# plt.scatter(x_c,y_c)\n",
    "# plt.plot(line_x, line_y, color='red', lw='2')\n",
    "\n",
    "# plt.xlabel('log(serine concentration)', fontsize = 15)\n",
    "# plt.ylabel('log(serine peak area)', fontsize = 15)\n",
    "# # plt.title('Linear regression via least squares fit')\n",
    "# # ftext = 'y = ax + b = {:.3f} + {:.3f}x'\\\n",
    "# #         .format(intercept, slope)\n",
    "# # plt.figtext(.15,.8, ftext, fontsize=11, ha='left')\n",
    "# plt.tight_layout()\n",
    "# plt.savefig('fig_method_serine.png')\n",
    "# plt.show()"
   ]
  },
  {
   "cell_type": "code",
   "execution_count": 286,
   "metadata": {},
   "outputs": [],
   "source": [
    "# math.exp(y_c[0])"
   ]
  },
  {
   "cell_type": "code",
   "execution_count": 285,
   "metadata": {},
   "outputs": [],
   "source": [
    "# plt.figure()\n",
    "# plt.plot(seriney,serinex,'-o')\n",
    "# plt.xlabel('log(serine concentration)', fontsize = 15)\n",
    "# plt.ylabel('log(serine peak area)', fontsize = 15)\n",
    "# plt.tight_layout()\n",
    "# plt.savefig('serine_example_log_scale.png')\n",
    "# plt.show()"
   ]
  },
  {
   "cell_type": "code",
   "execution_count": 287,
   "metadata": {},
   "outputs": [],
   "source": [
    "# x = sample_data[1][sample_data[1] > 0.0]\n",
    "\n",
    "# y1 = 0.01* x\n",
    "# y2 = 0.3* x\n",
    "# y3 = .01 * x - 1"
   ]
  },
  {
   "cell_type": "code",
   "execution_count": 288,
   "metadata": {},
   "outputs": [],
   "source": [
    "# plt.plot(x , y1, '-o')\n",
    "# # plt.plot(x , y2, '-o')\n",
    "# plt.plot(x , y3, '-o')\n",
    "# plt.xscale('log')\n",
    "# plt.yscale('log')"
   ]
  }
 ],
 "metadata": {
  "kernelspec": {
   "display_name": "Python 3",
   "language": "python",
   "name": "python3"
  },
  "language_info": {
   "codemirror_mode": {
    "name": "ipython",
    "version": 3
   },
   "file_extension": ".py",
   "mimetype": "text/x-python",
   "name": "python",
   "nbconvert_exporter": "python",
   "pygments_lexer": "ipython3",
   "version": "3.6.10"
  }
 },
 "nbformat": 4,
 "nbformat_minor": 4
}
