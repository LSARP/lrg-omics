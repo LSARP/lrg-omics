{
 "cells": [
  {
   "cell_type": "code",
   "execution_count": 276,
   "metadata": {},
   "outputs": [
    {
     "name": "stdout",
     "output_type": "stream",
     "text": [
      "Populating the interactive namespace from numpy and matplotlib\n"
     ]
    },
    {
     "name": "stderr",
     "output_type": "stream",
     "text": [
      "/home/swacker/miniconda3/envs/py3/lib/python3.8/site-packages/IPython/core/magics/pylab.py:159: UserWarning:\n",
      "\n",
      "pylab import has clobbered these variables: ['time']\n",
      "`%matplotlib` prevents importing * from pylab and numpy\n",
      "\n"
     ]
    }
   ],
   "source": [
    "%pylab inline"
   ]
  },
  {
   "cell_type": "code",
   "execution_count": 277,
   "metadata": {},
   "outputs": [],
   "source": [
    "PATH = '/data/lrg_omics_test_data/proteomics/tmt11/raw/SA001-R3-A-2ulf/'"
   ]
  },
  {
   "cell_type": "code",
   "execution_count": 278,
   "metadata": {},
   "outputs": [],
   "source": [
    "from TB.c import *"
   ]
  },
  {
   "cell_type": "code",
   "execution_count": 279,
   "metadata": {},
   "outputs": [
    {
     "data": {
      "text/plain": [
       "['/data/lrg_omics_test_data/proteomics/tmt11/raw/SA001-R3-A-2ulf/MQ',\n",
       " '/data/lrg_omics_test_data/proteomics/tmt11/raw/SA001-R3-A-2ulf/QC.xml',\n",
       " '/data/lrg_omics_test_data/proteomics/tmt11/raw/SA001-R3-A-2ulf/QcDataTable.csv',\n",
       " '/data/lrg_omics_test_data/proteomics/tmt11/raw/SA001-R3-A-2ulf/rawtools_log.txt',\n",
       " '/data/lrg_omics_test_data/proteomics/tmt11/raw/SA001-R3-A-2ulf/rawtools_metrics.err',\n",
       " '/data/lrg_omics_test_data/proteomics/tmt11/raw/SA001-R3-A-2ulf/rawtools_metrics.out',\n",
       " '/data/lrg_omics_test_data/proteomics/tmt11/raw/SA001-R3-A-2ulf/rawtools_qc.err',\n",
       " '/data/lrg_omics_test_data/proteomics/tmt11/raw/SA001-R3-A-2ulf/rawtools_qc.out',\n",
       " '/data/lrg_omics_test_data/proteomics/tmt11/raw/SA001-R3-A-2ulf/SA001-R3-A-2ulf.raw',\n",
       " '/data/lrg_omics_test_data/proteomics/tmt11/raw/SA001-R3-A-2ulf/SA001-R3-A-2ulf.raw.mgf',\n",
       " '/data/lrg_omics_test_data/proteomics/tmt11/raw/SA001-R3-A-2ulf/SA001-R3-A-2ulf.raw_Matrix.txt',\n",
       " '/data/lrg_omics_test_data/proteomics/tmt11/raw/SA001-R3-A-2ulf/SA001-R3-A-2ulf.raw_Metrics.txt',\n",
       " '/data/lrg_omics_test_data/proteomics/tmt11/raw/SA001-R3-A-2ulf/SA001-R3-A-2ulf.raw_Ms2_BP_chromatogram.txt',\n",
       " '/data/lrg_omics_test_data/proteomics/tmt11/raw/SA001-R3-A-2ulf/SA001-R3-A-2ulf.raw_Ms2_TIC_chromatogram.txt',\n",
       " '/data/lrg_omics_test_data/proteomics/tmt11/raw/SA001-R3-A-2ulf/SA001-R3-A-2ulf.raw_Ms_BP_chromatogram.txt',\n",
       " '/data/lrg_omics_test_data/proteomics/tmt11/raw/SA001-R3-A-2ulf/SA001-R3-A-2ulf.raw_Ms_TIC_chromatogram.txt']"
      ]
     },
     "execution_count": 279,
     "metadata": {},
     "output_type": "execute_result"
    }
   ],
   "source": [
    "glob(f'{PATH}/*')"
   ]
  },
  {
   "cell_type": "code",
   "execution_count": 280,
   "metadata": {},
   "outputs": [
    {
     "name": "stdout",
     "output_type": "stream",
     "text": [
      "{'params': {'title': 'Spectrum_2594', 'pepmass': (448.209625244141, None), 'charge': [2], 'rtinseconds': 1081.851733361, 'scans': '2594', 'rawfile': '/var/www/html/omics/projects/LSARP/proteomics/raw/SA001-R3-A-2ulf/SA001-R3-A-2ulf.raw'}, 'm/z array': array([ 95.58199,  95.91405,  97.44611,  97.99182,  98.8794 ,  99.64925,\n",
      "       105.54315, 108.45935, 119.77209, 124.4738 , 129.55962, 129.98172,\n",
      "       138.77927, 145.62227, 147.04684, 147.46391, 147.47057, 147.47391,\n",
      "       147.47734, 147.48073, 147.48415, 147.49162, 147.49811, 147.50151,\n",
      "       147.50507, 147.52151, 147.83887, 218.42465, 225.54443, 237.46521,\n",
      "       248.82671, 317.42044, 360.42429, 363.08539, 377.4696 , 661.4718 ]), 'intensity array': array([ 771.9612,  733.5237,  692.4395,  635.262 ,  744.3561,  726.663 ,\n",
      "        733.1428,  850.5979,  950.2057, 1256.7701,  996.493 ,  893.7941,\n",
      "       1082.9199, 1201.6119, 1045.2659, 1332.0986, 2641.7871, 1464.0909,\n",
      "       2739.3281, 2699.3704, 2421.269 , 9236.0381, 3295.5332, 1924.3141,\n",
      "       2197.5164, 1222.8723, 1134.6217, 1233.1377, 1140.7352, 1227.981 ,\n",
      "       1561.208 , 1538.701 , 1240.8408, 1379.5974, 1424.9818, 1437.1187]), 'charge array': masked_array(data=[--, --, --, --, --, --, --, --, --, --, --, --, --, --,\n",
      "                   --, --, --, --, --, --, --, --, --, --, --, --, --, --,\n",
      "                   --, --, --, --, --, --, --, --],\n",
      "             mask=[ True,  True,  True,  True,  True,  True,  True,  True,\n",
      "                    True,  True,  True,  True,  True,  True,  True,  True,\n",
      "                    True,  True,  True,  True,  True,  True,  True,  True,\n",
      "                    True,  True,  True,  True,  True,  True,  True,  True,\n",
      "                    True,  True,  True,  True],\n",
      "       fill_value=0,\n",
      "            dtype=int64)}\n"
     ]
    }
   ],
   "source": [
    "from pyteomics import mgf\n",
    "\n",
    "dfs = []\n",
    "with mgf.read(f'{PATH}/SA001-R3-A-2ulf.raw.mgf') as reader:\n",
    "    for spectrum in reader:\n",
    "        print(spectrum)\n",
    "        break"
   ]
  },
  {
   "cell_type": "code",
   "execution_count": 281,
   "metadata": {},
   "outputs": [
    {
     "data": {
      "text/plain": [
       "[<matplotlib.lines.Line2D at 0x7f2e3e05da90>]"
      ]
     },
     "execution_count": 281,
     "metadata": {},
     "output_type": "execute_result"
    },
    {
     "data": {
      "image/png": "[encoded data removed]",
      "text/plain": [
       "<Figure size 432x288 with 1 Axes>"
      ]
     },
     "metadata": {
      "needs_background": "light"
     },
     "output_type": "display_data"
    }
   ],
   "source": [
    "plot(spectrum['m/z array'], spectrum['intensity array'])"
   ]
  },
  {
   "cell_type": "code",
   "execution_count": 282,
   "metadata": {},
   "outputs": [
    {
     "data": {
      "text/plain": [
       "<BarContainer object of 36 artists>"
      ]
     },
     "execution_count": 282,
     "metadata": {},
     "output_type": "execute_result"
    },
    {
     "data": {
      "image/png": "[encoded data removed]",
      "text/plain": [
       "<Figure size 432x288 with 1 Axes>"
      ]
     },
     "metadata": {
      "needs_background": "light"
     },
     "output_type": "display_data"
    }
   ],
   "source": [
    "bar(spectrum['m/z array'], spectrum['intensity array'])"
   ]
  },
  {
   "cell_type": "code",
   "execution_count": 283,
   "metadata": {},
   "outputs": [
    {
     "data": {
      "text/plain": [
       "{'params': {'title': 'Spectrum_2594',\n",
       "  'pepmass': (448.209625244141, None),\n",
       "  'charge': [2],\n",
       "  'rtinseconds': 1081.851733361 second,\n",
       "  'scans': '2594',\n",
       "  'rawfile': '/var/www/html/omics/projects/LSARP/proteomics/raw/SA001-R3-A-2ulf/SA001-R3-A-2ulf.raw'},\n",
       " 'm/z array': array([ 95.58199,  95.91405,  97.44611,  97.99182,  98.8794 ,  99.64925,\n",
       "        105.54315, 108.45935, 119.77209, 124.4738 , 129.55962, 129.98172,\n",
       "        138.77927, 145.62227, 147.04684, 147.46391, 147.47057, 147.47391,\n",
       "        147.47734, 147.48073, 147.48415, 147.49162, 147.49811, 147.50151,\n",
       "        147.50507, 147.52151, 147.83887, 218.42465, 225.54443, 237.46521,\n",
       "        248.82671, 317.42044, 360.42429, 363.08539, 377.4696 , 661.4718 ]),\n",
       " 'intensity array': array([ 771.9612,  733.5237,  692.4395,  635.262 ,  744.3561,  726.663 ,\n",
       "         733.1428,  850.5979,  950.2057, 1256.7701,  996.493 ,  893.7941,\n",
       "        1082.9199, 1201.6119, 1045.2659, 1332.0986, 2641.7871, 1464.0909,\n",
       "        2739.3281, 2699.3704, 2421.269 , 9236.0381, 3295.5332, 1924.3141,\n",
       "        2197.5164, 1222.8723, 1134.6217, 1233.1377, 1140.7352, 1227.981 ,\n",
       "        1561.208 , 1538.701 , 1240.8408, 1379.5974, 1424.9818, 1437.1187]),\n",
       " 'charge array': masked_array(data=[--, --, --, --, --, --, --, --, --, --, --, --, --, --,\n",
       "                    --, --, --, --, --, --, --, --, --, --, --, --, --, --,\n",
       "                    --, --, --, --, --, --, --, --],\n",
       "              mask=[ True,  True,  True,  True,  True,  True,  True,  True,\n",
       "                     True,  True,  True,  True,  True,  True,  True,  True,\n",
       "                     True,  True,  True,  True,  True,  True,  True,  True,\n",
       "                     True,  True,  True,  True,  True,  True,  True,  True,\n",
       "                     True,  True,  True,  True],\n",
       "        fill_value=0,\n",
       "             dtype=int64)}"
      ]
     },
     "execution_count": 283,
     "metadata": {},
     "output_type": "execute_result"
    }
   ],
   "source": [
    "spectrum"
   ]
  },
  {
   "cell_type": "code",
   "execution_count": 284,
   "metadata": {},
   "outputs": [],
   "source": [
    "def spectrum_to_df(spectrum):\n",
    "    rt_entry_to_float_minutes = lambda x: float(x)/60\n",
    "    df = pd.DataFrame()\n",
    "    df['mz_array'] = spectrum['m/z array']\n",
    "    df['intensity'] = spectrum['intensity array']\n",
    "    df['spectrum'] = spectrum['params']['title']\n",
    "    df['raw_file'] = spectrum['params']['rawfile']\n",
    "    df['retention_time[min]'] = rt_entry_to_float_minutes(spectrum['params']['rtinseconds'])\n",
    "    return df\n",
    "\n",
    "spectra_to_df = np.vectorize(spectrum_to_df)"
   ]
  },
  {
   "cell_type": "code",
   "execution_count": 285,
   "metadata": {},
   "outputs": [],
   "source": [
    "def mgf_to_df(fn):\n",
    "    spectra = []\n",
    "    with mgf.read(fn) as reader:\n",
    "        for i,spectrum in enumerate(reader):\n",
    "            spectra.append(spectrum)\n",
    "    return pd.concat( spectra_to_df(spectra) )"
   ]
  },
  {
   "cell_type": "code",
   "execution_count": 286,
   "metadata": {},
   "outputs": [],
   "source": [
    "fn = f'{PATH}/SA001-R3-A-2ulf.raw.mgf'"
   ]
  },
  {
   "cell_type": "code",
   "execution_count": 288,
   "metadata": {},
   "outputs": [
    {
     "ename": "KeyboardInterrupt",
     "evalue": "",
     "output_type": "error",
     "traceback": [
      "\u001b[0;31m---------------------------------------------------------------------------\u001b[0m",
      "\u001b[0;31mKeyboardInterrupt\u001b[0m                         Traceback (most recent call last)",
      "\u001b[0;32m<timed eval>\u001b[0m in \u001b[0;36m<module>\u001b[0;34m\u001b[0m\n",
      "\u001b[0;32m<ipython-input-285-d8d06a382653>\u001b[0m in \u001b[0;36mmgf_to_df\u001b[0;34m(fn)\u001b[0m\n\u001b[1;32m      2\u001b[0m     \u001b[0mspectra\u001b[0m \u001b[0;34m=\u001b[0m \u001b[0;34m[\u001b[0m\u001b[0;34m]\u001b[0m\u001b[0;34m\u001b[0m\u001b[0;34m\u001b[0m\u001b[0m\n\u001b[1;32m      3\u001b[0m     \u001b[0;32mwith\u001b[0m \u001b[0mmgf\u001b[0m\u001b[0;34m.\u001b[0m\u001b[0mread\u001b[0m\u001b[0;34m(\u001b[0m\u001b[0mfn\u001b[0m\u001b[0;34m)\u001b[0m \u001b[0;32mas\u001b[0m \u001b[0mreader\u001b[0m\u001b[0;34m:\u001b[0m\u001b[0;34m\u001b[0m\u001b[0;34m\u001b[0m\u001b[0m\n\u001b[0;32m----> 4\u001b[0;31m         \u001b[0;32mfor\u001b[0m \u001b[0mi\u001b[0m\u001b[0;34m,\u001b[0m\u001b[0mspectrum\u001b[0m \u001b[0;32min\u001b[0m \u001b[0menumerate\u001b[0m\u001b[0;34m(\u001b[0m\u001b[0mreader\u001b[0m\u001b[0;34m)\u001b[0m\u001b[0;34m:\u001b[0m\u001b[0;34m\u001b[0m\u001b[0;34m\u001b[0m\u001b[0m\n\u001b[0m\u001b[1;32m      5\u001b[0m             \u001b[0mspectra\u001b[0m\u001b[0;34m.\u001b[0m\u001b[0mappend\u001b[0m\u001b[0;34m(\u001b[0m\u001b[0mspectrum\u001b[0m\u001b[0;34m)\u001b[0m\u001b[0;34m\u001b[0m\u001b[0;34m\u001b[0m\u001b[0m\n\u001b[1;32m      6\u001b[0m     \u001b[0;32mreturn\u001b[0m \u001b[0mpd\u001b[0m\u001b[0;34m.\u001b[0m\u001b[0mconcat\u001b[0m\u001b[0;34m(\u001b[0m \u001b[0mspectra_to_df\u001b[0m\u001b[0;34m(\u001b[0m\u001b[0mspectra\u001b[0m\u001b[0;34m)\u001b[0m \u001b[0;34m)\u001b[0m\u001b[0;34m\u001b[0m\u001b[0;34m\u001b[0m\u001b[0m\n",
      "\u001b[0;32m~/miniconda3/envs/py3/lib/python3.8/site-packages/pyteomics/auxiliary/file_helpers.py\u001b[0m in \u001b[0;36m__next__\u001b[0;34m(self)\u001b[0m\n\u001b[1;32m    173\u001b[0m     \u001b[0;32mdef\u001b[0m \u001b[0m__next__\u001b[0m\u001b[0;34m(\u001b[0m\u001b[0mself\u001b[0m\u001b[0;34m)\u001b[0m\u001b[0;34m:\u001b[0m\u001b[0;34m\u001b[0m\u001b[0;34m\u001b[0m\u001b[0m\n\u001b[1;32m    174\u001b[0m         \u001b[0;31m# try:\u001b[0m\u001b[0;34m\u001b[0m\u001b[0;34m\u001b[0m\u001b[0;34m\u001b[0m\u001b[0m\n\u001b[0;32m--> 175\u001b[0;31m         \u001b[0;32mreturn\u001b[0m \u001b[0mnext\u001b[0m\u001b[0;34m(\u001b[0m\u001b[0mself\u001b[0m\u001b[0;34m.\u001b[0m\u001b[0m_reader\u001b[0m\u001b[0;34m)\u001b[0m\u001b[0;34m\u001b[0m\u001b[0;34m\u001b[0m\u001b[0m\n\u001b[0m\u001b[1;32m    176\u001b[0m         \u001b[0;31m# except StopIteration:\u001b[0m\u001b[0;34m\u001b[0m\u001b[0;34m\u001b[0m\u001b[0;34m\u001b[0m\u001b[0m\n\u001b[1;32m    177\u001b[0m         \u001b[0;31m# self.__exit__(None, None, None)\u001b[0m\u001b[0;34m\u001b[0m\u001b[0;34m\u001b[0m\u001b[0;34m\u001b[0m\u001b[0m\n",
      "\u001b[0;32m~/miniconda3/envs/py3/lib/python3.8/site-packages/pyteomics/mgf.py\u001b[0m in \u001b[0;36m_read\u001b[0;34m(self, **kwargs)\u001b[0m\n\u001b[1;32m    298\u001b[0m     \u001b[0;32mdef\u001b[0m \u001b[0m_read\u001b[0m\u001b[0;34m(\u001b[0m\u001b[0mself\u001b[0m\u001b[0;34m,\u001b[0m \u001b[0;34m**\u001b[0m\u001b[0mkwargs\u001b[0m\u001b[0;34m)\u001b[0m\u001b[0;34m:\u001b[0m\u001b[0;34m\u001b[0m\u001b[0;34m\u001b[0m\u001b[0m\n\u001b[1;32m    299\u001b[0m         \u001b[0;32mfor\u001b[0m \u001b[0m_\u001b[0m\u001b[0;34m,\u001b[0m \u001b[0moffsets\u001b[0m \u001b[0;32min\u001b[0m \u001b[0mself\u001b[0m\u001b[0;34m.\u001b[0m\u001b[0m_offset_index\u001b[0m\u001b[0;34m.\u001b[0m\u001b[0mitems\u001b[0m\u001b[0;34m(\u001b[0m\u001b[0;34m)\u001b[0m\u001b[0;34m:\u001b[0m\u001b[0;34m\u001b[0m\u001b[0;34m\u001b[0m\u001b[0m\n\u001b[0;32m--> 300\u001b[0;31m             \u001b[0mspectrum\u001b[0m \u001b[0;34m=\u001b[0m \u001b[0mself\u001b[0m\u001b[0;34m.\u001b[0m\u001b[0m_item_from_offsets\u001b[0m\u001b[0;34m(\u001b[0m\u001b[0moffsets\u001b[0m\u001b[0;34m)\u001b[0m\u001b[0;34m\u001b[0m\u001b[0;34m\u001b[0m\u001b[0m\n\u001b[0m\u001b[1;32m    301\u001b[0m             \u001b[0;32myield\u001b[0m \u001b[0mspectrum\u001b[0m\u001b[0;34m\u001b[0m\u001b[0;34m\u001b[0m\u001b[0m\n\u001b[1;32m    302\u001b[0m \u001b[0;34m\u001b[0m\u001b[0m\n",
      "\u001b[0;32m~/miniconda3/envs/py3/lib/python3.8/site-packages/pyteomics/mgf.py\u001b[0m in \u001b[0;36m_item_from_offsets\u001b[0;34m(self, offsets)\u001b[0m\n\u001b[1;32m    293\u001b[0m     \u001b[0;32mdef\u001b[0m \u001b[0m_item_from_offsets\u001b[0m\u001b[0;34m(\u001b[0m\u001b[0mself\u001b[0m\u001b[0;34m,\u001b[0m \u001b[0moffsets\u001b[0m\u001b[0;34m)\u001b[0m\u001b[0;34m:\u001b[0m\u001b[0;34m\u001b[0m\u001b[0;34m\u001b[0m\u001b[0m\n\u001b[1;32m    294\u001b[0m         \u001b[0mstart\u001b[0m\u001b[0;34m,\u001b[0m \u001b[0mend\u001b[0m \u001b[0;34m=\u001b[0m \u001b[0moffsets\u001b[0m\u001b[0;34m\u001b[0m\u001b[0;34m\u001b[0m\u001b[0m\n\u001b[0;32m--> 295\u001b[0;31m         \u001b[0mlines\u001b[0m \u001b[0;34m=\u001b[0m \u001b[0mself\u001b[0m\u001b[0;34m.\u001b[0m\u001b[0m_read_lines_from_offsets\u001b[0m\u001b[0;34m(\u001b[0m\u001b[0mstart\u001b[0m\u001b[0;34m,\u001b[0m \u001b[0mend\u001b[0m\u001b[0;34m)\u001b[0m\u001b[0;34m\u001b[0m\u001b[0;34m\u001b[0m\u001b[0m\n\u001b[0m\u001b[1;32m    296\u001b[0m         \u001b[0;32mreturn\u001b[0m \u001b[0mself\u001b[0m\u001b[0;34m.\u001b[0m\u001b[0m_read_spectrum_lines\u001b[0m\u001b[0;34m(\u001b[0m\u001b[0mlines\u001b[0m\u001b[0;34m)\u001b[0m\u001b[0;34m\u001b[0m\u001b[0;34m\u001b[0m\u001b[0m\n\u001b[1;32m    297\u001b[0m \u001b[0;34m\u001b[0m\u001b[0m\n",
      "\u001b[0;32m~/miniconda3/envs/py3/lib/python3.8/site-packages/pyteomics/auxiliary/file_helpers.py\u001b[0m in \u001b[0;36m_read_lines_from_offsets\u001b[0;34m(self, start, end)\u001b[0m\n\u001b[1;32m    472\u001b[0m     \u001b[0;32mdef\u001b[0m \u001b[0m_read_lines_from_offsets\u001b[0m\u001b[0;34m(\u001b[0m\u001b[0mself\u001b[0m\u001b[0;34m,\u001b[0m \u001b[0mstart\u001b[0m\u001b[0;34m,\u001b[0m \u001b[0mend\u001b[0m\u001b[0;34m)\u001b[0m\u001b[0;34m:\u001b[0m\u001b[0;34m\u001b[0m\u001b[0;34m\u001b[0m\u001b[0m\n\u001b[1;32m    473\u001b[0m         \u001b[0mself\u001b[0m\u001b[0;34m.\u001b[0m\u001b[0m_source\u001b[0m\u001b[0;34m.\u001b[0m\u001b[0mseek\u001b[0m\u001b[0;34m(\u001b[0m\u001b[0mstart\u001b[0m\u001b[0;34m)\u001b[0m\u001b[0;34m\u001b[0m\u001b[0;34m\u001b[0m\u001b[0m\n\u001b[0;32m--> 474\u001b[0;31m         \u001b[0mlines\u001b[0m \u001b[0;34m=\u001b[0m \u001b[0mself\u001b[0m\u001b[0;34m.\u001b[0m\u001b[0m_source\u001b[0m\u001b[0;34m.\u001b[0m\u001b[0mread\u001b[0m\u001b[0;34m(\u001b[0m\u001b[0mend\u001b[0m\u001b[0;34m-\u001b[0m\u001b[0mstart\u001b[0m\u001b[0;34m)\u001b[0m\u001b[0;34m.\u001b[0m\u001b[0mdecode\u001b[0m\u001b[0;34m(\u001b[0m\u001b[0mself\u001b[0m\u001b[0;34m.\u001b[0m\u001b[0mencoding\u001b[0m\u001b[0;34m)\u001b[0m\u001b[0;34m.\u001b[0m\u001b[0msplit\u001b[0m\u001b[0;34m(\u001b[0m\u001b[0;34m'\\n'\u001b[0m\u001b[0;34m)\u001b[0m\u001b[0;34m\u001b[0m\u001b[0;34m\u001b[0m\u001b[0m\n\u001b[0m\u001b[1;32m    475\u001b[0m         \u001b[0;32mreturn\u001b[0m \u001b[0mlines\u001b[0m\u001b[0;34m\u001b[0m\u001b[0;34m\u001b[0m\u001b[0m\n\u001b[1;32m    476\u001b[0m \u001b[0;34m\u001b[0m\u001b[0m\n",
      "\u001b[0;31mKeyboardInterrupt\u001b[0m: "
     ]
    }
   ],
   "source": [
    "%%time\n",
    "mgf_to_df(fn)"
   ]
  },
  {
   "cell_type": "code",
   "execution_count": 289,
   "metadata": {},
   "outputs": [
    {
     "data": {
      "text/plain": [
       "\u001b[0;31mSignature:\u001b[0m \u001b[0mmgf\u001b[0m\u001b[0;34m.\u001b[0m\u001b[0mread\u001b[0m\u001b[0;34m(\u001b[0m\u001b[0;34m*\u001b[0m\u001b[0margs\u001b[0m\u001b[0;34m,\u001b[0m \u001b[0;34m**\u001b[0m\u001b[0mkwargs\u001b[0m\u001b[0;34m)\u001b[0m\u001b[0;34m\u001b[0m\u001b[0;34m\u001b[0m\u001b[0m\n",
       "\u001b[0;31mSource:\u001b[0m   \n",
       "\u001b[0;32mdef\u001b[0m \u001b[0mread\u001b[0m\u001b[0;34m(\u001b[0m\u001b[0;34m*\u001b[0m\u001b[0margs\u001b[0m\u001b[0;34m,\u001b[0m \u001b[0;34m**\u001b[0m\u001b[0mkwargs\u001b[0m\u001b[0;34m)\u001b[0m\u001b[0;34m:\u001b[0m\u001b[0;34m\u001b[0m\n",
       "\u001b[0;34m\u001b[0m    \u001b[0;34m\"\"\"Returns a reader for a given MGF file. Most of the parameters repeat the\u001b[0m\n",
       "\u001b[0;34m    instantiation signature of :py:class:`MGF` and :py:class:`IndexedMGF`.\u001b[0m\n",
       "\u001b[0;34m    Additional parameter `use_index` helps decide which class to instantiate\u001b[0m\n",
       "\u001b[0;34m    for given `source`.\u001b[0m\n",
       "\u001b[0;34m\u001b[0m\n",
       "\u001b[0;34m    Parameters\u001b[0m\n",
       "\u001b[0;34m    ----------\u001b[0m\n",
       "\u001b[0;34m\u001b[0m\n",
       "\u001b[0;34m    source : str or file or None, optional\u001b[0m\n",
       "\u001b[0;34m        A file object (or file name) with data in MGF format. Default is\u001b[0m\n",
       "\u001b[0;34m        :py:const:`None`, which means read standard input.\u001b[0m\n",
       "\u001b[0;34m\u001b[0m\n",
       "\u001b[0;34m    use_header : bool, optional\u001b[0m\n",
       "\u001b[0;34m        Add the info from file header to each dict. Spectrum-specific parameters\u001b[0m\n",
       "\u001b[0;34m        override those from the header in case of conflict.\u001b[0m\n",
       "\u001b[0;34m        Default is :py:const:`True`.\u001b[0m\n",
       "\u001b[0;34m\u001b[0m\n",
       "\u001b[0;34m    convert_arrays : one of {0, 1, 2}, optional\u001b[0m\n",
       "\u001b[0;34m        If `0`, m/z, intensities and (possibly) charges will be returned as regular lists.\u001b[0m\n",
       "\u001b[0;34m        If `1`, they will be converted to regular :py:class:`numpy.ndarray`'s.\u001b[0m\n",
       "\u001b[0;34m        If `2`, charges will be reported as a masked array (default).\u001b[0m\n",
       "\u001b[0;34m        The default option is the slowest. `1` and `2` require :py:mod:`numpy`.\u001b[0m\n",
       "\u001b[0;34m\u001b[0m\n",
       "\u001b[0;34m    read_charges : bool, optional\u001b[0m\n",
       "\u001b[0;34m        If `True` (default), fragment charges are reported. Disabling it improves performance.\u001b[0m\n",
       "\u001b[0;34m\u001b[0m\n",
       "\u001b[0;34m    dtype : type or str or dict, optional\u001b[0m\n",
       "\u001b[0;34m        dtype argument to :py:mod:`numpy` array constructor, one for all arrays or one for each key.\u001b[0m\n",
       "\u001b[0;34m        Keys should be 'm/z array', 'intensity array' and/or 'charge array'.\u001b[0m\n",
       "\u001b[0;34m\u001b[0m\n",
       "\u001b[0;34m    encoding : str, optional\u001b[0m\n",
       "\u001b[0;34m        File encoding.\u001b[0m\n",
       "\u001b[0;34m\u001b[0m\n",
       "\u001b[0;34m    use_index : bool, optional\u001b[0m\n",
       "\u001b[0;34m        Determines which parsing method to use. If :py:const:`True` (default), an instance of\u001b[0m\n",
       "\u001b[0;34m        :py:class:`IndexedMGF` is created. This facilitates random access by spectrum titles.\u001b[0m\n",
       "\u001b[0;34m        If an open file is passed as `source`, it needs to be open in binary mode.\u001b[0m\n",
       "\u001b[0;34m\u001b[0m\n",
       "\u001b[0;34m        If :py:const:`False`, an instance of :py:class:`MGF` is created. It reads\u001b[0m\n",
       "\u001b[0;34m        `source` in text mode and is suitable for iterative parsing. Access by spectrum title\u001b[0m\n",
       "\u001b[0;34m        requires linear search and thus takes linear time.\u001b[0m\n",
       "\u001b[0;34m\u001b[0m\n",
       "\u001b[0;34m    block_size : int, optinal\u001b[0m\n",
       "\u001b[0;34m        Size of the chunk (in bytes) used to parse the file when creating the byte offset index.\u001b[0m\n",
       "\u001b[0;34m        (Accepted only for :py:class:`IndexedMGF`.)\u001b[0m\n",
       "\u001b[0;34m\u001b[0m\n",
       "\u001b[0;34m    Returns\u001b[0m\n",
       "\u001b[0;34m    -------\u001b[0m\n",
       "\u001b[0;34m\u001b[0m\n",
       "\u001b[0;34m    out : MGFBase\u001b[0m\n",
       "\u001b[0;34m        Instance of :py:class:`MGF` or :py:class:`IndexedMGF`.\u001b[0m\n",
       "\u001b[0;34m    \"\"\"\u001b[0m\u001b[0;34m\u001b[0m\n",
       "\u001b[0;34m\u001b[0m    \u001b[0;32mif\u001b[0m \u001b[0margs\u001b[0m\u001b[0;34m:\u001b[0m\u001b[0;34m\u001b[0m\n",
       "\u001b[0;34m\u001b[0m        \u001b[0msource\u001b[0m \u001b[0;34m=\u001b[0m \u001b[0margs\u001b[0m\u001b[0;34m[\u001b[0m\u001b[0;36m0\u001b[0m\u001b[0;34m]\u001b[0m\u001b[0;34m\u001b[0m\n",
       "\u001b[0;34m\u001b[0m    \u001b[0;32melse\u001b[0m\u001b[0;34m:\u001b[0m\u001b[0;34m\u001b[0m\n",
       "\u001b[0;34m\u001b[0m        \u001b[0msource\u001b[0m \u001b[0;34m=\u001b[0m \u001b[0mkwargs\u001b[0m\u001b[0;34m.\u001b[0m\u001b[0mget\u001b[0m\u001b[0;34m(\u001b[0m\u001b[0;34m'source'\u001b[0m\u001b[0;34m)\u001b[0m\u001b[0;34m\u001b[0m\n",
       "\u001b[0;34m\u001b[0m    \u001b[0muse_index\u001b[0m \u001b[0;34m=\u001b[0m \u001b[0mkwargs\u001b[0m\u001b[0;34m.\u001b[0m\u001b[0mpop\u001b[0m\u001b[0;34m(\u001b[0m\u001b[0;34m'use_index'\u001b[0m\u001b[0;34m,\u001b[0m \u001b[0;32mNone\u001b[0m\u001b[0;34m)\u001b[0m\u001b[0;34m\u001b[0m\n",
       "\u001b[0;34m\u001b[0m    \u001b[0muse_index\u001b[0m \u001b[0;34m=\u001b[0m \u001b[0maux\u001b[0m\u001b[0;34m.\u001b[0m\u001b[0m_check_use_index\u001b[0m\u001b[0;34m(\u001b[0m\u001b[0msource\u001b[0m\u001b[0;34m,\u001b[0m \u001b[0muse_index\u001b[0m\u001b[0;34m,\u001b[0m \u001b[0;32mTrue\u001b[0m\u001b[0;34m)\u001b[0m\u001b[0;34m\u001b[0m\n",
       "\u001b[0;34m\u001b[0m    \u001b[0mtp\u001b[0m \u001b[0;34m=\u001b[0m \u001b[0mIndexedMGF\u001b[0m \u001b[0;32mif\u001b[0m \u001b[0muse_index\u001b[0m \u001b[0;32melse\u001b[0m \u001b[0mMGF\u001b[0m\u001b[0;34m\u001b[0m\n",
       "\u001b[0;34m\u001b[0m    \u001b[0;32mreturn\u001b[0m \u001b[0mtp\u001b[0m\u001b[0;34m(\u001b[0m\u001b[0;34m*\u001b[0m\u001b[0margs\u001b[0m\u001b[0;34m,\u001b[0m \u001b[0;34m**\u001b[0m\u001b[0mkwargs\u001b[0m\u001b[0;34m)\u001b[0m\u001b[0;34m\u001b[0m\u001b[0;34m\u001b[0m\u001b[0m\n",
       "\u001b[0;31mFile:\u001b[0m      ~/miniconda3/envs/py3/lib/python3.8/site-packages/pyteomics/mgf.py\n",
       "\u001b[0;31mType:\u001b[0m      function\n"
      ]
     },
     "metadata": {},
     "output_type": "display_data"
    }
   ],
   "source": [
    "mgf.read??"
   ]
  },
  {
   "cell_type": "code",
   "execution_count": 290,
   "metadata": {},
   "outputs": [],
   "source": [
    "reader = mgf.read(fn, convert_arrays=0, use_index=True)"
   ]
  },
  {
   "cell_type": "code",
   "execution_count": 297,
   "metadata": {},
   "outputs": [
    {
     "data": {
      "text/html": [
       "<div>\n",
       "<style scoped>\n",
       "    .dataframe tbody tr th:only-of-type {\n",
       "        vertical-align: middle;\n",
       "    }\n",
       "\n",
       "    .dataframe tbody tr th {\n",
       "        vertical-align: top;\n",
       "    }\n",
       "\n",
       "    .dataframe thead th {\n",
       "        text-align: right;\n",
       "    }\n",
       "</style>\n",
       "<table border=\"1\" class=\"dataframe\">\n",
       "  <thead>\n",
       "    <tr style=\"text-align: right;\">\n",
       "      <th></th>\n",
       "      <th>mz_array</th>\n",
       "      <th>intensity</th>\n",
       "      <th>spectrum</th>\n",
       "      <th>raw_file</th>\n",
       "      <th>retention_time[min]</th>\n",
       "    </tr>\n",
       "  </thead>\n",
       "  <tbody>\n",
       "    <tr>\n",
       "      <th>0</th>\n",
       "      <td>93.54303</td>\n",
       "      <td>751.3502</td>\n",
       "      <td>Spectrum_29827</td>\n",
       "      <td>/var/www/html/omics/projects/LSARP/proteomics/...</td>\n",
       "      <td>89.074867</td>\n",
       "    </tr>\n",
       "    <tr>\n",
       "      <th>1</th>\n",
       "      <td>94.38853</td>\n",
       "      <td>811.4921</td>\n",
       "      <td>Spectrum_29827</td>\n",
       "      <td>/var/www/html/omics/projects/LSARP/proteomics/...</td>\n",
       "      <td>89.074867</td>\n",
       "    </tr>\n",
       "    <tr>\n",
       "      <th>2</th>\n",
       "      <td>98.16981</td>\n",
       "      <td>664.8106</td>\n",
       "      <td>Spectrum_29827</td>\n",
       "      <td>/var/www/html/omics/projects/LSARP/proteomics/...</td>\n",
       "      <td>89.074867</td>\n",
       "    </tr>\n",
       "    <tr>\n",
       "      <th>3</th>\n",
       "      <td>99.57938</td>\n",
       "      <td>698.0575</td>\n",
       "      <td>Spectrum_29827</td>\n",
       "      <td>/var/www/html/omics/projects/LSARP/proteomics/...</td>\n",
       "      <td>89.074867</td>\n",
       "    </tr>\n",
       "    <tr>\n",
       "      <th>4</th>\n",
       "      <td>101.99403</td>\n",
       "      <td>863.0439</td>\n",
       "      <td>Spectrum_29827</td>\n",
       "      <td>/var/www/html/omics/projects/LSARP/proteomics/...</td>\n",
       "      <td>89.074867</td>\n",
       "    </tr>\n",
       "    <tr>\n",
       "      <th>5</th>\n",
       "      <td>102.36507</td>\n",
       "      <td>762.2603</td>\n",
       "      <td>Spectrum_29827</td>\n",
       "      <td>/var/www/html/omics/projects/LSARP/proteomics/...</td>\n",
       "      <td>89.074867</td>\n",
       "    </tr>\n",
       "    <tr>\n",
       "      <th>6</th>\n",
       "      <td>106.73825</td>\n",
       "      <td>890.3047</td>\n",
       "      <td>Spectrum_29827</td>\n",
       "      <td>/var/www/html/omics/projects/LSARP/proteomics/...</td>\n",
       "      <td>89.074867</td>\n",
       "    </tr>\n",
       "    <tr>\n",
       "      <th>7</th>\n",
       "      <td>109.43993</td>\n",
       "      <td>748.7405</td>\n",
       "      <td>Spectrum_29827</td>\n",
       "      <td>/var/www/html/omics/projects/LSARP/proteomics/...</td>\n",
       "      <td>89.074867</td>\n",
       "    </tr>\n",
       "    <tr>\n",
       "      <th>8</th>\n",
       "      <td>109.87733</td>\n",
       "      <td>1035.5068</td>\n",
       "      <td>Spectrum_29827</td>\n",
       "      <td>/var/www/html/omics/projects/LSARP/proteomics/...</td>\n",
       "      <td>89.074867</td>\n",
       "    </tr>\n",
       "    <tr>\n",
       "      <th>9</th>\n",
       "      <td>114.52850</td>\n",
       "      <td>848.2386</td>\n",
       "      <td>Spectrum_29827</td>\n",
       "      <td>/var/www/html/omics/projects/LSARP/proteomics/...</td>\n",
       "      <td>89.074867</td>\n",
       "    </tr>\n",
       "    <tr>\n",
       "      <th>10</th>\n",
       "      <td>115.57100</td>\n",
       "      <td>845.0354</td>\n",
       "      <td>Spectrum_29827</td>\n",
       "      <td>/var/www/html/omics/projects/LSARP/proteomics/...</td>\n",
       "      <td>89.074867</td>\n",
       "    </tr>\n",
       "    <tr>\n",
       "      <th>11</th>\n",
       "      <td>116.34794</td>\n",
       "      <td>1082.2629</td>\n",
       "      <td>Spectrum_29827</td>\n",
       "      <td>/var/www/html/omics/projects/LSARP/proteomics/...</td>\n",
       "      <td>89.074867</td>\n",
       "    </tr>\n",
       "    <tr>\n",
       "      <th>12</th>\n",
       "      <td>116.66378</td>\n",
       "      <td>847.0298</td>\n",
       "      <td>Spectrum_29827</td>\n",
       "      <td>/var/www/html/omics/projects/LSARP/proteomics/...</td>\n",
       "      <td>89.074867</td>\n",
       "    </tr>\n",
       "    <tr>\n",
       "      <th>13</th>\n",
       "      <td>117.19823</td>\n",
       "      <td>1198.3146</td>\n",
       "      <td>Spectrum_29827</td>\n",
       "      <td>/var/www/html/omics/projects/LSARP/proteomics/...</td>\n",
       "      <td>89.074867</td>\n",
       "    </tr>\n",
       "    <tr>\n",
       "      <th>14</th>\n",
       "      <td>121.78094</td>\n",
       "      <td>905.2986</td>\n",
       "      <td>Spectrum_29827</td>\n",
       "      <td>/var/www/html/omics/projects/LSARP/proteomics/...</td>\n",
       "      <td>89.074867</td>\n",
       "    </tr>\n",
       "    <tr>\n",
       "      <th>15</th>\n",
       "      <td>126.36821</td>\n",
       "      <td>921.0054</td>\n",
       "      <td>Spectrum_29827</td>\n",
       "      <td>/var/www/html/omics/projects/LSARP/proteomics/...</td>\n",
       "      <td>89.074867</td>\n",
       "    </tr>\n",
       "    <tr>\n",
       "      <th>16</th>\n",
       "      <td>127.81737</td>\n",
       "      <td>1221.1602</td>\n",
       "      <td>Spectrum_29827</td>\n",
       "      <td>/var/www/html/omics/projects/LSARP/proteomics/...</td>\n",
       "      <td>89.074867</td>\n",
       "    </tr>\n",
       "    <tr>\n",
       "      <th>17</th>\n",
       "      <td>134.27641</td>\n",
       "      <td>968.2383</td>\n",
       "      <td>Spectrum_29827</td>\n",
       "      <td>/var/www/html/omics/projects/LSARP/proteomics/...</td>\n",
       "      <td>89.074867</td>\n",
       "    </tr>\n",
       "    <tr>\n",
       "      <th>18</th>\n",
       "      <td>134.47887</td>\n",
       "      <td>1392.3325</td>\n",
       "      <td>Spectrum_29827</td>\n",
       "      <td>/var/www/html/omics/projects/LSARP/proteomics/...</td>\n",
       "      <td>89.074867</td>\n",
       "    </tr>\n",
       "    <tr>\n",
       "      <th>19</th>\n",
       "      <td>135.86411</td>\n",
       "      <td>1104.0232</td>\n",
       "      <td>Spectrum_29827</td>\n",
       "      <td>/var/www/html/omics/projects/LSARP/proteomics/...</td>\n",
       "      <td>89.074867</td>\n",
       "    </tr>\n",
       "    <tr>\n",
       "      <th>20</th>\n",
       "      <td>146.43747</td>\n",
       "      <td>1032.4839</td>\n",
       "      <td>Spectrum_29827</td>\n",
       "      <td>/var/www/html/omics/projects/LSARP/proteomics/...</td>\n",
       "      <td>89.074867</td>\n",
       "    </tr>\n",
       "    <tr>\n",
       "      <th>21</th>\n",
       "      <td>147.45793</td>\n",
       "      <td>1711.0927</td>\n",
       "      <td>Spectrum_29827</td>\n",
       "      <td>/var/www/html/omics/projects/LSARP/proteomics/...</td>\n",
       "      <td>89.074867</td>\n",
       "    </tr>\n",
       "    <tr>\n",
       "      <th>22</th>\n",
       "      <td>147.46402</td>\n",
       "      <td>1577.0391</td>\n",
       "      <td>Spectrum_29827</td>\n",
       "      <td>/var/www/html/omics/projects/LSARP/proteomics/...</td>\n",
       "      <td>89.074867</td>\n",
       "    </tr>\n",
       "    <tr>\n",
       "      <th>23</th>\n",
       "      <td>147.47067</td>\n",
       "      <td>2057.4778</td>\n",
       "      <td>Spectrum_29827</td>\n",
       "      <td>/var/www/html/omics/projects/LSARP/proteomics/...</td>\n",
       "      <td>89.074867</td>\n",
       "    </tr>\n",
       "    <tr>\n",
       "      <th>24</th>\n",
       "      <td>147.47385</td>\n",
       "      <td>1557.8566</td>\n",
       "      <td>Spectrum_29827</td>\n",
       "      <td>/var/www/html/omics/projects/LSARP/proteomics/...</td>\n",
       "      <td>89.074867</td>\n",
       "    </tr>\n",
       "    <tr>\n",
       "      <th>25</th>\n",
       "      <td>147.47729</td>\n",
       "      <td>2827.4368</td>\n",
       "      <td>Spectrum_29827</td>\n",
       "      <td>/var/www/html/omics/projects/LSARP/proteomics/...</td>\n",
       "      <td>89.074867</td>\n",
       "    </tr>\n",
       "    <tr>\n",
       "      <th>26</th>\n",
       "      <td>147.48070</td>\n",
       "      <td>2453.5886</td>\n",
       "      <td>Spectrum_29827</td>\n",
       "      <td>/var/www/html/omics/projects/LSARP/proteomics/...</td>\n",
       "      <td>89.074867</td>\n",
       "    </tr>\n",
       "    <tr>\n",
       "      <th>27</th>\n",
       "      <td>147.48413</td>\n",
       "      <td>2574.4307</td>\n",
       "      <td>Spectrum_29827</td>\n",
       "      <td>/var/www/html/omics/projects/LSARP/proteomics/...</td>\n",
       "      <td>89.074867</td>\n",
       "    </tr>\n",
       "    <tr>\n",
       "      <th>28</th>\n",
       "      <td>147.49159</td>\n",
       "      <td>9215.7930</td>\n",
       "      <td>Spectrum_29827</td>\n",
       "      <td>/var/www/html/omics/projects/LSARP/proteomics/...</td>\n",
       "      <td>89.074867</td>\n",
       "    </tr>\n",
       "    <tr>\n",
       "      <th>29</th>\n",
       "      <td>147.49437</td>\n",
       "      <td>1388.1870</td>\n",
       "      <td>Spectrum_29827</td>\n",
       "      <td>/var/www/html/omics/projects/LSARP/proteomics/...</td>\n",
       "      <td>89.074867</td>\n",
       "    </tr>\n",
       "    <tr>\n",
       "      <th>30</th>\n",
       "      <td>147.49809</td>\n",
       "      <td>2871.4060</td>\n",
       "      <td>Spectrum_29827</td>\n",
       "      <td>/var/www/html/omics/projects/LSARP/proteomics/...</td>\n",
       "      <td>89.074867</td>\n",
       "    </tr>\n",
       "    <tr>\n",
       "      <th>31</th>\n",
       "      <td>147.50137</td>\n",
       "      <td>2419.0144</td>\n",
       "      <td>Spectrum_29827</td>\n",
       "      <td>/var/www/html/omics/projects/LSARP/proteomics/...</td>\n",
       "      <td>89.074867</td>\n",
       "    </tr>\n",
       "    <tr>\n",
       "      <th>32</th>\n",
       "      <td>147.50494</td>\n",
       "      <td>2577.9026</td>\n",
       "      <td>Spectrum_29827</td>\n",
       "      <td>/var/www/html/omics/projects/LSARP/proteomics/...</td>\n",
       "      <td>89.074867</td>\n",
       "    </tr>\n",
       "    <tr>\n",
       "      <th>33</th>\n",
       "      <td>147.50838</td>\n",
       "      <td>2265.0344</td>\n",
       "      <td>Spectrum_29827</td>\n",
       "      <td>/var/www/html/omics/projects/LSARP/proteomics/...</td>\n",
       "      <td>89.074867</td>\n",
       "    </tr>\n",
       "    <tr>\n",
       "      <th>34</th>\n",
       "      <td>147.51488</td>\n",
       "      <td>1247.4866</td>\n",
       "      <td>Spectrum_29827</td>\n",
       "      <td>/var/www/html/omics/projects/LSARP/proteomics/...</td>\n",
       "      <td>89.074867</td>\n",
       "    </tr>\n",
       "    <tr>\n",
       "      <th>35</th>\n",
       "      <td>178.33386</td>\n",
       "      <td>5252.5361</td>\n",
       "      <td>Spectrum_29827</td>\n",
       "      <td>/var/www/html/omics/projects/LSARP/proteomics/...</td>\n",
       "      <td>89.074867</td>\n",
       "    </tr>\n",
       "    <tr>\n",
       "      <th>36</th>\n",
       "      <td>184.12801</td>\n",
       "      <td>1066.2230</td>\n",
       "      <td>Spectrum_29827</td>\n",
       "      <td>/var/www/html/omics/projects/LSARP/proteomics/...</td>\n",
       "      <td>89.074867</td>\n",
       "    </tr>\n",
       "    <tr>\n",
       "      <th>37</th>\n",
       "      <td>197.23541</td>\n",
       "      <td>1206.2543</td>\n",
       "      <td>Spectrum_29827</td>\n",
       "      <td>/var/www/html/omics/projects/LSARP/proteomics/...</td>\n",
       "      <td>89.074867</td>\n",
       "    </tr>\n",
       "    <tr>\n",
       "      <th>38</th>\n",
       "      <td>231.77567</td>\n",
       "      <td>1140.4427</td>\n",
       "      <td>Spectrum_29827</td>\n",
       "      <td>/var/www/html/omics/projects/LSARP/proteomics/...</td>\n",
       "      <td>89.074867</td>\n",
       "    </tr>\n",
       "    <tr>\n",
       "      <th>39</th>\n",
       "      <td>234.09216</td>\n",
       "      <td>1348.8392</td>\n",
       "      <td>Spectrum_29827</td>\n",
       "      <td>/var/www/html/omics/projects/LSARP/proteomics/...</td>\n",
       "      <td>89.074867</td>\n",
       "    </tr>\n",
       "    <tr>\n",
       "      <th>40</th>\n",
       "      <td>255.76825</td>\n",
       "      <td>1287.3685</td>\n",
       "      <td>Spectrum_29827</td>\n",
       "      <td>/var/www/html/omics/projects/LSARP/proteomics/...</td>\n",
       "      <td>89.074867</td>\n",
       "    </tr>\n",
       "    <tr>\n",
       "      <th>41</th>\n",
       "      <td>292.88235</td>\n",
       "      <td>1396.8149</td>\n",
       "      <td>Spectrum_29827</td>\n",
       "      <td>/var/www/html/omics/projects/LSARP/proteomics/...</td>\n",
       "      <td>89.074867</td>\n",
       "    </tr>\n",
       "    <tr>\n",
       "      <th>42</th>\n",
       "      <td>329.20267</td>\n",
       "      <td>1315.0850</td>\n",
       "      <td>Spectrum_29827</td>\n",
       "      <td>/var/www/html/omics/projects/LSARP/proteomics/...</td>\n",
       "      <td>89.074867</td>\n",
       "    </tr>\n",
       "    <tr>\n",
       "      <th>43</th>\n",
       "      <td>329.68399</td>\n",
       "      <td>1235.0884</td>\n",
       "      <td>Spectrum_29827</td>\n",
       "      <td>/var/www/html/omics/projects/LSARP/proteomics/...</td>\n",
       "      <td>89.074867</td>\n",
       "    </tr>\n",
       "    <tr>\n",
       "      <th>44</th>\n",
       "      <td>339.21994</td>\n",
       "      <td>6251.6074</td>\n",
       "      <td>Spectrum_29827</td>\n",
       "      <td>/var/www/html/omics/projects/LSARP/proteomics/...</td>\n",
       "      <td>89.074867</td>\n",
       "    </tr>\n",
       "    <tr>\n",
       "      <th>45</th>\n",
       "      <td>367.93317</td>\n",
       "      <td>1709.0391</td>\n",
       "      <td>Spectrum_29827</td>\n",
       "      <td>/var/www/html/omics/projects/LSARP/proteomics/...</td>\n",
       "      <td>89.074867</td>\n",
       "    </tr>\n",
       "    <tr>\n",
       "      <th>46</th>\n",
       "      <td>450.59695</td>\n",
       "      <td>1424.3971</td>\n",
       "      <td>Spectrum_29827</td>\n",
       "      <td>/var/www/html/omics/projects/LSARP/proteomics/...</td>\n",
       "      <td>89.074867</td>\n",
       "    </tr>\n",
       "    <tr>\n",
       "      <th>47</th>\n",
       "      <td>501.48581</td>\n",
       "      <td>1286.9572</td>\n",
       "      <td>Spectrum_29827</td>\n",
       "      <td>/var/www/html/omics/projects/LSARP/proteomics/...</td>\n",
       "      <td>89.074867</td>\n",
       "    </tr>\n",
       "    <tr>\n",
       "      <th>48</th>\n",
       "      <td>551.95270</td>\n",
       "      <td>1431.2351</td>\n",
       "      <td>Spectrum_29827</td>\n",
       "      <td>/var/www/html/omics/projects/LSARP/proteomics/...</td>\n",
       "      <td>89.074867</td>\n",
       "    </tr>\n",
       "    <tr>\n",
       "      <th>49</th>\n",
       "      <td>588.96460</td>\n",
       "      <td>1384.2842</td>\n",
       "      <td>Spectrum_29827</td>\n",
       "      <td>/var/www/html/omics/projects/LSARP/proteomics/...</td>\n",
       "      <td>89.074867</td>\n",
       "    </tr>\n",
       "    <tr>\n",
       "      <th>50</th>\n",
       "      <td>644.36401</td>\n",
       "      <td>1411.6665</td>\n",
       "      <td>Spectrum_29827</td>\n",
       "      <td>/var/www/html/omics/projects/LSARP/proteomics/...</td>\n",
       "      <td>89.074867</td>\n",
       "    </tr>\n",
       "    <tr>\n",
       "      <th>51</th>\n",
       "      <td>787.77948</td>\n",
       "      <td>1609.3514</td>\n",
       "      <td>Spectrum_29827</td>\n",
       "      <td>/var/www/html/omics/projects/LSARP/proteomics/...</td>\n",
       "      <td>89.074867</td>\n",
       "    </tr>\n",
       "    <tr>\n",
       "      <th>52</th>\n",
       "      <td>803.32166</td>\n",
       "      <td>1554.6123</td>\n",
       "      <td>Spectrum_29827</td>\n",
       "      <td>/var/www/html/omics/projects/LSARP/proteomics/...</td>\n",
       "      <td>89.074867</td>\n",
       "    </tr>\n",
       "    <tr>\n",
       "      <th>53</th>\n",
       "      <td>816.98462</td>\n",
       "      <td>1383.0310</td>\n",
       "      <td>Spectrum_29827</td>\n",
       "      <td>/var/www/html/omics/projects/LSARP/proteomics/...</td>\n",
       "      <td>89.074867</td>\n",
       "    </tr>\n",
       "  </tbody>\n",
       "</table>\n",
       "</div>"
      ],
      "text/plain": [
       "     mz_array  intensity        spectrum  \\\n",
       "0    93.54303   751.3502  Spectrum_29827   \n",
       "1    94.38853   811.4921  Spectrum_29827   \n",
       "2    98.16981   664.8106  Spectrum_29827   \n",
       "3    99.57938   698.0575  Spectrum_29827   \n",
       "4   101.99403   863.0439  Spectrum_29827   \n",
       "5   102.36507   762.2603  Spectrum_29827   \n",
       "6   106.73825   890.3047  Spectrum_29827   \n",
       "7   109.43993   748.7405  Spectrum_29827   \n",
       "8   109.87733  1035.5068  Spectrum_29827   \n",
       "9   114.52850   848.2386  Spectrum_29827   \n",
       "10  115.57100   845.0354  Spectrum_29827   \n",
       "11  116.34794  1082.2629  Spectrum_29827   \n",
       "12  116.66378   847.0298  Spectrum_29827   \n",
       "13  117.19823  1198.3146  Spectrum_29827   \n",
       "14  121.78094   905.2986  Spectrum_29827   \n",
       "15  126.36821   921.0054  Spectrum_29827   \n",
       "16  127.81737  1221.1602  Spectrum_29827   \n",
       "17  134.27641   968.2383  Spectrum_29827   \n",
       "18  134.47887  1392.3325  Spectrum_29827   \n",
       "19  135.86411  1104.0232  Spectrum_29827   \n",
       "20  146.43747  1032.4839  Spectrum_29827   \n",
       "21  147.45793  1711.0927  Spectrum_29827   \n",
       "22  147.46402  1577.0391  Spectrum_29827   \n",
       "23  147.47067  2057.4778  Spectrum_29827   \n",
       "24  147.47385  1557.8566  Spectrum_29827   \n",
       "25  147.47729  2827.4368  Spectrum_29827   \n",
       "26  147.48070  2453.5886  Spectrum_29827   \n",
       "27  147.48413  2574.4307  Spectrum_29827   \n",
       "28  147.49159  9215.7930  Spectrum_29827   \n",
       "29  147.49437  1388.1870  Spectrum_29827   \n",
       "30  147.49809  2871.4060  Spectrum_29827   \n",
       "31  147.50137  2419.0144  Spectrum_29827   \n",
       "32  147.50494  2577.9026  Spectrum_29827   \n",
       "33  147.50838  2265.0344  Spectrum_29827   \n",
       "34  147.51488  1247.4866  Spectrum_29827   \n",
       "35  178.33386  5252.5361  Spectrum_29827   \n",
       "36  184.12801  1066.2230  Spectrum_29827   \n",
       "37  197.23541  1206.2543  Spectrum_29827   \n",
       "38  231.77567  1140.4427  Spectrum_29827   \n",
       "39  234.09216  1348.8392  Spectrum_29827   \n",
       "40  255.76825  1287.3685  Spectrum_29827   \n",
       "41  292.88235  1396.8149  Spectrum_29827   \n",
       "42  329.20267  1315.0850  Spectrum_29827   \n",
       "43  329.68399  1235.0884  Spectrum_29827   \n",
       "44  339.21994  6251.6074  Spectrum_29827   \n",
       "45  367.93317  1709.0391  Spectrum_29827   \n",
       "46  450.59695  1424.3971  Spectrum_29827   \n",
       "47  501.48581  1286.9572  Spectrum_29827   \n",
       "48  551.95270  1431.2351  Spectrum_29827   \n",
       "49  588.96460  1384.2842  Spectrum_29827   \n",
       "50  644.36401  1411.6665  Spectrum_29827   \n",
       "51  787.77948  1609.3514  Spectrum_29827   \n",
       "52  803.32166  1554.6123  Spectrum_29827   \n",
       "53  816.98462  1383.0310  Spectrum_29827   \n",
       "\n",
       "                                             raw_file  retention_time[min]  \n",
       "0   /var/www/html/omics/projects/LSARP/proteomics/...            89.074867  \n",
       "1   /var/www/html/omics/projects/LSARP/proteomics/...            89.074867  \n",
       "2   /var/www/html/omics/projects/LSARP/proteomics/...            89.074867  \n",
       "3   /var/www/html/omics/projects/LSARP/proteomics/...            89.074867  \n",
       "4   /var/www/html/omics/projects/LSARP/proteomics/...            89.074867  \n",
       "5   /var/www/html/omics/projects/LSARP/proteomics/...            89.074867  \n",
       "6   /var/www/html/omics/projects/LSARP/proteomics/...            89.074867  \n",
       "7   /var/www/html/omics/projects/LSARP/proteomics/...            89.074867  \n",
       "8   /var/www/html/omics/projects/LSARP/proteomics/...            89.074867  \n",
       "9   /var/www/html/omics/projects/LSARP/proteomics/...            89.074867  \n",
       "10  /var/www/html/omics/projects/LSARP/proteomics/...            89.074867  \n",
       "11  /var/www/html/omics/projects/LSARP/proteomics/...            89.074867  \n",
       "12  /var/www/html/omics/projects/LSARP/proteomics/...            89.074867  \n",
       "13  /var/www/html/omics/projects/LSARP/proteomics/...            89.074867  \n",
       "14  /var/www/html/omics/projects/LSARP/proteomics/...            89.074867  \n",
       "15  /var/www/html/omics/projects/LSARP/proteomics/...            89.074867  \n",
       "16  /var/www/html/omics/projects/LSARP/proteomics/...            89.074867  \n",
       "17  /var/www/html/omics/projects/LSARP/proteomics/...            89.074867  \n",
       "18  /var/www/html/omics/projects/LSARP/proteomics/...            89.074867  \n",
       "19  /var/www/html/omics/projects/LSARP/proteomics/...            89.074867  \n",
       "20  /var/www/html/omics/projects/LSARP/proteomics/...            89.074867  \n",
       "21  /var/www/html/omics/projects/LSARP/proteomics/...            89.074867  \n",
       "22  /var/www/html/omics/projects/LSARP/proteomics/...            89.074867  \n",
       "23  /var/www/html/omics/projects/LSARP/proteomics/...            89.074867  \n",
       "24  /var/www/html/omics/projects/LSARP/proteomics/...            89.074867  \n",
       "25  /var/www/html/omics/projects/LSARP/proteomics/...            89.074867  \n",
       "26  /var/www/html/omics/projects/LSARP/proteomics/...            89.074867  \n",
       "27  /var/www/html/omics/projects/LSARP/proteomics/...            89.074867  \n",
       "28  /var/www/html/omics/projects/LSARP/proteomics/...            89.074867  \n",
       "29  /var/www/html/omics/projects/LSARP/proteomics/...            89.074867  \n",
       "30  /var/www/html/omics/projects/LSARP/proteomics/...            89.074867  \n",
       "31  /var/www/html/omics/projects/LSARP/proteomics/...            89.074867  \n",
       "32  /var/www/html/omics/projects/LSARP/proteomics/...            89.074867  \n",
       "33  /var/www/html/omics/projects/LSARP/proteomics/...            89.074867  \n",
       "34  /var/www/html/omics/projects/LSARP/proteomics/...            89.074867  \n",
       "35  /var/www/html/omics/projects/LSARP/proteomics/...            89.074867  \n",
       "36  /var/www/html/omics/projects/LSARP/proteomics/...            89.074867  \n",
       "37  /var/www/html/omics/projects/LSARP/proteomics/...            89.074867  \n",
       "38  /var/www/html/omics/projects/LSARP/proteomics/...            89.074867  \n",
       "39  /var/www/html/omics/projects/LSARP/proteomics/...            89.074867  \n",
       "40  /var/www/html/omics/projects/LSARP/proteomics/...            89.074867  \n",
       "41  /var/www/html/omics/projects/LSARP/proteomics/...            89.074867  \n",
       "42  /var/www/html/omics/projects/LSARP/proteomics/...            89.074867  \n",
       "43  /var/www/html/omics/projects/LSARP/proteomics/...            89.074867  \n",
       "44  /var/www/html/omics/projects/LSARP/proteomics/...            89.074867  \n",
       "45  /var/www/html/omics/projects/LSARP/proteomics/...            89.074867  \n",
       "46  /var/www/html/omics/projects/LSARP/proteomics/...            89.074867  \n",
       "47  /var/www/html/omics/projects/LSARP/proteomics/...            89.074867  \n",
       "48  /var/www/html/omics/projects/LSARP/proteomics/...            89.074867  \n",
       "49  /var/www/html/omics/projects/LSARP/proteomics/...            89.074867  \n",
       "50  /var/www/html/omics/projects/LSARP/proteomics/...            89.074867  \n",
       "51  /var/www/html/omics/projects/LSARP/proteomics/...            89.074867  \n",
       "52  /var/www/html/omics/projects/LSARP/proteomics/...            89.074867  \n",
       "53  /var/www/html/omics/projects/LSARP/proteomics/...            89.074867  "
      ]
     },
     "execution_count": 297,
     "metadata": {},
     "output_type": "execute_result"
    }
   ],
   "source": [
    "spectrum_to_df( reader.get_by_index(22069) )"
   ]
  },
  {
   "cell_type": "code",
   "execution_count": null,
   "metadata": {},
   "outputs": [],
   "source": []
  },
  {
   "cell_type": "code",
   "execution_count": 275,
   "metadata": {},
   "outputs": [
    {
     "ename": "ValueError",
     "evalue": "seek of closed file",
     "output_type": "error",
     "traceback": [
      "\u001b[0;31m---------------------------------------------------------------------------\u001b[0m",
      "\u001b[0;31mValueError\u001b[0m                                Traceback (most recent call last)",
      "\u001b[0;32m<ipython-input-275-af68b7137373>\u001b[0m in \u001b[0;36m<module>\u001b[0;34m\u001b[0m\n\u001b[0;32m----> 1\u001b[0;31m \u001b[0mreader\u001b[0m\u001b[0;34m.\u001b[0m\u001b[0mget_by_index\u001b[0m\u001b[0;34m(\u001b[0m\u001b[0;36m1\u001b[0m\u001b[0;34m)\u001b[0m\u001b[0;34m\u001b[0m\u001b[0;34m\u001b[0m\u001b[0m\n\u001b[0m",
      "\u001b[0;32m~/miniconda3/envs/py3/lib/python3.8/site-packages/pyteomics/auxiliary/file_helpers.py\u001b[0m in \u001b[0;36mget_by_index\u001b[0;34m(self, i)\u001b[0m\n\u001b[1;32m    256\u001b[0m         \u001b[0;32mexcept\u001b[0m \u001b[0mAttributeError\u001b[0m\u001b[0;34m:\u001b[0m\u001b[0;34m\u001b[0m\u001b[0;34m\u001b[0m\u001b[0m\n\u001b[1;32m    257\u001b[0m             \u001b[0;32mraise\u001b[0m \u001b[0mPyteomicsError\u001b[0m\u001b[0;34m(\u001b[0m\u001b[0;34m'Positional access requires building an offset index.'\u001b[0m\u001b[0;34m)\u001b[0m\u001b[0;34m\u001b[0m\u001b[0;34m\u001b[0m\u001b[0m\n\u001b[0;32m--> 258\u001b[0;31m         \u001b[0;32mreturn\u001b[0m \u001b[0mself\u001b[0m\u001b[0;34m.\u001b[0m\u001b[0mget_by_id\u001b[0m\u001b[0;34m(\u001b[0m\u001b[0mkey\u001b[0m\u001b[0;34m)\u001b[0m\u001b[0;34m\u001b[0m\u001b[0;34m\u001b[0m\u001b[0m\n\u001b[0m\u001b[1;32m    259\u001b[0m \u001b[0;34m\u001b[0m\u001b[0m\n\u001b[1;32m    260\u001b[0m     \u001b[0;32mdef\u001b[0m \u001b[0mget_by_indexes\u001b[0m\u001b[0;34m(\u001b[0m\u001b[0mself\u001b[0m\u001b[0;34m,\u001b[0m \u001b[0mindexes\u001b[0m\u001b[0;34m)\u001b[0m\u001b[0;34m:\u001b[0m\u001b[0;34m\u001b[0m\u001b[0;34m\u001b[0m\u001b[0m\n",
      "\u001b[0;32m~/miniconda3/envs/py3/lib/python3.8/site-packages/pyteomics/auxiliary/file_helpers.py\u001b[0m in \u001b[0;36mget_by_id\u001b[0;34m(self, elem_id)\u001b[0m\n\u001b[1;32m    246\u001b[0m             \u001b[0;32mraise\u001b[0m \u001b[0mPyteomicsError\u001b[0m\u001b[0;34m(\u001b[0m\u001b[0;34m'Access by ID requires building an offset index.'\u001b[0m\u001b[0;34m)\u001b[0m\u001b[0;34m\u001b[0m\u001b[0;34m\u001b[0m\u001b[0m\n\u001b[1;32m    247\u001b[0m         \u001b[0moffsets\u001b[0m \u001b[0;34m=\u001b[0m \u001b[0mindex\u001b[0m\u001b[0;34m[\u001b[0m\u001b[0melem_id\u001b[0m\u001b[0;34m]\u001b[0m\u001b[0;34m\u001b[0m\u001b[0;34m\u001b[0m\u001b[0m\n\u001b[0;32m--> 248\u001b[0;31m         \u001b[0;32mreturn\u001b[0m \u001b[0mself\u001b[0m\u001b[0;34m.\u001b[0m\u001b[0m_item_from_offsets\u001b[0m\u001b[0;34m(\u001b[0m\u001b[0moffsets\u001b[0m\u001b[0;34m)\u001b[0m\u001b[0;34m\u001b[0m\u001b[0;34m\u001b[0m\u001b[0m\n\u001b[0m\u001b[1;32m    249\u001b[0m \u001b[0;34m\u001b[0m\u001b[0m\n\u001b[1;32m    250\u001b[0m     \u001b[0;32mdef\u001b[0m \u001b[0mget_by_ids\u001b[0m\u001b[0;34m(\u001b[0m\u001b[0mself\u001b[0m\u001b[0;34m,\u001b[0m \u001b[0mids\u001b[0m\u001b[0;34m)\u001b[0m\u001b[0;34m:\u001b[0m\u001b[0;34m\u001b[0m\u001b[0;34m\u001b[0m\u001b[0m\n",
      "\u001b[0;32m~/miniconda3/envs/py3/lib/python3.8/site-packages/pyteomics/mgf.py\u001b[0m in \u001b[0;36m_item_from_offsets\u001b[0;34m(self, offsets)\u001b[0m\n\u001b[1;32m    293\u001b[0m     \u001b[0;32mdef\u001b[0m \u001b[0m_item_from_offsets\u001b[0m\u001b[0;34m(\u001b[0m\u001b[0mself\u001b[0m\u001b[0;34m,\u001b[0m \u001b[0moffsets\u001b[0m\u001b[0;34m)\u001b[0m\u001b[0;34m:\u001b[0m\u001b[0;34m\u001b[0m\u001b[0;34m\u001b[0m\u001b[0m\n\u001b[1;32m    294\u001b[0m         \u001b[0mstart\u001b[0m\u001b[0;34m,\u001b[0m \u001b[0mend\u001b[0m \u001b[0;34m=\u001b[0m \u001b[0moffsets\u001b[0m\u001b[0;34m\u001b[0m\u001b[0;34m\u001b[0m\u001b[0m\n\u001b[0;32m--> 295\u001b[0;31m         \u001b[0mlines\u001b[0m \u001b[0;34m=\u001b[0m \u001b[0mself\u001b[0m\u001b[0;34m.\u001b[0m\u001b[0m_read_lines_from_offsets\u001b[0m\u001b[0;34m(\u001b[0m\u001b[0mstart\u001b[0m\u001b[0;34m,\u001b[0m \u001b[0mend\u001b[0m\u001b[0;34m)\u001b[0m\u001b[0;34m\u001b[0m\u001b[0;34m\u001b[0m\u001b[0m\n\u001b[0m\u001b[1;32m    296\u001b[0m         \u001b[0;32mreturn\u001b[0m \u001b[0mself\u001b[0m\u001b[0;34m.\u001b[0m\u001b[0m_read_spectrum_lines\u001b[0m\u001b[0;34m(\u001b[0m\u001b[0mlines\u001b[0m\u001b[0;34m)\u001b[0m\u001b[0;34m\u001b[0m\u001b[0;34m\u001b[0m\u001b[0m\n\u001b[1;32m    297\u001b[0m \u001b[0;34m\u001b[0m\u001b[0m\n",
      "\u001b[0;32m~/miniconda3/envs/py3/lib/python3.8/site-packages/pyteomics/auxiliary/file_helpers.py\u001b[0m in \u001b[0;36m_read_lines_from_offsets\u001b[0;34m(self, start, end)\u001b[0m\n\u001b[1;32m    471\u001b[0m \u001b[0;34m\u001b[0m\u001b[0m\n\u001b[1;32m    472\u001b[0m     \u001b[0;32mdef\u001b[0m \u001b[0m_read_lines_from_offsets\u001b[0m\u001b[0;34m(\u001b[0m\u001b[0mself\u001b[0m\u001b[0;34m,\u001b[0m \u001b[0mstart\u001b[0m\u001b[0;34m,\u001b[0m \u001b[0mend\u001b[0m\u001b[0;34m)\u001b[0m\u001b[0;34m:\u001b[0m\u001b[0;34m\u001b[0m\u001b[0;34m\u001b[0m\u001b[0m\n\u001b[0;32m--> 473\u001b[0;31m         \u001b[0mself\u001b[0m\u001b[0;34m.\u001b[0m\u001b[0m_source\u001b[0m\u001b[0;34m.\u001b[0m\u001b[0mseek\u001b[0m\u001b[0;34m(\u001b[0m\u001b[0mstart\u001b[0m\u001b[0;34m)\u001b[0m\u001b[0;34m\u001b[0m\u001b[0;34m\u001b[0m\u001b[0m\n\u001b[0m\u001b[1;32m    474\u001b[0m         \u001b[0mlines\u001b[0m \u001b[0;34m=\u001b[0m \u001b[0mself\u001b[0m\u001b[0;34m.\u001b[0m\u001b[0m_source\u001b[0m\u001b[0;34m.\u001b[0m\u001b[0mread\u001b[0m\u001b[0;34m(\u001b[0m\u001b[0mend\u001b[0m\u001b[0;34m-\u001b[0m\u001b[0mstart\u001b[0m\u001b[0;34m)\u001b[0m\u001b[0;34m.\u001b[0m\u001b[0mdecode\u001b[0m\u001b[0;34m(\u001b[0m\u001b[0mself\u001b[0m\u001b[0;34m.\u001b[0m\u001b[0mencoding\u001b[0m\u001b[0;34m)\u001b[0m\u001b[0;34m.\u001b[0m\u001b[0msplit\u001b[0m\u001b[0;34m(\u001b[0m\u001b[0;34m'\\n'\u001b[0m\u001b[0;34m)\u001b[0m\u001b[0;34m\u001b[0m\u001b[0;34m\u001b[0m\u001b[0m\n\u001b[1;32m    475\u001b[0m         \u001b[0;32mreturn\u001b[0m \u001b[0mlines\u001b[0m\u001b[0;34m\u001b[0m\u001b[0;34m\u001b[0m\u001b[0m\n",
      "\u001b[0;31mValueError\u001b[0m: seek of closed file"
     ]
    }
   ],
   "source": [
    "reader.get_by_index(1)"
   ]
  },
  {
   "cell_type": "code",
   "execution_count": 126,
   "metadata": {},
   "outputs": [],
   "source": [
    "def get_spectrum(ndx):\n",
    "    df = spectrum_to_df( reader.get_by_index(ndx) )\n",
    "    return df"
   ]
  },
  {
   "cell_type": "code",
   "execution_count": 127,
   "metadata": {},
   "outputs": [],
   "source": [
    "df = get_spectrum(5588)"
   ]
  },
  {
   "cell_type": "code",
   "execution_count": 128,
   "metadata": {},
   "outputs": [
    {
     "data": {
      "image/png": "[encoded data removed]",
      "text/plain": [
       "<Figure size 432x288 with 1 Axes>"
      ]
     },
     "metadata": {
      "needs_background": "light"
     },
     "output_type": "display_data"
    }
   ],
   "source": [
    "def plot_spectrum(ndx):\n",
    "    df = get_spectrum(ndx)\n",
    "    x = df.mz_array\n",
    "    y = df.intensity\n",
    "    fig = bar(x, y)\n",
    "    show()\n",
    "\n",
    "plot_spectrum(1000)"
   ]
  },
  {
   "cell_type": "code",
   "execution_count": 96,
   "metadata": {},
   "outputs": [],
   "source": [
    "from ipywidgets import interact, IntSlider"
   ]
  },
  {
   "cell_type": "code",
   "execution_count": null,
   "metadata": {},
   "outputs": [],
   "source": []
  },
  {
   "cell_type": "code",
   "execution_count": 115,
   "metadata": {},
   "outputs": [],
   "source": [
    "spec_ndx = IntSlider(value=0, min=0, max=1000)"
   ]
  },
  {
   "cell_type": "code",
   "execution_count": 116,
   "metadata": {},
   "outputs": [
    {
     "data": {
      "application/vnd.jupyter.widget-view+json": {
       "model_id": "ef764f4e0b094af4a53e49bf32981a6e",
       "version_major": 2,
       "version_minor": 0
      },
      "text/plain": [
       "interactive(children=(IntSlider(value=0, description='ndx', max=1000), Output()), _dom_classes=('widget-intera…"
      ]
     },
     "metadata": {},
     "output_type": "display_data"
    },
    {
     "data": {
      "text/plain": [
       "<function __main__.plot_spectrum(ndx)>"
      ]
     },
     "execution_count": 116,
     "metadata": {},
     "output_type": "execute_result"
    }
   ],
   "source": [
    "interact(plot_spectrum, ndx=spec_ndx)"
   ]
  },
  {
   "cell_type": "code",
   "execution_count": 109,
   "metadata": {},
   "outputs": [
    {
     "data": {
      "text/plain": [
       "([117.54013,\n",
       "  126.12473,\n",
       "  126.12749,\n",
       "  127.12453,\n",
       "  127.13084,\n",
       "  127.88962,\n",
       "  128.12518,\n",
       "  128.12791,\n",
       "  128.13417,\n",
       "  129.12794,\n",
       "  129.13126,\n",
       "  129.1375,\n",
       "  129.25993,\n",
       "  130.13461,\n",
       "  130.14084,\n",
       "  131.13799,\n",
       "  131.14427,\n",
       "  132.72511,\n",
       "  133.62386,\n",
       "  134.04022,\n",
       "  136.26205,\n",
       "  143.79811,\n",
       "  148.82912,\n",
       "  149.44156,\n",
       "  152.74602,\n",
       "  158.0921,\n",
       "  171.07594,\n",
       "  175.11858,\n",
       "  186.15276,\n",
       "  201.05035,\n",
       "  205.86346,\n",
       "  214.5081,\n",
       "  230.16957,\n",
       "  248.00504,\n",
       "  255.90187,\n",
       "  259.19629,\n",
       "  287.13528,\n",
       "  287.19153,\n",
       "  298.79175,\n",
       "  300.11844,\n",
       "  330.3129,\n",
       "  346.2283,\n",
       "  348.72537,\n",
       "  374.22327,\n",
       "  402.52646,\n",
       "  414.19724,\n",
       "  416.68723,\n",
       "  427.35327,\n",
       "  439.19278,\n",
       "  440.17834,\n",
       "  447.07733,\n",
       "  457.2034,\n",
       "  458.20673,\n",
       "  469.4996,\n",
       "  474.23016,\n",
       "  486.58817,\n",
       "  575.31128,\n",
       "  602.28906,\n",
       "  603.33075,\n",
       "  631.32568,\n",
       "  645.31696,\n",
       "  651.31726,\n",
       "  660.32251,\n",
       "  660.82379,\n",
       "  689.31989,\n",
       "  690.36334,\n",
       "  757.36505,\n",
       "  775.37775,\n",
       "  818.41992,\n",
       "  828.40472,\n",
       "  846.41461,\n",
       "  850.03015,\n",
       "  946.4209,\n",
       "  1033.45166,\n",
       "  1090.47437,\n",
       "  1091.47986,\n",
       "  1112.52795,\n",
       "  1117.53101,\n",
       "  1131.50269,\n",
       "  1143.50598,\n",
       "  1144.49426,\n",
       "  1145.50952,\n",
       "  1147.50037,\n",
       "  1148.49463,\n",
       "  1161.5105,\n",
       "  1162.51099,\n",
       "  1163.51477,\n",
       "  1164.52051,\n",
       "  1165.5177,\n",
       "  1166.51709,\n",
       "  1209.10571],\n",
       " [997.5449,\n",
       "  1093.4242,\n",
       "  13615.292,\n",
       "  7512.4463,\n",
       "  9987.291,\n",
       "  1060.3282,\n",
       "  1077.5063,\n",
       "  11813.9629,\n",
       "  6666.5249,\n",
       "  1463.0509,\n",
       "  12143.1582,\n",
       "  3662.2651,\n",
       "  924.795,\n",
       "  15212.1836,\n",
       "  7965.4673,\n",
       "  2371.2986,\n",
       "  7526.4258,\n",
       "  1095.9058,\n",
       "  1094.1941,\n",
       "  1022.0985,\n",
       "  1139.5493,\n",
       "  1092.9725,\n",
       "  1188.5803,\n",
       "  972.9654,\n",
       "  1193.7123,\n",
       "  1836.952,\n",
       "  3122.2893,\n",
       "  16358.418,\n",
       "  1434.3097,\n",
       "  1434.989,\n",
       "  1335.1627,\n",
       "  1176.6935,\n",
       "  8310.2988,\n",
       "  1310.9835,\n",
       "  1347.0243,\n",
       "  1947.0594,\n",
       "  1972.2046,\n",
       "  5077.3994,\n",
       "  1447.8009,\n",
       "  6264.7446,\n",
       "  1502.496,\n",
       "  7225.7554,\n",
       "  1542.3284,\n",
       "  10020.5137,\n",
       "  1531.4567,\n",
       "  3056.0232,\n",
       "  1667.962,\n",
       "  1759.5106,\n",
       "  3185.9585,\n",
       "  1918.3513,\n",
       "  1571.3174,\n",
       "  20058.2949,\n",
       "  1624.2883,\n",
       "  1474.3995,\n",
       "  5718.4775,\n",
       "  1555.9263,\n",
       "  1312.3259,\n",
       "  1877.8828,\n",
       "  2742.4138,\n",
       "  1803.5068,\n",
       "  4299.5391,\n",
       "  8189.6353,\n",
       "  122548.375,\n",
       "  25347.9746,\n",
       "  3208.0962,\n",
       "  2560.1841,\n",
       "  1779.9529,\n",
       "  12780.6152,\n",
       "  15372.4062,\n",
       "  1926.1455,\n",
       "  17277.7051,\n",
       "  1573.5753,\n",
       "  15846.915,\n",
       "  5768.3999,\n",
       "  7857.2344,\n",
       "  2145.4446,\n",
       "  1681.5341,\n",
       "  2823.9644,\n",
       "  1710.7645,\n",
       "  1890.8654,\n",
       "  4646.4346,\n",
       "  2134.1396,\n",
       "  1910.1665,\n",
       "  2119.481,\n",
       "  19558.2266,\n",
       "  18317.1406,\n",
       "  5967.3276,\n",
       "  17380.627,\n",
       "  24826.1855,\n",
       "  2088.47,\n",
       "  1586.5288])"
      ]
     },
     "execution_count": 109,
     "metadata": {},
     "output_type": "execute_result"
    }
   ],
   "source": [
    "df = get_spectrum(100)\n",
    "df"
   ]
  },
  {
   "cell_type": "code",
   "execution_count": 118,
   "metadata": {},
   "outputs": [],
   "source": [
    "import plotly.express as px"
   ]
  },
  {
   "cell_type": "code",
   "execution_count": 132,
   "metadata": {},
   "outputs": [
    {
     "data": {
      "text/html": [
       "<div>\n",
       "<style scoped>\n",
       "    .dataframe tbody tr th:only-of-type {\n",
       "        vertical-align: middle;\n",
       "    }\n",
       "\n",
       "    .dataframe tbody tr th {\n",
       "        vertical-align: top;\n",
       "    }\n",
       "\n",
       "    .dataframe thead th {\n",
       "        text-align: right;\n",
       "    }\n",
       "</style>\n",
       "<table border=\"1\" class=\"dataframe\">\n",
       "  <thead>\n",
       "    <tr style=\"text-align: right;\">\n",
       "      <th></th>\n",
       "      <th>mz_array</th>\n",
       "      <th>intensity</th>\n",
       "      <th>spectrum</th>\n",
       "      <th>raw_file</th>\n",
       "      <th>retention_time[min]</th>\n",
       "    </tr>\n",
       "  </thead>\n",
       "  <tbody>\n",
       "    <tr>\n",
       "      <th>0</th>\n",
       "      <td>110.07146</td>\n",
       "      <td>25439.2285</td>\n",
       "      <td>Spectrum_8790</td>\n",
       "      <td>/var/www/html/omics/projects/LSARP/proteomics/...</td>\n",
       "      <td>31.390581</td>\n",
       "    </tr>\n",
       "    <tr>\n",
       "      <th>1</th>\n",
       "      <td>110.07394</td>\n",
       "      <td>1646.7223</td>\n",
       "      <td>Spectrum_8790</td>\n",
       "      <td>/var/www/html/omics/projects/LSARP/proteomics/...</td>\n",
       "      <td>31.390581</td>\n",
       "    </tr>\n",
       "    <tr>\n",
       "      <th>2</th>\n",
       "      <td>114.06616</td>\n",
       "      <td>982.9742</td>\n",
       "      <td>Spectrum_8790</td>\n",
       "      <td>/var/www/html/omics/projects/LSARP/proteomics/...</td>\n",
       "      <td>31.390581</td>\n",
       "    </tr>\n",
       "    <tr>\n",
       "      <th>3</th>\n",
       "      <td>116.05611</td>\n",
       "      <td>886.4932</td>\n",
       "      <td>Spectrum_8790</td>\n",
       "      <td>/var/www/html/omics/projects/LSARP/proteomics/...</td>\n",
       "      <td>31.390581</td>\n",
       "    </tr>\n",
       "    <tr>\n",
       "      <th>4</th>\n",
       "      <td>117.19048</td>\n",
       "      <td>916.0654</td>\n",
       "      <td>Spectrum_8790</td>\n",
       "      <td>/var/www/html/omics/projects/LSARP/proteomics/...</td>\n",
       "      <td>31.390581</td>\n",
       "    </tr>\n",
       "    <tr>\n",
       "      <th>...</th>\n",
       "      <td>...</td>\n",
       "      <td>...</td>\n",
       "      <td>...</td>\n",
       "      <td>...</td>\n",
       "      <td>...</td>\n",
       "    </tr>\n",
       "    <tr>\n",
       "      <th>255</th>\n",
       "      <td>972.64026</td>\n",
       "      <td>41140.2617</td>\n",
       "      <td>Spectrum_8790</td>\n",
       "      <td>/var/www/html/omics/projects/LSARP/proteomics/...</td>\n",
       "      <td>31.390581</td>\n",
       "    </tr>\n",
       "    <tr>\n",
       "      <th>256</th>\n",
       "      <td>973.63867</td>\n",
       "      <td>83469.3359</td>\n",
       "      <td>Spectrum_8790</td>\n",
       "      <td>/var/www/html/omics/projects/LSARP/proteomics/...</td>\n",
       "      <td>31.390581</td>\n",
       "    </tr>\n",
       "    <tr>\n",
       "      <th>257</th>\n",
       "      <td>974.64166</td>\n",
       "      <td>6498.1094</td>\n",
       "      <td>Spectrum_8790</td>\n",
       "      <td>/var/www/html/omics/projects/LSARP/proteomics/...</td>\n",
       "      <td>31.390581</td>\n",
       "    </tr>\n",
       "    <tr>\n",
       "      <th>258</th>\n",
       "      <td>986.55060</td>\n",
       "      <td>2102.2896</td>\n",
       "      <td>Spectrum_8790</td>\n",
       "      <td>/var/www/html/omics/projects/LSARP/proteomics/...</td>\n",
       "      <td>31.390581</td>\n",
       "    </tr>\n",
       "    <tr>\n",
       "      <th>259</th>\n",
       "      <td>1088.51208</td>\n",
       "      <td>3080.9768</td>\n",
       "      <td>Spectrum_8790</td>\n",
       "      <td>/var/www/html/omics/projects/LSARP/proteomics/...</td>\n",
       "      <td>31.390581</td>\n",
       "    </tr>\n",
       "  </tbody>\n",
       "</table>\n",
       "<p>260 rows × 5 columns</p>\n",
       "</div>"
      ],
      "text/plain": [
       "       mz_array   intensity       spectrum  \\\n",
       "0     110.07146  25439.2285  Spectrum_8790   \n",
       "1     110.07394   1646.7223  Spectrum_8790   \n",
       "2     114.06616    982.9742  Spectrum_8790   \n",
       "3     116.05611    886.4932  Spectrum_8790   \n",
       "4     117.19048    916.0654  Spectrum_8790   \n",
       "..          ...         ...            ...   \n",
       "255   972.64026  41140.2617  Spectrum_8790   \n",
       "256   973.63867  83469.3359  Spectrum_8790   \n",
       "257   974.64166   6498.1094  Spectrum_8790   \n",
       "258   986.55060   2102.2896  Spectrum_8790   \n",
       "259  1088.51208   3080.9768  Spectrum_8790   \n",
       "\n",
       "                                              raw_file  retention_time[min]  \n",
       "0    /var/www/html/omics/projects/LSARP/proteomics/...            31.390581  \n",
       "1    /var/www/html/omics/projects/LSARP/proteomics/...            31.390581  \n",
       "2    /var/www/html/omics/projects/LSARP/proteomics/...            31.390581  \n",
       "3    /var/www/html/omics/projects/LSARP/proteomics/...            31.390581  \n",
       "4    /var/www/html/omics/projects/LSARP/proteomics/...            31.390581  \n",
       "..                                                 ...                  ...  \n",
       "255  /var/www/html/omics/projects/LSARP/proteomics/...            31.390581  \n",
       "256  /var/www/html/omics/projects/LSARP/proteomics/...            31.390581  \n",
       "257  /var/www/html/omics/projects/LSARP/proteomics/...            31.390581  \n",
       "258  /var/www/html/omics/projects/LSARP/proteomics/...            31.390581  \n",
       "259  /var/www/html/omics/projects/LSARP/proteomics/...            31.390581  \n",
       "\n",
       "[260 rows x 5 columns]"
      ]
     },
     "execution_count": 132,
     "metadata": {},
     "output_type": "execute_result"
    }
   ],
   "source": [
    "df"
   ]
  },
  {
   "cell_type": "code",
   "execution_count": 135,
   "metadata": {},
   "outputs": [
    {
     "data": {
      "text/html": [
       "<div>\n",
       "<style scoped>\n",
       "    .dataframe tbody tr th:only-of-type {\n",
       "        vertical-align: middle;\n",
       "    }\n",
       "\n",
       "    .dataframe tbody tr th {\n",
       "        vertical-align: top;\n",
       "    }\n",
       "\n",
       "    .dataframe thead th {\n",
       "        text-align: right;\n",
       "    }\n",
       "</style>\n",
       "<table border=\"1\" class=\"dataframe\">\n",
       "  <thead>\n",
       "    <tr style=\"text-align: right;\">\n",
       "      <th></th>\n",
       "      <th>mz_array</th>\n",
       "      <th>intensity</th>\n",
       "      <th>spectrum</th>\n",
       "      <th>raw_file</th>\n",
       "      <th>retention_time[min]</th>\n",
       "    </tr>\n",
       "  </thead>\n",
       "  <tbody>\n",
       "    <tr>\n",
       "      <th>0</th>\n",
       "      <td>110.07146</td>\n",
       "      <td>25439.2285</td>\n",
       "      <td>Spectrum_8790</td>\n",
       "      <td>/var/www/html/omics/projects/LSARP/proteomics/...</td>\n",
       "      <td>31.390581</td>\n",
       "    </tr>\n",
       "    <tr>\n",
       "      <th>1</th>\n",
       "      <td>110.07394</td>\n",
       "      <td>1646.7223</td>\n",
       "      <td>Spectrum_8790</td>\n",
       "      <td>/var/www/html/omics/projects/LSARP/proteomics/...</td>\n",
       "      <td>31.390581</td>\n",
       "    </tr>\n",
       "    <tr>\n",
       "      <th>2</th>\n",
       "      <td>114.06616</td>\n",
       "      <td>982.9742</td>\n",
       "      <td>Spectrum_8790</td>\n",
       "      <td>/var/www/html/omics/projects/LSARP/proteomics/...</td>\n",
       "      <td>31.390581</td>\n",
       "    </tr>\n",
       "    <tr>\n",
       "      <th>3</th>\n",
       "      <td>116.05611</td>\n",
       "      <td>886.4932</td>\n",
       "      <td>Spectrum_8790</td>\n",
       "      <td>/var/www/html/omics/projects/LSARP/proteomics/...</td>\n",
       "      <td>31.390581</td>\n",
       "    </tr>\n",
       "    <tr>\n",
       "      <th>4</th>\n",
       "      <td>117.19048</td>\n",
       "      <td>916.0654</td>\n",
       "      <td>Spectrum_8790</td>\n",
       "      <td>/var/www/html/omics/projects/LSARP/proteomics/...</td>\n",
       "      <td>31.390581</td>\n",
       "    </tr>\n",
       "    <tr>\n",
       "      <th>...</th>\n",
       "      <td>...</td>\n",
       "      <td>...</td>\n",
       "      <td>...</td>\n",
       "      <td>...</td>\n",
       "      <td>...</td>\n",
       "    </tr>\n",
       "    <tr>\n",
       "      <th>255</th>\n",
       "      <td>972.64026</td>\n",
       "      <td>41140.2617</td>\n",
       "      <td>Spectrum_8790</td>\n",
       "      <td>/var/www/html/omics/projects/LSARP/proteomics/...</td>\n",
       "      <td>31.390581</td>\n",
       "    </tr>\n",
       "    <tr>\n",
       "      <th>256</th>\n",
       "      <td>973.63867</td>\n",
       "      <td>83469.3359</td>\n",
       "      <td>Spectrum_8790</td>\n",
       "      <td>/var/www/html/omics/projects/LSARP/proteomics/...</td>\n",
       "      <td>31.390581</td>\n",
       "    </tr>\n",
       "    <tr>\n",
       "      <th>257</th>\n",
       "      <td>974.64166</td>\n",
       "      <td>6498.1094</td>\n",
       "      <td>Spectrum_8790</td>\n",
       "      <td>/var/www/html/omics/projects/LSARP/proteomics/...</td>\n",
       "      <td>31.390581</td>\n",
       "    </tr>\n",
       "    <tr>\n",
       "      <th>258</th>\n",
       "      <td>986.55060</td>\n",
       "      <td>2102.2896</td>\n",
       "      <td>Spectrum_8790</td>\n",
       "      <td>/var/www/html/omics/projects/LSARP/proteomics/...</td>\n",
       "      <td>31.390581</td>\n",
       "    </tr>\n",
       "    <tr>\n",
       "      <th>259</th>\n",
       "      <td>1088.51208</td>\n",
       "      <td>3080.9768</td>\n",
       "      <td>Spectrum_8790</td>\n",
       "      <td>/var/www/html/omics/projects/LSARP/proteomics/...</td>\n",
       "      <td>31.390581</td>\n",
       "    </tr>\n",
       "  </tbody>\n",
       "</table>\n",
       "<p>260 rows × 5 columns</p>\n",
       "</div>"
      ],
      "text/plain": [
       "       mz_array   intensity       spectrum  \\\n",
       "0     110.07146  25439.2285  Spectrum_8790   \n",
       "1     110.07394   1646.7223  Spectrum_8790   \n",
       "2     114.06616    982.9742  Spectrum_8790   \n",
       "3     116.05611    886.4932  Spectrum_8790   \n",
       "4     117.19048    916.0654  Spectrum_8790   \n",
       "..          ...         ...            ...   \n",
       "255   972.64026  41140.2617  Spectrum_8790   \n",
       "256   973.63867  83469.3359  Spectrum_8790   \n",
       "257   974.64166   6498.1094  Spectrum_8790   \n",
       "258   986.55060   2102.2896  Spectrum_8790   \n",
       "259  1088.51208   3080.9768  Spectrum_8790   \n",
       "\n",
       "                                              raw_file  retention_time[min]  \n",
       "0    /var/www/html/omics/projects/LSARP/proteomics/...            31.390581  \n",
       "1    /var/www/html/omics/projects/LSARP/proteomics/...            31.390581  \n",
       "2    /var/www/html/omics/projects/LSARP/proteomics/...            31.390581  \n",
       "3    /var/www/html/omics/projects/LSARP/proteomics/...            31.390581  \n",
       "4    /var/www/html/omics/projects/LSARP/proteomics/...            31.390581  \n",
       "..                                                 ...                  ...  \n",
       "255  /var/www/html/omics/projects/LSARP/proteomics/...            31.390581  \n",
       "256  /var/www/html/omics/projects/LSARP/proteomics/...            31.390581  \n",
       "257  /var/www/html/omics/projects/LSARP/proteomics/...            31.390581  \n",
       "258  /var/www/html/omics/projects/LSARP/proteomics/...            31.390581  \n",
       "259  /var/www/html/omics/projects/LSARP/proteomics/...            31.390581  \n",
       "\n",
       "[260 rows x 5 columns]"
      ]
     },
     "execution_count": 135,
     "metadata": {},
     "output_type": "execute_result"
    }
   ],
   "source": [
    "df"
   ]
  },
  {
   "cell_type": "code",
   "execution_count": 134,
   "metadata": {},
   "outputs": [
    {
     "data": {
      "application/vnd.plotly.v1+json": {
       "config": {
        "plotlyServerURL": "https://plot.ly"
       },
       "data": [
        {
         "alignmentgroup": "True",
         "hovertemplate": "mz_array=%{x}<br>intensity=%{y}<extra></extra>",
         "legendgroup": "",
         "marker": {
          "color": "#636efa"
         },
         "name": "",
         "offsetgroup": "",
         "orientation": "v",
         "showlegend": false,
         "textposition": "auto",
         "type": "bar",
         "x": [
          110.07146,
          110.07394,
          114.06616,
          116.05611,
          117.19048,
          120.91577,
          120.95947,
          122.20333,
          124.95992,
          126.09132,
          126.12793,
          127.12504,
          127.13126,
          127.81618,
          128.12834,
          128.13463,
          129.1317,
          129.13797,
          130.13513,
          130.14134,
          131.13846,
          131.1447,
          136.07591,
          136.241,
          143.11806,
          144.1152,
          145.11847,
          147.12532,
          152.57355,
          155.12628,
          156.11488,
          156.12306,
          158.09248,
          158.12981,
          158.13625,
          159.13945,
          167.08183,
          169.13376,
          169.16989,
          171.11275,
          172.10983,
          173.14977,
          174.12291,
          175.11942,
          175.12341,
          175.15649,
          176.15984,
          176.16609,
          178.32628,
          181.37259,
          184.10832,
          185.16502,
          186.08771,
          186.15312,
          186.15773,
          188.15984,
          188.16608,
          191.88438,
          195.07672,
          201.12332,
          204.14667,
          212.10307,
          213.15999,
          218.15021,
          219.14731,
          221.10326,
          221.16039,
          222.15718,
          229.12971,
          229.16698,
          229.17436,
          229.18643,
          230.11389,
          230.17047,
          231.17389,
          243.67154,
          246.15674,
          247.19666,
          248.18111,
          249.09778,
          252.77538,
          261.15637,
          265.11887,
          273.13489,
          284.19751,
          285.19455,
          286.19717,
          287.20703,
          288.20447,
          293.1138,
          294.19025,
          300.241,
          301.20816,
          301.24435,
          302.24707,
          308.19284,
          311.89981,
          313.24463,
          328.23813,
          328.2554,
          329.23941,
          330.24271,
          330.27121,
          331.2554,
          332.19394,
          333.19107,
          336.20038,
          344.19864,
          344.21393,
          345.19827,
          345.22495,
          346.37073,
          356.2688,
          357.27197,
          358.20911,
          358.22705,
          359.25009,
          359.27762,
          372.71521,
          375.27289,
          376.27686,
          377.28046,
          386.7124,
          387.69873,
          396.19031,
          397.75159,
          398.33398,
          402.97363,
          412.22009,
          413.21857,
          414.25662,
          414.29291,
          414.32928,
          415.22943,
          415.28821,
          415.33295,
          416.22693,
          423.81348,
          429.24649,
          430.24493,
          431.24677,
          432.25629,
          433.25363,
          437.2363,
          437.73856,
          441.32031,
          441.34003,
          442.32413,
          443.28281,
          443.32718,
          451.23401,
          451.73526,
          457.27682,
          460.9834,
          471.31415,
          472.31009,
          473.29343,
          474.26828,
          475.34369,
          478.79694,
          490.32019,
          493.77884,
          497.30515,
          497.40259,
          500.30441,
          501.28891,
          513.39777,
          514.40149,
          515.34009,
          521.34192,
          529.31287,
          530.31702,
          532.32147,
          535.33789,
          540.39087,
          541.39282,
          541.87195,
          542.35895,
          542.39557,
          543.33575,
          543.8031,
          552.3349,
          555.37781,
          555.87006,
          556.79163,
          563.37341,
          563.87756,
          564.383,
          564.69354,
          564.88458,
          569.3631,
          570.34674,
          570.87506,
          584.87219,
          585.35706,
          585.40387,
          586.37109,
          587.37323,
          588.37634,
          598.35217,
          613.38367,
          621.89655,
          637.33191,
          637.36688,
          638.44727,
          642.39893,
          645.40594,
          663.41626,
          668.43152,
          669.41516,
          677.41351,
          685.48297,
          686.44202,
          687.44476,
          696.42731,
          709.40759,
          724.43884,
          724.49622,
          727.93555,
          741.93488,
          744.42468,
          752.48969,
          753.4729,
          755.38751,
          769.51929,
          770.49878,
          772.41882,
          774.38983,
          782.49982,
          799.52612,
          800.52985,
          809.50952,
          813.50543,
          814.51892,
          819.51971,
          822.49426,
          856.43958,
          873.46387,
          881.56622,
          883.5509,
          884.43414,
          898.59448,
          898.65662,
          899.59454,
          901.45947,
          902.46686,
          903.43616,
          952.61292,
          953.60626,
          954.60693,
          955.61877,
          956.60938,
          969.63696,
          970.62994,
          971.6319,
          972.64026,
          973.63867,
          974.64166,
          986.5506,
          1088.51208
         ],
         "xaxis": "x",
         "y": [
          25439.2285,
          1646.7223,
          982.9742,
          886.4932,
          916.0654,
          979.7495,
          924.1083,
          890.1432,
          1039.2914,
          1156.694,
          216840.5625,
          57419.7109,
          232963.9062,
          1079.7272,
          185551.8281,
          150068.5469,
          213701.125,
          175202.7812,
          30559.4082,
          348759.2188,
          30982.2051,
          199917.6719,
          7342.8618,
          1223.8157,
          1309.5344,
          2086.6147,
          1599.9822,
          1614.7891,
          1027.1675,
          3903.3894,
          1723.9915,
          1675.8524,
          2991.6194,
          1782.3685,
          6400.2749,
          1470.2749,
          2639.696,
          3192.7068,
          1805.3593,
          2748.936,
          3070.1904,
          19141.2285,
          2798.0752,
          13154.6768,
          1123.8239,
          9075.5332,
          16165.5098,
          5487.5747,
          1790.1134,
          1104.2523,
          2168.4216,
          11696.4795,
          1462.6464,
          15873.5391,
          1399.2596,
          20521.084,
          4986.8076,
          1112.4915,
          1408.4691,
          1904.8712,
          1300.7677,
          7243.125,
          7304.8564,
          2101.9143,
          5710.8018,
          2478.793,
          2325.3711,
          3340.3862,
          2133.0139,
          8328.9619,
          1557.0116,
          5701.8433,
          6473.7017,
          413664.7812,
          7178.1123,
          1768.0798,
          2066.7217,
          1391.7474,
          27009.8809,
          1855.8455,
          1235.9824,
          1634.6031,
          2010.1749,
          2845.7415,
          1713.2129,
          4769.7554,
          2378.4128,
          2222.4548,
          5636.3735,
          6252.3701,
          14816.0156,
          2342.6243,
          4268.3833,
          159118.4531,
          2620.9375,
          5138.3901,
          1590.1031,
          7912.8799,
          2580.2986,
          16583.5703,
          294487.4688,
          7788.1147,
          10279.0137,
          2492.7109,
          2677.4841,
          4081.0605,
          4425.0117,
          1839.7439,
          7897.7168,
          1585.0095,
          6753.6421,
          1495.2528,
          4061.1079,
          1539.0902,
          7002.2402,
          1599.1389,
          4281.4517,
          3522.5073,
          7520.3286,
          1701.7926,
          121995.6797,
          3784.6526,
          6219.4185,
          1737.578,
          1666.3118,
          2379.6855,
          6993.2861,
          1882.8671,
          5352.7798,
          6445.6665,
          1748.0016,
          7426.3984,
          43997.9336,
          2166.0132,
          4008.1963,
          2169.1221,
          2658.7798,
          1849.1078,
          20176.8105,
          43418.1523,
          14784.6436,
          16376.1328,
          33270.8125,
          22342.9824,
          3416.1912,
          2585.283,
          16104.7998,
          483527.2812,
          6741.7554,
          19881.9922,
          15507.124,
          2231.4414,
          1365.5175,
          1386.9229,
          2880.0559,
          2651.6392,
          15287.585,
          8549.4941,
          2438.6479,
          2757.1213,
          50731.1445,
          4323.229,
          2306.6792,
          5105.9321,
          9872.5332,
          4976.8691,
          70059.4766,
          4851.6641,
          1595.3026,
          3376.1543,
          9533.1445,
          3351.2627,
          4176.8242,
          3577.9695,
          3725.3279,
          377406.75,
          2601.7065,
          1834.9636,
          19975.375,
          12620.4678,
          1513.9913,
          1643.3059,
          2294.0076,
          12590.7705,
          1419.0052,
          2282.4158,
          2168.2839,
          709076.25,
          2373.8257,
          77037.8281,
          14947.8887,
          21473.3652,
          2950.0842,
          2975.6084,
          2291.9446,
          1769.6166,
          9257.9082,
          886444.875,
          46066.4062,
          1955.5013,
          6215.4438,
          4082.5085,
          13899.7119,
          1839.2744,
          1643.1732,
          4550.9224,
          1918.9894,
          3971.0366,
          3803.5029,
          3777.927,
          4755.4067,
          8494.9307,
          140647.3906,
          9019.3281,
          3769.9414,
          2991.9358,
          1859.7277,
          4340.4844,
          2945.449,
          6623.9468,
          2525.406,
          12547.3545,
          9544.7754,
          2583.5542,
          2061.4365,
          15344.6279,
          4090.7686,
          4764.0786,
          3253.2888,
          117193.1328,
          9936.5732,
          3713.4524,
          2805.4966,
          1784.1154,
          2539.55,
          1705.4717,
          2269.9927,
          8100.6626,
          1995.119,
          2247.9377,
          2869.2249,
          36650.4258,
          2584.4641,
          3208.05,
          8427.7803,
          2234.2502,
          2253.7913,
          7866.7148,
          8106.8599,
          2044.4741,
          3984.0481,
          3227.2605,
          41936.6914,
          130124.9609,
          38104.0586,
          41140.2617,
          83469.3359,
          6498.1094,
          2102.2896,
          3080.9768
         ],
         "yaxis": "y"
        }
       ],
       "layout": {
        "autosize": true,
        "barmode": "relative",
        "legend": {
         "tracegroupgap": 0
        },
        "margin": {
         "t": 60
        },
        "template": {
         "data": {
          "bar": [
           {
            "error_x": {
             "color": "#2a3f5f"
            },
            "error_y": {
             "color": "#2a3f5f"
            },
            "marker": {
             "line": {
              "color": "#E5ECF6",
              "width": 0.5
             }
            },
            "type": "bar"
           }
          ],
          "barpolar": [
           {
            "marker": {
             "line": {
              "color": "#E5ECF6",
              "width": 0.5
             }
            },
            "type": "barpolar"
           }
          ],
          "carpet": [
           {
            "aaxis": {
             "endlinecolor": "#2a3f5f",
             "gridcolor": "white",
             "linecolor": "white",
             "minorgridcolor": "white",
             "startlinecolor": "#2a3f5f"
            },
            "baxis": {
             "endlinecolor": "#2a3f5f",
             "gridcolor": "white",
             "linecolor": "white",
             "minorgridcolor": "white",
             "startlinecolor": "#2a3f5f"
            },
            "type": "carpet"
           }
          ],
          "choropleth": [
           {
            "colorbar": {
             "outlinewidth": 0,
             "ticks": ""
            },
            "type": "choropleth"
           }
          ],
          "contour": [
           {
            "colorbar": {
             "outlinewidth": 0,
             "ticks": ""
            },
            "colorscale": [
             [
              0,
              "#0d0887"
             ],
             [
              0.1111111111111111,
              "#46039f"
             ],
             [
              0.2222222222222222,
              "#7201a8"
             ],
             [
              0.3333333333333333,
              "#9c179e"
             ],
             [
              0.4444444444444444,
              "#bd3786"
             ],
             [
              0.5555555555555556,
              "#d8576b"
             ],
             [
              0.6666666666666666,
              "#ed7953"
             ],
             [
              0.7777777777777778,
              "#fb9f3a"
             ],
             [
              0.8888888888888888,
              "#fdca26"
             ],
             [
              1,
              "#f0f921"
             ]
            ],
            "type": "contour"
           }
          ],
          "contourcarpet": [
           {
            "colorbar": {
             "outlinewidth": 0,
             "ticks": ""
            },
            "type": "contourcarpet"
           }
          ],
          "heatmap": [
           {
            "colorbar": {
             "outlinewidth": 0,
             "ticks": ""
            },
            "colorscale": [
             [
              0,
              "#0d0887"
             ],
             [
              0.1111111111111111,
              "#46039f"
             ],
             [
              0.2222222222222222,
              "#7201a8"
             ],
             [
              0.3333333333333333,
              "#9c179e"
             ],
             [
              0.4444444444444444,
              "#bd3786"
             ],
             [
              0.5555555555555556,
              "#d8576b"
             ],
             [
              0.6666666666666666,
              "#ed7953"
             ],
             [
              0.7777777777777778,
              "#fb9f3a"
             ],
             [
              0.8888888888888888,
              "#fdca26"
             ],
             [
              1,
              "#f0f921"
             ]
            ],
            "type": "heatmap"
           }
          ],
          "heatmapgl": [
           {
            "colorbar": {
             "outlinewidth": 0,
             "ticks": ""
            },
            "colorscale": [
             [
              0,
              "#0d0887"
             ],
             [
              0.1111111111111111,
              "#46039f"
             ],
             [
              0.2222222222222222,
              "#7201a8"
             ],
             [
              0.3333333333333333,
              "#9c179e"
             ],
             [
              0.4444444444444444,
              "#bd3786"
             ],
             [
              0.5555555555555556,
              "#d8576b"
             ],
             [
              0.6666666666666666,
              "#ed7953"
             ],
             [
              0.7777777777777778,
              "#fb9f3a"
             ],
             [
              0.8888888888888888,
              "#fdca26"
             ],
             [
              1,
              "#f0f921"
             ]
            ],
            "type": "heatmapgl"
           }
          ],
          "histogram": [
           {
            "marker": {
             "colorbar": {
              "outlinewidth": 0,
              "ticks": ""
             }
            },
            "type": "histogram"
           }
          ],
          "histogram2d": [
           {
            "colorbar": {
             "outlinewidth": 0,
             "ticks": ""
            },
            "colorscale": [
             [
              0,
              "#0d0887"
             ],
             [
              0.1111111111111111,
              "#46039f"
             ],
             [
              0.2222222222222222,
              "#7201a8"
             ],
             [
              0.3333333333333333,
              "#9c179e"
             ],
             [
              0.4444444444444444,
              "#bd3786"
             ],
             [
              0.5555555555555556,
              "#d8576b"
             ],
             [
              0.6666666666666666,
              "#ed7953"
             ],
             [
              0.7777777777777778,
              "#fb9f3a"
             ],
             [
              0.8888888888888888,
              "#fdca26"
             ],
             [
              1,
              "#f0f921"
             ]
            ],
            "type": "histogram2d"
           }
          ],
          "histogram2dcontour": [
           {
            "colorbar": {
             "outlinewidth": 0,
             "ticks": ""
            },
            "colorscale": [
             [
              0,
              "#0d0887"
             ],
             [
              0.1111111111111111,
              "#46039f"
             ],
             [
              0.2222222222222222,
              "#7201a8"
             ],
             [
              0.3333333333333333,
              "#9c179e"
             ],
             [
              0.4444444444444444,
              "#bd3786"
             ],
             [
              0.5555555555555556,
              "#d8576b"
             ],
             [
              0.6666666666666666,
              "#ed7953"
             ],
             [
              0.7777777777777778,
              "#fb9f3a"
             ],
             [
              0.8888888888888888,
              "#fdca26"
             ],
             [
              1,
              "#f0f921"
             ]
            ],
            "type": "histogram2dcontour"
           }
          ],
          "mesh3d": [
           {
            "colorbar": {
             "outlinewidth": 0,
             "ticks": ""
            },
            "type": "mesh3d"
           }
          ],
          "parcoords": [
           {
            "line": {
             "colorbar": {
              "outlinewidth": 0,
              "ticks": ""
             }
            },
            "type": "parcoords"
           }
          ],
          "pie": [
           {
            "automargin": true,
            "type": "pie"
           }
          ],
          "scatter": [
           {
            "marker": {
             "colorbar": {
              "outlinewidth": 0,
              "ticks": ""
             }
            },
            "type": "scatter"
           }
          ],
          "scatter3d": [
           {
            "line": {
             "colorbar": {
              "outlinewidth": 0,
              "ticks": ""
             }
            },
            "marker": {
             "colorbar": {
              "outlinewidth": 0,
              "ticks": ""
             }
            },
            "type": "scatter3d"
           }
          ],
          "scattercarpet": [
           {
            "marker": {
             "colorbar": {
              "outlinewidth": 0,
              "ticks": ""
             }
            },
            "type": "scattercarpet"
           }
          ],
          "scattergeo": [
           {
            "marker": {
             "colorbar": {
              "outlinewidth": 0,
              "ticks": ""
             }
            },
            "type": "scattergeo"
           }
          ],
          "scattergl": [
           {
            "marker": {
             "colorbar": {
              "outlinewidth": 0,
              "ticks": ""
             }
            },
            "type": "scattergl"
           }
          ],
          "scattermapbox": [
           {
            "marker": {
             "colorbar": {
              "outlinewidth": 0,
              "ticks": ""
             }
            },
            "type": "scattermapbox"
           }
          ],
          "scatterpolar": [
           {
            "marker": {
             "colorbar": {
              "outlinewidth": 0,
              "ticks": ""
             }
            },
            "type": "scatterpolar"
           }
          ],
          "scatterpolargl": [
           {
            "marker": {
             "colorbar": {
              "outlinewidth": 0,
              "ticks": ""
             }
            },
            "type": "scatterpolargl"
           }
          ],
          "scatterternary": [
           {
            "marker": {
             "colorbar": {
              "outlinewidth": 0,
              "ticks": ""
             }
            },
            "type": "scatterternary"
           }
          ],
          "surface": [
           {
            "colorbar": {
             "outlinewidth": 0,
             "ticks": ""
            },
            "colorscale": [
             [
              0,
              "#0d0887"
             ],
             [
              0.1111111111111111,
              "#46039f"
             ],
             [
              0.2222222222222222,
              "#7201a8"
             ],
             [
              0.3333333333333333,
              "#9c179e"
             ],
             [
              0.4444444444444444,
              "#bd3786"
             ],
             [
              0.5555555555555556,
              "#d8576b"
             ],
             [
              0.6666666666666666,
              "#ed7953"
             ],
             [
              0.7777777777777778,
              "#fb9f3a"
             ],
             [
              0.8888888888888888,
              "#fdca26"
             ],
             [
              1,
              "#f0f921"
             ]
            ],
            "type": "surface"
           }
          ],
          "table": [
           {
            "cells": {
             "fill": {
              "color": "#EBF0F8"
             },
             "line": {
              "color": "white"
             }
            },
            "header": {
             "fill": {
              "color": "#C8D4E3"
             },
             "line": {
              "color": "white"
             }
            },
            "type": "table"
           }
          ]
         },
         "layout": {
          "annotationdefaults": {
           "arrowcolor": "#2a3f5f",
           "arrowhead": 0,
           "arrowwidth": 1
          },
          "coloraxis": {
           "colorbar": {
            "outlinewidth": 0,
            "ticks": ""
           }
          },
          "colorscale": {
           "diverging": [
            [
             0,
             "#8e0152"
            ],
            [
             0.1,
             "#c51b7d"
            ],
            [
             0.2,
             "#de77ae"
            ],
            [
             0.3,
             "#f1b6da"
            ],
            [
             0.4,
             "#fde0ef"
            ],
            [
             0.5,
             "#f7f7f7"
            ],
            [
             0.6,
             "#e6f5d0"
            ],
            [
             0.7,
             "#b8e186"
            ],
            [
             0.8,
             "#7fbc41"
            ],
            [
             0.9,
             "#4d9221"
            ],
            [
             1,
             "#276419"
            ]
           ],
           "sequential": [
            [
             0,
             "#0d0887"
            ],
            [
             0.1111111111111111,
             "#46039f"
            ],
            [
             0.2222222222222222,
             "#7201a8"
            ],
            [
             0.3333333333333333,
             "#9c179e"
            ],
            [
             0.4444444444444444,
             "#bd3786"
            ],
            [
             0.5555555555555556,
             "#d8576b"
            ],
            [
             0.6666666666666666,
             "#ed7953"
            ],
            [
             0.7777777777777778,
             "#fb9f3a"
            ],
            [
             0.8888888888888888,
             "#fdca26"
            ],
            [
             1,
             "#f0f921"
            ]
           ],
           "sequentialminus": [
            [
             0,
             "#0d0887"
            ],
            [
             0.1111111111111111,
             "#46039f"
            ],
            [
             0.2222222222222222,
             "#7201a8"
            ],
            [
             0.3333333333333333,
             "#9c179e"
            ],
            [
             0.4444444444444444,
             "#bd3786"
            ],
            [
             0.5555555555555556,
             "#d8576b"
            ],
            [
             0.6666666666666666,
             "#ed7953"
            ],
            [
             0.7777777777777778,
             "#fb9f3a"
            ],
            [
             0.8888888888888888,
             "#fdca26"
            ],
            [
             1,
             "#f0f921"
            ]
           ]
          },
          "colorway": [
           "#636efa",
           "#EF553B",
           "#00cc96",
           "#ab63fa",
           "#FFA15A",
           "#19d3f3",
           "#FF6692",
           "#B6E880",
           "#FF97FF",
           "#FECB52"
          ],
          "font": {
           "color": "#2a3f5f"
          },
          "geo": {
           "bgcolor": "white",
           "lakecolor": "white",
           "landcolor": "#E5ECF6",
           "showlakes": true,
           "showland": true,
           "subunitcolor": "white"
          },
          "hoverlabel": {
           "align": "left"
          },
          "hovermode": "closest",
          "mapbox": {
           "style": "light"
          },
          "paper_bgcolor": "white",
          "plot_bgcolor": "#E5ECF6",
          "polar": {
           "angularaxis": {
            "gridcolor": "white",
            "linecolor": "white",
            "ticks": ""
           },
           "bgcolor": "#E5ECF6",
           "radialaxis": {
            "gridcolor": "white",
            "linecolor": "white",
            "ticks": ""
           }
          },
          "scene": {
           "xaxis": {
            "backgroundcolor": "#E5ECF6",
            "gridcolor": "white",
            "gridwidth": 2,
            "linecolor": "white",
            "showbackground": true,
            "ticks": "",
            "zerolinecolor": "white"
           },
           "yaxis": {
            "backgroundcolor": "#E5ECF6",
            "gridcolor": "white",
            "gridwidth": 2,
            "linecolor": "white",
            "showbackground": true,
            "ticks": "",
            "zerolinecolor": "white"
           },
           "zaxis": {
            "backgroundcolor": "#E5ECF6",
            "gridcolor": "white",
            "gridwidth": 2,
            "linecolor": "white",
            "showbackground": true,
            "ticks": "",
            "zerolinecolor": "white"
           }
          },
          "shapedefaults": {
           "line": {
            "color": "#2a3f5f"
           }
          },
          "ternary": {
           "aaxis": {
            "gridcolor": "white",
            "linecolor": "white",
            "ticks": ""
           },
           "baxis": {
            "gridcolor": "white",
            "linecolor": "white",
            "ticks": ""
           },
           "bgcolor": "#E5ECF6",
           "caxis": {
            "gridcolor": "white",
            "linecolor": "white",
            "ticks": ""
           }
          },
          "title": {
           "x": 0.05
          },
          "xaxis": {
           "automargin": true,
           "gridcolor": "white",
           "linecolor": "white",
           "ticks": "",
           "title": {
            "standoff": 15
           },
           "zerolinecolor": "white",
           "zerolinewidth": 2
          },
          "yaxis": {
           "automargin": true,
           "gridcolor": "white",
           "linecolor": "white",
           "ticks": "",
           "title": {
            "standoff": 15
           },
           "zerolinecolor": "white",
           "zerolinewidth": 2
          }
         }
        },
        "xaxis": {
         "anchor": "y",
         "autorange": true,
         "domain": [
          0,
          1
         ],
         "range": [
          110.07022,
          1088.51332
         ],
         "title": {
          "text": "mz_array"
         },
         "type": "linear"
        },
        "yaxis": {
         "anchor": "x",
         "autorange": true,
         "domain": [
          0,
          1
         ],
         "range": [
          0,
          933099.8684210526
         ],
         "title": {
          "text": "intensity"
         },
         "type": "linear"
        }
       }
      },
      "image/png": "[encoded data removed]",
      "text/html": [
       "<div>\n",
       "        \n",
       "        \n",
       "            <div id=\"ccd13e8f-9f51-46a7-a19d-f22c06b8bca3\" class=\"plotly-graph-div\" style=\"height:525px; width:100%;\"></div>\n",
       "            <script type=\"text/javascript\">\n",
       "                require([\"plotly\"], function(Plotly) {\n",
       "                    window.PLOTLYENV=window.PLOTLYENV || {};\n",
       "                    \n",
       "                if (document.getElementById(\"ccd13e8f-9f51-46a7-a19d-f22c06b8bca3\")) {\n",
       "                    Plotly.newPlot(\n",
       "                        'ccd13e8f-9f51-46a7-a19d-f22c06b8bca3',\n",
       "                        [{\"alignmentgroup\": \"True\", \"hovertemplate\": \"mz_array=%{x}<br>intensity=%{y}<extra></extra>\", \"legendgroup\": \"\", \"marker\": {\"color\": \"#636efa\"}, \"name\": \"\", \"offsetgroup\": \"\", \"orientation\": \"v\", \"showlegend\": false, \"textposition\": \"auto\", \"type\": \"bar\", \"x\": [110.07146, 110.07394, 114.06616, 116.05611, 117.19048, 120.91577, 120.95947, 122.20333, 124.95992, 126.09132, 126.12793, 127.12504, 127.13126, 127.81618, 128.12834, 128.13463, 129.1317, 129.13797, 130.13513, 130.14134, 131.13846, 131.1447, 136.07591, 136.241, 143.11806, 144.1152, 145.11847, 147.12532, 152.57355, 155.12628, 156.11488, 156.12306, 158.09248, 158.12981, 158.13625, 159.13945, 167.08183, 169.13376, 169.16989, 171.11275, 172.10983, 173.14977, 174.12291, 175.11942, 175.12341, 175.15649, 176.15984, 176.16609, 178.32628, 181.37259, 184.10832, 185.16502, 186.08771, 186.15312, 186.15773, 188.15984, 188.16608, 191.88438, 195.07672, 201.12332, 204.14667, 212.10307, 213.15999, 218.15021, 219.14731, 221.10326, 221.16039, 222.15718, 229.12971, 229.16698, 229.17436, 229.18643, 230.11389, 230.17047, 231.17389, 243.67154, 246.15674, 247.19666, 248.18111, 249.09778, 252.77538, 261.15637, 265.11887, 273.13489, 284.19751, 285.19455, 286.19717, 287.20703, 288.20447, 293.1138, 294.19025, 300.241, 301.20816, 301.24435, 302.24707, 308.19284, 311.89981, 313.24463, 328.23813, 328.2554, 329.23941, 330.24271, 330.27121, 331.2554, 332.19394, 333.19107, 336.20038, 344.19864, 344.21393, 345.19827, 345.22495, 346.37073, 356.2688, 357.27197, 358.20911, 358.22705, 359.25009, 359.27762, 372.71521, 375.27289, 376.27686, 377.28046, 386.7124, 387.69873, 396.19031, 397.75159, 398.33398, 402.97363, 412.22009, 413.21857, 414.25662, 414.29291, 414.32928, 415.22943, 415.28821, 415.33295, 416.22693, 423.81348, 429.24649, 430.24493, 431.24677, 432.25629, 433.25363, 437.2363, 437.73856, 441.32031, 441.34003, 442.32413, 443.28281, 443.32718, 451.23401, 451.73526, 457.27682, 460.9834, 471.31415, 472.31009, 473.29343, 474.26828, 475.34369, 478.79694, 490.32019, 493.77884, 497.30515, 497.40259, 500.30441, 501.28891, 513.39777, 514.40149, 515.34009, 521.34192, 529.31287, 530.31702, 532.32147, 535.33789, 540.39087, 541.39282, 541.87195, 542.35895, 542.39557, 543.33575, 543.8031, 552.3349, 555.37781, 555.87006, 556.79163, 563.37341, 563.87756, 564.383, 564.69354, 564.88458, 569.3631, 570.34674, 570.87506, 584.87219, 585.35706, 585.40387, 586.37109, 587.37323, 588.37634, 598.35217, 613.38367, 621.89655, 637.33191, 637.36688, 638.44727, 642.39893, 645.40594, 663.41626, 668.43152, 669.41516, 677.41351, 685.48297, 686.44202, 687.44476, 696.42731, 709.40759, 724.43884, 724.49622, 727.93555, 741.93488, 744.42468, 752.48969, 753.4729, 755.38751, 769.51929, 770.49878, 772.41882, 774.38983, 782.49982, 799.52612, 800.52985, 809.50952, 813.50543, 814.51892, 819.51971, 822.49426, 856.43958, 873.46387, 881.56622, 883.5509, 884.43414, 898.59448, 898.65662, 899.59454, 901.45947, 902.46686, 903.43616, 952.61292, 953.60626, 954.60693, 955.61877, 956.60938, 969.63696, 970.62994, 971.6319, 972.64026, 973.63867, 974.64166, 986.5506, 1088.51208], \"xaxis\": \"x\", \"y\": [25439.2285, 1646.7223, 982.9742, 886.4932, 916.0654, 979.7495, 924.1083, 890.1432, 1039.2914, 1156.694, 216840.5625, 57419.7109, 232963.9062, 1079.7272, 185551.8281, 150068.5469, 213701.125, 175202.7812, 30559.4082, 348759.2188, 30982.2051, 199917.6719, 7342.8618, 1223.8157, 1309.5344, 2086.6147, 1599.9822, 1614.7891, 1027.1675, 3903.3894, 1723.9915, 1675.8524, 2991.6194, 1782.3685, 6400.2749, 1470.2749, 2639.696, 3192.7068, 1805.3593, 2748.936, 3070.1904, 19141.2285, 2798.0752, 13154.6768, 1123.8239, 9075.5332, 16165.5098, 5487.5747, 1790.1134, 1104.2523, 2168.4216, 11696.4795, 1462.6464, 15873.5391, 1399.2596, 20521.084, 4986.8076, 1112.4915, 1408.4691, 1904.8712, 1300.7677, 7243.125, 7304.8564, 2101.9143, 5710.8018, 2478.793, 2325.3711, 3340.3862, 2133.0139, 8328.9619, 1557.0116, 5701.8433, 6473.7017, 413664.7812, 7178.1123, 1768.0798, 2066.7217, 1391.7474, 27009.8809, 1855.8455, 1235.9824, 1634.6031, 2010.1749, 2845.7415, 1713.2129, 4769.7554, 2378.4128, 2222.4548, 5636.3735, 6252.3701, 14816.0156, 2342.6243, 4268.3833, 159118.4531, 2620.9375, 5138.3901, 1590.1031, 7912.8799, 2580.2986, 16583.5703, 294487.4688, 7788.1147, 10279.0137, 2492.7109, 2677.4841, 4081.0605, 4425.0117, 1839.7439, 7897.7168, 1585.0095, 6753.6421, 1495.2528, 4061.1079, 1539.0902, 7002.2402, 1599.1389, 4281.4517, 3522.5073, 7520.3286, 1701.7926, 121995.6797, 3784.6526, 6219.4185, 1737.578, 1666.3118, 2379.6855, 6993.2861, 1882.8671, 5352.7798, 6445.6665, 1748.0016, 7426.3984, 43997.9336, 2166.0132, 4008.1963, 2169.1221, 2658.7798, 1849.1078, 20176.8105, 43418.1523, 14784.6436, 16376.1328, 33270.8125, 22342.9824, 3416.1912, 2585.283, 16104.7998, 483527.2812, 6741.7554, 19881.9922, 15507.124, 2231.4414, 1365.5175, 1386.9229, 2880.0559, 2651.6392, 15287.585, 8549.4941, 2438.6479, 2757.1213, 50731.1445, 4323.229, 2306.6792, 5105.9321, 9872.5332, 4976.8691, 70059.4766, 4851.6641, 1595.3026, 3376.1543, 9533.1445, 3351.2627, 4176.8242, 3577.9695, 3725.3279, 377406.75, 2601.7065, 1834.9636, 19975.375, 12620.4678, 1513.9913, 1643.3059, 2294.0076, 12590.7705, 1419.0052, 2282.4158, 2168.2839, 709076.25, 2373.8257, 77037.8281, 14947.8887, 21473.3652, 2950.0842, 2975.6084, 2291.9446, 1769.6166, 9257.9082, 886444.875, 46066.4062, 1955.5013, 6215.4438, 4082.5085, 13899.7119, 1839.2744, 1643.1732, 4550.9224, 1918.9894, 3971.0366, 3803.5029, 3777.927, 4755.4067, 8494.9307, 140647.3906, 9019.3281, 3769.9414, 2991.9358, 1859.7277, 4340.4844, 2945.449, 6623.9468, 2525.406, 12547.3545, 9544.7754, 2583.5542, 2061.4365, 15344.6279, 4090.7686, 4764.0786, 3253.2888, 117193.1328, 9936.5732, 3713.4524, 2805.4966, 1784.1154, 2539.55, 1705.4717, 2269.9927, 8100.6626, 1995.119, 2247.9377, 2869.2249, 36650.4258, 2584.4641, 3208.05, 8427.7803, 2234.2502, 2253.7913, 7866.7148, 8106.8599, 2044.4741, 3984.0481, 3227.2605, 41936.6914, 130124.9609, 38104.0586, 41140.2617, 83469.3359, 6498.1094, 2102.2896, 3080.9768], \"yaxis\": \"y\"}],\n",
       "                        {\"barmode\": \"relative\", \"legend\": {\"tracegroupgap\": 0}, \"margin\": {\"t\": 60}, \"template\": {\"data\": {\"bar\": [{\"error_x\": {\"color\": \"#2a3f5f\"}, \"error_y\": {\"color\": \"#2a3f5f\"}, \"marker\": {\"line\": {\"color\": \"#E5ECF6\", \"width\": 0.5}}, \"type\": \"bar\"}], \"barpolar\": [{\"marker\": {\"line\": {\"color\": \"#E5ECF6\", \"width\": 0.5}}, \"type\": \"barpolar\"}], \"carpet\": [{\"aaxis\": {\"endlinecolor\": \"#2a3f5f\", \"gridcolor\": \"white\", \"linecolor\": \"white\", \"minorgridcolor\": \"white\", \"startlinecolor\": \"#2a3f5f\"}, \"baxis\": {\"endlinecolor\": \"#2a3f5f\", \"gridcolor\": \"white\", \"linecolor\": \"white\", \"minorgridcolor\": \"white\", \"startlinecolor\": \"#2a3f5f\"}, \"type\": \"carpet\"}], \"choropleth\": [{\"colorbar\": {\"outlinewidth\": 0, \"ticks\": \"\"}, \"type\": \"choropleth\"}], \"contour\": [{\"colorbar\": {\"outlinewidth\": 0, \"ticks\": \"\"}, \"colorscale\": [[0.0, \"#0d0887\"], [0.1111111111111111, \"#46039f\"], [0.2222222222222222, \"#7201a8\"], [0.3333333333333333, \"#9c179e\"], [0.4444444444444444, \"#bd3786\"], [0.5555555555555556, \"#d8576b\"], [0.6666666666666666, \"#ed7953\"], [0.7777777777777778, \"#fb9f3a\"], [0.8888888888888888, \"#fdca26\"], [1.0, \"#f0f921\"]], \"type\": \"contour\"}], \"contourcarpet\": [{\"colorbar\": {\"outlinewidth\": 0, \"ticks\": \"\"}, \"type\": \"contourcarpet\"}], \"heatmap\": [{\"colorbar\": {\"outlinewidth\": 0, \"ticks\": \"\"}, \"colorscale\": [[0.0, \"#0d0887\"], [0.1111111111111111, \"#46039f\"], [0.2222222222222222, \"#7201a8\"], [0.3333333333333333, \"#9c179e\"], [0.4444444444444444, \"#bd3786\"], [0.5555555555555556, \"#d8576b\"], [0.6666666666666666, \"#ed7953\"], [0.7777777777777778, \"#fb9f3a\"], [0.8888888888888888, \"#fdca26\"], [1.0, \"#f0f921\"]], \"type\": \"heatmap\"}], \"heatmapgl\": [{\"colorbar\": {\"outlinewidth\": 0, \"ticks\": \"\"}, \"colorscale\": [[0.0, \"#0d0887\"], [0.1111111111111111, \"#46039f\"], [0.2222222222222222, \"#7201a8\"], [0.3333333333333333, \"#9c179e\"], [0.4444444444444444, \"#bd3786\"], [0.5555555555555556, \"#d8576b\"], [0.6666666666666666, \"#ed7953\"], [0.7777777777777778, \"#fb9f3a\"], [0.8888888888888888, \"#fdca26\"], [1.0, \"#f0f921\"]], \"type\": \"heatmapgl\"}], \"histogram\": [{\"marker\": {\"colorbar\": {\"outlinewidth\": 0, \"ticks\": \"\"}}, \"type\": \"histogram\"}], \"histogram2d\": [{\"colorbar\": {\"outlinewidth\": 0, \"ticks\": \"\"}, \"colorscale\": [[0.0, \"#0d0887\"], [0.1111111111111111, \"#46039f\"], [0.2222222222222222, \"#7201a8\"], [0.3333333333333333, \"#9c179e\"], [0.4444444444444444, \"#bd3786\"], [0.5555555555555556, \"#d8576b\"], [0.6666666666666666, \"#ed7953\"], [0.7777777777777778, \"#fb9f3a\"], [0.8888888888888888, \"#fdca26\"], [1.0, \"#f0f921\"]], \"type\": \"histogram2d\"}], \"histogram2dcontour\": [{\"colorbar\": {\"outlinewidth\": 0, \"ticks\": \"\"}, \"colorscale\": [[0.0, \"#0d0887\"], [0.1111111111111111, \"#46039f\"], [0.2222222222222222, \"#7201a8\"], [0.3333333333333333, \"#9c179e\"], [0.4444444444444444, \"#bd3786\"], [0.5555555555555556, \"#d8576b\"], [0.6666666666666666, \"#ed7953\"], [0.7777777777777778, \"#fb9f3a\"], [0.8888888888888888, \"#fdca26\"], [1.0, \"#f0f921\"]], \"type\": \"histogram2dcontour\"}], \"mesh3d\": [{\"colorbar\": {\"outlinewidth\": 0, \"ticks\": \"\"}, \"type\": \"mesh3d\"}], \"parcoords\": [{\"line\": {\"colorbar\": {\"outlinewidth\": 0, \"ticks\": \"\"}}, \"type\": \"parcoords\"}], \"pie\": [{\"automargin\": true, \"type\": \"pie\"}], \"scatter\": [{\"marker\": {\"colorbar\": {\"outlinewidth\": 0, \"ticks\": \"\"}}, \"type\": \"scatter\"}], \"scatter3d\": [{\"line\": {\"colorbar\": {\"outlinewidth\": 0, \"ticks\": \"\"}}, \"marker\": {\"colorbar\": {\"outlinewidth\": 0, \"ticks\": \"\"}}, \"type\": \"scatter3d\"}], \"scattercarpet\": [{\"marker\": {\"colorbar\": {\"outlinewidth\": 0, \"ticks\": \"\"}}, \"type\": \"scattercarpet\"}], \"scattergeo\": [{\"marker\": {\"colorbar\": {\"outlinewidth\": 0, \"ticks\": \"\"}}, \"type\": \"scattergeo\"}], \"scattergl\": [{\"marker\": {\"colorbar\": {\"outlinewidth\": 0, \"ticks\": \"\"}}, \"type\": \"scattergl\"}], \"scattermapbox\": [{\"marker\": {\"colorbar\": {\"outlinewidth\": 0, \"ticks\": \"\"}}, \"type\": \"scattermapbox\"}], \"scatterpolar\": [{\"marker\": {\"colorbar\": {\"outlinewidth\": 0, \"ticks\": \"\"}}, \"type\": \"scatterpolar\"}], \"scatterpolargl\": [{\"marker\": {\"colorbar\": {\"outlinewidth\": 0, \"ticks\": \"\"}}, \"type\": \"scatterpolargl\"}], \"scatterternary\": [{\"marker\": {\"colorbar\": {\"outlinewidth\": 0, \"ticks\": \"\"}}, \"type\": \"scatterternary\"}], \"surface\": [{\"colorbar\": {\"outlinewidth\": 0, \"ticks\": \"\"}, \"colorscale\": [[0.0, \"#0d0887\"], [0.1111111111111111, \"#46039f\"], [0.2222222222222222, \"#7201a8\"], [0.3333333333333333, \"#9c179e\"], [0.4444444444444444, \"#bd3786\"], [0.5555555555555556, \"#d8576b\"], [0.6666666666666666, \"#ed7953\"], [0.7777777777777778, \"#fb9f3a\"], [0.8888888888888888, \"#fdca26\"], [1.0, \"#f0f921\"]], \"type\": \"surface\"}], \"table\": [{\"cells\": {\"fill\": {\"color\": \"#EBF0F8\"}, \"line\": {\"color\": \"white\"}}, \"header\": {\"fill\": {\"color\": \"#C8D4E3\"}, \"line\": {\"color\": \"white\"}}, \"type\": \"table\"}]}, \"layout\": {\"annotationdefaults\": {\"arrowcolor\": \"#2a3f5f\", \"arrowhead\": 0, \"arrowwidth\": 1}, \"coloraxis\": {\"colorbar\": {\"outlinewidth\": 0, \"ticks\": \"\"}}, \"colorscale\": {\"diverging\": [[0, \"#8e0152\"], [0.1, \"#c51b7d\"], [0.2, \"#de77ae\"], [0.3, \"#f1b6da\"], [0.4, \"#fde0ef\"], [0.5, \"#f7f7f7\"], [0.6, \"#e6f5d0\"], [0.7, \"#b8e186\"], [0.8, \"#7fbc41\"], [0.9, \"#4d9221\"], [1, \"#276419\"]], \"sequential\": [[0.0, \"#0d0887\"], [0.1111111111111111, \"#46039f\"], [0.2222222222222222, \"#7201a8\"], [0.3333333333333333, \"#9c179e\"], [0.4444444444444444, \"#bd3786\"], [0.5555555555555556, \"#d8576b\"], [0.6666666666666666, \"#ed7953\"], [0.7777777777777778, \"#fb9f3a\"], [0.8888888888888888, \"#fdca26\"], [1.0, \"#f0f921\"]], \"sequentialminus\": [[0.0, \"#0d0887\"], [0.1111111111111111, \"#46039f\"], [0.2222222222222222, \"#7201a8\"], [0.3333333333333333, \"#9c179e\"], [0.4444444444444444, \"#bd3786\"], [0.5555555555555556, \"#d8576b\"], [0.6666666666666666, \"#ed7953\"], [0.7777777777777778, \"#fb9f3a\"], [0.8888888888888888, \"#fdca26\"], [1.0, \"#f0f921\"]]}, \"colorway\": [\"#636efa\", \"#EF553B\", \"#00cc96\", \"#ab63fa\", \"#FFA15A\", \"#19d3f3\", \"#FF6692\", \"#B6E880\", \"#FF97FF\", \"#FECB52\"], \"font\": {\"color\": \"#2a3f5f\"}, \"geo\": {\"bgcolor\": \"white\", \"lakecolor\": \"white\", \"landcolor\": \"#E5ECF6\", \"showlakes\": true, \"showland\": true, \"subunitcolor\": \"white\"}, \"hoverlabel\": {\"align\": \"left\"}, \"hovermode\": \"closest\", \"mapbox\": {\"style\": \"light\"}, \"paper_bgcolor\": \"white\", \"plot_bgcolor\": \"#E5ECF6\", \"polar\": {\"angularaxis\": {\"gridcolor\": \"white\", \"linecolor\": \"white\", \"ticks\": \"\"}, \"bgcolor\": \"#E5ECF6\", \"radialaxis\": {\"gridcolor\": \"white\", \"linecolor\": \"white\", \"ticks\": \"\"}}, \"scene\": {\"xaxis\": {\"backgroundcolor\": \"#E5ECF6\", \"gridcolor\": \"white\", \"gridwidth\": 2, \"linecolor\": \"white\", \"showbackground\": true, \"ticks\": \"\", \"zerolinecolor\": \"white\"}, \"yaxis\": {\"backgroundcolor\": \"#E5ECF6\", \"gridcolor\": \"white\", \"gridwidth\": 2, \"linecolor\": \"white\", \"showbackground\": true, \"ticks\": \"\", \"zerolinecolor\": \"white\"}, \"zaxis\": {\"backgroundcolor\": \"#E5ECF6\", \"gridcolor\": \"white\", \"gridwidth\": 2, \"linecolor\": \"white\", \"showbackground\": true, \"ticks\": \"\", \"zerolinecolor\": \"white\"}}, \"shapedefaults\": {\"line\": {\"color\": \"#2a3f5f\"}}, \"ternary\": {\"aaxis\": {\"gridcolor\": \"white\", \"linecolor\": \"white\", \"ticks\": \"\"}, \"baxis\": {\"gridcolor\": \"white\", \"linecolor\": \"white\", \"ticks\": \"\"}, \"bgcolor\": \"#E5ECF6\", \"caxis\": {\"gridcolor\": \"white\", \"linecolor\": \"white\", \"ticks\": \"\"}}, \"title\": {\"x\": 0.05}, \"xaxis\": {\"automargin\": true, \"gridcolor\": \"white\", \"linecolor\": \"white\", \"ticks\": \"\", \"title\": {\"standoff\": 15}, \"zerolinecolor\": \"white\", \"zerolinewidth\": 2}, \"yaxis\": {\"automargin\": true, \"gridcolor\": \"white\", \"linecolor\": \"white\", \"ticks\": \"\", \"title\": {\"standoff\": 15}, \"zerolinecolor\": \"white\", \"zerolinewidth\": 2}}}, \"xaxis\": {\"anchor\": \"y\", \"domain\": [0.0, 1.0], \"title\": {\"text\": \"mz_array\"}}, \"yaxis\": {\"anchor\": \"x\", \"domain\": [0.0, 1.0], \"title\": {\"text\": \"intensity\"}}},\n",
       "                        {\"responsive\": true}\n",
       "                    ).then(function(){\n",
       "                            \n",
       "var gd = document.getElementById('ccd13e8f-9f51-46a7-a19d-f22c06b8bca3');\n",
       "var x = new MutationObserver(function (mutations, observer) {{\n",
       "        var display = window.getComputedStyle(gd).display;\n",
       "        if (!display || display === 'none') {{\n",
       "            console.log([gd, 'removed!']);\n",
       "            Plotly.purge(gd);\n",
       "            observer.disconnect();\n",
       "        }}\n",
       "}});\n",
       "\n",
       "// Listen for the removal of the full notebook cells\n",
       "var notebookContainer = gd.closest('#notebook-container');\n",
       "if (notebookContainer) {{\n",
       "    x.observe(notebookContainer, {childList: true});\n",
       "}}\n",
       "\n",
       "// Listen for the clearing of the current output cell\n",
       "var outputEl = gd.closest('.output');\n",
       "if (outputEl) {{\n",
       "    x.observe(outputEl, {childList: true});\n",
       "}}\n",
       "\n",
       "                        })\n",
       "                };\n",
       "                });\n",
       "            </script>\n",
       "        </div>"
      ]
     },
     "metadata": {},
     "output_type": "display_data"
    }
   ],
   "source": [
    "fig = px.bar(df, x='mz_array', y='intensity')\n",
    "fig.show()"
   ]
  },
  {
   "cell_type": "code",
   "execution_count": 160,
   "metadata": {},
   "outputs": [
    {
     "data": {
      "application/vnd.plotly.v1+json": {
       "config": {
        "plotlyServerURL": "https://plot.ly"
       },
       "data": [
        {
         "type": "bar",
         "width": 1.5,
         "x": [
          110.07146,
          110.07394,
          114.06616,
          116.05611,
          117.19048,
          120.91577,
          120.95947,
          122.20333,
          124.95992,
          126.09132,
          126.12793,
          127.12504,
          127.13126,
          127.81618,
          128.12834,
          128.13463,
          129.1317,
          129.13797,
          130.13513,
          130.14134,
          131.13846,
          131.1447,
          136.07591,
          136.241,
          143.11806,
          144.1152,
          145.11847,
          147.12532,
          152.57355,
          155.12628,
          156.11488,
          156.12306,
          158.09248,
          158.12981,
          158.13625,
          159.13945,
          167.08183,
          169.13376,
          169.16989,
          171.11275,
          172.10983,
          173.14977,
          174.12291,
          175.11942,
          175.12341,
          175.15649,
          176.15984,
          176.16609,
          178.32628,
          181.37259,
          184.10832,
          185.16502,
          186.08771,
          186.15312,
          186.15773,
          188.15984,
          188.16608,
          191.88438,
          195.07672,
          201.12332,
          204.14667,
          212.10307,
          213.15999,
          218.15021,
          219.14731,
          221.10326,
          221.16039,
          222.15718,
          229.12971,
          229.16698,
          229.17436,
          229.18643,
          230.11389,
          230.17047,
          231.17389,
          243.67154,
          246.15674,
          247.19666,
          248.18111,
          249.09778,
          252.77538,
          261.15637,
          265.11887,
          273.13489,
          284.19751,
          285.19455,
          286.19717,
          287.20703,
          288.20447,
          293.1138,
          294.19025,
          300.241,
          301.20816,
          301.24435,
          302.24707,
          308.19284,
          311.89981,
          313.24463,
          328.23813,
          328.2554,
          329.23941,
          330.24271,
          330.27121,
          331.2554,
          332.19394,
          333.19107,
          336.20038,
          344.19864,
          344.21393,
          345.19827,
          345.22495,
          346.37073,
          356.2688,
          357.27197,
          358.20911,
          358.22705,
          359.25009,
          359.27762,
          372.71521,
          375.27289,
          376.27686,
          377.28046,
          386.7124,
          387.69873,
          396.19031,
          397.75159,
          398.33398,
          402.97363,
          412.22009,
          413.21857,
          414.25662,
          414.29291,
          414.32928,
          415.22943,
          415.28821,
          415.33295,
          416.22693,
          423.81348,
          429.24649,
          430.24493,
          431.24677,
          432.25629,
          433.25363,
          437.2363,
          437.73856,
          441.32031,
          441.34003,
          442.32413,
          443.28281,
          443.32718,
          451.23401,
          451.73526,
          457.27682,
          460.9834,
          471.31415,
          472.31009,
          473.29343,
          474.26828,
          475.34369,
          478.79694,
          490.32019,
          493.77884,
          497.30515,
          497.40259,
          500.30441,
          501.28891,
          513.39777,
          514.40149,
          515.34009,
          521.34192,
          529.31287,
          530.31702,
          532.32147,
          535.33789,
          540.39087,
          541.39282,
          541.87195,
          542.35895,
          542.39557,
          543.33575,
          543.8031,
          552.3349,
          555.37781,
          555.87006,
          556.79163,
          563.37341,
          563.87756,
          564.383,
          564.69354,
          564.88458,
          569.3631,
          570.34674,
          570.87506,
          584.87219,
          585.35706,
          585.40387,
          586.37109,
          587.37323,
          588.37634,
          598.35217,
          613.38367,
          621.89655,
          637.33191,
          637.36688,
          638.44727,
          642.39893,
          645.40594,
          663.41626,
          668.43152,
          669.41516,
          677.41351,
          685.48297,
          686.44202,
          687.44476,
          696.42731,
          709.40759,
          724.43884,
          724.49622,
          727.93555,
          741.93488,
          744.42468,
          752.48969,
          753.4729,
          755.38751,
          769.51929,
          770.49878,
          772.41882,
          774.38983,
          782.49982,
          799.52612,
          800.52985,
          809.50952,
          813.50543,
          814.51892,
          819.51971,
          822.49426,
          856.43958,
          873.46387,
          881.56622,
          883.5509,
          884.43414,
          898.59448,
          898.65662,
          899.59454,
          901.45947,
          902.46686,
          903.43616,
          952.61292,
          953.60626,
          954.60693,
          955.61877,
          956.60938,
          969.63696,
          970.62994,
          971.6319,
          972.64026,
          973.63867,
          974.64166,
          986.5506,
          1088.51208
         ],
         "y": [
          25439.2285,
          1646.7223,
          982.9742,
          886.4932,
          916.0654,
          979.7495,
          924.1083,
          890.1432,
          1039.2914,
          1156.694,
          216840.5625,
          57419.7109,
          232963.9062,
          1079.7272,
          185551.8281,
          150068.5469,
          213701.125,
          175202.7812,
          30559.4082,
          348759.2188,
          30982.2051,
          199917.6719,
          7342.8618,
          1223.8157,
          1309.5344,
          2086.6147,
          1599.9822,
          1614.7891,
          1027.1675,
          3903.3894,
          1723.9915,
          1675.8524,
          2991.6194,
          1782.3685,
          6400.2749,
          1470.2749,
          2639.696,
          3192.7068,
          1805.3593,
          2748.936,
          3070.1904,
          19141.2285,
          2798.0752,
          13154.6768,
          1123.8239,
          9075.5332,
          16165.5098,
          5487.5747,
          1790.1134,
          1104.2523,
          2168.4216,
          11696.4795,
          1462.6464,
          15873.5391,
          1399.2596,
          20521.084,
          4986.8076,
          1112.4915,
          1408.4691,
          1904.8712,
          1300.7677,
          7243.125,
          7304.8564,
          2101.9143,
          5710.8018,
          2478.793,
          2325.3711,
          3340.3862,
          2133.0139,
          8328.9619,
          1557.0116,
          5701.8433,
          6473.7017,
          413664.7812,
          7178.1123,
          1768.0798,
          2066.7217,
          1391.7474,
          27009.8809,
          1855.8455,
          1235.9824,
          1634.6031,
          2010.1749,
          2845.7415,
          1713.2129,
          4769.7554,
          2378.4128,
          2222.4548,
          5636.3735,
          6252.3701,
          14816.0156,
          2342.6243,
          4268.3833,
          159118.4531,
          2620.9375,
          5138.3901,
          1590.1031,
          7912.8799,
          2580.2986,
          16583.5703,
          294487.4688,
          7788.1147,
          10279.0137,
          2492.7109,
          2677.4841,
          4081.0605,
          4425.0117,
          1839.7439,
          7897.7168,
          1585.0095,
          6753.6421,
          1495.2528,
          4061.1079,
          1539.0902,
          7002.2402,
          1599.1389,
          4281.4517,
          3522.5073,
          7520.3286,
          1701.7926,
          121995.6797,
          3784.6526,
          6219.4185,
          1737.578,
          1666.3118,
          2379.6855,
          6993.2861,
          1882.8671,
          5352.7798,
          6445.6665,
          1748.0016,
          7426.3984,
          43997.9336,
          2166.0132,
          4008.1963,
          2169.1221,
          2658.7798,
          1849.1078,
          20176.8105,
          43418.1523,
          14784.6436,
          16376.1328,
          33270.8125,
          22342.9824,
          3416.1912,
          2585.283,
          16104.7998,
          483527.2812,
          6741.7554,
          19881.9922,
          15507.124,
          2231.4414,
          1365.5175,
          1386.9229,
          2880.0559,
          2651.6392,
          15287.585,
          8549.4941,
          2438.6479,
          2757.1213,
          50731.1445,
          4323.229,
          2306.6792,
          5105.9321,
          9872.5332,
          4976.8691,
          70059.4766,
          4851.6641,
          1595.3026,
          3376.1543,
          9533.1445,
          3351.2627,
          4176.8242,
          3577.9695,
          3725.3279,
          377406.75,
          2601.7065,
          1834.9636,
          19975.375,
          12620.4678,
          1513.9913,
          1643.3059,
          2294.0076,
          12590.7705,
          1419.0052,
          2282.4158,
          2168.2839,
          709076.25,
          2373.8257,
          77037.8281,
          14947.8887,
          21473.3652,
          2950.0842,
          2975.6084,
          2291.9446,
          1769.6166,
          9257.9082,
          886444.875,
          46066.4062,
          1955.5013,
          6215.4438,
          4082.5085,
          13899.7119,
          1839.2744,
          1643.1732,
          4550.9224,
          1918.9894,
          3971.0366,
          3803.5029,
          3777.927,
          4755.4067,
          8494.9307,
          140647.3906,
          9019.3281,
          3769.9414,
          2991.9358,
          1859.7277,
          4340.4844,
          2945.449,
          6623.9468,
          2525.406,
          12547.3545,
          9544.7754,
          2583.5542,
          2061.4365,
          15344.6279,
          4090.7686,
          4764.0786,
          3253.2888,
          117193.1328,
          9936.5732,
          3713.4524,
          2805.4966,
          1784.1154,
          2539.55,
          1705.4717,
          2269.9927,
          8100.6626,
          1995.119,
          2247.9377,
          2869.2249,
          36650.4258,
          2584.4641,
          3208.05,
          8427.7803,
          2234.2502,
          2253.7913,
          7866.7148,
          8106.8599,
          2044.4741,
          3984.0481,
          3227.2605,
          41936.6914,
          130124.9609,
          38104.0586,
          41140.2617,
          83469.3359,
          6498.1094,
          2102.2896,
          3080.9768
         ]
        }
       ],
       "layout": {
        "autosize": true,
        "template": {
         "data": {
          "bar": [
           {
            "error_x": {
             "color": "#2a3f5f"
            },
            "error_y": {
             "color": "#2a3f5f"
            },
            "marker": {
             "line": {
              "color": "#E5ECF6",
              "width": 0.5
             }
            },
            "type": "bar"
           }
          ],
          "barpolar": [
           {
            "marker": {
             "line": {
              "color": "#E5ECF6",
              "width": 0.5
             }
            },
            "type": "barpolar"
           }
          ],
          "carpet": [
           {
            "aaxis": {
             "endlinecolor": "#2a3f5f",
             "gridcolor": "white",
             "linecolor": "white",
             "minorgridcolor": "white",
             "startlinecolor": "#2a3f5f"
            },
            "baxis": {
             "endlinecolor": "#2a3f5f",
             "gridcolor": "white",
             "linecolor": "white",
             "minorgridcolor": "white",
             "startlinecolor": "#2a3f5f"
            },
            "type": "carpet"
           }
          ],
          "choropleth": [
           {
            "colorbar": {
             "outlinewidth": 0,
             "ticks": ""
            },
            "type": "choropleth"
           }
          ],
          "contour": [
           {
            "colorbar": {
             "outlinewidth": 0,
             "ticks": ""
            },
            "colorscale": [
             [
              0,
              "#0d0887"
             ],
             [
              0.1111111111111111,
              "#46039f"
             ],
             [
              0.2222222222222222,
              "#7201a8"
             ],
             [
              0.3333333333333333,
              "#9c179e"
             ],
             [
              0.4444444444444444,
              "#bd3786"
             ],
             [
              0.5555555555555556,
              "#d8576b"
             ],
             [
              0.6666666666666666,
              "#ed7953"
             ],
             [
              0.7777777777777778,
              "#fb9f3a"
             ],
             [
              0.8888888888888888,
              "#fdca26"
             ],
             [
              1,
              "#f0f921"
             ]
            ],
            "type": "contour"
           }
          ],
          "contourcarpet": [
           {
            "colorbar": {
             "outlinewidth": 0,
             "ticks": ""
            },
            "type": "contourcarpet"
           }
          ],
          "heatmap": [
           {
            "colorbar": {
             "outlinewidth": 0,
             "ticks": ""
            },
            "colorscale": [
             [
              0,
              "#0d0887"
             ],
             [
              0.1111111111111111,
              "#46039f"
             ],
             [
              0.2222222222222222,
              "#7201a8"
             ],
             [
              0.3333333333333333,
              "#9c179e"
             ],
             [
              0.4444444444444444,
              "#bd3786"
             ],
             [
              0.5555555555555556,
              "#d8576b"
             ],
             [
              0.6666666666666666,
              "#ed7953"
             ],
             [
              0.7777777777777778,
              "#fb9f3a"
             ],
             [
              0.8888888888888888,
              "#fdca26"
             ],
             [
              1,
              "#f0f921"
             ]
            ],
            "type": "heatmap"
           }
          ],
          "heatmapgl": [
           {
            "colorbar": {
             "outlinewidth": 0,
             "ticks": ""
            },
            "colorscale": [
             [
              0,
              "#0d0887"
             ],
             [
              0.1111111111111111,
              "#46039f"
             ],
             [
              0.2222222222222222,
              "#7201a8"
             ],
             [
              0.3333333333333333,
              "#9c179e"
             ],
             [
              0.4444444444444444,
              "#bd3786"
             ],
             [
              0.5555555555555556,
              "#d8576b"
             ],
             [
              0.6666666666666666,
              "#ed7953"
             ],
             [
              0.7777777777777778,
              "#fb9f3a"
             ],
             [
              0.8888888888888888,
              "#fdca26"
             ],
             [
              1,
              "#f0f921"
             ]
            ],
            "type": "heatmapgl"
           }
          ],
          "histogram": [
           {
            "marker": {
             "colorbar": {
              "outlinewidth": 0,
              "ticks": ""
             }
            },
            "type": "histogram"
           }
          ],
          "histogram2d": [
           {
            "colorbar": {
             "outlinewidth": 0,
             "ticks": ""
            },
            "colorscale": [
             [
              0,
              "#0d0887"
             ],
             [
              0.1111111111111111,
              "#46039f"
             ],
             [
              0.2222222222222222,
              "#7201a8"
             ],
             [
              0.3333333333333333,
              "#9c179e"
             ],
             [
              0.4444444444444444,
              "#bd3786"
             ],
             [
              0.5555555555555556,
              "#d8576b"
             ],
             [
              0.6666666666666666,
              "#ed7953"
             ],
             [
              0.7777777777777778,
              "#fb9f3a"
             ],
             [
              0.8888888888888888,
              "#fdca26"
             ],
             [
              1,
              "#f0f921"
             ]
            ],
            "type": "histogram2d"
           }
          ],
          "histogram2dcontour": [
           {
            "colorbar": {
             "outlinewidth": 0,
             "ticks": ""
            },
            "colorscale": [
             [
              0,
              "#0d0887"
             ],
             [
              0.1111111111111111,
              "#46039f"
             ],
             [
              0.2222222222222222,
              "#7201a8"
             ],
             [
              0.3333333333333333,
              "#9c179e"
             ],
             [
              0.4444444444444444,
              "#bd3786"
             ],
             [
              0.5555555555555556,
              "#d8576b"
             ],
             [
              0.6666666666666666,
              "#ed7953"
             ],
             [
              0.7777777777777778,
              "#fb9f3a"
             ],
             [
              0.8888888888888888,
              "#fdca26"
             ],
             [
              1,
              "#f0f921"
             ]
            ],
            "type": "histogram2dcontour"
           }
          ],
          "mesh3d": [
           {
            "colorbar": {
             "outlinewidth": 0,
             "ticks": ""
            },
            "type": "mesh3d"
           }
          ],
          "parcoords": [
           {
            "line": {
             "colorbar": {
              "outlinewidth": 0,
              "ticks": ""
             }
            },
            "type": "parcoords"
           }
          ],
          "pie": [
           {
            "automargin": true,
            "type": "pie"
           }
          ],
          "scatter": [
           {
            "marker": {
             "colorbar": {
              "outlinewidth": 0,
              "ticks": ""
             }
            },
            "type": "scatter"
           }
          ],
          "scatter3d": [
           {
            "line": {
             "colorbar": {
              "outlinewidth": 0,
              "ticks": ""
             }
            },
            "marker": {
             "colorbar": {
              "outlinewidth": 0,
              "ticks": ""
             }
            },
            "type": "scatter3d"
           }
          ],
          "scattercarpet": [
           {
            "marker": {
             "colorbar": {
              "outlinewidth": 0,
              "ticks": ""
             }
            },
            "type": "scattercarpet"
           }
          ],
          "scattergeo": [
           {
            "marker": {
             "colorbar": {
              "outlinewidth": 0,
              "ticks": ""
             }
            },
            "type": "scattergeo"
           }
          ],
          "scattergl": [
           {
            "marker": {
             "colorbar": {
              "outlinewidth": 0,
              "ticks": ""
             }
            },
            "type": "scattergl"
           }
          ],
          "scattermapbox": [
           {
            "marker": {
             "colorbar": {
              "outlinewidth": 0,
              "ticks": ""
             }
            },
            "type": "scattermapbox"
           }
          ],
          "scatterpolar": [
           {
            "marker": {
             "colorbar": {
              "outlinewidth": 0,
              "ticks": ""
             }
            },
            "type": "scatterpolar"
           }
          ],
          "scatterpolargl": [
           {
            "marker": {
             "colorbar": {
              "outlinewidth": 0,
              "ticks": ""
             }
            },
            "type": "scatterpolargl"
           }
          ],
          "scatterternary": [
           {
            "marker": {
             "colorbar": {
              "outlinewidth": 0,
              "ticks": ""
             }
            },
            "type": "scatterternary"
           }
          ],
          "surface": [
           {
            "colorbar": {
             "outlinewidth": 0,
             "ticks": ""
            },
            "colorscale": [
             [
              0,
              "#0d0887"
             ],
             [
              0.1111111111111111,
              "#46039f"
             ],
             [
              0.2222222222222222,
              "#7201a8"
             ],
             [
              0.3333333333333333,
              "#9c179e"
             ],
             [
              0.4444444444444444,
              "#bd3786"
             ],
             [
              0.5555555555555556,
              "#d8576b"
             ],
             [
              0.6666666666666666,
              "#ed7953"
             ],
             [
              0.7777777777777778,
              "#fb9f3a"
             ],
             [
              0.8888888888888888,
              "#fdca26"
             ],
             [
              1,
              "#f0f921"
             ]
            ],
            "type": "surface"
           }
          ],
          "table": [
           {
            "cells": {
             "fill": {
              "color": "#EBF0F8"
             },
             "line": {
              "color": "white"
             }
            },
            "header": {
             "fill": {
              "color": "#C8D4E3"
             },
             "line": {
              "color": "white"
             }
            },
            "type": "table"
           }
          ]
         },
         "layout": {
          "annotationdefaults": {
           "arrowcolor": "#2a3f5f",
           "arrowhead": 0,
           "arrowwidth": 1
          },
          "coloraxis": {
           "colorbar": {
            "outlinewidth": 0,
            "ticks": ""
           }
          },
          "colorscale": {
           "diverging": [
            [
             0,
             "#8e0152"
            ],
            [
             0.1,
             "#c51b7d"
            ],
            [
             0.2,
             "#de77ae"
            ],
            [
             0.3,
             "#f1b6da"
            ],
            [
             0.4,
             "#fde0ef"
            ],
            [
             0.5,
             "#f7f7f7"
            ],
            [
             0.6,
             "#e6f5d0"
            ],
            [
             0.7,
             "#b8e186"
            ],
            [
             0.8,
             "#7fbc41"
            ],
            [
             0.9,
             "#4d9221"
            ],
            [
             1,
             "#276419"
            ]
           ],
           "sequential": [
            [
             0,
             "#0d0887"
            ],
            [
             0.1111111111111111,
             "#46039f"
            ],
            [
             0.2222222222222222,
             "#7201a8"
            ],
            [
             0.3333333333333333,
             "#9c179e"
            ],
            [
             0.4444444444444444,
             "#bd3786"
            ],
            [
             0.5555555555555556,
             "#d8576b"
            ],
            [
             0.6666666666666666,
             "#ed7953"
            ],
            [
             0.7777777777777778,
             "#fb9f3a"
            ],
            [
             0.8888888888888888,
             "#fdca26"
            ],
            [
             1,
             "#f0f921"
            ]
           ],
           "sequentialminus": [
            [
             0,
             "#0d0887"
            ],
            [
             0.1111111111111111,
             "#46039f"
            ],
            [
             0.2222222222222222,
             "#7201a8"
            ],
            [
             0.3333333333333333,
             "#9c179e"
            ],
            [
             0.4444444444444444,
             "#bd3786"
            ],
            [
             0.5555555555555556,
             "#d8576b"
            ],
            [
             0.6666666666666666,
             "#ed7953"
            ],
            [
             0.7777777777777778,
             "#fb9f3a"
            ],
            [
             0.8888888888888888,
             "#fdca26"
            ],
            [
             1,
             "#f0f921"
            ]
           ]
          },
          "colorway": [
           "#636efa",
           "#EF553B",
           "#00cc96",
           "#ab63fa",
           "#FFA15A",
           "#19d3f3",
           "#FF6692",
           "#B6E880",
           "#FF97FF",
           "#FECB52"
          ],
          "font": {
           "color": "#2a3f5f"
          },
          "geo": {
           "bgcolor": "white",
           "lakecolor": "white",
           "landcolor": "#E5ECF6",
           "showlakes": true,
           "showland": true,
           "subunitcolor": "white"
          },
          "hoverlabel": {
           "align": "left"
          },
          "hovermode": "closest",
          "mapbox": {
           "style": "light"
          },
          "paper_bgcolor": "white",
          "plot_bgcolor": "#E5ECF6",
          "polar": {
           "angularaxis": {
            "gridcolor": "white",
            "linecolor": "white",
            "ticks": ""
           },
           "bgcolor": "#E5ECF6",
           "radialaxis": {
            "gridcolor": "white",
            "linecolor": "white",
            "ticks": ""
           }
          },
          "scene": {
           "xaxis": {
            "backgroundcolor": "#E5ECF6",
            "gridcolor": "white",
            "gridwidth": 2,
            "linecolor": "white",
            "showbackground": true,
            "ticks": "",
            "zerolinecolor": "white"
           },
           "yaxis": {
            "backgroundcolor": "#E5ECF6",
            "gridcolor": "white",
            "gridwidth": 2,
            "linecolor": "white",
            "showbackground": true,
            "ticks": "",
            "zerolinecolor": "white"
           },
           "zaxis": {
            "backgroundcolor": "#E5ECF6",
            "gridcolor": "white",
            "gridwidth": 2,
            "linecolor": "white",
            "showbackground": true,
            "ticks": "",
            "zerolinecolor": "white"
           }
          },
          "shapedefaults": {
           "line": {
            "color": "#2a3f5f"
           }
          },
          "ternary": {
           "aaxis": {
            "gridcolor": "white",
            "linecolor": "white",
            "ticks": ""
           },
           "baxis": {
            "gridcolor": "white",
            "linecolor": "white",
            "ticks": ""
           },
           "bgcolor": "#E5ECF6",
           "caxis": {
            "gridcolor": "white",
            "linecolor": "white",
            "ticks": ""
           }
          },
          "title": {
           "x": 0.05
          },
          "xaxis": {
           "automargin": true,
           "gridcolor": "white",
           "linecolor": "white",
           "ticks": "",
           "title": {
            "standoff": 15
           },
           "zerolinecolor": "white",
           "zerolinewidth": 2
          },
          "yaxis": {
           "automargin": true,
           "gridcolor": "white",
           "linecolor": "white",
           "ticks": "",
           "title": {
            "standoff": 15
           },
           "zerolinecolor": "white",
           "zerolinewidth": 2
          }
         }
        },
        "xaxis": {
         "autorange": true,
         "range": [
          109.32146,
          1089.26208
         ],
         "type": "linear"
        },
        "yaxis": {
         "autorange": true,
         "range": [
          0,
          933099.8684210526
         ],
         "type": "linear"
        }
       }
      },
      "image/png": "[encoded data removed]",
      "text/html": [
       "<div>\n",
       "        \n",
       "        \n",
       "            <div id=\"8fbe4963-cf06-47d1-be8d-7bbb23506b79\" class=\"plotly-graph-div\" style=\"height:525px; width:100%;\"></div>\n",
       "            <script type=\"text/javascript\">\n",
       "                require([\"plotly\"], function(Plotly) {\n",
       "                    window.PLOTLYENV=window.PLOTLYENV || {};\n",
       "                    \n",
       "                if (document.getElementById(\"8fbe4963-cf06-47d1-be8d-7bbb23506b79\")) {\n",
       "                    Plotly.newPlot(\n",
       "                        '8fbe4963-cf06-47d1-be8d-7bbb23506b79',\n",
       "                        [{\"type\": \"bar\", \"width\": 1.5, \"x\": [110.07146, 110.07394, 114.06616, 116.05611, 117.19048, 120.91577, 120.95947, 122.20333, 124.95992, 126.09132, 126.12793, 127.12504, 127.13126, 127.81618, 128.12834, 128.13463, 129.1317, 129.13797, 130.13513, 130.14134, 131.13846, 131.1447, 136.07591, 136.241, 143.11806, 144.1152, 145.11847, 147.12532, 152.57355, 155.12628, 156.11488, 156.12306, 158.09248, 158.12981, 158.13625, 159.13945, 167.08183, 169.13376, 169.16989, 171.11275, 172.10983, 173.14977, 174.12291, 175.11942, 175.12341, 175.15649, 176.15984, 176.16609, 178.32628, 181.37259, 184.10832, 185.16502, 186.08771, 186.15312, 186.15773, 188.15984, 188.16608, 191.88438, 195.07672, 201.12332, 204.14667, 212.10307, 213.15999, 218.15021, 219.14731, 221.10326, 221.16039, 222.15718, 229.12971, 229.16698, 229.17436, 229.18643, 230.11389, 230.17047, 231.17389, 243.67154, 246.15674, 247.19666, 248.18111, 249.09778, 252.77538, 261.15637, 265.11887, 273.13489, 284.19751, 285.19455, 286.19717, 287.20703, 288.20447, 293.1138, 294.19025, 300.241, 301.20816, 301.24435, 302.24707, 308.19284, 311.89981, 313.24463, 328.23813, 328.2554, 329.23941, 330.24271, 330.27121, 331.2554, 332.19394, 333.19107, 336.20038, 344.19864, 344.21393, 345.19827, 345.22495, 346.37073, 356.2688, 357.27197, 358.20911, 358.22705, 359.25009, 359.27762, 372.71521, 375.27289, 376.27686, 377.28046, 386.7124, 387.69873, 396.19031, 397.75159, 398.33398, 402.97363, 412.22009, 413.21857, 414.25662, 414.29291, 414.32928, 415.22943, 415.28821, 415.33295, 416.22693, 423.81348, 429.24649, 430.24493, 431.24677, 432.25629, 433.25363, 437.2363, 437.73856, 441.32031, 441.34003, 442.32413, 443.28281, 443.32718, 451.23401, 451.73526, 457.27682, 460.9834, 471.31415, 472.31009, 473.29343, 474.26828, 475.34369, 478.79694, 490.32019, 493.77884, 497.30515, 497.40259, 500.30441, 501.28891, 513.39777, 514.40149, 515.34009, 521.34192, 529.31287, 530.31702, 532.32147, 535.33789, 540.39087, 541.39282, 541.87195, 542.35895, 542.39557, 543.33575, 543.8031, 552.3349, 555.37781, 555.87006, 556.79163, 563.37341, 563.87756, 564.383, 564.69354, 564.88458, 569.3631, 570.34674, 570.87506, 584.87219, 585.35706, 585.40387, 586.37109, 587.37323, 588.37634, 598.35217, 613.38367, 621.89655, 637.33191, 637.36688, 638.44727, 642.39893, 645.40594, 663.41626, 668.43152, 669.41516, 677.41351, 685.48297, 686.44202, 687.44476, 696.42731, 709.40759, 724.43884, 724.49622, 727.93555, 741.93488, 744.42468, 752.48969, 753.4729, 755.38751, 769.51929, 770.49878, 772.41882, 774.38983, 782.49982, 799.52612, 800.52985, 809.50952, 813.50543, 814.51892, 819.51971, 822.49426, 856.43958, 873.46387, 881.56622, 883.5509, 884.43414, 898.59448, 898.65662, 899.59454, 901.45947, 902.46686, 903.43616, 952.61292, 953.60626, 954.60693, 955.61877, 956.60938, 969.63696, 970.62994, 971.6319, 972.64026, 973.63867, 974.64166, 986.5506, 1088.51208], \"y\": [25439.2285, 1646.7223, 982.9742, 886.4932, 916.0654, 979.7495, 924.1083, 890.1432, 1039.2914, 1156.694, 216840.5625, 57419.7109, 232963.9062, 1079.7272, 185551.8281, 150068.5469, 213701.125, 175202.7812, 30559.4082, 348759.2188, 30982.2051, 199917.6719, 7342.8618, 1223.8157, 1309.5344, 2086.6147, 1599.9822, 1614.7891, 1027.1675, 3903.3894, 1723.9915, 1675.8524, 2991.6194, 1782.3685, 6400.2749, 1470.2749, 2639.696, 3192.7068, 1805.3593, 2748.936, 3070.1904, 19141.2285, 2798.0752, 13154.6768, 1123.8239, 9075.5332, 16165.5098, 5487.5747, 1790.1134, 1104.2523, 2168.4216, 11696.4795, 1462.6464, 15873.5391, 1399.2596, 20521.084, 4986.8076, 1112.4915, 1408.4691, 1904.8712, 1300.7677, 7243.125, 7304.8564, 2101.9143, 5710.8018, 2478.793, 2325.3711, 3340.3862, 2133.0139, 8328.9619, 1557.0116, 5701.8433, 6473.7017, 413664.7812, 7178.1123, 1768.0798, 2066.7217, 1391.7474, 27009.8809, 1855.8455, 1235.9824, 1634.6031, 2010.1749, 2845.7415, 1713.2129, 4769.7554, 2378.4128, 2222.4548, 5636.3735, 6252.3701, 14816.0156, 2342.6243, 4268.3833, 159118.4531, 2620.9375, 5138.3901, 1590.1031, 7912.8799, 2580.2986, 16583.5703, 294487.4688, 7788.1147, 10279.0137, 2492.7109, 2677.4841, 4081.0605, 4425.0117, 1839.7439, 7897.7168, 1585.0095, 6753.6421, 1495.2528, 4061.1079, 1539.0902, 7002.2402, 1599.1389, 4281.4517, 3522.5073, 7520.3286, 1701.7926, 121995.6797, 3784.6526, 6219.4185, 1737.578, 1666.3118, 2379.6855, 6993.2861, 1882.8671, 5352.7798, 6445.6665, 1748.0016, 7426.3984, 43997.9336, 2166.0132, 4008.1963, 2169.1221, 2658.7798, 1849.1078, 20176.8105, 43418.1523, 14784.6436, 16376.1328, 33270.8125, 22342.9824, 3416.1912, 2585.283, 16104.7998, 483527.2812, 6741.7554, 19881.9922, 15507.124, 2231.4414, 1365.5175, 1386.9229, 2880.0559, 2651.6392, 15287.585, 8549.4941, 2438.6479, 2757.1213, 50731.1445, 4323.229, 2306.6792, 5105.9321, 9872.5332, 4976.8691, 70059.4766, 4851.6641, 1595.3026, 3376.1543, 9533.1445, 3351.2627, 4176.8242, 3577.9695, 3725.3279, 377406.75, 2601.7065, 1834.9636, 19975.375, 12620.4678, 1513.9913, 1643.3059, 2294.0076, 12590.7705, 1419.0052, 2282.4158, 2168.2839, 709076.25, 2373.8257, 77037.8281, 14947.8887, 21473.3652, 2950.0842, 2975.6084, 2291.9446, 1769.6166, 9257.9082, 886444.875, 46066.4062, 1955.5013, 6215.4438, 4082.5085, 13899.7119, 1839.2744, 1643.1732, 4550.9224, 1918.9894, 3971.0366, 3803.5029, 3777.927, 4755.4067, 8494.9307, 140647.3906, 9019.3281, 3769.9414, 2991.9358, 1859.7277, 4340.4844, 2945.449, 6623.9468, 2525.406, 12547.3545, 9544.7754, 2583.5542, 2061.4365, 15344.6279, 4090.7686, 4764.0786, 3253.2888, 117193.1328, 9936.5732, 3713.4524, 2805.4966, 1784.1154, 2539.55, 1705.4717, 2269.9927, 8100.6626, 1995.119, 2247.9377, 2869.2249, 36650.4258, 2584.4641, 3208.05, 8427.7803, 2234.2502, 2253.7913, 7866.7148, 8106.8599, 2044.4741, 3984.0481, 3227.2605, 41936.6914, 130124.9609, 38104.0586, 41140.2617, 83469.3359, 6498.1094, 2102.2896, 3080.9768]}],\n",
       "                        {\"template\": {\"data\": {\"bar\": [{\"error_x\": {\"color\": \"#2a3f5f\"}, \"error_y\": {\"color\": \"#2a3f5f\"}, \"marker\": {\"line\": {\"color\": \"#E5ECF6\", \"width\": 0.5}}, \"type\": \"bar\"}], \"barpolar\": [{\"marker\": {\"line\": {\"color\": \"#E5ECF6\", \"width\": 0.5}}, \"type\": \"barpolar\"}], \"carpet\": [{\"aaxis\": {\"endlinecolor\": \"#2a3f5f\", \"gridcolor\": \"white\", \"linecolor\": \"white\", \"minorgridcolor\": \"white\", \"startlinecolor\": \"#2a3f5f\"}, \"baxis\": {\"endlinecolor\": \"#2a3f5f\", \"gridcolor\": \"white\", \"linecolor\": \"white\", \"minorgridcolor\": \"white\", \"startlinecolor\": \"#2a3f5f\"}, \"type\": \"carpet\"}], \"choropleth\": [{\"colorbar\": {\"outlinewidth\": 0, \"ticks\": \"\"}, \"type\": \"choropleth\"}], \"contour\": [{\"colorbar\": {\"outlinewidth\": 0, \"ticks\": \"\"}, \"colorscale\": [[0.0, \"#0d0887\"], [0.1111111111111111, \"#46039f\"], [0.2222222222222222, \"#7201a8\"], [0.3333333333333333, \"#9c179e\"], [0.4444444444444444, \"#bd3786\"], [0.5555555555555556, \"#d8576b\"], [0.6666666666666666, \"#ed7953\"], [0.7777777777777778, \"#fb9f3a\"], [0.8888888888888888, \"#fdca26\"], [1.0, \"#f0f921\"]], \"type\": \"contour\"}], \"contourcarpet\": [{\"colorbar\": {\"outlinewidth\": 0, \"ticks\": \"\"}, \"type\": \"contourcarpet\"}], \"heatmap\": [{\"colorbar\": {\"outlinewidth\": 0, \"ticks\": \"\"}, \"colorscale\": [[0.0, \"#0d0887\"], [0.1111111111111111, \"#46039f\"], [0.2222222222222222, \"#7201a8\"], [0.3333333333333333, \"#9c179e\"], [0.4444444444444444, \"#bd3786\"], [0.5555555555555556, \"#d8576b\"], [0.6666666666666666, \"#ed7953\"], [0.7777777777777778, \"#fb9f3a\"], [0.8888888888888888, \"#fdca26\"], [1.0, \"#f0f921\"]], \"type\": \"heatmap\"}], \"heatmapgl\": [{\"colorbar\": {\"outlinewidth\": 0, \"ticks\": \"\"}, \"colorscale\": [[0.0, \"#0d0887\"], [0.1111111111111111, \"#46039f\"], [0.2222222222222222, \"#7201a8\"], [0.3333333333333333, \"#9c179e\"], [0.4444444444444444, \"#bd3786\"], [0.5555555555555556, \"#d8576b\"], [0.6666666666666666, \"#ed7953\"], [0.7777777777777778, \"#fb9f3a\"], [0.8888888888888888, \"#fdca26\"], [1.0, \"#f0f921\"]], \"type\": \"heatmapgl\"}], \"histogram\": [{\"marker\": {\"colorbar\": {\"outlinewidth\": 0, \"ticks\": \"\"}}, \"type\": \"histogram\"}], \"histogram2d\": [{\"colorbar\": {\"outlinewidth\": 0, \"ticks\": \"\"}, \"colorscale\": [[0.0, \"#0d0887\"], [0.1111111111111111, \"#46039f\"], [0.2222222222222222, \"#7201a8\"], [0.3333333333333333, \"#9c179e\"], [0.4444444444444444, \"#bd3786\"], [0.5555555555555556, \"#d8576b\"], [0.6666666666666666, \"#ed7953\"], [0.7777777777777778, \"#fb9f3a\"], [0.8888888888888888, \"#fdca26\"], [1.0, \"#f0f921\"]], \"type\": \"histogram2d\"}], \"histogram2dcontour\": [{\"colorbar\": {\"outlinewidth\": 0, \"ticks\": \"\"}, \"colorscale\": [[0.0, \"#0d0887\"], [0.1111111111111111, \"#46039f\"], [0.2222222222222222, \"#7201a8\"], [0.3333333333333333, \"#9c179e\"], [0.4444444444444444, \"#bd3786\"], [0.5555555555555556, \"#d8576b\"], [0.6666666666666666, \"#ed7953\"], [0.7777777777777778, \"#fb9f3a\"], [0.8888888888888888, \"#fdca26\"], [1.0, \"#f0f921\"]], \"type\": \"histogram2dcontour\"}], \"mesh3d\": [{\"colorbar\": {\"outlinewidth\": 0, \"ticks\": \"\"}, \"type\": \"mesh3d\"}], \"parcoords\": [{\"line\": {\"colorbar\": {\"outlinewidth\": 0, \"ticks\": \"\"}}, \"type\": \"parcoords\"}], \"pie\": [{\"automargin\": true, \"type\": \"pie\"}], \"scatter\": [{\"marker\": {\"colorbar\": {\"outlinewidth\": 0, \"ticks\": \"\"}}, \"type\": \"scatter\"}], \"scatter3d\": [{\"line\": {\"colorbar\": {\"outlinewidth\": 0, \"ticks\": \"\"}}, \"marker\": {\"colorbar\": {\"outlinewidth\": 0, \"ticks\": \"\"}}, \"type\": \"scatter3d\"}], \"scattercarpet\": [{\"marker\": {\"colorbar\": {\"outlinewidth\": 0, \"ticks\": \"\"}}, \"type\": \"scattercarpet\"}], \"scattergeo\": [{\"marker\": {\"colorbar\": {\"outlinewidth\": 0, \"ticks\": \"\"}}, \"type\": \"scattergeo\"}], \"scattergl\": [{\"marker\": {\"colorbar\": {\"outlinewidth\": 0, \"ticks\": \"\"}}, \"type\": \"scattergl\"}], \"scattermapbox\": [{\"marker\": {\"colorbar\": {\"outlinewidth\": 0, \"ticks\": \"\"}}, \"type\": \"scattermapbox\"}], \"scatterpolar\": [{\"marker\": {\"colorbar\": {\"outlinewidth\": 0, \"ticks\": \"\"}}, \"type\": \"scatterpolar\"}], \"scatterpolargl\": [{\"marker\": {\"colorbar\": {\"outlinewidth\": 0, \"ticks\": \"\"}}, \"type\": \"scatterpolargl\"}], \"scatterternary\": [{\"marker\": {\"colorbar\": {\"outlinewidth\": 0, \"ticks\": \"\"}}, \"type\": \"scatterternary\"}], \"surface\": [{\"colorbar\": {\"outlinewidth\": 0, \"ticks\": \"\"}, \"colorscale\": [[0.0, \"#0d0887\"], [0.1111111111111111, \"#46039f\"], [0.2222222222222222, \"#7201a8\"], [0.3333333333333333, \"#9c179e\"], [0.4444444444444444, \"#bd3786\"], [0.5555555555555556, \"#d8576b\"], [0.6666666666666666, \"#ed7953\"], [0.7777777777777778, \"#fb9f3a\"], [0.8888888888888888, \"#fdca26\"], [1.0, \"#f0f921\"]], \"type\": \"surface\"}], \"table\": [{\"cells\": {\"fill\": {\"color\": \"#EBF0F8\"}, \"line\": {\"color\": \"white\"}}, \"header\": {\"fill\": {\"color\": \"#C8D4E3\"}, \"line\": {\"color\": \"white\"}}, \"type\": \"table\"}]}, \"layout\": {\"annotationdefaults\": {\"arrowcolor\": \"#2a3f5f\", \"arrowhead\": 0, \"arrowwidth\": 1}, \"coloraxis\": {\"colorbar\": {\"outlinewidth\": 0, \"ticks\": \"\"}}, \"colorscale\": {\"diverging\": [[0, \"#8e0152\"], [0.1, \"#c51b7d\"], [0.2, \"#de77ae\"], [0.3, \"#f1b6da\"], [0.4, \"#fde0ef\"], [0.5, \"#f7f7f7\"], [0.6, \"#e6f5d0\"], [0.7, \"#b8e186\"], [0.8, \"#7fbc41\"], [0.9, \"#4d9221\"], [1, \"#276419\"]], \"sequential\": [[0.0, \"#0d0887\"], [0.1111111111111111, \"#46039f\"], [0.2222222222222222, \"#7201a8\"], [0.3333333333333333, \"#9c179e\"], [0.4444444444444444, \"#bd3786\"], [0.5555555555555556, \"#d8576b\"], [0.6666666666666666, \"#ed7953\"], [0.7777777777777778, \"#fb9f3a\"], [0.8888888888888888, \"#fdca26\"], [1.0, \"#f0f921\"]], \"sequentialminus\": [[0.0, \"#0d0887\"], [0.1111111111111111, \"#46039f\"], [0.2222222222222222, \"#7201a8\"], [0.3333333333333333, \"#9c179e\"], [0.4444444444444444, \"#bd3786\"], [0.5555555555555556, \"#d8576b\"], [0.6666666666666666, \"#ed7953\"], [0.7777777777777778, \"#fb9f3a\"], [0.8888888888888888, \"#fdca26\"], [1.0, \"#f0f921\"]]}, \"colorway\": [\"#636efa\", \"#EF553B\", \"#00cc96\", \"#ab63fa\", \"#FFA15A\", \"#19d3f3\", \"#FF6692\", \"#B6E880\", \"#FF97FF\", \"#FECB52\"], \"font\": {\"color\": \"#2a3f5f\"}, \"geo\": {\"bgcolor\": \"white\", \"lakecolor\": \"white\", \"landcolor\": \"#E5ECF6\", \"showlakes\": true, \"showland\": true, \"subunitcolor\": \"white\"}, \"hoverlabel\": {\"align\": \"left\"}, \"hovermode\": \"closest\", \"mapbox\": {\"style\": \"light\"}, \"paper_bgcolor\": \"white\", \"plot_bgcolor\": \"#E5ECF6\", \"polar\": {\"angularaxis\": {\"gridcolor\": \"white\", \"linecolor\": \"white\", \"ticks\": \"\"}, \"bgcolor\": \"#E5ECF6\", \"radialaxis\": {\"gridcolor\": \"white\", \"linecolor\": \"white\", \"ticks\": \"\"}}, \"scene\": {\"xaxis\": {\"backgroundcolor\": \"#E5ECF6\", \"gridcolor\": \"white\", \"gridwidth\": 2, \"linecolor\": \"white\", \"showbackground\": true, \"ticks\": \"\", \"zerolinecolor\": \"white\"}, \"yaxis\": {\"backgroundcolor\": \"#E5ECF6\", \"gridcolor\": \"white\", \"gridwidth\": 2, \"linecolor\": \"white\", \"showbackground\": true, \"ticks\": \"\", \"zerolinecolor\": \"white\"}, \"zaxis\": {\"backgroundcolor\": \"#E5ECF6\", \"gridcolor\": \"white\", \"gridwidth\": 2, \"linecolor\": \"white\", \"showbackground\": true, \"ticks\": \"\", \"zerolinecolor\": \"white\"}}, \"shapedefaults\": {\"line\": {\"color\": \"#2a3f5f\"}}, \"ternary\": {\"aaxis\": {\"gridcolor\": \"white\", \"linecolor\": \"white\", \"ticks\": \"\"}, \"baxis\": {\"gridcolor\": \"white\", \"linecolor\": \"white\", \"ticks\": \"\"}, \"bgcolor\": \"#E5ECF6\", \"caxis\": {\"gridcolor\": \"white\", \"linecolor\": \"white\", \"ticks\": \"\"}}, \"title\": {\"x\": 0.05}, \"xaxis\": {\"automargin\": true, \"gridcolor\": \"white\", \"linecolor\": \"white\", \"ticks\": \"\", \"title\": {\"standoff\": 15}, \"zerolinecolor\": \"white\", \"zerolinewidth\": 2}, \"yaxis\": {\"automargin\": true, \"gridcolor\": \"white\", \"linecolor\": \"white\", \"ticks\": \"\", \"title\": {\"standoff\": 15}, \"zerolinecolor\": \"white\", \"zerolinewidth\": 2}}}},\n",
       "                        {\"responsive\": true}\n",
       "                    ).then(function(){\n",
       "                            \n",
       "var gd = document.getElementById('8fbe4963-cf06-47d1-be8d-7bbb23506b79');\n",
       "var x = new MutationObserver(function (mutations, observer) {{\n",
       "        var display = window.getComputedStyle(gd).display;\n",
       "        if (!display || display === 'none') {{\n",
       "            console.log([gd, 'removed!']);\n",
       "            Plotly.purge(gd);\n",
       "            observer.disconnect();\n",
       "        }}\n",
       "}});\n",
       "\n",
       "// Listen for the removal of the full notebook cells\n",
       "var notebookContainer = gd.closest('#notebook-container');\n",
       "if (notebookContainer) {{\n",
       "    x.observe(notebookContainer, {childList: true});\n",
       "}}\n",
       "\n",
       "// Listen for the clearing of the current output cell\n",
       "var outputEl = gd.closest('.output');\n",
       "if (outputEl) {{\n",
       "    x.observe(outputEl, {childList: true});\n",
       "}}\n",
       "\n",
       "                        })\n",
       "                };\n",
       "                });\n",
       "            </script>\n",
       "        </div>"
      ]
     },
     "metadata": {},
     "output_type": "display_data"
    }
   ],
   "source": [
    "import plotly.graph_objects as go \n",
    "\n",
    "fig = go.Figure(data=[go.Bar(\n",
    "    x=df['mz_array'],\n",
    "    y=df['intensity'],\n",
    "    width = 1.5\n",
    ")])\n",
    "\n",
    "fig.show()"
   ]
  },
  {
   "cell_type": "code",
   "execution_count": 163,
   "metadata": {},
   "outputs": [
    {
     "data": {
      "application/vnd.plotly.v1+json": {
       "config": {
        "plotlyServerURL": "https://plot.ly"
       },
       "data": [
        {
         "type": "bar",
         "width": 10,
         "x": [
          110.07146,
          110.07394,
          114.06616,
          116.05611,
          117.19048,
          120.91577,
          120.95947,
          122.20333,
          124.95992,
          126.09132,
          126.12793,
          127.12504,
          127.13126,
          127.81618,
          128.12834,
          128.13463,
          129.1317,
          129.13797,
          130.13513,
          130.14134,
          131.13846,
          131.1447,
          136.07591,
          136.241,
          143.11806,
          144.1152,
          145.11847,
          147.12532,
          152.57355,
          155.12628,
          156.11488,
          156.12306,
          158.09248,
          158.12981,
          158.13625,
          159.13945,
          167.08183,
          169.13376,
          169.16989,
          171.11275,
          172.10983,
          173.14977,
          174.12291,
          175.11942,
          175.12341,
          175.15649,
          176.15984,
          176.16609,
          178.32628,
          181.37259,
          184.10832,
          185.16502,
          186.08771,
          186.15312,
          186.15773,
          188.15984,
          188.16608,
          191.88438,
          195.07672,
          201.12332,
          204.14667,
          212.10307,
          213.15999,
          218.15021,
          219.14731,
          221.10326,
          221.16039,
          222.15718,
          229.12971,
          229.16698,
          229.17436,
          229.18643,
          230.11389,
          230.17047,
          231.17389,
          243.67154,
          246.15674,
          247.19666,
          248.18111,
          249.09778,
          252.77538,
          261.15637,
          265.11887,
          273.13489,
          284.19751,
          285.19455,
          286.19717,
          287.20703,
          288.20447,
          293.1138,
          294.19025,
          300.241,
          301.20816,
          301.24435,
          302.24707,
          308.19284,
          311.89981,
          313.24463,
          328.23813,
          328.2554,
          329.23941,
          330.24271,
          330.27121,
          331.2554,
          332.19394,
          333.19107,
          336.20038,
          344.19864,
          344.21393,
          345.19827,
          345.22495,
          346.37073,
          356.2688,
          357.27197,
          358.20911,
          358.22705,
          359.25009,
          359.27762,
          372.71521,
          375.27289,
          376.27686,
          377.28046,
          386.7124,
          387.69873,
          396.19031,
          397.75159,
          398.33398,
          402.97363,
          412.22009,
          413.21857,
          414.25662,
          414.29291,
          414.32928,
          415.22943,
          415.28821,
          415.33295,
          416.22693,
          423.81348,
          429.24649,
          430.24493,
          431.24677,
          432.25629,
          433.25363,
          437.2363,
          437.73856,
          441.32031,
          441.34003,
          442.32413,
          443.28281,
          443.32718,
          451.23401,
          451.73526,
          457.27682,
          460.9834,
          471.31415,
          472.31009,
          473.29343,
          474.26828,
          475.34369,
          478.79694,
          490.32019,
          493.77884,
          497.30515,
          497.40259,
          500.30441,
          501.28891,
          513.39777,
          514.40149,
          515.34009,
          521.34192,
          529.31287,
          530.31702,
          532.32147,
          535.33789,
          540.39087,
          541.39282,
          541.87195,
          542.35895,
          542.39557,
          543.33575,
          543.8031,
          552.3349,
          555.37781,
          555.87006,
          556.79163,
          563.37341,
          563.87756,
          564.383,
          564.69354,
          564.88458,
          569.3631,
          570.34674,
          570.87506,
          584.87219,
          585.35706,
          585.40387,
          586.37109,
          587.37323,
          588.37634,
          598.35217,
          613.38367,
          621.89655,
          637.33191,
          637.36688,
          638.44727,
          642.39893,
          645.40594,
          663.41626,
          668.43152,
          669.41516,
          677.41351,
          685.48297,
          686.44202,
          687.44476,
          696.42731,
          709.40759,
          724.43884,
          724.49622,
          727.93555,
          741.93488,
          744.42468,
          752.48969,
          753.4729,
          755.38751,
          769.51929,
          770.49878,
          772.41882,
          774.38983,
          782.49982,
          799.52612,
          800.52985,
          809.50952,
          813.50543,
          814.51892,
          819.51971,
          822.49426,
          856.43958,
          873.46387,
          881.56622,
          883.5509,
          884.43414,
          898.59448,
          898.65662,
          899.59454,
          901.45947,
          902.46686,
          903.43616,
          952.61292,
          953.60626,
          954.60693,
          955.61877,
          956.60938,
          969.63696,
          970.62994,
          971.6319,
          972.64026,
          973.63867,
          974.64166,
          986.5506,
          1088.51208
         ],
         "y": [
          25439.2285,
          1646.7223,
          982.9742,
          886.4932,
          916.0654,
          979.7495,
          924.1083,
          890.1432,
          1039.2914,
          1156.694,
          216840.5625,
          57419.7109,
          232963.9062,
          1079.7272,
          185551.8281,
          150068.5469,
          213701.125,
          175202.7812,
          30559.4082,
          348759.2188,
          30982.2051,
          199917.6719,
          7342.8618,
          1223.8157,
          1309.5344,
          2086.6147,
          1599.9822,
          1614.7891,
          1027.1675,
          3903.3894,
          1723.9915,
          1675.8524,
          2991.6194,
          1782.3685,
          6400.2749,
          1470.2749,
          2639.696,
          3192.7068,
          1805.3593,
          2748.936,
          3070.1904,
          19141.2285,
          2798.0752,
          13154.6768,
          1123.8239,
          9075.5332,
          16165.5098,
          5487.5747,
          1790.1134,
          1104.2523,
          2168.4216,
          11696.4795,
          1462.6464,
          15873.5391,
          1399.2596,
          20521.084,
          4986.8076,
          1112.4915,
          1408.4691,
          1904.8712,
          1300.7677,
          7243.125,
          7304.8564,
          2101.9143,
          5710.8018,
          2478.793,
          2325.3711,
          3340.3862,
          2133.0139,
          8328.9619,
          1557.0116,
          5701.8433,
          6473.7017,
          413664.7812,
          7178.1123,
          1768.0798,
          2066.7217,
          1391.7474,
          27009.8809,
          1855.8455,
          1235.9824,
          1634.6031,
          2010.1749,
          2845.7415,
          1713.2129,
          4769.7554,
          2378.4128,
          2222.4548,
          5636.3735,
          6252.3701,
          14816.0156,
          2342.6243,
          4268.3833,
          159118.4531,
          2620.9375,
          5138.3901,
          1590.1031,
          7912.8799,
          2580.2986,
          16583.5703,
          294487.4688,
          7788.1147,
          10279.0137,
          2492.7109,
          2677.4841,
          4081.0605,
          4425.0117,
          1839.7439,
          7897.7168,
          1585.0095,
          6753.6421,
          1495.2528,
          4061.1079,
          1539.0902,
          7002.2402,
          1599.1389,
          4281.4517,
          3522.5073,
          7520.3286,
          1701.7926,
          121995.6797,
          3784.6526,
          6219.4185,
          1737.578,
          1666.3118,
          2379.6855,
          6993.2861,
          1882.8671,
          5352.7798,
          6445.6665,
          1748.0016,
          7426.3984,
          43997.9336,
          2166.0132,
          4008.1963,
          2169.1221,
          2658.7798,
          1849.1078,
          20176.8105,
          43418.1523,
          14784.6436,
          16376.1328,
          33270.8125,
          22342.9824,
          3416.1912,
          2585.283,
          16104.7998,
          483527.2812,
          6741.7554,
          19881.9922,
          15507.124,
          2231.4414,
          1365.5175,
          1386.9229,
          2880.0559,
          2651.6392,
          15287.585,
          8549.4941,
          2438.6479,
          2757.1213,
          50731.1445,
          4323.229,
          2306.6792,
          5105.9321,
          9872.5332,
          4976.8691,
          70059.4766,
          4851.6641,
          1595.3026,
          3376.1543,
          9533.1445,
          3351.2627,
          4176.8242,
          3577.9695,
          3725.3279,
          377406.75,
          2601.7065,
          1834.9636,
          19975.375,
          12620.4678,
          1513.9913,
          1643.3059,
          2294.0076,
          12590.7705,
          1419.0052,
          2282.4158,
          2168.2839,
          709076.25,
          2373.8257,
          77037.8281,
          14947.8887,
          21473.3652,
          2950.0842,
          2975.6084,
          2291.9446,
          1769.6166,
          9257.9082,
          886444.875,
          46066.4062,
          1955.5013,
          6215.4438,
          4082.5085,
          13899.7119,
          1839.2744,
          1643.1732,
          4550.9224,
          1918.9894,
          3971.0366,
          3803.5029,
          3777.927,
          4755.4067,
          8494.9307,
          140647.3906,
          9019.3281,
          3769.9414,
          2991.9358,
          1859.7277,
          4340.4844,
          2945.449,
          6623.9468,
          2525.406,
          12547.3545,
          9544.7754,
          2583.5542,
          2061.4365,
          15344.6279,
          4090.7686,
          4764.0786,
          3253.2888,
          117193.1328,
          9936.5732,
          3713.4524,
          2805.4966,
          1784.1154,
          2539.55,
          1705.4717,
          2269.9927,
          8100.6626,
          1995.119,
          2247.9377,
          2869.2249,
          36650.4258,
          2584.4641,
          3208.05,
          8427.7803,
          2234.2502,
          2253.7913,
          7866.7148,
          8106.8599,
          2044.4741,
          3984.0481,
          3227.2605,
          41936.6914,
          130124.9609,
          38104.0586,
          41140.2617,
          83469.3359,
          6498.1094,
          2102.2896,
          3080.9768
         ]
        }
       ],
       "layout": {
        "autosize": true,
        "template": {
         "data": {
          "bar": [
           {
            "error_x": {
             "color": "#2a3f5f"
            },
            "error_y": {
             "color": "#2a3f5f"
            },
            "marker": {
             "line": {
              "color": "#E5ECF6",
              "width": 0.5
             }
            },
            "type": "bar"
           }
          ],
          "barpolar": [
           {
            "marker": {
             "line": {
              "color": "#E5ECF6",
              "width": 0.5
             }
            },
            "type": "barpolar"
           }
          ],
          "carpet": [
           {
            "aaxis": {
             "endlinecolor": "#2a3f5f",
             "gridcolor": "white",
             "linecolor": "white",
             "minorgridcolor": "white",
             "startlinecolor": "#2a3f5f"
            },
            "baxis": {
             "endlinecolor": "#2a3f5f",
             "gridcolor": "white",
             "linecolor": "white",
             "minorgridcolor": "white",
             "startlinecolor": "#2a3f5f"
            },
            "type": "carpet"
           }
          ],
          "choropleth": [
           {
            "colorbar": {
             "outlinewidth": 0,
             "ticks": ""
            },
            "type": "choropleth"
           }
          ],
          "contour": [
           {
            "colorbar": {
             "outlinewidth": 0,
             "ticks": ""
            },
            "colorscale": [
             [
              0,
              "#0d0887"
             ],
             [
              0.1111111111111111,
              "#46039f"
             ],
             [
              0.2222222222222222,
              "#7201a8"
             ],
             [
              0.3333333333333333,
              "#9c179e"
             ],
             [
              0.4444444444444444,
              "#bd3786"
             ],
             [
              0.5555555555555556,
              "#d8576b"
             ],
             [
              0.6666666666666666,
              "#ed7953"
             ],
             [
              0.7777777777777778,
              "#fb9f3a"
             ],
             [
              0.8888888888888888,
              "#fdca26"
             ],
             [
              1,
              "#f0f921"
             ]
            ],
            "type": "contour"
           }
          ],
          "contourcarpet": [
           {
            "colorbar": {
             "outlinewidth": 0,
             "ticks": ""
            },
            "type": "contourcarpet"
           }
          ],
          "heatmap": [
           {
            "colorbar": {
             "outlinewidth": 0,
             "ticks": ""
            },
            "colorscale": [
             [
              0,
              "#0d0887"
             ],
             [
              0.1111111111111111,
              "#46039f"
             ],
             [
              0.2222222222222222,
              "#7201a8"
             ],
             [
              0.3333333333333333,
              "#9c179e"
             ],
             [
              0.4444444444444444,
              "#bd3786"
             ],
             [
              0.5555555555555556,
              "#d8576b"
             ],
             [
              0.6666666666666666,
              "#ed7953"
             ],
             [
              0.7777777777777778,
              "#fb9f3a"
             ],
             [
              0.8888888888888888,
              "#fdca26"
             ],
             [
              1,
              "#f0f921"
             ]
            ],
            "type": "heatmap"
           }
          ],
          "heatmapgl": [
           {
            "colorbar": {
             "outlinewidth": 0,
             "ticks": ""
            },
            "colorscale": [
             [
              0,
              "#0d0887"
             ],
             [
              0.1111111111111111,
              "#46039f"
             ],
             [
              0.2222222222222222,
              "#7201a8"
             ],
             [
              0.3333333333333333,
              "#9c179e"
             ],
             [
              0.4444444444444444,
              "#bd3786"
             ],
             [
              0.5555555555555556,
              "#d8576b"
             ],
             [
              0.6666666666666666,
              "#ed7953"
             ],
             [
              0.7777777777777778,
              "#fb9f3a"
             ],
             [
              0.8888888888888888,
              "#fdca26"
             ],
             [
              1,
              "#f0f921"
             ]
            ],
            "type": "heatmapgl"
           }
          ],
          "histogram": [
           {
            "marker": {
             "colorbar": {
              "outlinewidth": 0,
              "ticks": ""
             }
            },
            "type": "histogram"
           }
          ],
          "histogram2d": [
           {
            "colorbar": {
             "outlinewidth": 0,
             "ticks": ""
            },
            "colorscale": [
             [
              0,
              "#0d0887"
             ],
             [
              0.1111111111111111,
              "#46039f"
             ],
             [
              0.2222222222222222,
              "#7201a8"
             ],
             [
              0.3333333333333333,
              "#9c179e"
             ],
             [
              0.4444444444444444,
              "#bd3786"
             ],
             [
              0.5555555555555556,
              "#d8576b"
             ],
             [
              0.6666666666666666,
              "#ed7953"
             ],
             [
              0.7777777777777778,
              "#fb9f3a"
             ],
             [
              0.8888888888888888,
              "#fdca26"
             ],
             [
              1,
              "#f0f921"
             ]
            ],
            "type": "histogram2d"
           }
          ],
          "histogram2dcontour": [
           {
            "colorbar": {
             "outlinewidth": 0,
             "ticks": ""
            },
            "colorscale": [
             [
              0,
              "#0d0887"
             ],
             [
              0.1111111111111111,
              "#46039f"
             ],
             [
              0.2222222222222222,
              "#7201a8"
             ],
             [
              0.3333333333333333,
              "#9c179e"
             ],
             [
              0.4444444444444444,
              "#bd3786"
             ],
             [
              0.5555555555555556,
              "#d8576b"
             ],
             [
              0.6666666666666666,
              "#ed7953"
             ],
             [
              0.7777777777777778,
              "#fb9f3a"
             ],
             [
              0.8888888888888888,
              "#fdca26"
             ],
             [
              1,
              "#f0f921"
             ]
            ],
            "type": "histogram2dcontour"
           }
          ],
          "mesh3d": [
           {
            "colorbar": {
             "outlinewidth": 0,
             "ticks": ""
            },
            "type": "mesh3d"
           }
          ],
          "parcoords": [
           {
            "line": {
             "colorbar": {
              "outlinewidth": 0,
              "ticks": ""
             }
            },
            "type": "parcoords"
           }
          ],
          "pie": [
           {
            "automargin": true,
            "type": "pie"
           }
          ],
          "scatter": [
           {
            "marker": {
             "colorbar": {
              "outlinewidth": 0,
              "ticks": ""
             }
            },
            "type": "scatter"
           }
          ],
          "scatter3d": [
           {
            "line": {
             "colorbar": {
              "outlinewidth": 0,
              "ticks": ""
             }
            },
            "marker": {
             "colorbar": {
              "outlinewidth": 0,
              "ticks": ""
             }
            },
            "type": "scatter3d"
           }
          ],
          "scattercarpet": [
           {
            "marker": {
             "colorbar": {
              "outlinewidth": 0,
              "ticks": ""
             }
            },
            "type": "scattercarpet"
           }
          ],
          "scattergeo": [
           {
            "marker": {
             "colorbar": {
              "outlinewidth": 0,
              "ticks": ""
             }
            },
            "type": "scattergeo"
           }
          ],
          "scattergl": [
           {
            "marker": {
             "colorbar": {
              "outlinewidth": 0,
              "ticks": ""
             }
            },
            "type": "scattergl"
           }
          ],
          "scattermapbox": [
           {
            "marker": {
             "colorbar": {
              "outlinewidth": 0,
              "ticks": ""
             }
            },
            "type": "scattermapbox"
           }
          ],
          "scatterpolar": [
           {
            "marker": {
             "colorbar": {
              "outlinewidth": 0,
              "ticks": ""
             }
            },
            "type": "scatterpolar"
           }
          ],
          "scatterpolargl": [
           {
            "marker": {
             "colorbar": {
              "outlinewidth": 0,
              "ticks": ""
             }
            },
            "type": "scatterpolargl"
           }
          ],
          "scatterternary": [
           {
            "marker": {
             "colorbar": {
              "outlinewidth": 0,
              "ticks": ""
             }
            },
            "type": "scatterternary"
           }
          ],
          "surface": [
           {
            "colorbar": {
             "outlinewidth": 0,
             "ticks": ""
            },
            "colorscale": [
             [
              0,
              "#0d0887"
             ],
             [
              0.1111111111111111,
              "#46039f"
             ],
             [
              0.2222222222222222,
              "#7201a8"
             ],
             [
              0.3333333333333333,
              "#9c179e"
             ],
             [
              0.4444444444444444,
              "#bd3786"
             ],
             [
              0.5555555555555556,
              "#d8576b"
             ],
             [
              0.6666666666666666,
              "#ed7953"
             ],
             [
              0.7777777777777778,
              "#fb9f3a"
             ],
             [
              0.8888888888888888,
              "#fdca26"
             ],
             [
              1,
              "#f0f921"
             ]
            ],
            "type": "surface"
           }
          ],
          "table": [
           {
            "cells": {
             "fill": {
              "color": "#EBF0F8"
             },
             "line": {
              "color": "white"
             }
            },
            "header": {
             "fill": {
              "color": "#C8D4E3"
             },
             "line": {
              "color": "white"
             }
            },
            "type": "table"
           }
          ]
         },
         "layout": {
          "annotationdefaults": {
           "arrowcolor": "#2a3f5f",
           "arrowhead": 0,
           "arrowwidth": 1
          },
          "coloraxis": {
           "colorbar": {
            "outlinewidth": 0,
            "ticks": ""
           }
          },
          "colorscale": {
           "diverging": [
            [
             0,
             "#8e0152"
            ],
            [
             0.1,
             "#c51b7d"
            ],
            [
             0.2,
             "#de77ae"
            ],
            [
             0.3,
             "#f1b6da"
            ],
            [
             0.4,
             "#fde0ef"
            ],
            [
             0.5,
             "#f7f7f7"
            ],
            [
             0.6,
             "#e6f5d0"
            ],
            [
             0.7,
             "#b8e186"
            ],
            [
             0.8,
             "#7fbc41"
            ],
            [
             0.9,
             "#4d9221"
            ],
            [
             1,
             "#276419"
            ]
           ],
           "sequential": [
            [
             0,
             "#0d0887"
            ],
            [
             0.1111111111111111,
             "#46039f"
            ],
            [
             0.2222222222222222,
             "#7201a8"
            ],
            [
             0.3333333333333333,
             "#9c179e"
            ],
            [
             0.4444444444444444,
             "#bd3786"
            ],
            [
             0.5555555555555556,
             "#d8576b"
            ],
            [
             0.6666666666666666,
             "#ed7953"
            ],
            [
             0.7777777777777778,
             "#fb9f3a"
            ],
            [
             0.8888888888888888,
             "#fdca26"
            ],
            [
             1,
             "#f0f921"
            ]
           ],
           "sequentialminus": [
            [
             0,
             "#0d0887"
            ],
            [
             0.1111111111111111,
             "#46039f"
            ],
            [
             0.2222222222222222,
             "#7201a8"
            ],
            [
             0.3333333333333333,
             "#9c179e"
            ],
            [
             0.4444444444444444,
             "#bd3786"
            ],
            [
             0.5555555555555556,
             "#d8576b"
            ],
            [
             0.6666666666666666,
             "#ed7953"
            ],
            [
             0.7777777777777778,
             "#fb9f3a"
            ],
            [
             0.8888888888888888,
             "#fdca26"
            ],
            [
             1,
             "#f0f921"
            ]
           ]
          },
          "colorway": [
           "#636efa",
           "#EF553B",
           "#00cc96",
           "#ab63fa",
           "#FFA15A",
           "#19d3f3",
           "#FF6692",
           "#B6E880",
           "#FF97FF",
           "#FECB52"
          ],
          "font": {
           "color": "#2a3f5f"
          },
          "geo": {
           "bgcolor": "white",
           "lakecolor": "white",
           "landcolor": "#E5ECF6",
           "showlakes": true,
           "showland": true,
           "subunitcolor": "white"
          },
          "hoverlabel": {
           "align": "left"
          },
          "hovermode": "closest",
          "mapbox": {
           "style": "light"
          },
          "paper_bgcolor": "white",
          "plot_bgcolor": "#E5ECF6",
          "polar": {
           "angularaxis": {
            "gridcolor": "white",
            "linecolor": "white",
            "ticks": ""
           },
           "bgcolor": "#E5ECF6",
           "radialaxis": {
            "gridcolor": "white",
            "linecolor": "white",
            "ticks": ""
           }
          },
          "scene": {
           "xaxis": {
            "backgroundcolor": "#E5ECF6",
            "gridcolor": "white",
            "gridwidth": 2,
            "linecolor": "white",
            "showbackground": true,
            "ticks": "",
            "zerolinecolor": "white"
           },
           "yaxis": {
            "backgroundcolor": "#E5ECF6",
            "gridcolor": "white",
            "gridwidth": 2,
            "linecolor": "white",
            "showbackground": true,
            "ticks": "",
            "zerolinecolor": "white"
           },
           "zaxis": {
            "backgroundcolor": "#E5ECF6",
            "gridcolor": "white",
            "gridwidth": 2,
            "linecolor": "white",
            "showbackground": true,
            "ticks": "",
            "zerolinecolor": "white"
           }
          },
          "shapedefaults": {
           "line": {
            "color": "#2a3f5f"
           }
          },
          "ternary": {
           "aaxis": {
            "gridcolor": "white",
            "linecolor": "white",
            "ticks": ""
           },
           "baxis": {
            "gridcolor": "white",
            "linecolor": "white",
            "ticks": ""
           },
           "bgcolor": "#E5ECF6",
           "caxis": {
            "gridcolor": "white",
            "linecolor": "white",
            "ticks": ""
           }
          },
          "title": {
           "x": 0.05
          },
          "xaxis": {
           "automargin": true,
           "gridcolor": "white",
           "linecolor": "white",
           "ticks": "",
           "title": {
            "standoff": 15
           },
           "zerolinecolor": "white",
           "zerolinewidth": 2
          },
          "yaxis": {
           "automargin": true,
           "gridcolor": "white",
           "linecolor": "white",
           "ticks": "",
           "title": {
            "standoff": 15
           },
           "zerolinecolor": "white",
           "zerolinewidth": 2
          }
         }
        },
        "xaxis": {
         "autorange": true,
         "range": [
          105.07146,
          1093.51208
         ],
         "type": "linear"
        },
        "yaxis": {
         "autorange": true,
         "range": [
          0,
          933099.8684210526
         ],
         "type": "linear"
        }
       }
      },
      "image/png": "[encoded data removed]",
      "text/html": [
       "<div>\n",
       "        \n",
       "        \n",
       "            <div id=\"b7adcb4a-f644-4937-ab0c-eab802bb0fe1\" class=\"plotly-graph-div\" style=\"height:525px; width:100%;\"></div>\n",
       "            <script type=\"text/javascript\">\n",
       "                require([\"plotly\"], function(Plotly) {\n",
       "                    window.PLOTLYENV=window.PLOTLYENV || {};\n",
       "                    \n",
       "                if (document.getElementById(\"b7adcb4a-f644-4937-ab0c-eab802bb0fe1\")) {\n",
       "                    Plotly.newPlot(\n",
       "                        'b7adcb4a-f644-4937-ab0c-eab802bb0fe1',\n",
       "                        [{\"type\": \"bar\", \"width\": 10, \"x\": [110.07146, 110.07394, 114.06616, 116.05611, 117.19048, 120.91577, 120.95947, 122.20333, 124.95992, 126.09132, 126.12793, 127.12504, 127.13126, 127.81618, 128.12834, 128.13463, 129.1317, 129.13797, 130.13513, 130.14134, 131.13846, 131.1447, 136.07591, 136.241, 143.11806, 144.1152, 145.11847, 147.12532, 152.57355, 155.12628, 156.11488, 156.12306, 158.09248, 158.12981, 158.13625, 159.13945, 167.08183, 169.13376, 169.16989, 171.11275, 172.10983, 173.14977, 174.12291, 175.11942, 175.12341, 175.15649, 176.15984, 176.16609, 178.32628, 181.37259, 184.10832, 185.16502, 186.08771, 186.15312, 186.15773, 188.15984, 188.16608, 191.88438, 195.07672, 201.12332, 204.14667, 212.10307, 213.15999, 218.15021, 219.14731, 221.10326, 221.16039, 222.15718, 229.12971, 229.16698, 229.17436, 229.18643, 230.11389, 230.17047, 231.17389, 243.67154, 246.15674, 247.19666, 248.18111, 249.09778, 252.77538, 261.15637, 265.11887, 273.13489, 284.19751, 285.19455, 286.19717, 287.20703, 288.20447, 293.1138, 294.19025, 300.241, 301.20816, 301.24435, 302.24707, 308.19284, 311.89981, 313.24463, 328.23813, 328.2554, 329.23941, 330.24271, 330.27121, 331.2554, 332.19394, 333.19107, 336.20038, 344.19864, 344.21393, 345.19827, 345.22495, 346.37073, 356.2688, 357.27197, 358.20911, 358.22705, 359.25009, 359.27762, 372.71521, 375.27289, 376.27686, 377.28046, 386.7124, 387.69873, 396.19031, 397.75159, 398.33398, 402.97363, 412.22009, 413.21857, 414.25662, 414.29291, 414.32928, 415.22943, 415.28821, 415.33295, 416.22693, 423.81348, 429.24649, 430.24493, 431.24677, 432.25629, 433.25363, 437.2363, 437.73856, 441.32031, 441.34003, 442.32413, 443.28281, 443.32718, 451.23401, 451.73526, 457.27682, 460.9834, 471.31415, 472.31009, 473.29343, 474.26828, 475.34369, 478.79694, 490.32019, 493.77884, 497.30515, 497.40259, 500.30441, 501.28891, 513.39777, 514.40149, 515.34009, 521.34192, 529.31287, 530.31702, 532.32147, 535.33789, 540.39087, 541.39282, 541.87195, 542.35895, 542.39557, 543.33575, 543.8031, 552.3349, 555.37781, 555.87006, 556.79163, 563.37341, 563.87756, 564.383, 564.69354, 564.88458, 569.3631, 570.34674, 570.87506, 584.87219, 585.35706, 585.40387, 586.37109, 587.37323, 588.37634, 598.35217, 613.38367, 621.89655, 637.33191, 637.36688, 638.44727, 642.39893, 645.40594, 663.41626, 668.43152, 669.41516, 677.41351, 685.48297, 686.44202, 687.44476, 696.42731, 709.40759, 724.43884, 724.49622, 727.93555, 741.93488, 744.42468, 752.48969, 753.4729, 755.38751, 769.51929, 770.49878, 772.41882, 774.38983, 782.49982, 799.52612, 800.52985, 809.50952, 813.50543, 814.51892, 819.51971, 822.49426, 856.43958, 873.46387, 881.56622, 883.5509, 884.43414, 898.59448, 898.65662, 899.59454, 901.45947, 902.46686, 903.43616, 952.61292, 953.60626, 954.60693, 955.61877, 956.60938, 969.63696, 970.62994, 971.6319, 972.64026, 973.63867, 974.64166, 986.5506, 1088.51208], \"y\": [25439.2285, 1646.7223, 982.9742, 886.4932, 916.0654, 979.7495, 924.1083, 890.1432, 1039.2914, 1156.694, 216840.5625, 57419.7109, 232963.9062, 1079.7272, 185551.8281, 150068.5469, 213701.125, 175202.7812, 30559.4082, 348759.2188, 30982.2051, 199917.6719, 7342.8618, 1223.8157, 1309.5344, 2086.6147, 1599.9822, 1614.7891, 1027.1675, 3903.3894, 1723.9915, 1675.8524, 2991.6194, 1782.3685, 6400.2749, 1470.2749, 2639.696, 3192.7068, 1805.3593, 2748.936, 3070.1904, 19141.2285, 2798.0752, 13154.6768, 1123.8239, 9075.5332, 16165.5098, 5487.5747, 1790.1134, 1104.2523, 2168.4216, 11696.4795, 1462.6464, 15873.5391, 1399.2596, 20521.084, 4986.8076, 1112.4915, 1408.4691, 1904.8712, 1300.7677, 7243.125, 7304.8564, 2101.9143, 5710.8018, 2478.793, 2325.3711, 3340.3862, 2133.0139, 8328.9619, 1557.0116, 5701.8433, 6473.7017, 413664.7812, 7178.1123, 1768.0798, 2066.7217, 1391.7474, 27009.8809, 1855.8455, 1235.9824, 1634.6031, 2010.1749, 2845.7415, 1713.2129, 4769.7554, 2378.4128, 2222.4548, 5636.3735, 6252.3701, 14816.0156, 2342.6243, 4268.3833, 159118.4531, 2620.9375, 5138.3901, 1590.1031, 7912.8799, 2580.2986, 16583.5703, 294487.4688, 7788.1147, 10279.0137, 2492.7109, 2677.4841, 4081.0605, 4425.0117, 1839.7439, 7897.7168, 1585.0095, 6753.6421, 1495.2528, 4061.1079, 1539.0902, 7002.2402, 1599.1389, 4281.4517, 3522.5073, 7520.3286, 1701.7926, 121995.6797, 3784.6526, 6219.4185, 1737.578, 1666.3118, 2379.6855, 6993.2861, 1882.8671, 5352.7798, 6445.6665, 1748.0016, 7426.3984, 43997.9336, 2166.0132, 4008.1963, 2169.1221, 2658.7798, 1849.1078, 20176.8105, 43418.1523, 14784.6436, 16376.1328, 33270.8125, 22342.9824, 3416.1912, 2585.283, 16104.7998, 483527.2812, 6741.7554, 19881.9922, 15507.124, 2231.4414, 1365.5175, 1386.9229, 2880.0559, 2651.6392, 15287.585, 8549.4941, 2438.6479, 2757.1213, 50731.1445, 4323.229, 2306.6792, 5105.9321, 9872.5332, 4976.8691, 70059.4766, 4851.6641, 1595.3026, 3376.1543, 9533.1445, 3351.2627, 4176.8242, 3577.9695, 3725.3279, 377406.75, 2601.7065, 1834.9636, 19975.375, 12620.4678, 1513.9913, 1643.3059, 2294.0076, 12590.7705, 1419.0052, 2282.4158, 2168.2839, 709076.25, 2373.8257, 77037.8281, 14947.8887, 21473.3652, 2950.0842, 2975.6084, 2291.9446, 1769.6166, 9257.9082, 886444.875, 46066.4062, 1955.5013, 6215.4438, 4082.5085, 13899.7119, 1839.2744, 1643.1732, 4550.9224, 1918.9894, 3971.0366, 3803.5029, 3777.927, 4755.4067, 8494.9307, 140647.3906, 9019.3281, 3769.9414, 2991.9358, 1859.7277, 4340.4844, 2945.449, 6623.9468, 2525.406, 12547.3545, 9544.7754, 2583.5542, 2061.4365, 15344.6279, 4090.7686, 4764.0786, 3253.2888, 117193.1328, 9936.5732, 3713.4524, 2805.4966, 1784.1154, 2539.55, 1705.4717, 2269.9927, 8100.6626, 1995.119, 2247.9377, 2869.2249, 36650.4258, 2584.4641, 3208.05, 8427.7803, 2234.2502, 2253.7913, 7866.7148, 8106.8599, 2044.4741, 3984.0481, 3227.2605, 41936.6914, 130124.9609, 38104.0586, 41140.2617, 83469.3359, 6498.1094, 2102.2896, 3080.9768]}],\n",
       "                        {\"template\": {\"data\": {\"bar\": [{\"error_x\": {\"color\": \"#2a3f5f\"}, \"error_y\": {\"color\": \"#2a3f5f\"}, \"marker\": {\"line\": {\"color\": \"#E5ECF6\", \"width\": 0.5}}, \"type\": \"bar\"}], \"barpolar\": [{\"marker\": {\"line\": {\"color\": \"#E5ECF6\", \"width\": 0.5}}, \"type\": \"barpolar\"}], \"carpet\": [{\"aaxis\": {\"endlinecolor\": \"#2a3f5f\", \"gridcolor\": \"white\", \"linecolor\": \"white\", \"minorgridcolor\": \"white\", \"startlinecolor\": \"#2a3f5f\"}, \"baxis\": {\"endlinecolor\": \"#2a3f5f\", \"gridcolor\": \"white\", \"linecolor\": \"white\", \"minorgridcolor\": \"white\", \"startlinecolor\": \"#2a3f5f\"}, \"type\": \"carpet\"}], \"choropleth\": [{\"colorbar\": {\"outlinewidth\": 0, \"ticks\": \"\"}, \"type\": \"choropleth\"}], \"contour\": [{\"colorbar\": {\"outlinewidth\": 0, \"ticks\": \"\"}, \"colorscale\": [[0.0, \"#0d0887\"], [0.1111111111111111, \"#46039f\"], [0.2222222222222222, \"#7201a8\"], [0.3333333333333333, \"#9c179e\"], [0.4444444444444444, \"#bd3786\"], [0.5555555555555556, \"#d8576b\"], [0.6666666666666666, \"#ed7953\"], [0.7777777777777778, \"#fb9f3a\"], [0.8888888888888888, \"#fdca26\"], [1.0, \"#f0f921\"]], \"type\": \"contour\"}], \"contourcarpet\": [{\"colorbar\": {\"outlinewidth\": 0, \"ticks\": \"\"}, \"type\": \"contourcarpet\"}], \"heatmap\": [{\"colorbar\": {\"outlinewidth\": 0, \"ticks\": \"\"}, \"colorscale\": [[0.0, \"#0d0887\"], [0.1111111111111111, \"#46039f\"], [0.2222222222222222, \"#7201a8\"], [0.3333333333333333, \"#9c179e\"], [0.4444444444444444, \"#bd3786\"], [0.5555555555555556, \"#d8576b\"], [0.6666666666666666, \"#ed7953\"], [0.7777777777777778, \"#fb9f3a\"], [0.8888888888888888, \"#fdca26\"], [1.0, \"#f0f921\"]], \"type\": \"heatmap\"}], \"heatmapgl\": [{\"colorbar\": {\"outlinewidth\": 0, \"ticks\": \"\"}, \"colorscale\": [[0.0, \"#0d0887\"], [0.1111111111111111, \"#46039f\"], [0.2222222222222222, \"#7201a8\"], [0.3333333333333333, \"#9c179e\"], [0.4444444444444444, \"#bd3786\"], [0.5555555555555556, \"#d8576b\"], [0.6666666666666666, \"#ed7953\"], [0.7777777777777778, \"#fb9f3a\"], [0.8888888888888888, \"#fdca26\"], [1.0, \"#f0f921\"]], \"type\": \"heatmapgl\"}], \"histogram\": [{\"marker\": {\"colorbar\": {\"outlinewidth\": 0, \"ticks\": \"\"}}, \"type\": \"histogram\"}], \"histogram2d\": [{\"colorbar\": {\"outlinewidth\": 0, \"ticks\": \"\"}, \"colorscale\": [[0.0, \"#0d0887\"], [0.1111111111111111, \"#46039f\"], [0.2222222222222222, \"#7201a8\"], [0.3333333333333333, \"#9c179e\"], [0.4444444444444444, \"#bd3786\"], [0.5555555555555556, \"#d8576b\"], [0.6666666666666666, \"#ed7953\"], [0.7777777777777778, \"#fb9f3a\"], [0.8888888888888888, \"#fdca26\"], [1.0, \"#f0f921\"]], \"type\": \"histogram2d\"}], \"histogram2dcontour\": [{\"colorbar\": {\"outlinewidth\": 0, \"ticks\": \"\"}, \"colorscale\": [[0.0, \"#0d0887\"], [0.1111111111111111, \"#46039f\"], [0.2222222222222222, \"#7201a8\"], [0.3333333333333333, \"#9c179e\"], [0.4444444444444444, \"#bd3786\"], [0.5555555555555556, \"#d8576b\"], [0.6666666666666666, \"#ed7953\"], [0.7777777777777778, \"#fb9f3a\"], [0.8888888888888888, \"#fdca26\"], [1.0, \"#f0f921\"]], \"type\": \"histogram2dcontour\"}], \"mesh3d\": [{\"colorbar\": {\"outlinewidth\": 0, \"ticks\": \"\"}, \"type\": \"mesh3d\"}], \"parcoords\": [{\"line\": {\"colorbar\": {\"outlinewidth\": 0, \"ticks\": \"\"}}, \"type\": \"parcoords\"}], \"pie\": [{\"automargin\": true, \"type\": \"pie\"}], \"scatter\": [{\"marker\": {\"colorbar\": {\"outlinewidth\": 0, \"ticks\": \"\"}}, \"type\": \"scatter\"}], \"scatter3d\": [{\"line\": {\"colorbar\": {\"outlinewidth\": 0, \"ticks\": \"\"}}, \"marker\": {\"colorbar\": {\"outlinewidth\": 0, \"ticks\": \"\"}}, \"type\": \"scatter3d\"}], \"scattercarpet\": [{\"marker\": {\"colorbar\": {\"outlinewidth\": 0, \"ticks\": \"\"}}, \"type\": \"scattercarpet\"}], \"scattergeo\": [{\"marker\": {\"colorbar\": {\"outlinewidth\": 0, \"ticks\": \"\"}}, \"type\": \"scattergeo\"}], \"scattergl\": [{\"marker\": {\"colorbar\": {\"outlinewidth\": 0, \"ticks\": \"\"}}, \"type\": \"scattergl\"}], \"scattermapbox\": [{\"marker\": {\"colorbar\": {\"outlinewidth\": 0, \"ticks\": \"\"}}, \"type\": \"scattermapbox\"}], \"scatterpolar\": [{\"marker\": {\"colorbar\": {\"outlinewidth\": 0, \"ticks\": \"\"}}, \"type\": \"scatterpolar\"}], \"scatterpolargl\": [{\"marker\": {\"colorbar\": {\"outlinewidth\": 0, \"ticks\": \"\"}}, \"type\": \"scatterpolargl\"}], \"scatterternary\": [{\"marker\": {\"colorbar\": {\"outlinewidth\": 0, \"ticks\": \"\"}}, \"type\": \"scatterternary\"}], \"surface\": [{\"colorbar\": {\"outlinewidth\": 0, \"ticks\": \"\"}, \"colorscale\": [[0.0, \"#0d0887\"], [0.1111111111111111, \"#46039f\"], [0.2222222222222222, \"#7201a8\"], [0.3333333333333333, \"#9c179e\"], [0.4444444444444444, \"#bd3786\"], [0.5555555555555556, \"#d8576b\"], [0.6666666666666666, \"#ed7953\"], [0.7777777777777778, \"#fb9f3a\"], [0.8888888888888888, \"#fdca26\"], [1.0, \"#f0f921\"]], \"type\": \"surface\"}], \"table\": [{\"cells\": {\"fill\": {\"color\": \"#EBF0F8\"}, \"line\": {\"color\": \"white\"}}, \"header\": {\"fill\": {\"color\": \"#C8D4E3\"}, \"line\": {\"color\": \"white\"}}, \"type\": \"table\"}]}, \"layout\": {\"annotationdefaults\": {\"arrowcolor\": \"#2a3f5f\", \"arrowhead\": 0, \"arrowwidth\": 1}, \"coloraxis\": {\"colorbar\": {\"outlinewidth\": 0, \"ticks\": \"\"}}, \"colorscale\": {\"diverging\": [[0, \"#8e0152\"], [0.1, \"#c51b7d\"], [0.2, \"#de77ae\"], [0.3, \"#f1b6da\"], [0.4, \"#fde0ef\"], [0.5, \"#f7f7f7\"], [0.6, \"#e6f5d0\"], [0.7, \"#b8e186\"], [0.8, \"#7fbc41\"], [0.9, \"#4d9221\"], [1, \"#276419\"]], \"sequential\": [[0.0, \"#0d0887\"], [0.1111111111111111, \"#46039f\"], [0.2222222222222222, \"#7201a8\"], [0.3333333333333333, \"#9c179e\"], [0.4444444444444444, \"#bd3786\"], [0.5555555555555556, \"#d8576b\"], [0.6666666666666666, \"#ed7953\"], [0.7777777777777778, \"#fb9f3a\"], [0.8888888888888888, \"#fdca26\"], [1.0, \"#f0f921\"]], \"sequentialminus\": [[0.0, \"#0d0887\"], [0.1111111111111111, \"#46039f\"], [0.2222222222222222, \"#7201a8\"], [0.3333333333333333, \"#9c179e\"], [0.4444444444444444, \"#bd3786\"], [0.5555555555555556, \"#d8576b\"], [0.6666666666666666, \"#ed7953\"], [0.7777777777777778, \"#fb9f3a\"], [0.8888888888888888, \"#fdca26\"], [1.0, \"#f0f921\"]]}, \"colorway\": [\"#636efa\", \"#EF553B\", \"#00cc96\", \"#ab63fa\", \"#FFA15A\", \"#19d3f3\", \"#FF6692\", \"#B6E880\", \"#FF97FF\", \"#FECB52\"], \"font\": {\"color\": \"#2a3f5f\"}, \"geo\": {\"bgcolor\": \"white\", \"lakecolor\": \"white\", \"landcolor\": \"#E5ECF6\", \"showlakes\": true, \"showland\": true, \"subunitcolor\": \"white\"}, \"hoverlabel\": {\"align\": \"left\"}, \"hovermode\": \"closest\", \"mapbox\": {\"style\": \"light\"}, \"paper_bgcolor\": \"white\", \"plot_bgcolor\": \"#E5ECF6\", \"polar\": {\"angularaxis\": {\"gridcolor\": \"white\", \"linecolor\": \"white\", \"ticks\": \"\"}, \"bgcolor\": \"#E5ECF6\", \"radialaxis\": {\"gridcolor\": \"white\", \"linecolor\": \"white\", \"ticks\": \"\"}}, \"scene\": {\"xaxis\": {\"backgroundcolor\": \"#E5ECF6\", \"gridcolor\": \"white\", \"gridwidth\": 2, \"linecolor\": \"white\", \"showbackground\": true, \"ticks\": \"\", \"zerolinecolor\": \"white\"}, \"yaxis\": {\"backgroundcolor\": \"#E5ECF6\", \"gridcolor\": \"white\", \"gridwidth\": 2, \"linecolor\": \"white\", \"showbackground\": true, \"ticks\": \"\", \"zerolinecolor\": \"white\"}, \"zaxis\": {\"backgroundcolor\": \"#E5ECF6\", \"gridcolor\": \"white\", \"gridwidth\": 2, \"linecolor\": \"white\", \"showbackground\": true, \"ticks\": \"\", \"zerolinecolor\": \"white\"}}, \"shapedefaults\": {\"line\": {\"color\": \"#2a3f5f\"}}, \"ternary\": {\"aaxis\": {\"gridcolor\": \"white\", \"linecolor\": \"white\", \"ticks\": \"\"}, \"baxis\": {\"gridcolor\": \"white\", \"linecolor\": \"white\", \"ticks\": \"\"}, \"bgcolor\": \"#E5ECF6\", \"caxis\": {\"gridcolor\": \"white\", \"linecolor\": \"white\", \"ticks\": \"\"}}, \"title\": {\"x\": 0.05}, \"xaxis\": {\"automargin\": true, \"gridcolor\": \"white\", \"linecolor\": \"white\", \"ticks\": \"\", \"title\": {\"standoff\": 15}, \"zerolinecolor\": \"white\", \"zerolinewidth\": 2}, \"yaxis\": {\"automargin\": true, \"gridcolor\": \"white\", \"linecolor\": \"white\", \"ticks\": \"\", \"title\": {\"standoff\": 15}, \"zerolinecolor\": \"white\", \"zerolinewidth\": 2}}}},\n",
       "                        {\"responsive\": true}\n",
       "                    ).then(function(){\n",
       "                            \n",
       "var gd = document.getElementById('b7adcb4a-f644-4937-ab0c-eab802bb0fe1');\n",
       "var x = new MutationObserver(function (mutations, observer) {{\n",
       "        var display = window.getComputedStyle(gd).display;\n",
       "        if (!display || display === 'none') {{\n",
       "            console.log([gd, 'removed!']);\n",
       "            Plotly.purge(gd);\n",
       "            observer.disconnect();\n",
       "        }}\n",
       "}});\n",
       "\n",
       "// Listen for the removal of the full notebook cells\n",
       "var notebookContainer = gd.closest('#notebook-container');\n",
       "if (notebookContainer) {{\n",
       "    x.observe(notebookContainer, {childList: true});\n",
       "}}\n",
       "\n",
       "// Listen for the clearing of the current output cell\n",
       "var outputEl = gd.closest('.output');\n",
       "if (outputEl) {{\n",
       "    x.observe(outputEl, {childList: true});\n",
       "}}\n",
       "\n",
       "                        })\n",
       "                };\n",
       "                });\n",
       "            </script>\n",
       "        </div>"
      ]
     },
     "metadata": {},
     "output_type": "display_data"
    }
   ],
   "source": [
    "fig.data[0]['width'] = 10\n",
    "fig."
   ]
  },
  {
   "cell_type": "code",
   "execution_count": 225,
   "metadata": {},
   "outputs": [],
   "source": [
    "from lrg_omics.plotly import set_template\n",
    "set_template()"
   ]
  },
  {
   "cell_type": "code",
   "execution_count": 229,
   "metadata": {},
   "outputs": [
    {
     "data": {
      "text/html": [
       "<div>\n",
       "<style scoped>\n",
       "    .dataframe tbody tr th:only-of-type {\n",
       "        vertical-align: middle;\n",
       "    }\n",
       "\n",
       "    .dataframe tbody tr th {\n",
       "        vertical-align: top;\n",
       "    }\n",
       "\n",
       "    .dataframe thead th {\n",
       "        text-align: right;\n",
       "    }\n",
       "</style>\n",
       "<table border=\"1\" class=\"dataframe\">\n",
       "  <thead>\n",
       "    <tr style=\"text-align: right;\">\n",
       "      <th></th>\n",
       "      <th>index</th>\n",
       "      <th>mz_array</th>\n",
       "      <th>intensity</th>\n",
       "      <th>spectrum</th>\n",
       "      <th>raw_file</th>\n",
       "      <th>retention_time[min]</th>\n",
       "    </tr>\n",
       "  </thead>\n",
       "  <tbody>\n",
       "    <tr>\n",
       "      <th>0</th>\n",
       "      <td>0</td>\n",
       "      <td>110.07146</td>\n",
       "      <td>25439.2285</td>\n",
       "      <td>Spectrum_8790</td>\n",
       "      <td>/var/www/html/omics/projects/LSARP/proteomics/...</td>\n",
       "      <td>31.390581</td>\n",
       "    </tr>\n",
       "    <tr>\n",
       "      <th>1</th>\n",
       "      <td>1</td>\n",
       "      <td>110.07394</td>\n",
       "      <td>1646.7223</td>\n",
       "      <td>Spectrum_8790</td>\n",
       "      <td>/var/www/html/omics/projects/LSARP/proteomics/...</td>\n",
       "      <td>31.390581</td>\n",
       "    </tr>\n",
       "    <tr>\n",
       "      <th>2</th>\n",
       "      <td>2</td>\n",
       "      <td>114.06616</td>\n",
       "      <td>982.9742</td>\n",
       "      <td>Spectrum_8790</td>\n",
       "      <td>/var/www/html/omics/projects/LSARP/proteomics/...</td>\n",
       "      <td>31.390581</td>\n",
       "    </tr>\n",
       "    <tr>\n",
       "      <th>3</th>\n",
       "      <td>3</td>\n",
       "      <td>116.05611</td>\n",
       "      <td>886.4932</td>\n",
       "      <td>Spectrum_8790</td>\n",
       "      <td>/var/www/html/omics/projects/LSARP/proteomics/...</td>\n",
       "      <td>31.390581</td>\n",
       "    </tr>\n",
       "    <tr>\n",
       "      <th>4</th>\n",
       "      <td>4</td>\n",
       "      <td>117.19048</td>\n",
       "      <td>916.0654</td>\n",
       "      <td>Spectrum_8790</td>\n",
       "      <td>/var/www/html/omics/projects/LSARP/proteomics/...</td>\n",
       "      <td>31.390581</td>\n",
       "    </tr>\n",
       "    <tr>\n",
       "      <th>...</th>\n",
       "      <td>...</td>\n",
       "      <td>...</td>\n",
       "      <td>...</td>\n",
       "      <td>...</td>\n",
       "      <td>...</td>\n",
       "      <td>...</td>\n",
       "    </tr>\n",
       "    <tr>\n",
       "      <th>255</th>\n",
       "      <td>255</td>\n",
       "      <td>972.64026</td>\n",
       "      <td>41140.2617</td>\n",
       "      <td>Spectrum_8790</td>\n",
       "      <td>/var/www/html/omics/projects/LSARP/proteomics/...</td>\n",
       "      <td>31.390581</td>\n",
       "    </tr>\n",
       "    <tr>\n",
       "      <th>256</th>\n",
       "      <td>256</td>\n",
       "      <td>973.63867</td>\n",
       "      <td>83469.3359</td>\n",
       "      <td>Spectrum_8790</td>\n",
       "      <td>/var/www/html/omics/projects/LSARP/proteomics/...</td>\n",
       "      <td>31.390581</td>\n",
       "    </tr>\n",
       "    <tr>\n",
       "      <th>257</th>\n",
       "      <td>257</td>\n",
       "      <td>974.64166</td>\n",
       "      <td>6498.1094</td>\n",
       "      <td>Spectrum_8790</td>\n",
       "      <td>/var/www/html/omics/projects/LSARP/proteomics/...</td>\n",
       "      <td>31.390581</td>\n",
       "    </tr>\n",
       "    <tr>\n",
       "      <th>258</th>\n",
       "      <td>258</td>\n",
       "      <td>986.55060</td>\n",
       "      <td>2102.2896</td>\n",
       "      <td>Spectrum_8790</td>\n",
       "      <td>/var/www/html/omics/projects/LSARP/proteomics/...</td>\n",
       "      <td>31.390581</td>\n",
       "    </tr>\n",
       "    <tr>\n",
       "      <th>259</th>\n",
       "      <td>259</td>\n",
       "      <td>1088.51208</td>\n",
       "      <td>3080.9768</td>\n",
       "      <td>Spectrum_8790</td>\n",
       "      <td>/var/www/html/omics/projects/LSARP/proteomics/...</td>\n",
       "      <td>31.390581</td>\n",
       "    </tr>\n",
       "  </tbody>\n",
       "</table>\n",
       "<p>260 rows × 6 columns</p>\n",
       "</div>"
      ],
      "text/plain": [
       "     index    mz_array   intensity       spectrum  \\\n",
       "0        0   110.07146  25439.2285  Spectrum_8790   \n",
       "1        1   110.07394   1646.7223  Spectrum_8790   \n",
       "2        2   114.06616    982.9742  Spectrum_8790   \n",
       "3        3   116.05611    886.4932  Spectrum_8790   \n",
       "4        4   117.19048    916.0654  Spectrum_8790   \n",
       "..     ...         ...         ...            ...   \n",
       "255    255   972.64026  41140.2617  Spectrum_8790   \n",
       "256    256   973.63867  83469.3359  Spectrum_8790   \n",
       "257    257   974.64166   6498.1094  Spectrum_8790   \n",
       "258    258   986.55060   2102.2896  Spectrum_8790   \n",
       "259    259  1088.51208   3080.9768  Spectrum_8790   \n",
       "\n",
       "                                              raw_file  retention_time[min]  \n",
       "0    /var/www/html/omics/projects/LSARP/proteomics/...            31.390581  \n",
       "1    /var/www/html/omics/projects/LSARP/proteomics/...            31.390581  \n",
       "2    /var/www/html/omics/projects/LSARP/proteomics/...            31.390581  \n",
       "3    /var/www/html/omics/projects/LSARP/proteomics/...            31.390581  \n",
       "4    /var/www/html/omics/projects/LSARP/proteomics/...            31.390581  \n",
       "..                                                 ...                  ...  \n",
       "255  /var/www/html/omics/projects/LSARP/proteomics/...            31.390581  \n",
       "256  /var/www/html/omics/projects/LSARP/proteomics/...            31.390581  \n",
       "257  /var/www/html/omics/projects/LSARP/proteomics/...            31.390581  \n",
       "258  /var/www/html/omics/projects/LSARP/proteomics/...            31.390581  \n",
       "259  /var/www/html/omics/projects/LSARP/proteomics/...            31.390581  \n",
       "\n",
       "[260 rows x 6 columns]"
      ]
     },
     "execution_count": 229,
     "metadata": {},
     "output_type": "execute_result"
    }
   ],
   "source": [
    "df"
   ]
  },
  {
   "cell_type": "code",
   "execution_count": 263,
   "metadata": {},
   "outputs": [],
   "source": [
    "def plot_spectrum(df, plot=True, annot_threshold=1e4, threshold=0):\n",
    "\n",
    "    df = df[df.intensity > threshold].reset_index()\n",
    "\n",
    "    df1 = df.copy()\n",
    "    df1['Text'] = df1.mz_array.astype(str)\n",
    "    df1.loc[df1.intensity < annot_threshold, 'Text'] = None\n",
    "    df1.Text.notnull().sum()\n",
    "\n",
    "    df2 = df.copy()\n",
    "    df2['intensity'] = 0\n",
    "    \n",
    "    df3 = pd.concat([df1, df2]).sort_values(['index', 'intensity'])\n",
    "    \n",
    "    fig = px.line(df3, x='mz_array', y='intensity', color='index', text='Text',\n",
    "                  hover_data={'Text': False,\n",
    "                              'index': False})\n",
    "    fig.update_layout(showlegend=False)\n",
    "    fig.update_traces(line=dict(width=1, color='grey'))\n",
    "    fig.update_traces(textposition='top center')\n",
    "    fig.update_layout(hovermode=\"x unified\")\n",
    "    return fig\n"
   ]
  },
  {
   "cell_type": "code",
   "execution_count": 264,
   "metadata": {},
   "outputs": [
    {
     "data": {
      "application/vnd.plotly.v1+json": {
       "config": {
        "plotlyServerURL": "https://plot.ly"
       },
       "data": [
        {
         "customdata": [
          [
           null,
           0
          ],
          [
           null,
           0
          ]
         ],
         "hovertemplate": "mz_array=%{x}<br>intensity=%{y}<extra></extra>",
         "legendgroup": "0",
         "line": {
          "color": "grey",
          "dash": "solid",
          "width": 1
         },
         "mode": "lines+markers+text",
         "name": "0",
         "orientation": "v",
         "showlegend": true,
         "text": [
          null,
          null
         ],
         "textposition": "top center",
         "type": "scatter",
         "x": [
          110.07146,
          110.07146
         ],
         "xaxis": "x",
         "y": [
          0,
          25439.2285
         ],
         "yaxis": "y"
        },
        {
         "customdata": [
          [
           null,
           10
          ],
          [
           "126.12793",
           10
          ]
         ],
         "hovertemplate": "mz_array=%{x}<br>intensity=%{y}<extra></extra>",
         "legendgroup": "10",
         "line": {
          "color": "grey",
          "dash": "solid",
          "width": 1
         },
         "mode": "lines+markers+text",
         "name": "10",
         "orientation": "v",
         "showlegend": true,
         "text": [
          null,
          "126.12793"
         ],
         "textposition": "top center",
         "type": "scatter",
         "x": [
          126.12793,
          126.12793
         ],
         "xaxis": "x",
         "y": [
          0,
          216840.5625
         ],
         "yaxis": "y"
        },
        {
         "customdata": [
          [
           null,
           11
          ],
          [
           null,
           11
          ]
         ],
         "hovertemplate": "mz_array=%{x}<br>intensity=%{y}<extra></extra>",
         "legendgroup": "11",
         "line": {
          "color": "grey",
          "dash": "solid",
          "width": 1
         },
         "mode": "lines+markers+text",
         "name": "11",
         "orientation": "v",
         "showlegend": true,
         "text": [
          null,
          null
         ],
         "textposition": "top center",
         "type": "scatter",
         "x": [
          127.12504,
          127.12504
         ],
         "xaxis": "x",
         "y": [
          0,
          57419.7109
         ],
         "yaxis": "y"
        },
        {
         "customdata": [
          [
           null,
           12
          ],
          [
           "127.13126",
           12
          ]
         ],
         "hovertemplate": "mz_array=%{x}<br>intensity=%{y}<extra></extra>",
         "legendgroup": "12",
         "line": {
          "color": "grey",
          "dash": "solid",
          "width": 1
         },
         "mode": "lines+markers+text",
         "name": "12",
         "orientation": "v",
         "showlegend": true,
         "text": [
          null,
          "127.13126"
         ],
         "textposition": "top center",
         "type": "scatter",
         "x": [
          127.13126,
          127.13126
         ],
         "xaxis": "x",
         "y": [
          0,
          232963.9062
         ],
         "yaxis": "y"
        },
        {
         "customdata": [
          [
           null,
           14
          ],
          [
           "128.12834",
           14
          ]
         ],
         "hovertemplate": "mz_array=%{x}<br>intensity=%{y}<extra></extra>",
         "legendgroup": "14",
         "line": {
          "color": "grey",
          "dash": "solid",
          "width": 1
         },
         "mode": "lines+markers+text",
         "name": "14",
         "orientation": "v",
         "showlegend": true,
         "text": [
          null,
          "128.12834"
         ],
         "textposition": "top center",
         "type": "scatter",
         "x": [
          128.12834,
          128.12834
         ],
         "xaxis": "x",
         "y": [
          0,
          185551.8281
         ],
         "yaxis": "y"
        },
        {
         "customdata": [
          [
           null,
           15
          ],
          [
           "128.13463",
           15
          ]
         ],
         "hovertemplate": "mz_array=%{x}<br>intensity=%{y}<extra></extra>",
         "legendgroup": "15",
         "line": {
          "color": "grey",
          "dash": "solid",
          "width": 1
         },
         "mode": "lines+markers+text",
         "name": "15",
         "orientation": "v",
         "showlegend": true,
         "text": [
          null,
          "128.13463"
         ],
         "textposition": "top center",
         "type": "scatter",
         "x": [
          128.13463,
          128.13463
         ],
         "xaxis": "x",
         "y": [
          0,
          150068.5469
         ],
         "yaxis": "y"
        },
        {
         "customdata": [
          [
           null,
           16
          ],
          [
           "129.1317",
           16
          ]
         ],
         "hovertemplate": "mz_array=%{x}<br>intensity=%{y}<extra></extra>",
         "legendgroup": "16",
         "line": {
          "color": "grey",
          "dash": "solid",
          "width": 1
         },
         "mode": "lines+markers+text",
         "name": "16",
         "orientation": "v",
         "showlegend": true,
         "text": [
          null,
          "129.1317"
         ],
         "textposition": "top center",
         "type": "scatter",
         "x": [
          129.1317,
          129.1317
         ],
         "xaxis": "x",
         "y": [
          0,
          213701.125
         ],
         "yaxis": "y"
        },
        {
         "customdata": [
          [
           null,
           17
          ],
          [
           "129.13797",
           17
          ]
         ],
         "hovertemplate": "mz_array=%{x}<br>intensity=%{y}<extra></extra>",
         "legendgroup": "17",
         "line": {
          "color": "grey",
          "dash": "solid",
          "width": 1
         },
         "mode": "lines+markers+text",
         "name": "17",
         "orientation": "v",
         "showlegend": true,
         "text": [
          null,
          "129.13797"
         ],
         "textposition": "top center",
         "type": "scatter",
         "x": [
          129.13797,
          129.13797
         ],
         "xaxis": "x",
         "y": [
          0,
          175202.7812
         ],
         "yaxis": "y"
        },
        {
         "customdata": [
          [
           null,
           18
          ],
          [
           null,
           18
          ]
         ],
         "hovertemplate": "mz_array=%{x}<br>intensity=%{y}<extra></extra>",
         "legendgroup": "18",
         "line": {
          "color": "grey",
          "dash": "solid",
          "width": 1
         },
         "mode": "lines+markers+text",
         "name": "18",
         "orientation": "v",
         "showlegend": true,
         "text": [
          null,
          null
         ],
         "textposition": "top center",
         "type": "scatter",
         "x": [
          130.13513,
          130.13513
         ],
         "xaxis": "x",
         "y": [
          0,
          30559.4082
         ],
         "yaxis": "y"
        },
        {
         "customdata": [
          [
           null,
           19
          ],
          [
           "130.14134",
           19
          ]
         ],
         "hovertemplate": "mz_array=%{x}<br>intensity=%{y}<extra></extra>",
         "legendgroup": "19",
         "line": {
          "color": "grey",
          "dash": "solid",
          "width": 1
         },
         "mode": "lines+markers+text",
         "name": "19",
         "orientation": "v",
         "showlegend": true,
         "text": [
          null,
          "130.14134"
         ],
         "textposition": "top center",
         "type": "scatter",
         "x": [
          130.14134,
          130.14134
         ],
         "xaxis": "x",
         "y": [
          0,
          348759.2188
         ],
         "yaxis": "y"
        },
        {
         "customdata": [
          [
           null,
           20
          ],
          [
           null,
           20
          ]
         ],
         "hovertemplate": "mz_array=%{x}<br>intensity=%{y}<extra></extra>",
         "legendgroup": "20",
         "line": {
          "color": "grey",
          "dash": "solid",
          "width": 1
         },
         "mode": "lines+markers+text",
         "name": "20",
         "orientation": "v",
         "showlegend": true,
         "text": [
          null,
          null
         ],
         "textposition": "top center",
         "type": "scatter",
         "x": [
          131.13846,
          131.13846
         ],
         "xaxis": "x",
         "y": [
          0,
          30982.2051
         ],
         "yaxis": "y"
        },
        {
         "customdata": [
          [
           null,
           21
          ],
          [
           "131.1447",
           21
          ]
         ],
         "hovertemplate": "mz_array=%{x}<br>intensity=%{y}<extra></extra>",
         "legendgroup": "21",
         "line": {
          "color": "grey",
          "dash": "solid",
          "width": 1
         },
         "mode": "lines+markers+text",
         "name": "21",
         "orientation": "v",
         "showlegend": true,
         "text": [
          null,
          "131.1447"
         ],
         "textposition": "top center",
         "type": "scatter",
         "x": [
          131.1447,
          131.1447
         ],
         "xaxis": "x",
         "y": [
          0,
          199917.6719
         ],
         "yaxis": "y"
        },
        {
         "customdata": [
          [
           null,
           41
          ],
          [
           null,
           41
          ]
         ],
         "hovertemplate": "mz_array=%{x}<br>intensity=%{y}<extra></extra>",
         "legendgroup": "41",
         "line": {
          "color": "grey",
          "dash": "solid",
          "width": 1
         },
         "mode": "lines+markers+text",
         "name": "41",
         "orientation": "v",
         "showlegend": true,
         "text": [
          null,
          null
         ],
         "textposition": "top center",
         "type": "scatter",
         "x": [
          173.14977,
          173.14977
         ],
         "xaxis": "x",
         "y": [
          0,
          19141.2285
         ],
         "yaxis": "y"
        },
        {
         "customdata": [
          [
           null,
           43
          ],
          [
           null,
           43
          ]
         ],
         "hovertemplate": "mz_array=%{x}<br>intensity=%{y}<extra></extra>",
         "legendgroup": "43",
         "line": {
          "color": "grey",
          "dash": "solid",
          "width": 1
         },
         "mode": "lines+markers+text",
         "name": "43",
         "orientation": "v",
         "showlegend": true,
         "text": [
          null,
          null
         ],
         "textposition": "top center",
         "type": "scatter",
         "x": [
          175.11942,
          175.11942
         ],
         "xaxis": "x",
         "y": [
          0,
          13154.6768
         ],
         "yaxis": "y"
        },
        {
         "customdata": [
          [
           null,
           46
          ],
          [
           null,
           46
          ]
         ],
         "hovertemplate": "mz_array=%{x}<br>intensity=%{y}<extra></extra>",
         "legendgroup": "46",
         "line": {
          "color": "grey",
          "dash": "solid",
          "width": 1
         },
         "mode": "lines+markers+text",
         "name": "46",
         "orientation": "v",
         "showlegend": true,
         "text": [
          null,
          null
         ],
         "textposition": "top center",
         "type": "scatter",
         "x": [
          176.15984,
          176.15984
         ],
         "xaxis": "x",
         "y": [
          0,
          16165.5098
         ],
         "yaxis": "y"
        },
        {
         "customdata": [
          [
           null,
           51
          ],
          [
           null,
           51
          ]
         ],
         "hovertemplate": "mz_array=%{x}<br>intensity=%{y}<extra></extra>",
         "legendgroup": "51",
         "line": {
          "color": "grey",
          "dash": "solid",
          "width": 1
         },
         "mode": "lines+markers+text",
         "name": "51",
         "orientation": "v",
         "showlegend": true,
         "text": [
          null,
          null
         ],
         "textposition": "top center",
         "type": "scatter",
         "x": [
          185.16502,
          185.16502
         ],
         "xaxis": "x",
         "y": [
          0,
          11696.4795
         ],
         "yaxis": "y"
        },
        {
         "customdata": [
          [
           null,
           53
          ],
          [
           null,
           53
          ]
         ],
         "hovertemplate": "mz_array=%{x}<br>intensity=%{y}<extra></extra>",
         "legendgroup": "53",
         "line": {
          "color": "grey",
          "dash": "solid",
          "width": 1
         },
         "mode": "lines+markers+text",
         "name": "53",
         "orientation": "v",
         "showlegend": true,
         "text": [
          null,
          null
         ],
         "textposition": "top center",
         "type": "scatter",
         "x": [
          186.15312,
          186.15312
         ],
         "xaxis": "x",
         "y": [
          0,
          15873.5391
         ],
         "yaxis": "y"
        },
        {
         "customdata": [
          [
           null,
           55
          ],
          [
           null,
           55
          ]
         ],
         "hovertemplate": "mz_array=%{x}<br>intensity=%{y}<extra></extra>",
         "legendgroup": "55",
         "line": {
          "color": "grey",
          "dash": "solid",
          "width": 1
         },
         "mode": "lines+markers+text",
         "name": "55",
         "orientation": "v",
         "showlegend": true,
         "text": [
          null,
          null
         ],
         "textposition": "top center",
         "type": "scatter",
         "x": [
          188.15984,
          188.15984
         ],
         "xaxis": "x",
         "y": [
          0,
          20521.084
         ],
         "yaxis": "y"
        },
        {
         "customdata": [
          [
           null,
           73
          ],
          [
           "230.17047",
           73
          ]
         ],
         "hovertemplate": "mz_array=%{x}<br>intensity=%{y}<extra></extra>",
         "legendgroup": "73",
         "line": {
          "color": "grey",
          "dash": "solid",
          "width": 1
         },
         "mode": "lines+markers+text",
         "name": "73",
         "orientation": "v",
         "showlegend": true,
         "text": [
          null,
          "230.17047"
         ],
         "textposition": "top center",
         "type": "scatter",
         "x": [
          230.17047,
          230.17047
         ],
         "xaxis": "x",
         "y": [
          0,
          413664.7812
         ],
         "yaxis": "y"
        },
        {
         "customdata": [
          [
           null,
           78
          ],
          [
           null,
           78
          ]
         ],
         "hovertemplate": "mz_array=%{x}<br>intensity=%{y}<extra></extra>",
         "legendgroup": "78",
         "line": {
          "color": "grey",
          "dash": "solid",
          "width": 1
         },
         "mode": "lines+markers+text",
         "name": "78",
         "orientation": "v",
         "showlegend": true,
         "text": [
          null,
          null
         ],
         "textposition": "top center",
         "type": "scatter",
         "x": [
          248.18111,
          248.18111
         ],
         "xaxis": "x",
         "y": [
          0,
          27009.8809
         ],
         "yaxis": "y"
        },
        {
         "customdata": [
          [
           null,
           90
          ],
          [
           null,
           90
          ]
         ],
         "hovertemplate": "mz_array=%{x}<br>intensity=%{y}<extra></extra>",
         "legendgroup": "90",
         "line": {
          "color": "grey",
          "dash": "solid",
          "width": 1
         },
         "mode": "lines+markers+text",
         "name": "90",
         "orientation": "v",
         "showlegend": true,
         "text": [
          null,
          null
         ],
         "textposition": "top center",
         "type": "scatter",
         "x": [
          294.19025,
          294.19025
         ],
         "xaxis": "x",
         "y": [
          0,
          14816.0156
         ],
         "yaxis": "y"
        },
        {
         "customdata": [
          [
           null,
           93
          ],
          [
           "301.24435",
           93
          ]
         ],
         "hovertemplate": "mz_array=%{x}<br>intensity=%{y}<extra></extra>",
         "legendgroup": "93",
         "line": {
          "color": "grey",
          "dash": "solid",
          "width": 1
         },
         "mode": "lines+markers+text",
         "name": "93",
         "orientation": "v",
         "showlegend": true,
         "text": [
          null,
          "301.24435"
         ],
         "textposition": "top center",
         "type": "scatter",
         "x": [
          301.24435,
          301.24435
         ],
         "xaxis": "x",
         "y": [
          0,
          159118.4531
         ],
         "yaxis": "y"
        },
        {
         "customdata": [
          [
           null,
           99
          ],
          [
           null,
           99
          ]
         ],
         "hovertemplate": "mz_array=%{x}<br>intensity=%{y}<extra></extra>",
         "legendgroup": "99",
         "line": {
          "color": "grey",
          "dash": "solid",
          "width": 1
         },
         "mode": "lines+markers+text",
         "name": "99",
         "orientation": "v",
         "showlegend": true,
         "text": [
          null,
          null
         ],
         "textposition": "top center",
         "type": "scatter",
         "x": [
          328.2554,
          328.2554
         ],
         "xaxis": "x",
         "y": [
          0,
          16583.5703
         ],
         "yaxis": "y"
        },
        {
         "customdata": [
          [
           null,
           100
          ],
          [
           "329.23941",
           100
          ]
         ],
         "hovertemplate": "mz_array=%{x}<br>intensity=%{y}<extra></extra>",
         "legendgroup": "100",
         "line": {
          "color": "grey",
          "dash": "solid",
          "width": 1
         },
         "mode": "lines+markers+text",
         "name": "100",
         "orientation": "v",
         "showlegend": true,
         "text": [
          null,
          "329.23941"
         ],
         "textposition": "top center",
         "type": "scatter",
         "x": [
          329.23941,
          329.23941
         ],
         "xaxis": "x",
         "y": [
          0,
          294487.4688
         ],
         "yaxis": "y"
        },
        {
         "customdata": [
          [
           null,
           102
          ],
          [
           null,
           102
          ]
         ],
         "hovertemplate": "mz_array=%{x}<br>intensity=%{y}<extra></extra>",
         "legendgroup": "102",
         "line": {
          "color": "grey",
          "dash": "solid",
          "width": 1
         },
         "mode": "lines+markers+text",
         "name": "102",
         "orientation": "v",
         "showlegend": true,
         "text": [
          null,
          null
         ],
         "textposition": "top center",
         "type": "scatter",
         "x": [
          330.27121,
          330.27121
         ],
         "xaxis": "x",
         "y": [
          0,
          10279.0137
         ],
         "yaxis": "y"
        },
        {
         "customdata": [
          [
           null,
           120
          ],
          [
           "376.27686",
           120
          ]
         ],
         "hovertemplate": "mz_array=%{x}<br>intensity=%{y}<extra></extra>",
         "legendgroup": "120",
         "line": {
          "color": "grey",
          "dash": "solid",
          "width": 1
         },
         "mode": "lines+markers+text",
         "name": "120",
         "orientation": "v",
         "showlegend": true,
         "text": [
          null,
          "376.27686"
         ],
         "textposition": "top center",
         "type": "scatter",
         "x": [
          376.27686,
          376.27686
         ],
         "xaxis": "x",
         "y": [
          0,
          121995.6797
         ],
         "yaxis": "y"
        },
        {
         "customdata": [
          [
           null,
           132
          ],
          [
           null,
           132
          ]
         ],
         "hovertemplate": "mz_array=%{x}<br>intensity=%{y}<extra></extra>",
         "legendgroup": "132",
         "line": {
          "color": "grey",
          "dash": "solid",
          "width": 1
         },
         "mode": "lines+markers+text",
         "name": "132",
         "orientation": "v",
         "showlegend": true,
         "text": [
          null,
          null
         ],
         "textposition": "top center",
         "type": "scatter",
         "x": [
          414.32928,
          414.32928
         ],
         "xaxis": "x",
         "y": [
          0,
          43997.9336
         ],
         "yaxis": "y"
        },
        {
         "customdata": [
          [
           null,
           138
          ],
          [
           null,
           138
          ]
         ],
         "hovertemplate": "mz_array=%{x}<br>intensity=%{y}<extra></extra>",
         "legendgroup": "138",
         "line": {
          "color": "grey",
          "dash": "solid",
          "width": 1
         },
         "mode": "lines+markers+text",
         "name": "138",
         "orientation": "v",
         "showlegend": true,
         "text": [
          null,
          null
         ],
         "textposition": "top center",
         "type": "scatter",
         "x": [
          429.24649,
          429.24649
         ],
         "xaxis": "x",
         "y": [
          0,
          20176.8105
         ],
         "yaxis": "y"
        },
        {
         "customdata": [
          [
           null,
           139
          ],
          [
           null,
           139
          ]
         ],
         "hovertemplate": "mz_array=%{x}<br>intensity=%{y}<extra></extra>",
         "legendgroup": "139",
         "line": {
          "color": "grey",
          "dash": "solid",
          "width": 1
         },
         "mode": "lines+markers+text",
         "name": "139",
         "orientation": "v",
         "showlegend": true,
         "text": [
          null,
          null
         ],
         "textposition": "top center",
         "type": "scatter",
         "x": [
          430.24493,
          430.24493
         ],
         "xaxis": "x",
         "y": [
          0,
          43418.1523
         ],
         "yaxis": "y"
        },
        {
         "customdata": [
          [
           null,
           140
          ],
          [
           null,
           140
          ]
         ],
         "hovertemplate": "mz_array=%{x}<br>intensity=%{y}<extra></extra>",
         "legendgroup": "140",
         "line": {
          "color": "grey",
          "dash": "solid",
          "width": 1
         },
         "mode": "lines+markers+text",
         "name": "140",
         "orientation": "v",
         "showlegend": true,
         "text": [
          null,
          null
         ],
         "textposition": "top center",
         "type": "scatter",
         "x": [
          431.24677,
          431.24677
         ],
         "xaxis": "x",
         "y": [
          0,
          14784.6436
         ],
         "yaxis": "y"
        },
        {
         "customdata": [
          [
           null,
           141
          ],
          [
           null,
           141
          ]
         ],
         "hovertemplate": "mz_array=%{x}<br>intensity=%{y}<extra></extra>",
         "legendgroup": "141",
         "line": {
          "color": "grey",
          "dash": "solid",
          "width": 1
         },
         "mode": "lines+markers+text",
         "name": "141",
         "orientation": "v",
         "showlegend": true,
         "text": [
          null,
          null
         ],
         "textposition": "top center",
         "type": "scatter",
         "x": [
          432.25629,
          432.25629
         ],
         "xaxis": "x",
         "y": [
          0,
          16376.1328
         ],
         "yaxis": "y"
        },
        {
         "customdata": [
          [
           null,
           142
          ],
          [
           null,
           142
          ]
         ],
         "hovertemplate": "mz_array=%{x}<br>intensity=%{y}<extra></extra>",
         "legendgroup": "142",
         "line": {
          "color": "grey",
          "dash": "solid",
          "width": 1
         },
         "mode": "lines+markers+text",
         "name": "142",
         "orientation": "v",
         "showlegend": true,
         "text": [
          null,
          null
         ],
         "textposition": "top center",
         "type": "scatter",
         "x": [
          433.25363,
          433.25363
         ],
         "xaxis": "x",
         "y": [
          0,
          33270.8125
         ],
         "yaxis": "y"
        },
        {
         "customdata": [
          [
           null,
           143
          ],
          [
           null,
           143
          ]
         ],
         "hovertemplate": "mz_array=%{x}<br>intensity=%{y}<extra></extra>",
         "legendgroup": "143",
         "line": {
          "color": "grey",
          "dash": "solid",
          "width": 1
         },
         "mode": "lines+markers+text",
         "name": "143",
         "orientation": "v",
         "showlegend": true,
         "text": [
          null,
          null
         ],
         "textposition": "top center",
         "type": "scatter",
         "x": [
          437.2363,
          437.2363
         ],
         "xaxis": "x",
         "y": [
          0,
          22342.9824
         ],
         "yaxis": "y"
        },
        {
         "customdata": [
          [
           null,
           146
          ],
          [
           null,
           146
          ]
         ],
         "hovertemplate": "mz_array=%{x}<br>intensity=%{y}<extra></extra>",
         "legendgroup": "146",
         "line": {
          "color": "grey",
          "dash": "solid",
          "width": 1
         },
         "mode": "lines+markers+text",
         "name": "146",
         "orientation": "v",
         "showlegend": true,
         "text": [
          null,
          null
         ],
         "textposition": "top center",
         "type": "scatter",
         "x": [
          441.34003,
          441.34003
         ],
         "xaxis": "x",
         "y": [
          0,
          16104.7998
         ],
         "yaxis": "y"
        },
        {
         "customdata": [
          [
           null,
           147
          ],
          [
           "442.32413",
           147
          ]
         ],
         "hovertemplate": "mz_array=%{x}<br>intensity=%{y}<extra></extra>",
         "legendgroup": "147",
         "line": {
          "color": "grey",
          "dash": "solid",
          "width": 1
         },
         "mode": "lines+markers+text",
         "name": "147",
         "orientation": "v",
         "showlegend": true,
         "text": [
          null,
          "442.32413"
         ],
         "textposition": "top center",
         "type": "scatter",
         "x": [
          442.32413,
          442.32413
         ],
         "xaxis": "x",
         "y": [
          0,
          483527.2812
         ],
         "yaxis": "y"
        },
        {
         "customdata": [
          [
           null,
           149
          ],
          [
           null,
           149
          ]
         ],
         "hovertemplate": "mz_array=%{x}<br>intensity=%{y}<extra></extra>",
         "legendgroup": "149",
         "line": {
          "color": "grey",
          "dash": "solid",
          "width": 1
         },
         "mode": "lines+markers+text",
         "name": "149",
         "orientation": "v",
         "showlegend": true,
         "text": [
          null,
          null
         ],
         "textposition": "top center",
         "type": "scatter",
         "x": [
          443.32718,
          443.32718
         ],
         "xaxis": "x",
         "y": [
          0,
          19881.9922
         ],
         "yaxis": "y"
        },
        {
         "customdata": [
          [
           null,
           150
          ],
          [
           null,
           150
          ]
         ],
         "hovertemplate": "mz_array=%{x}<br>intensity=%{y}<extra></extra>",
         "legendgroup": "150",
         "line": {
          "color": "grey",
          "dash": "solid",
          "width": 1
         },
         "mode": "lines+markers+text",
         "name": "150",
         "orientation": "v",
         "showlegend": true,
         "text": [
          null,
          null
         ],
         "textposition": "top center",
         "type": "scatter",
         "x": [
          451.23401,
          451.23401
         ],
         "xaxis": "x",
         "y": [
          0,
          15507.124
         ],
         "yaxis": "y"
        },
        {
         "customdata": [
          [
           null,
           156
          ],
          [
           null,
           156
          ]
         ],
         "hovertemplate": "mz_array=%{x}<br>intensity=%{y}<extra></extra>",
         "legendgroup": "156",
         "line": {
          "color": "grey",
          "dash": "solid",
          "width": 1
         },
         "mode": "lines+markers+text",
         "name": "156",
         "orientation": "v",
         "showlegend": true,
         "text": [
          null,
          null
         ],
         "textposition": "top center",
         "type": "scatter",
         "x": [
          473.29343,
          473.29343
         ],
         "xaxis": "x",
         "y": [
          0,
          15287.585
         ],
         "yaxis": "y"
        },
        {
         "customdata": [
          [
           null,
           160
          ],
          [
           null,
           160
          ]
         ],
         "hovertemplate": "mz_array=%{x}<br>intensity=%{y}<extra></extra>",
         "legendgroup": "160",
         "line": {
          "color": "grey",
          "dash": "solid",
          "width": 1
         },
         "mode": "lines+markers+text",
         "name": "160",
         "orientation": "v",
         "showlegend": true,
         "text": [
          null,
          null
         ],
         "textposition": "top center",
         "type": "scatter",
         "x": [
          490.32019,
          490.32019
         ],
         "xaxis": "x",
         "y": [
          0,
          50731.1445
         ],
         "yaxis": "y"
        },
        {
         "customdata": [
          [
           null,
           166
          ],
          [
           null,
           166
          ]
         ],
         "hovertemplate": "mz_array=%{x}<br>intensity=%{y}<extra></extra>",
         "legendgroup": "166",
         "line": {
          "color": "grey",
          "dash": "solid",
          "width": 1
         },
         "mode": "lines+markers+text",
         "name": "166",
         "orientation": "v",
         "showlegend": true,
         "text": [
          null,
          null
         ],
         "textposition": "top center",
         "type": "scatter",
         "x": [
          513.39777,
          513.39777
         ],
         "xaxis": "x",
         "y": [
          0,
          70059.4766
         ],
         "yaxis": "y"
        },
        {
         "customdata": [
          [
           null,
           175
          ],
          [
           "541.39282",
           175
          ]
         ],
         "hovertemplate": "mz_array=%{x}<br>intensity=%{y}<extra></extra>",
         "legendgroup": "175",
         "line": {
          "color": "grey",
          "dash": "solid",
          "width": 1
         },
         "mode": "lines+markers+text",
         "name": "175",
         "orientation": "v",
         "showlegend": true,
         "text": [
          null,
          "541.39282"
         ],
         "textposition": "top center",
         "type": "scatter",
         "x": [
          541.39282,
          541.39282
         ],
         "xaxis": "x",
         "y": [
          0,
          377406.75
         ],
         "yaxis": "y"
        },
        {
         "customdata": [
          [
           null,
           178
          ],
          [
           null,
           178
          ]
         ],
         "hovertemplate": "mz_array=%{x}<br>intensity=%{y}<extra></extra>",
         "legendgroup": "178",
         "line": {
          "color": "grey",
          "dash": "solid",
          "width": 1
         },
         "mode": "lines+markers+text",
         "name": "178",
         "orientation": "v",
         "showlegend": true,
         "text": [
          null,
          null
         ],
         "textposition": "top center",
         "type": "scatter",
         "x": [
          542.39557,
          542.39557
         ],
         "xaxis": "x",
         "y": [
          0,
          19975.375
         ],
         "yaxis": "y"
        },
        {
         "customdata": [
          [
           null,
           179
          ],
          [
           null,
           179
          ]
         ],
         "hovertemplate": "mz_array=%{x}<br>intensity=%{y}<extra></extra>",
         "legendgroup": "179",
         "line": {
          "color": "grey",
          "dash": "solid",
          "width": 1
         },
         "mode": "lines+markers+text",
         "name": "179",
         "orientation": "v",
         "showlegend": true,
         "text": [
          null,
          null
         ],
         "textposition": "top center",
         "type": "scatter",
         "x": [
          543.33575,
          543.33575
         ],
         "xaxis": "x",
         "y": [
          0,
          12620.4678
         ],
         "yaxis": "y"
        },
        {
         "customdata": [
          [
           null,
           183
          ],
          [
           null,
           183
          ]
         ],
         "hovertemplate": "mz_array=%{x}<br>intensity=%{y}<extra></extra>",
         "legendgroup": "183",
         "line": {
          "color": "grey",
          "dash": "solid",
          "width": 1
         },
         "mode": "lines+markers+text",
         "name": "183",
         "orientation": "v",
         "showlegend": true,
         "text": [
          null,
          null
         ],
         "textposition": "top center",
         "type": "scatter",
         "x": [
          555.87006,
          555.87006
         ],
         "xaxis": "x",
         "y": [
          0,
          12590.7705
         ],
         "yaxis": "y"
        },
        {
         "customdata": [
          [
           null,
           187
          ],
          [
           "564.383",
           187
          ]
         ],
         "hovertemplate": "mz_array=%{x}<br>intensity=%{y}<extra></extra>",
         "legendgroup": "187",
         "line": {
          "color": "grey",
          "dash": "solid",
          "width": 1
         },
         "mode": "lines+markers+text",
         "name": "187",
         "orientation": "v",
         "showlegend": true,
         "text": [
          null,
          "564.383"
         ],
         "textposition": "top center",
         "type": "scatter",
         "x": [
          564.383,
          564.383
         ],
         "xaxis": "x",
         "y": [
          0,
          709076.25
         ],
         "yaxis": "y"
        },
        {
         "customdata": [
          [
           null,
           189
          ],
          [
           null,
           189
          ]
         ],
         "hovertemplate": "mz_array=%{x}<br>intensity=%{y}<extra></extra>",
         "legendgroup": "189",
         "line": {
          "color": "grey",
          "dash": "solid",
          "width": 1
         },
         "mode": "lines+markers+text",
         "name": "189",
         "orientation": "v",
         "showlegend": true,
         "text": [
          null,
          null
         ],
         "textposition": "top center",
         "type": "scatter",
         "x": [
          564.88458,
          564.88458
         ],
         "xaxis": "x",
         "y": [
          0,
          77037.8281
         ],
         "yaxis": "y"
        },
        {
         "customdata": [
          [
           null,
           190
          ],
          [
           null,
           190
          ]
         ],
         "hovertemplate": "mz_array=%{x}<br>intensity=%{y}<extra></extra>",
         "legendgroup": "190",
         "line": {
          "color": "grey",
          "dash": "solid",
          "width": 1
         },
         "mode": "lines+markers+text",
         "name": "190",
         "orientation": "v",
         "showlegend": true,
         "text": [
          null,
          null
         ],
         "textposition": "top center",
         "type": "scatter",
         "x": [
          569.3631,
          569.3631
         ],
         "xaxis": "x",
         "y": [
          0,
          14947.8887
         ],
         "yaxis": "y"
        },
        {
         "customdata": [
          [
           null,
           191
          ],
          [
           null,
           191
          ]
         ],
         "hovertemplate": "mz_array=%{x}<br>intensity=%{y}<extra></extra>",
         "legendgroup": "191",
         "line": {
          "color": "grey",
          "dash": "solid",
          "width": 1
         },
         "mode": "lines+markers+text",
         "name": "191",
         "orientation": "v",
         "showlegend": true,
         "text": [
          null,
          null
         ],
         "textposition": "top center",
         "type": "scatter",
         "x": [
          570.34674,
          570.34674
         ],
         "xaxis": "x",
         "y": [
          0,
          21473.3652
         ],
         "yaxis": "y"
        },
        {
         "customdata": [
          [
           null,
           197
          ],
          [
           "587.37323",
           197
          ]
         ],
         "hovertemplate": "mz_array=%{x}<br>intensity=%{y}<extra></extra>",
         "legendgroup": "197",
         "line": {
          "color": "grey",
          "dash": "solid",
          "width": 1
         },
         "mode": "lines+markers+text",
         "name": "197",
         "orientation": "v",
         "showlegend": true,
         "text": [
          null,
          "587.37323"
         ],
         "textposition": "top center",
         "type": "scatter",
         "x": [
          587.37323,
          587.37323
         ],
         "xaxis": "x",
         "y": [
          0,
          886444.875
         ],
         "yaxis": "y"
        },
        {
         "customdata": [
          [
           null,
           198
          ],
          [
           null,
           198
          ]
         ],
         "hovertemplate": "mz_array=%{x}<br>intensity=%{y}<extra></extra>",
         "legendgroup": "198",
         "line": {
          "color": "grey",
          "dash": "solid",
          "width": 1
         },
         "mode": "lines+markers+text",
         "name": "198",
         "orientation": "v",
         "showlegend": true,
         "text": [
          null,
          null
         ],
         "textposition": "top center",
         "type": "scatter",
         "x": [
          588.37634,
          588.37634
         ],
         "xaxis": "x",
         "y": [
          0,
          46066.4062
         ],
         "yaxis": "y"
        },
        {
         "customdata": [
          [
           null,
           202
          ],
          [
           null,
           202
          ]
         ],
         "hovertemplate": "mz_array=%{x}<br>intensity=%{y}<extra></extra>",
         "legendgroup": "202",
         "line": {
          "color": "grey",
          "dash": "solid",
          "width": 1
         },
         "mode": "lines+markers+text",
         "name": "202",
         "orientation": "v",
         "showlegend": true,
         "text": [
          null,
          null
         ],
         "textposition": "top center",
         "type": "scatter",
         "x": [
          637.33191,
          637.33191
         ],
         "xaxis": "x",
         "y": [
          0,
          13899.7119
         ],
         "yaxis": "y"
        },
        {
         "customdata": [
          [
           null,
           212
          ],
          [
           "686.44202",
           212
          ]
         ],
         "hovertemplate": "mz_array=%{x}<br>intensity=%{y}<extra></extra>",
         "legendgroup": "212",
         "line": {
          "color": "grey",
          "dash": "solid",
          "width": 1
         },
         "mode": "lines+markers+text",
         "name": "212",
         "orientation": "v",
         "showlegend": true,
         "text": [
          null,
          "686.44202"
         ],
         "textposition": "top center",
         "type": "scatter",
         "x": [
          686.44202,
          686.44202
         ],
         "xaxis": "x",
         "y": [
          0,
          140647.3906
         ],
         "yaxis": "y"
        },
        {
         "customdata": [
          [
           null,
           221
          ],
          [
           null,
           221
          ]
         ],
         "hovertemplate": "mz_array=%{x}<br>intensity=%{y}<extra></extra>",
         "legendgroup": "221",
         "line": {
          "color": "grey",
          "dash": "solid",
          "width": 1
         },
         "mode": "lines+markers+text",
         "name": "221",
         "orientation": "v",
         "showlegend": true,
         "text": [
          null,
          null
         ],
         "textposition": "top center",
         "type": "scatter",
         "x": [
          752.48969,
          752.48969
         ],
         "xaxis": "x",
         "y": [
          0,
          12547.3545
         ],
         "yaxis": "y"
        },
        {
         "customdata": [
          [
           null,
           225
          ],
          [
           null,
           225
          ]
         ],
         "hovertemplate": "mz_array=%{x}<br>intensity=%{y}<extra></extra>",
         "legendgroup": "225",
         "line": {
          "color": "grey",
          "dash": "solid",
          "width": 1
         },
         "mode": "lines+markers+text",
         "name": "225",
         "orientation": "v",
         "showlegend": true,
         "text": [
          null,
          null
         ],
         "textposition": "top center",
         "type": "scatter",
         "x": [
          770.49878,
          770.49878
         ],
         "xaxis": "x",
         "y": [
          0,
          15344.6279
         ],
         "yaxis": "y"
        },
        {
         "customdata": [
          [
           null,
           229
          ],
          [
           "799.52612",
           229
          ]
         ],
         "hovertemplate": "mz_array=%{x}<br>intensity=%{y}<extra></extra>",
         "legendgroup": "229",
         "line": {
          "color": "grey",
          "dash": "solid",
          "width": 1
         },
         "mode": "lines+markers+text",
         "name": "229",
         "orientation": "v",
         "showlegend": true,
         "text": [
          null,
          "799.52612"
         ],
         "textposition": "top center",
         "type": "scatter",
         "x": [
          799.52612,
          799.52612
         ],
         "xaxis": "x",
         "y": [
          0,
          117193.1328
         ],
         "yaxis": "y"
        },
        {
         "customdata": [
          [
           null,
           241
          ],
          [
           null,
           241
          ]
         ],
         "hovertemplate": "mz_array=%{x}<br>intensity=%{y}<extra></extra>",
         "legendgroup": "241",
         "line": {
          "color": "grey",
          "dash": "solid",
          "width": 1
         },
         "mode": "lines+markers+text",
         "name": "241",
         "orientation": "v",
         "showlegend": true,
         "text": [
          null,
          null
         ],
         "textposition": "top center",
         "type": "scatter",
         "x": [
          898.59448,
          898.59448
         ],
         "xaxis": "x",
         "y": [
          0,
          36650.4258
         ],
         "yaxis": "y"
        },
        {
         "customdata": [
          [
           null,
           252
          ],
          [
           null,
           252
          ]
         ],
         "hovertemplate": "mz_array=%{x}<br>intensity=%{y}<extra></extra>",
         "legendgroup": "252",
         "line": {
          "color": "grey",
          "dash": "solid",
          "width": 1
         },
         "mode": "lines+markers+text",
         "name": "252",
         "orientation": "v",
         "showlegend": true,
         "text": [
          null,
          null
         ],
         "textposition": "top center",
         "type": "scatter",
         "x": [
          969.63696,
          969.63696
         ],
         "xaxis": "x",
         "y": [
          0,
          41936.6914
         ],
         "yaxis": "y"
        },
        {
         "customdata": [
          [
           null,
           253
          ],
          [
           "970.62994",
           253
          ]
         ],
         "hovertemplate": "mz_array=%{x}<br>intensity=%{y}<extra></extra>",
         "legendgroup": "253",
         "line": {
          "color": "grey",
          "dash": "solid",
          "width": 1
         },
         "mode": "lines+markers+text",
         "name": "253",
         "orientation": "v",
         "showlegend": true,
         "text": [
          null,
          "970.62994"
         ],
         "textposition": "top center",
         "type": "scatter",
         "x": [
          970.62994,
          970.62994
         ],
         "xaxis": "x",
         "y": [
          0,
          130124.9609
         ],
         "yaxis": "y"
        },
        {
         "customdata": [
          [
           null,
           254
          ],
          [
           null,
           254
          ]
         ],
         "hovertemplate": "mz_array=%{x}<br>intensity=%{y}<extra></extra>",
         "legendgroup": "254",
         "line": {
          "color": "grey",
          "dash": "solid",
          "width": 1
         },
         "mode": "lines+markers+text",
         "name": "254",
         "orientation": "v",
         "showlegend": true,
         "text": [
          null,
          null
         ],
         "textposition": "top center",
         "type": "scatter",
         "x": [
          971.6319,
          971.6319
         ],
         "xaxis": "x",
         "y": [
          0,
          38104.0586
         ],
         "yaxis": "y"
        },
        {
         "customdata": [
          [
           null,
           255
          ],
          [
           null,
           255
          ]
         ],
         "hovertemplate": "mz_array=%{x}<br>intensity=%{y}<extra></extra>",
         "legendgroup": "255",
         "line": {
          "color": "grey",
          "dash": "solid",
          "width": 1
         },
         "mode": "lines+markers+text",
         "name": "255",
         "orientation": "v",
         "showlegend": true,
         "text": [
          null,
          null
         ],
         "textposition": "top center",
         "type": "scatter",
         "x": [
          972.64026,
          972.64026
         ],
         "xaxis": "x",
         "y": [
          0,
          41140.2617
         ],
         "yaxis": "y"
        },
        {
         "customdata": [
          [
           null,
           256
          ],
          [
           null,
           256
          ]
         ],
         "hovertemplate": "mz_array=%{x}<br>intensity=%{y}<extra></extra>",
         "legendgroup": "256",
         "line": {
          "color": "grey",
          "dash": "solid",
          "width": 1
         },
         "mode": "lines+markers+text",
         "name": "256",
         "orientation": "v",
         "showlegend": true,
         "text": [
          null,
          null
         ],
         "textposition": "top center",
         "type": "scatter",
         "x": [
          973.63867,
          973.63867
         ],
         "xaxis": "x",
         "y": [
          0,
          83469.3359
         ],
         "yaxis": "y"
        }
       ],
       "layout": {
        "autosize": true,
        "dragmode": "pan",
        "hovermode": "x unified",
        "legend": {
         "title": {
          "text": "index"
         },
         "tracegroupgap": 0
        },
        "margin": {
         "t": 60
        },
        "showlegend": false,
        "template": {
         "layout": {
          "font": {
           "size": 10
          }
         }
        },
        "xaxis": {
         "anchor": "y",
         "autorange": true,
         "domain": [
          0,
          1
         ],
         "range": [
          52.79062489138868,
          1030.9195051086115
         ],
         "title": {
          "text": "mz_array"
         },
         "type": "linear"
        },
        "yaxis": {
         "anchor": "x",
         "autorange": true,
         "domain": [
          0,
          1
         ],
         "range": [
          -62851.06388121547,
          949295.9388812155
         ],
         "title": {
          "text": "intensity"
         },
         "type": "linear"
        }
       }
      },
      "image/png": "[encoded data removed]",
      "text/html": [
       "<div>\n",
       "        \n",
       "        \n",
       "            <div id=\"6c54f4f9-95de-46bc-9219-b811f27cf256\" class=\"plotly-graph-div\" style=\"height:525px; width:100%;\"></div>\n",
       "            <script type=\"text/javascript\">\n",
       "                require([\"plotly\"], function(Plotly) {\n",
       "                    window.PLOTLYENV=window.PLOTLYENV || {};\n",
       "                    \n",
       "                if (document.getElementById(\"6c54f4f9-95de-46bc-9219-b811f27cf256\")) {\n",
       "                    Plotly.newPlot(\n",
       "                        '6c54f4f9-95de-46bc-9219-b811f27cf256',\n",
       "                        [{\"customdata\": [[null, 0], [null, 0]], \"hovertemplate\": \"mz_array=%{x}<br>intensity=%{y}<extra></extra>\", \"legendgroup\": \"0\", \"line\": {\"color\": \"grey\", \"dash\": \"solid\", \"width\": 1}, \"mode\": \"lines+markers+text\", \"name\": \"0\", \"orientation\": \"v\", \"showlegend\": true, \"text\": [null, null], \"textposition\": \"top center\", \"type\": \"scatter\", \"x\": [110.07146, 110.07146], \"xaxis\": \"x\", \"y\": [0.0, 25439.2285], \"yaxis\": \"y\"}, {\"customdata\": [[null, 10], [\"126.12793\", 10]], \"hovertemplate\": \"mz_array=%{x}<br>intensity=%{y}<extra></extra>\", \"legendgroup\": \"10\", \"line\": {\"color\": \"grey\", \"dash\": \"solid\", \"width\": 1}, \"mode\": \"lines+markers+text\", \"name\": \"10\", \"orientation\": \"v\", \"showlegend\": true, \"text\": [null, \"126.12793\"], \"textposition\": \"top center\", \"type\": \"scatter\", \"x\": [126.12793, 126.12793], \"xaxis\": \"x\", \"y\": [0.0, 216840.5625], \"yaxis\": \"y\"}, {\"customdata\": [[null, 11], [null, 11]], \"hovertemplate\": \"mz_array=%{x}<br>intensity=%{y}<extra></extra>\", \"legendgroup\": \"11\", \"line\": {\"color\": \"grey\", \"dash\": \"solid\", \"width\": 1}, \"mode\": \"lines+markers+text\", \"name\": \"11\", \"orientation\": \"v\", \"showlegend\": true, \"text\": [null, null], \"textposition\": \"top center\", \"type\": \"scatter\", \"x\": [127.12504, 127.12504], \"xaxis\": \"x\", \"y\": [0.0, 57419.7109], \"yaxis\": \"y\"}, {\"customdata\": [[null, 12], [\"127.13126\", 12]], \"hovertemplate\": \"mz_array=%{x}<br>intensity=%{y}<extra></extra>\", \"legendgroup\": \"12\", \"line\": {\"color\": \"grey\", \"dash\": \"solid\", \"width\": 1}, \"mode\": \"lines+markers+text\", \"name\": \"12\", \"orientation\": \"v\", \"showlegend\": true, \"text\": [null, \"127.13126\"], \"textposition\": \"top center\", \"type\": \"scatter\", \"x\": [127.13126, 127.13126], \"xaxis\": \"x\", \"y\": [0.0, 232963.9062], \"yaxis\": \"y\"}, {\"customdata\": [[null, 14], [\"128.12834\", 14]], \"hovertemplate\": \"mz_array=%{x}<br>intensity=%{y}<extra></extra>\", \"legendgroup\": \"14\", \"line\": {\"color\": \"grey\", \"dash\": \"solid\", \"width\": 1}, \"mode\": \"lines+markers+text\", \"name\": \"14\", \"orientation\": \"v\", \"showlegend\": true, \"text\": [null, \"128.12834\"], \"textposition\": \"top center\", \"type\": \"scatter\", \"x\": [128.12834, 128.12834], \"xaxis\": \"x\", \"y\": [0.0, 185551.8281], \"yaxis\": \"y\"}, {\"customdata\": [[null, 15], [\"128.13463\", 15]], \"hovertemplate\": \"mz_array=%{x}<br>intensity=%{y}<extra></extra>\", \"legendgroup\": \"15\", \"line\": {\"color\": \"grey\", \"dash\": \"solid\", \"width\": 1}, \"mode\": \"lines+markers+text\", \"name\": \"15\", \"orientation\": \"v\", \"showlegend\": true, \"text\": [null, \"128.13463\"], \"textposition\": \"top center\", \"type\": \"scatter\", \"x\": [128.13463, 128.13463], \"xaxis\": \"x\", \"y\": [0.0, 150068.5469], \"yaxis\": \"y\"}, {\"customdata\": [[null, 16], [\"129.1317\", 16]], \"hovertemplate\": \"mz_array=%{x}<br>intensity=%{y}<extra></extra>\", \"legendgroup\": \"16\", \"line\": {\"color\": \"grey\", \"dash\": \"solid\", \"width\": 1}, \"mode\": \"lines+markers+text\", \"name\": \"16\", \"orientation\": \"v\", \"showlegend\": true, \"text\": [null, \"129.1317\"], \"textposition\": \"top center\", \"type\": \"scatter\", \"x\": [129.1317, 129.1317], \"xaxis\": \"x\", \"y\": [0.0, 213701.125], \"yaxis\": \"y\"}, {\"customdata\": [[null, 17], [\"129.13797\", 17]], \"hovertemplate\": \"mz_array=%{x}<br>intensity=%{y}<extra></extra>\", \"legendgroup\": \"17\", \"line\": {\"color\": \"grey\", \"dash\": \"solid\", \"width\": 1}, \"mode\": \"lines+markers+text\", \"name\": \"17\", \"orientation\": \"v\", \"showlegend\": true, \"text\": [null, \"129.13797\"], \"textposition\": \"top center\", \"type\": \"scatter\", \"x\": [129.13797, 129.13797], \"xaxis\": \"x\", \"y\": [0.0, 175202.7812], \"yaxis\": \"y\"}, {\"customdata\": [[null, 18], [null, 18]], \"hovertemplate\": \"mz_array=%{x}<br>intensity=%{y}<extra></extra>\", \"legendgroup\": \"18\", \"line\": {\"color\": \"grey\", \"dash\": \"solid\", \"width\": 1}, \"mode\": \"lines+markers+text\", \"name\": \"18\", \"orientation\": \"v\", \"showlegend\": true, \"text\": [null, null], \"textposition\": \"top center\", \"type\": \"scatter\", \"x\": [130.13513, 130.13513], \"xaxis\": \"x\", \"y\": [0.0, 30559.4082], \"yaxis\": \"y\"}, {\"customdata\": [[null, 19], [\"130.14134\", 19]], \"hovertemplate\": \"mz_array=%{x}<br>intensity=%{y}<extra></extra>\", \"legendgroup\": \"19\", \"line\": {\"color\": \"grey\", \"dash\": \"solid\", \"width\": 1}, \"mode\": \"lines+markers+text\", \"name\": \"19\", \"orientation\": \"v\", \"showlegend\": true, \"text\": [null, \"130.14134\"], \"textposition\": \"top center\", \"type\": \"scatter\", \"x\": [130.14134, 130.14134], \"xaxis\": \"x\", \"y\": [0.0, 348759.2188], \"yaxis\": \"y\"}, {\"customdata\": [[null, 20], [null, 20]], \"hovertemplate\": \"mz_array=%{x}<br>intensity=%{y}<extra></extra>\", \"legendgroup\": \"20\", \"line\": {\"color\": \"grey\", \"dash\": \"solid\", \"width\": 1}, \"mode\": \"lines+markers+text\", \"name\": \"20\", \"orientation\": \"v\", \"showlegend\": true, \"text\": [null, null], \"textposition\": \"top center\", \"type\": \"scatter\", \"x\": [131.13846, 131.13846], \"xaxis\": \"x\", \"y\": [0.0, 30982.2051], \"yaxis\": \"y\"}, {\"customdata\": [[null, 21], [\"131.1447\", 21]], \"hovertemplate\": \"mz_array=%{x}<br>intensity=%{y}<extra></extra>\", \"legendgroup\": \"21\", \"line\": {\"color\": \"grey\", \"dash\": \"solid\", \"width\": 1}, \"mode\": \"lines+markers+text\", \"name\": \"21\", \"orientation\": \"v\", \"showlegend\": true, \"text\": [null, \"131.1447\"], \"textposition\": \"top center\", \"type\": \"scatter\", \"x\": [131.1447, 131.1447], \"xaxis\": \"x\", \"y\": [0.0, 199917.6719], \"yaxis\": \"y\"}, {\"customdata\": [[null, 41], [null, 41]], \"hovertemplate\": \"mz_array=%{x}<br>intensity=%{y}<extra></extra>\", \"legendgroup\": \"41\", \"line\": {\"color\": \"grey\", \"dash\": \"solid\", \"width\": 1}, \"mode\": \"lines+markers+text\", \"name\": \"41\", \"orientation\": \"v\", \"showlegend\": true, \"text\": [null, null], \"textposition\": \"top center\", \"type\": \"scatter\", \"x\": [173.14977, 173.14977], \"xaxis\": \"x\", \"y\": [0.0, 19141.2285], \"yaxis\": \"y\"}, {\"customdata\": [[null, 43], [null, 43]], \"hovertemplate\": \"mz_array=%{x}<br>intensity=%{y}<extra></extra>\", \"legendgroup\": \"43\", \"line\": {\"color\": \"grey\", \"dash\": \"solid\", \"width\": 1}, \"mode\": \"lines+markers+text\", \"name\": \"43\", \"orientation\": \"v\", \"showlegend\": true, \"text\": [null, null], \"textposition\": \"top center\", \"type\": \"scatter\", \"x\": [175.11942, 175.11942], \"xaxis\": \"x\", \"y\": [0.0, 13154.6768], \"yaxis\": \"y\"}, {\"customdata\": [[null, 46], [null, 46]], \"hovertemplate\": \"mz_array=%{x}<br>intensity=%{y}<extra></extra>\", \"legendgroup\": \"46\", \"line\": {\"color\": \"grey\", \"dash\": \"solid\", \"width\": 1}, \"mode\": \"lines+markers+text\", \"name\": \"46\", \"orientation\": \"v\", \"showlegend\": true, \"text\": [null, null], \"textposition\": \"top center\", \"type\": \"scatter\", \"x\": [176.15984, 176.15984], \"xaxis\": \"x\", \"y\": [0.0, 16165.5098], \"yaxis\": \"y\"}, {\"customdata\": [[null, 51], [null, 51]], \"hovertemplate\": \"mz_array=%{x}<br>intensity=%{y}<extra></extra>\", \"legendgroup\": \"51\", \"line\": {\"color\": \"grey\", \"dash\": \"solid\", \"width\": 1}, \"mode\": \"lines+markers+text\", \"name\": \"51\", \"orientation\": \"v\", \"showlegend\": true, \"text\": [null, null], \"textposition\": \"top center\", \"type\": \"scatter\", \"x\": [185.16502, 185.16502], \"xaxis\": \"x\", \"y\": [0.0, 11696.4795], \"yaxis\": \"y\"}, {\"customdata\": [[null, 53], [null, 53]], \"hovertemplate\": \"mz_array=%{x}<br>intensity=%{y}<extra></extra>\", \"legendgroup\": \"53\", \"line\": {\"color\": \"grey\", \"dash\": \"solid\", \"width\": 1}, \"mode\": \"lines+markers+text\", \"name\": \"53\", \"orientation\": \"v\", \"showlegend\": true, \"text\": [null, null], \"textposition\": \"top center\", \"type\": \"scatter\", \"x\": [186.15312, 186.15312], \"xaxis\": \"x\", \"y\": [0.0, 15873.5391], \"yaxis\": \"y\"}, {\"customdata\": [[null, 55], [null, 55]], \"hovertemplate\": \"mz_array=%{x}<br>intensity=%{y}<extra></extra>\", \"legendgroup\": \"55\", \"line\": {\"color\": \"grey\", \"dash\": \"solid\", \"width\": 1}, \"mode\": \"lines+markers+text\", \"name\": \"55\", \"orientation\": \"v\", \"showlegend\": true, \"text\": [null, null], \"textposition\": \"top center\", \"type\": \"scatter\", \"x\": [188.15984, 188.15984], \"xaxis\": \"x\", \"y\": [0.0, 20521.084], \"yaxis\": \"y\"}, {\"customdata\": [[null, 73], [\"230.17047\", 73]], \"hovertemplate\": \"mz_array=%{x}<br>intensity=%{y}<extra></extra>\", \"legendgroup\": \"73\", \"line\": {\"color\": \"grey\", \"dash\": \"solid\", \"width\": 1}, \"mode\": \"lines+markers+text\", \"name\": \"73\", \"orientation\": \"v\", \"showlegend\": true, \"text\": [null, \"230.17047\"], \"textposition\": \"top center\", \"type\": \"scatter\", \"x\": [230.17047, 230.17047], \"xaxis\": \"x\", \"y\": [0.0, 413664.7812], \"yaxis\": \"y\"}, {\"customdata\": [[null, 78], [null, 78]], \"hovertemplate\": \"mz_array=%{x}<br>intensity=%{y}<extra></extra>\", \"legendgroup\": \"78\", \"line\": {\"color\": \"grey\", \"dash\": \"solid\", \"width\": 1}, \"mode\": \"lines+markers+text\", \"name\": \"78\", \"orientation\": \"v\", \"showlegend\": true, \"text\": [null, null], \"textposition\": \"top center\", \"type\": \"scatter\", \"x\": [248.18111, 248.18111], \"xaxis\": \"x\", \"y\": [0.0, 27009.8809], \"yaxis\": \"y\"}, {\"customdata\": [[null, 90], [null, 90]], \"hovertemplate\": \"mz_array=%{x}<br>intensity=%{y}<extra></extra>\", \"legendgroup\": \"90\", \"line\": {\"color\": \"grey\", \"dash\": \"solid\", \"width\": 1}, \"mode\": \"lines+markers+text\", \"name\": \"90\", \"orientation\": \"v\", \"showlegend\": true, \"text\": [null, null], \"textposition\": \"top center\", \"type\": \"scatter\", \"x\": [294.19025, 294.19025], \"xaxis\": \"x\", \"y\": [0.0, 14816.0156], \"yaxis\": \"y\"}, {\"customdata\": [[null, 93], [\"301.24435\", 93]], \"hovertemplate\": \"mz_array=%{x}<br>intensity=%{y}<extra></extra>\", \"legendgroup\": \"93\", \"line\": {\"color\": \"grey\", \"dash\": \"solid\", \"width\": 1}, \"mode\": \"lines+markers+text\", \"name\": \"93\", \"orientation\": \"v\", \"showlegend\": true, \"text\": [null, \"301.24435\"], \"textposition\": \"top center\", \"type\": \"scatter\", \"x\": [301.24435, 301.24435], \"xaxis\": \"x\", \"y\": [0.0, 159118.4531], \"yaxis\": \"y\"}, {\"customdata\": [[null, 99], [null, 99]], \"hovertemplate\": \"mz_array=%{x}<br>intensity=%{y}<extra></extra>\", \"legendgroup\": \"99\", \"line\": {\"color\": \"grey\", \"dash\": \"solid\", \"width\": 1}, \"mode\": \"lines+markers+text\", \"name\": \"99\", \"orientation\": \"v\", \"showlegend\": true, \"text\": [null, null], \"textposition\": \"top center\", \"type\": \"scatter\", \"x\": [328.2554, 328.2554], \"xaxis\": \"x\", \"y\": [0.0, 16583.5703], \"yaxis\": \"y\"}, {\"customdata\": [[null, 100], [\"329.23941\", 100]], \"hovertemplate\": \"mz_array=%{x}<br>intensity=%{y}<extra></extra>\", \"legendgroup\": \"100\", \"line\": {\"color\": \"grey\", \"dash\": \"solid\", \"width\": 1}, \"mode\": \"lines+markers+text\", \"name\": \"100\", \"orientation\": \"v\", \"showlegend\": true, \"text\": [null, \"329.23941\"], \"textposition\": \"top center\", \"type\": \"scatter\", \"x\": [329.23941, 329.23941], \"xaxis\": \"x\", \"y\": [0.0, 294487.4688], \"yaxis\": \"y\"}, {\"customdata\": [[null, 102], [null, 102]], \"hovertemplate\": \"mz_array=%{x}<br>intensity=%{y}<extra></extra>\", \"legendgroup\": \"102\", \"line\": {\"color\": \"grey\", \"dash\": \"solid\", \"width\": 1}, \"mode\": \"lines+markers+text\", \"name\": \"102\", \"orientation\": \"v\", \"showlegend\": true, \"text\": [null, null], \"textposition\": \"top center\", \"type\": \"scatter\", \"x\": [330.27121, 330.27121], \"xaxis\": \"x\", \"y\": [0.0, 10279.0137], \"yaxis\": \"y\"}, {\"customdata\": [[null, 120], [\"376.27686\", 120]], \"hovertemplate\": \"mz_array=%{x}<br>intensity=%{y}<extra></extra>\", \"legendgroup\": \"120\", \"line\": {\"color\": \"grey\", \"dash\": \"solid\", \"width\": 1}, \"mode\": \"lines+markers+text\", \"name\": \"120\", \"orientation\": \"v\", \"showlegend\": true, \"text\": [null, \"376.27686\"], \"textposition\": \"top center\", \"type\": \"scatter\", \"x\": [376.27686, 376.27686], \"xaxis\": \"x\", \"y\": [0.0, 121995.6797], \"yaxis\": \"y\"}, {\"customdata\": [[null, 132], [null, 132]], \"hovertemplate\": \"mz_array=%{x}<br>intensity=%{y}<extra></extra>\", \"legendgroup\": \"132\", \"line\": {\"color\": \"grey\", \"dash\": \"solid\", \"width\": 1}, \"mode\": \"lines+markers+text\", \"name\": \"132\", \"orientation\": \"v\", \"showlegend\": true, \"text\": [null, null], \"textposition\": \"top center\", \"type\": \"scatter\", \"x\": [414.32928, 414.32928], \"xaxis\": \"x\", \"y\": [0.0, 43997.9336], \"yaxis\": \"y\"}, {\"customdata\": [[null, 138], [null, 138]], \"hovertemplate\": \"mz_array=%{x}<br>intensity=%{y}<extra></extra>\", \"legendgroup\": \"138\", \"line\": {\"color\": \"grey\", \"dash\": \"solid\", \"width\": 1}, \"mode\": \"lines+markers+text\", \"name\": \"138\", \"orientation\": \"v\", \"showlegend\": true, \"text\": [null, null], \"textposition\": \"top center\", \"type\": \"scatter\", \"x\": [429.24649, 429.24649], \"xaxis\": \"x\", \"y\": [0.0, 20176.8105], \"yaxis\": \"y\"}, {\"customdata\": [[null, 139], [null, 139]], \"hovertemplate\": \"mz_array=%{x}<br>intensity=%{y}<extra></extra>\", \"legendgroup\": \"139\", \"line\": {\"color\": \"grey\", \"dash\": \"solid\", \"width\": 1}, \"mode\": \"lines+markers+text\", \"name\": \"139\", \"orientation\": \"v\", \"showlegend\": true, \"text\": [null, null], \"textposition\": \"top center\", \"type\": \"scatter\", \"x\": [430.24493, 430.24493], \"xaxis\": \"x\", \"y\": [0.0, 43418.1523], \"yaxis\": \"y\"}, {\"customdata\": [[null, 140], [null, 140]], \"hovertemplate\": \"mz_array=%{x}<br>intensity=%{y}<extra></extra>\", \"legendgroup\": \"140\", \"line\": {\"color\": \"grey\", \"dash\": \"solid\", \"width\": 1}, \"mode\": \"lines+markers+text\", \"name\": \"140\", \"orientation\": \"v\", \"showlegend\": true, \"text\": [null, null], \"textposition\": \"top center\", \"type\": \"scatter\", \"x\": [431.24677, 431.24677], \"xaxis\": \"x\", \"y\": [0.0, 14784.6436], \"yaxis\": \"y\"}, {\"customdata\": [[null, 141], [null, 141]], \"hovertemplate\": \"mz_array=%{x}<br>intensity=%{y}<extra></extra>\", \"legendgroup\": \"141\", \"line\": {\"color\": \"grey\", \"dash\": \"solid\", \"width\": 1}, \"mode\": \"lines+markers+text\", \"name\": \"141\", \"orientation\": \"v\", \"showlegend\": true, \"text\": [null, null], \"textposition\": \"top center\", \"type\": \"scatter\", \"x\": [432.25629, 432.25629], \"xaxis\": \"x\", \"y\": [0.0, 16376.1328], \"yaxis\": \"y\"}, {\"customdata\": [[null, 142], [null, 142]], \"hovertemplate\": \"mz_array=%{x}<br>intensity=%{y}<extra></extra>\", \"legendgroup\": \"142\", \"line\": {\"color\": \"grey\", \"dash\": \"solid\", \"width\": 1}, \"mode\": \"lines+markers+text\", \"name\": \"142\", \"orientation\": \"v\", \"showlegend\": true, \"text\": [null, null], \"textposition\": \"top center\", \"type\": \"scatter\", \"x\": [433.25363, 433.25363], \"xaxis\": \"x\", \"y\": [0.0, 33270.8125], \"yaxis\": \"y\"}, {\"customdata\": [[null, 143], [null, 143]], \"hovertemplate\": \"mz_array=%{x}<br>intensity=%{y}<extra></extra>\", \"legendgroup\": \"143\", \"line\": {\"color\": \"grey\", \"dash\": \"solid\", \"width\": 1}, \"mode\": \"lines+markers+text\", \"name\": \"143\", \"orientation\": \"v\", \"showlegend\": true, \"text\": [null, null], \"textposition\": \"top center\", \"type\": \"scatter\", \"x\": [437.2363, 437.2363], \"xaxis\": \"x\", \"y\": [0.0, 22342.9824], \"yaxis\": \"y\"}, {\"customdata\": [[null, 146], [null, 146]], \"hovertemplate\": \"mz_array=%{x}<br>intensity=%{y}<extra></extra>\", \"legendgroup\": \"146\", \"line\": {\"color\": \"grey\", \"dash\": \"solid\", \"width\": 1}, \"mode\": \"lines+markers+text\", \"name\": \"146\", \"orientation\": \"v\", \"showlegend\": true, \"text\": [null, null], \"textposition\": \"top center\", \"type\": \"scatter\", \"x\": [441.34003, 441.34003], \"xaxis\": \"x\", \"y\": [0.0, 16104.7998], \"yaxis\": \"y\"}, {\"customdata\": [[null, 147], [\"442.32413\", 147]], \"hovertemplate\": \"mz_array=%{x}<br>intensity=%{y}<extra></extra>\", \"legendgroup\": \"147\", \"line\": {\"color\": \"grey\", \"dash\": \"solid\", \"width\": 1}, \"mode\": \"lines+markers+text\", \"name\": \"147\", \"orientation\": \"v\", \"showlegend\": true, \"text\": [null, \"442.32413\"], \"textposition\": \"top center\", \"type\": \"scatter\", \"x\": [442.32413, 442.32413], \"xaxis\": \"x\", \"y\": [0.0, 483527.2812], \"yaxis\": \"y\"}, {\"customdata\": [[null, 149], [null, 149]], \"hovertemplate\": \"mz_array=%{x}<br>intensity=%{y}<extra></extra>\", \"legendgroup\": \"149\", \"line\": {\"color\": \"grey\", \"dash\": \"solid\", \"width\": 1}, \"mode\": \"lines+markers+text\", \"name\": \"149\", \"orientation\": \"v\", \"showlegend\": true, \"text\": [null, null], \"textposition\": \"top center\", \"type\": \"scatter\", \"x\": [443.32718, 443.32718], \"xaxis\": \"x\", \"y\": [0.0, 19881.9922], \"yaxis\": \"y\"}, {\"customdata\": [[null, 150], [null, 150]], \"hovertemplate\": \"mz_array=%{x}<br>intensity=%{y}<extra></extra>\", \"legendgroup\": \"150\", \"line\": {\"color\": \"grey\", \"dash\": \"solid\", \"width\": 1}, \"mode\": \"lines+markers+text\", \"name\": \"150\", \"orientation\": \"v\", \"showlegend\": true, \"text\": [null, null], \"textposition\": \"top center\", \"type\": \"scatter\", \"x\": [451.23401, 451.23401], \"xaxis\": \"x\", \"y\": [0.0, 15507.124], \"yaxis\": \"y\"}, {\"customdata\": [[null, 156], [null, 156]], \"hovertemplate\": \"mz_array=%{x}<br>intensity=%{y}<extra></extra>\", \"legendgroup\": \"156\", \"line\": {\"color\": \"grey\", \"dash\": \"solid\", \"width\": 1}, \"mode\": \"lines+markers+text\", \"name\": \"156\", \"orientation\": \"v\", \"showlegend\": true, \"text\": [null, null], \"textposition\": \"top center\", \"type\": \"scatter\", \"x\": [473.29343, 473.29343], \"xaxis\": \"x\", \"y\": [0.0, 15287.585], \"yaxis\": \"y\"}, {\"customdata\": [[null, 160], [null, 160]], \"hovertemplate\": \"mz_array=%{x}<br>intensity=%{y}<extra></extra>\", \"legendgroup\": \"160\", \"line\": {\"color\": \"grey\", \"dash\": \"solid\", \"width\": 1}, \"mode\": \"lines+markers+text\", \"name\": \"160\", \"orientation\": \"v\", \"showlegend\": true, \"text\": [null, null], \"textposition\": \"top center\", \"type\": \"scatter\", \"x\": [490.32019, 490.32019], \"xaxis\": \"x\", \"y\": [0.0, 50731.1445], \"yaxis\": \"y\"}, {\"customdata\": [[null, 166], [null, 166]], \"hovertemplate\": \"mz_array=%{x}<br>intensity=%{y}<extra></extra>\", \"legendgroup\": \"166\", \"line\": {\"color\": \"grey\", \"dash\": \"solid\", \"width\": 1}, \"mode\": \"lines+markers+text\", \"name\": \"166\", \"orientation\": \"v\", \"showlegend\": true, \"text\": [null, null], \"textposition\": \"top center\", \"type\": \"scatter\", \"x\": [513.39777, 513.39777], \"xaxis\": \"x\", \"y\": [0.0, 70059.4766], \"yaxis\": \"y\"}, {\"customdata\": [[null, 175], [\"541.39282\", 175]], \"hovertemplate\": \"mz_array=%{x}<br>intensity=%{y}<extra></extra>\", \"legendgroup\": \"175\", \"line\": {\"color\": \"grey\", \"dash\": \"solid\", \"width\": 1}, \"mode\": \"lines+markers+text\", \"name\": \"175\", \"orientation\": \"v\", \"showlegend\": true, \"text\": [null, \"541.39282\"], \"textposition\": \"top center\", \"type\": \"scatter\", \"x\": [541.39282, 541.39282], \"xaxis\": \"x\", \"y\": [0.0, 377406.75], \"yaxis\": \"y\"}, {\"customdata\": [[null, 178], [null, 178]], \"hovertemplate\": \"mz_array=%{x}<br>intensity=%{y}<extra></extra>\", \"legendgroup\": \"178\", \"line\": {\"color\": \"grey\", \"dash\": \"solid\", \"width\": 1}, \"mode\": \"lines+markers+text\", \"name\": \"178\", \"orientation\": \"v\", \"showlegend\": true, \"text\": [null, null], \"textposition\": \"top center\", \"type\": \"scatter\", \"x\": [542.39557, 542.39557], \"xaxis\": \"x\", \"y\": [0.0, 19975.375], \"yaxis\": \"y\"}, {\"customdata\": [[null, 179], [null, 179]], \"hovertemplate\": \"mz_array=%{x}<br>intensity=%{y}<extra></extra>\", \"legendgroup\": \"179\", \"line\": {\"color\": \"grey\", \"dash\": \"solid\", \"width\": 1}, \"mode\": \"lines+markers+text\", \"name\": \"179\", \"orientation\": \"v\", \"showlegend\": true, \"text\": [null, null], \"textposition\": \"top center\", \"type\": \"scatter\", \"x\": [543.33575, 543.33575], \"xaxis\": \"x\", \"y\": [0.0, 12620.4678], \"yaxis\": \"y\"}, {\"customdata\": [[null, 183], [null, 183]], \"hovertemplate\": \"mz_array=%{x}<br>intensity=%{y}<extra></extra>\", \"legendgroup\": \"183\", \"line\": {\"color\": \"grey\", \"dash\": \"solid\", \"width\": 1}, \"mode\": \"lines+markers+text\", \"name\": \"183\", \"orientation\": \"v\", \"showlegend\": true, \"text\": [null, null], \"textposition\": \"top center\", \"type\": \"scatter\", \"x\": [555.87006, 555.87006], \"xaxis\": \"x\", \"y\": [0.0, 12590.7705], \"yaxis\": \"y\"}, {\"customdata\": [[null, 187], [\"564.383\", 187]], \"hovertemplate\": \"mz_array=%{x}<br>intensity=%{y}<extra></extra>\", \"legendgroup\": \"187\", \"line\": {\"color\": \"grey\", \"dash\": \"solid\", \"width\": 1}, \"mode\": \"lines+markers+text\", \"name\": \"187\", \"orientation\": \"v\", \"showlegend\": true, \"text\": [null, \"564.383\"], \"textposition\": \"top center\", \"type\": \"scatter\", \"x\": [564.383, 564.383], \"xaxis\": \"x\", \"y\": [0.0, 709076.25], \"yaxis\": \"y\"}, {\"customdata\": [[null, 189], [null, 189]], \"hovertemplate\": \"mz_array=%{x}<br>intensity=%{y}<extra></extra>\", \"legendgroup\": \"189\", \"line\": {\"color\": \"grey\", \"dash\": \"solid\", \"width\": 1}, \"mode\": \"lines+markers+text\", \"name\": \"189\", \"orientation\": \"v\", \"showlegend\": true, \"text\": [null, null], \"textposition\": \"top center\", \"type\": \"scatter\", \"x\": [564.88458, 564.88458], \"xaxis\": \"x\", \"y\": [0.0, 77037.8281], \"yaxis\": \"y\"}, {\"customdata\": [[null, 190], [null, 190]], \"hovertemplate\": \"mz_array=%{x}<br>intensity=%{y}<extra></extra>\", \"legendgroup\": \"190\", \"line\": {\"color\": \"grey\", \"dash\": \"solid\", \"width\": 1}, \"mode\": \"lines+markers+text\", \"name\": \"190\", \"orientation\": \"v\", \"showlegend\": true, \"text\": [null, null], \"textposition\": \"top center\", \"type\": \"scatter\", \"x\": [569.3631, 569.3631], \"xaxis\": \"x\", \"y\": [0.0, 14947.8887], \"yaxis\": \"y\"}, {\"customdata\": [[null, 191], [null, 191]], \"hovertemplate\": \"mz_array=%{x}<br>intensity=%{y}<extra></extra>\", \"legendgroup\": \"191\", \"line\": {\"color\": \"grey\", \"dash\": \"solid\", \"width\": 1}, \"mode\": \"lines+markers+text\", \"name\": \"191\", \"orientation\": \"v\", \"showlegend\": true, \"text\": [null, null], \"textposition\": \"top center\", \"type\": \"scatter\", \"x\": [570.34674, 570.34674], \"xaxis\": \"x\", \"y\": [0.0, 21473.3652], \"yaxis\": \"y\"}, {\"customdata\": [[null, 197], [\"587.37323\", 197]], \"hovertemplate\": \"mz_array=%{x}<br>intensity=%{y}<extra></extra>\", \"legendgroup\": \"197\", \"line\": {\"color\": \"grey\", \"dash\": \"solid\", \"width\": 1}, \"mode\": \"lines+markers+text\", \"name\": \"197\", \"orientation\": \"v\", \"showlegend\": true, \"text\": [null, \"587.37323\"], \"textposition\": \"top center\", \"type\": \"scatter\", \"x\": [587.37323, 587.37323], \"xaxis\": \"x\", \"y\": [0.0, 886444.875], \"yaxis\": \"y\"}, {\"customdata\": [[null, 198], [null, 198]], \"hovertemplate\": \"mz_array=%{x}<br>intensity=%{y}<extra></extra>\", \"legendgroup\": \"198\", \"line\": {\"color\": \"grey\", \"dash\": \"solid\", \"width\": 1}, \"mode\": \"lines+markers+text\", \"name\": \"198\", \"orientation\": \"v\", \"showlegend\": true, \"text\": [null, null], \"textposition\": \"top center\", \"type\": \"scatter\", \"x\": [588.37634, 588.37634], \"xaxis\": \"x\", \"y\": [0.0, 46066.4062], \"yaxis\": \"y\"}, {\"customdata\": [[null, 202], [null, 202]], \"hovertemplate\": \"mz_array=%{x}<br>intensity=%{y}<extra></extra>\", \"legendgroup\": \"202\", \"line\": {\"color\": \"grey\", \"dash\": \"solid\", \"width\": 1}, \"mode\": \"lines+markers+text\", \"name\": \"202\", \"orientation\": \"v\", \"showlegend\": true, \"text\": [null, null], \"textposition\": \"top center\", \"type\": \"scatter\", \"x\": [637.33191, 637.33191], \"xaxis\": \"x\", \"y\": [0.0, 13899.7119], \"yaxis\": \"y\"}, {\"customdata\": [[null, 212], [\"686.44202\", 212]], \"hovertemplate\": \"mz_array=%{x}<br>intensity=%{y}<extra></extra>\", \"legendgroup\": \"212\", \"line\": {\"color\": \"grey\", \"dash\": \"solid\", \"width\": 1}, \"mode\": \"lines+markers+text\", \"name\": \"212\", \"orientation\": \"v\", \"showlegend\": true, \"text\": [null, \"686.44202\"], \"textposition\": \"top center\", \"type\": \"scatter\", \"x\": [686.44202, 686.44202], \"xaxis\": \"x\", \"y\": [0.0, 140647.3906], \"yaxis\": \"y\"}, {\"customdata\": [[null, 221], [null, 221]], \"hovertemplate\": \"mz_array=%{x}<br>intensity=%{y}<extra></extra>\", \"legendgroup\": \"221\", \"line\": {\"color\": \"grey\", \"dash\": \"solid\", \"width\": 1}, \"mode\": \"lines+markers+text\", \"name\": \"221\", \"orientation\": \"v\", \"showlegend\": true, \"text\": [null, null], \"textposition\": \"top center\", \"type\": \"scatter\", \"x\": [752.48969, 752.48969], \"xaxis\": \"x\", \"y\": [0.0, 12547.3545], \"yaxis\": \"y\"}, {\"customdata\": [[null, 225], [null, 225]], \"hovertemplate\": \"mz_array=%{x}<br>intensity=%{y}<extra></extra>\", \"legendgroup\": \"225\", \"line\": {\"color\": \"grey\", \"dash\": \"solid\", \"width\": 1}, \"mode\": \"lines+markers+text\", \"name\": \"225\", \"orientation\": \"v\", \"showlegend\": true, \"text\": [null, null], \"textposition\": \"top center\", \"type\": \"scatter\", \"x\": [770.49878, 770.49878], \"xaxis\": \"x\", \"y\": [0.0, 15344.6279], \"yaxis\": \"y\"}, {\"customdata\": [[null, 229], [\"799.52612\", 229]], \"hovertemplate\": \"mz_array=%{x}<br>intensity=%{y}<extra></extra>\", \"legendgroup\": \"229\", \"line\": {\"color\": \"grey\", \"dash\": \"solid\", \"width\": 1}, \"mode\": \"lines+markers+text\", \"name\": \"229\", \"orientation\": \"v\", \"showlegend\": true, \"text\": [null, \"799.52612\"], \"textposition\": \"top center\", \"type\": \"scatter\", \"x\": [799.52612, 799.52612], \"xaxis\": \"x\", \"y\": [0.0, 117193.1328], \"yaxis\": \"y\"}, {\"customdata\": [[null, 241], [null, 241]], \"hovertemplate\": \"mz_array=%{x}<br>intensity=%{y}<extra></extra>\", \"legendgroup\": \"241\", \"line\": {\"color\": \"grey\", \"dash\": \"solid\", \"width\": 1}, \"mode\": \"lines+markers+text\", \"name\": \"241\", \"orientation\": \"v\", \"showlegend\": true, \"text\": [null, null], \"textposition\": \"top center\", \"type\": \"scatter\", \"x\": [898.59448, 898.59448], \"xaxis\": \"x\", \"y\": [0.0, 36650.4258], \"yaxis\": \"y\"}, {\"customdata\": [[null, 252], [null, 252]], \"hovertemplate\": \"mz_array=%{x}<br>intensity=%{y}<extra></extra>\", \"legendgroup\": \"252\", \"line\": {\"color\": \"grey\", \"dash\": \"solid\", \"width\": 1}, \"mode\": \"lines+markers+text\", \"name\": \"252\", \"orientation\": \"v\", \"showlegend\": true, \"text\": [null, null], \"textposition\": \"top center\", \"type\": \"scatter\", \"x\": [969.63696, 969.63696], \"xaxis\": \"x\", \"y\": [0.0, 41936.6914], \"yaxis\": \"y\"}, {\"customdata\": [[null, 253], [\"970.62994\", 253]], \"hovertemplate\": \"mz_array=%{x}<br>intensity=%{y}<extra></extra>\", \"legendgroup\": \"253\", \"line\": {\"color\": \"grey\", \"dash\": \"solid\", \"width\": 1}, \"mode\": \"lines+markers+text\", \"name\": \"253\", \"orientation\": \"v\", \"showlegend\": true, \"text\": [null, \"970.62994\"], \"textposition\": \"top center\", \"type\": \"scatter\", \"x\": [970.62994, 970.62994], \"xaxis\": \"x\", \"y\": [0.0, 130124.9609], \"yaxis\": \"y\"}, {\"customdata\": [[null, 254], [null, 254]], \"hovertemplate\": \"mz_array=%{x}<br>intensity=%{y}<extra></extra>\", \"legendgroup\": \"254\", \"line\": {\"color\": \"grey\", \"dash\": \"solid\", \"width\": 1}, \"mode\": \"lines+markers+text\", \"name\": \"254\", \"orientation\": \"v\", \"showlegend\": true, \"text\": [null, null], \"textposition\": \"top center\", \"type\": \"scatter\", \"x\": [971.6319, 971.6319], \"xaxis\": \"x\", \"y\": [0.0, 38104.0586], \"yaxis\": \"y\"}, {\"customdata\": [[null, 255], [null, 255]], \"hovertemplate\": \"mz_array=%{x}<br>intensity=%{y}<extra></extra>\", \"legendgroup\": \"255\", \"line\": {\"color\": \"grey\", \"dash\": \"solid\", \"width\": 1}, \"mode\": \"lines+markers+text\", \"name\": \"255\", \"orientation\": \"v\", \"showlegend\": true, \"text\": [null, null], \"textposition\": \"top center\", \"type\": \"scatter\", \"x\": [972.64026, 972.64026], \"xaxis\": \"x\", \"y\": [0.0, 41140.2617], \"yaxis\": \"y\"}, {\"customdata\": [[null, 256], [null, 256]], \"hovertemplate\": \"mz_array=%{x}<br>intensity=%{y}<extra></extra>\", \"legendgroup\": \"256\", \"line\": {\"color\": \"grey\", \"dash\": \"solid\", \"width\": 1}, \"mode\": \"lines+markers+text\", \"name\": \"256\", \"orientation\": \"v\", \"showlegend\": true, \"text\": [null, null], \"textposition\": \"top center\", \"type\": \"scatter\", \"x\": [973.63867, 973.63867], \"xaxis\": \"x\", \"y\": [0.0, 83469.3359], \"yaxis\": \"y\"}],\n",
       "                        {\"hovermode\": \"x unified\", \"legend\": {\"title\": {\"text\": \"index\"}, \"tracegroupgap\": 0}, \"margin\": {\"t\": 60}, \"showlegend\": false, \"template\": {\"layout\": {\"font\": {\"size\": 10}}}, \"xaxis\": {\"anchor\": \"y\", \"domain\": [0.0, 1.0], \"title\": {\"text\": \"mz_array\"}}, \"yaxis\": {\"anchor\": \"x\", \"domain\": [0.0, 1.0], \"title\": {\"text\": \"intensity\"}}},\n",
       "                        {\"responsive\": true}\n",
       "                    ).then(function(){\n",
       "                            \n",
       "var gd = document.getElementById('6c54f4f9-95de-46bc-9219-b811f27cf256');\n",
       "var x = new MutationObserver(function (mutations, observer) {{\n",
       "        var display = window.getComputedStyle(gd).display;\n",
       "        if (!display || display === 'none') {{\n",
       "            console.log([gd, 'removed!']);\n",
       "            Plotly.purge(gd);\n",
       "            observer.disconnect();\n",
       "        }}\n",
       "}});\n",
       "\n",
       "// Listen for the removal of the full notebook cells\n",
       "var notebookContainer = gd.closest('#notebook-container');\n",
       "if (notebookContainer) {{\n",
       "    x.observe(notebookContainer, {childList: true});\n",
       "}}\n",
       "\n",
       "// Listen for the clearing of the current output cell\n",
       "var outputEl = gd.closest('.output');\n",
       "if (outputEl) {{\n",
       "    x.observe(outputEl, {childList: true});\n",
       "}}\n",
       "\n",
       "                        })\n",
       "                };\n",
       "                });\n",
       "            </script>\n",
       "        </div>"
      ]
     },
     "metadata": {},
     "output_type": "display_data"
    }
   ],
   "source": [
    "df = get_spectrum(5588)\n",
    "plot_spectrum(df, annot_threshold=1e5, threshold=1e4)"
   ]
  },
  {
   "cell_type": "code",
   "execution_count": 239,
   "metadata": {},
   "outputs": [
    {
     "data": {
      "text/html": [
       "<div>\n",
       "<style scoped>\n",
       "    .dataframe tbody tr th:only-of-type {\n",
       "        vertical-align: middle;\n",
       "    }\n",
       "\n",
       "    .dataframe tbody tr th {\n",
       "        vertical-align: top;\n",
       "    }\n",
       "\n",
       "    .dataframe thead th {\n",
       "        text-align: right;\n",
       "    }\n",
       "</style>\n",
       "<table border=\"1\" class=\"dataframe\">\n",
       "  <thead>\n",
       "    <tr style=\"text-align: right;\">\n",
       "      <th></th>\n",
       "      <th>mz_array</th>\n",
       "      <th>intensity</th>\n",
       "      <th>spectrum</th>\n",
       "      <th>raw_file</th>\n",
       "      <th>retention_time[min]</th>\n",
       "    </tr>\n",
       "  </thead>\n",
       "  <tbody>\n",
       "    <tr>\n",
       "      <th>0</th>\n",
       "      <td>110.07146</td>\n",
       "      <td>25439.2285</td>\n",
       "      <td>Spectrum_8790</td>\n",
       "      <td>/var/www/html/omics/projects/LSARP/proteomics/...</td>\n",
       "      <td>31.390581</td>\n",
       "    </tr>\n",
       "    <tr>\n",
       "      <th>1</th>\n",
       "      <td>110.07394</td>\n",
       "      <td>1646.7223</td>\n",
       "      <td>Spectrum_8790</td>\n",
       "      <td>/var/www/html/omics/projects/LSARP/proteomics/...</td>\n",
       "      <td>31.390581</td>\n",
       "    </tr>\n",
       "    <tr>\n",
       "      <th>2</th>\n",
       "      <td>114.06616</td>\n",
       "      <td>982.9742</td>\n",
       "      <td>Spectrum_8790</td>\n",
       "      <td>/var/www/html/omics/projects/LSARP/proteomics/...</td>\n",
       "      <td>31.390581</td>\n",
       "    </tr>\n",
       "    <tr>\n",
       "      <th>3</th>\n",
       "      <td>116.05611</td>\n",
       "      <td>886.4932</td>\n",
       "      <td>Spectrum_8790</td>\n",
       "      <td>/var/www/html/omics/projects/LSARP/proteomics/...</td>\n",
       "      <td>31.390581</td>\n",
       "    </tr>\n",
       "    <tr>\n",
       "      <th>4</th>\n",
       "      <td>117.19048</td>\n",
       "      <td>916.0654</td>\n",
       "      <td>Spectrum_8790</td>\n",
       "      <td>/var/www/html/omics/projects/LSARP/proteomics/...</td>\n",
       "      <td>31.390581</td>\n",
       "    </tr>\n",
       "    <tr>\n",
       "      <th>...</th>\n",
       "      <td>...</td>\n",
       "      <td>...</td>\n",
       "      <td>...</td>\n",
       "      <td>...</td>\n",
       "      <td>...</td>\n",
       "    </tr>\n",
       "    <tr>\n",
       "      <th>255</th>\n",
       "      <td>972.64026</td>\n",
       "      <td>41140.2617</td>\n",
       "      <td>Spectrum_8790</td>\n",
       "      <td>/var/www/html/omics/projects/LSARP/proteomics/...</td>\n",
       "      <td>31.390581</td>\n",
       "    </tr>\n",
       "    <tr>\n",
       "      <th>256</th>\n",
       "      <td>973.63867</td>\n",
       "      <td>83469.3359</td>\n",
       "      <td>Spectrum_8790</td>\n",
       "      <td>/var/www/html/omics/projects/LSARP/proteomics/...</td>\n",
       "      <td>31.390581</td>\n",
       "    </tr>\n",
       "    <tr>\n",
       "      <th>257</th>\n",
       "      <td>974.64166</td>\n",
       "      <td>6498.1094</td>\n",
       "      <td>Spectrum_8790</td>\n",
       "      <td>/var/www/html/omics/projects/LSARP/proteomics/...</td>\n",
       "      <td>31.390581</td>\n",
       "    </tr>\n",
       "    <tr>\n",
       "      <th>258</th>\n",
       "      <td>986.55060</td>\n",
       "      <td>2102.2896</td>\n",
       "      <td>Spectrum_8790</td>\n",
       "      <td>/var/www/html/omics/projects/LSARP/proteomics/...</td>\n",
       "      <td>31.390581</td>\n",
       "    </tr>\n",
       "    <tr>\n",
       "      <th>259</th>\n",
       "      <td>1088.51208</td>\n",
       "      <td>3080.9768</td>\n",
       "      <td>Spectrum_8790</td>\n",
       "      <td>/var/www/html/omics/projects/LSARP/proteomics/...</td>\n",
       "      <td>31.390581</td>\n",
       "    </tr>\n",
       "  </tbody>\n",
       "</table>\n",
       "<p>260 rows × 5 columns</p>\n",
       "</div>"
      ],
      "text/plain": [
       "       mz_array   intensity       spectrum  \\\n",
       "0     110.07146  25439.2285  Spectrum_8790   \n",
       "1     110.07394   1646.7223  Spectrum_8790   \n",
       "2     114.06616    982.9742  Spectrum_8790   \n",
       "3     116.05611    886.4932  Spectrum_8790   \n",
       "4     117.19048    916.0654  Spectrum_8790   \n",
       "..          ...         ...            ...   \n",
       "255   972.64026  41140.2617  Spectrum_8790   \n",
       "256   973.63867  83469.3359  Spectrum_8790   \n",
       "257   974.64166   6498.1094  Spectrum_8790   \n",
       "258   986.55060   2102.2896  Spectrum_8790   \n",
       "259  1088.51208   3080.9768  Spectrum_8790   \n",
       "\n",
       "                                              raw_file  retention_time[min]  \n",
       "0    /var/www/html/omics/projects/LSARP/proteomics/...            31.390581  \n",
       "1    /var/www/html/omics/projects/LSARP/proteomics/...            31.390581  \n",
       "2    /var/www/html/omics/projects/LSARP/proteomics/...            31.390581  \n",
       "3    /var/www/html/omics/projects/LSARP/proteomics/...            31.390581  \n",
       "4    /var/www/html/omics/projects/LSARP/proteomics/...            31.390581  \n",
       "..                                                 ...                  ...  \n",
       "255  /var/www/html/omics/projects/LSARP/proteomics/...            31.390581  \n",
       "256  /var/www/html/omics/projects/LSARP/proteomics/...            31.390581  \n",
       "257  /var/www/html/omics/projects/LSARP/proteomics/...            31.390581  \n",
       "258  /var/www/html/omics/projects/LSARP/proteomics/...            31.390581  \n",
       "259  /var/www/html/omics/projects/LSARP/proteomics/...            31.390581  \n",
       "\n",
       "[260 rows x 5 columns]"
      ]
     },
     "execution_count": 239,
     "metadata": {},
     "output_type": "execute_result"
    }
   ],
   "source": [
    "df"
   ]
  },
  {
   "cell_type": "code",
   "execution_count": null,
   "metadata": {},
   "outputs": [],
   "source": [
    "    "
   ]
  },
  {
   "cell_type": "code",
   "execution_count": null,
   "metadata": {},
   "outputs": [],
   "source": []
  }
 ],
 "metadata": {
  "kernelspec": {
   "display_name": "LRG",
   "language": "python",
   "name": "lrg"
  },
  "language_info": {
   "codemirror_mode": {
    "name": "ipython",
    "version": 3
   },
   "file_extension": ".py",
   "mimetype": "text/x-python",
   "name": "python",
   "nbconvert_exporter": "python",
   "pygments_lexer": "ipython3",
   "version": "3.8.3"
  }
 },
 "nbformat": 4,
 "nbformat_minor": 4
}
