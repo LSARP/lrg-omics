{
 "cells": [
  {
   "cell_type": "code",
   "execution_count": 2,
   "metadata": {},
   "outputs": [],
   "source": [
    "import pandas as pd\n",
    "\n",
    "\n",
    "class MetabolomicsQc():\n",
    "    def __init__(self):\n",
    "        pass\n",
    "\n",
    "\n",
    "class MetabolomicsQcGui():\n",
    "    def __init__(self):\n",
    "        self._ms_files = {'standards'}\n",
    "        self._worklist = pd.DataFrame()\n",
    "        self._standards = []\n",
    "        \n",
    "    def show():\n",
    "        pass\n",
    "    \n",
    "    @property\n",
    "    def ms_files(self):\n",
    "        return self._ms_files\n",
    "    \n",
    "    @ms_files.setter\n",
    "    def ms_files(filenames: list):\n",
    "        self._ms_files = filenames\n",
    "\n",
    "    @property\n",
    "    def worklist(self):\n",
    "        return self._worklist\n",
    "\n",
    "    @worklist.setter\n",
    "    def workist(self, worklist: pd.DataFrame):\n",
    "        self._worklist = worklist\n",
    "    \n",
    "    def read_worklist(self, filename):\n",
    "        worklist = pd.read_csv(filename)\n",
    "        self.worklist = worklist\n",
    "\n",
    "    def gui(self):\n",
    "        pass\n"
   ]
  },
  {
   "cell_type": "code",
   "execution_count": null,
   "metadata": {},
   "outputs": [],
   "source": []
  }
 ],
 "metadata": {
  "kernelspec": {
   "display_name": "Python 3",
   "language": "python",
   "name": "python3"
  },
  "language_info": {
   "codemirror_mode": {
    "name": "ipython",
    "version": 3
   },
   "file_extension": ".py",
   "mimetype": "text/x-python",
   "name": "python",
   "nbconvert_exporter": "python",
   "pygments_lexer": "ipython3",
   "version": "3.6.10"
  }
 },
 "nbformat": 4,
 "nbformat_minor": 4
}
