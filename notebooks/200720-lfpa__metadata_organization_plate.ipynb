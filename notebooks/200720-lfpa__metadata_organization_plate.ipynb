{
 "cells": [
  {
   "cell_type": "code",
   "execution_count": 1,
   "metadata": {},
   "outputs": [],
   "source": [
    "import pandas as pd\n",
    "import glob\n",
    "import os\n",
    "import numpy as np"
   ]
  },
  {
   "cell_type": "code",
   "execution_count": 2,
   "metadata": {},
   "outputs": [],
   "source": [
    "ms_files =[]\n",
    "sizes = []\n",
    "for file in glob.glob('example-01/2020_05_11RG_SA001_RPT001/*.mzXML'):\n",
    "    ms_files.append(file)\n",
    "    sizes.append(os.path.getsize(file))"
   ]
  },
  {
   "cell_type": "code",
   "execution_count": 3,
   "metadata": {},
   "outputs": [
    {
     "data": {
      "text/html": [
       "<div>\n",
       "<style scoped>\n",
       "    .dataframe tbody tr th:only-of-type {\n",
       "        vertical-align: middle;\n",
       "    }\n",
       "\n",
       "    .dataframe tbody tr th {\n",
       "        vertical-align: top;\n",
       "    }\n",
       "\n",
       "    .dataframe thead th {\n",
       "        text-align: right;\n",
       "    }\n",
       "</style>\n",
       "<table border=\"1\" class=\"dataframe\">\n",
       "  <thead>\n",
       "    <tr style=\"text-align: right;\">\n",
       "      <th></th>\n",
       "      <th>file_name</th>\n",
       "      <th>FILE_SIZE</th>\n",
       "    </tr>\n",
       "  </thead>\n",
       "  <tbody>\n",
       "    <tr>\n",
       "      <th>0</th>\n",
       "      <td>example-01/2020_05_11RG_SA001_RPT001/2020_05_1...</td>\n",
       "      <td>17618833</td>\n",
       "    </tr>\n",
       "    <tr>\n",
       "      <th>1</th>\n",
       "      <td>example-01/2020_05_11RG_SA001_RPT001/2020_05_1...</td>\n",
       "      <td>22298335</td>\n",
       "    </tr>\n",
       "  </tbody>\n",
       "</table>\n",
       "</div>"
      ],
      "text/plain": [
       "                                           file_name  FILE_SIZE\n",
       "0  example-01/2020_05_11RG_SA001_RPT001/2020_05_1...   17618833\n",
       "1  example-01/2020_05_11RG_SA001_RPT001/2020_05_1...   22298335"
      ]
     },
     "execution_count": 3,
     "metadata": {},
     "output_type": "execute_result"
    }
   ],
   "source": [
    "ms_files = pd.DataFrame({'file_name': ms_files, 'FILE_SIZE':sizes})\n",
    "ms_files.head(2)"
   ]
  },
  {
   "cell_type": "code",
   "execution_count": 4,
   "metadata": {},
   "outputs": [
    {
     "data": {
      "text/html": [
       "<div>\n",
       "<style scoped>\n",
       "    .dataframe tbody tr th:only-of-type {\n",
       "        vertical-align: middle;\n",
       "    }\n",
       "\n",
       "    .dataframe tbody tr th {\n",
       "        vertical-align: top;\n",
       "    }\n",
       "\n",
       "    .dataframe thead th {\n",
       "        text-align: right;\n",
       "    }\n",
       "</style>\n",
       "<table border=\"1\" class=\"dataframe\">\n",
       "  <thead>\n",
       "    <tr style=\"text-align: right;\">\n",
       "      <th></th>\n",
       "      <th>file_name</th>\n",
       "      <th>FILE_SIZE</th>\n",
       "      <th>plate</th>\n",
       "    </tr>\n",
       "  </thead>\n",
       "  <tbody>\n",
       "    <tr>\n",
       "      <th>0</th>\n",
       "      <td>example-01/2020_05_11RG_SA001_RPT001/2020_05_1...</td>\n",
       "      <td>17618833</td>\n",
       "      <td>SA001</td>\n",
       "    </tr>\n",
       "    <tr>\n",
       "      <th>1</th>\n",
       "      <td>example-01/2020_05_11RG_SA001_RPT001/2020_05_1...</td>\n",
       "      <td>22298335</td>\n",
       "      <td>SA001</td>\n",
       "    </tr>\n",
       "  </tbody>\n",
       "</table>\n",
       "</div>"
      ],
      "text/plain": [
       "                                           file_name  FILE_SIZE  plate\n",
       "0  example-01/2020_05_11RG_SA001_RPT001/2020_05_1...   17618833  SA001\n",
       "1  example-01/2020_05_11RG_SA001_RPT001/2020_05_1...   22298335  SA001"
      ]
     },
     "execution_count": 4,
     "metadata": {},
     "output_type": "execute_result"
    }
   ],
   "source": [
    "ms_files['plate'] = ms_files.file_name.str.split('LSARP_').apply(lambda x: x[1]).str.split('_').apply(lambda x: x[0])\n",
    "ms_files.head(2)"
   ]
  },
  {
   "cell_type": "code",
   "execution_count": 5,
   "metadata": {},
   "outputs": [
    {
     "data": {
      "text/html": [
       "<div>\n",
       "<style scoped>\n",
       "    .dataframe tbody tr th:only-of-type {\n",
       "        vertical-align: middle;\n",
       "    }\n",
       "\n",
       "    .dataframe tbody tr th {\n",
       "        vertical-align: top;\n",
       "    }\n",
       "\n",
       "    .dataframe thead th {\n",
       "        text-align: right;\n",
       "    }\n",
       "</style>\n",
       "<table border=\"1\" class=\"dataframe\">\n",
       "  <thead>\n",
       "    <tr style=\"text-align: right;\">\n",
       "      <th></th>\n",
       "      <th>Sample Type</th>\n",
       "      <th>File Name</th>\n",
       "      <th>Sample ID</th>\n",
       "      <th>Path</th>\n",
       "      <th>Instrument Method</th>\n",
       "      <th>Process Method</th>\n",
       "      <th>Calibration File</th>\n",
       "      <th>Position</th>\n",
       "      <th>Inj Vol</th>\n",
       "      <th>Level</th>\n",
       "      <th>...</th>\n",
       "      <th>Sample Vol</th>\n",
       "      <th>ISTD Amt</th>\n",
       "      <th>Dil Factor</th>\n",
       "      <th>L1 Study</th>\n",
       "      <th>L2 Client</th>\n",
       "      <th>L3 Laboratory</th>\n",
       "      <th>L4 Company</th>\n",
       "      <th>L5 Phone</th>\n",
       "      <th>Comment</th>\n",
       "      <th>Sample Name</th>\n",
       "    </tr>\n",
       "  </thead>\n",
       "  <tbody>\n",
       "    <tr>\n",
       "      <th>0</th>\n",
       "      <td>Unknown</td>\n",
       "      <td>2020_04_20RG_HILICPos15S_Col001_LSARP_SA008_Bl...</td>\n",
       "      <td>NaN</td>\n",
       "      <td>F:\\QEHF\\LRG\\LSARP\\2020_04_20RG_SA008</td>\n",
       "      <td>F:\\QEHF\\Methods\\LSARP\\2019_05_07RG_MultiHILICP...</td>\n",
       "      <td>NaN</td>\n",
       "      <td>NaN</td>\n",
       "      <td>G:C11</td>\n",
       "      <td>2</td>\n",
       "      <td>NaN</td>\n",
       "      <td>...</td>\n",
       "      <td>0</td>\n",
       "      <td>0</td>\n",
       "      <td>0</td>\n",
       "      <td>NaN</td>\n",
       "      <td>NaN</td>\n",
       "      <td>NaN</td>\n",
       "      <td>NaN</td>\n",
       "      <td>NaN</td>\n",
       "      <td>NaN</td>\n",
       "      <td>NaN</td>\n",
       "    </tr>\n",
       "    <tr>\n",
       "      <th>1</th>\n",
       "      <td>Unknown</td>\n",
       "      <td>2020_04_20RG_HILICNeg15S_Col002_LSARP_SA008_Bl...</td>\n",
       "      <td>NaN</td>\n",
       "      <td>F:\\QEHF\\LRG\\LSARP\\2020_04_20RG_SA008</td>\n",
       "      <td>F:\\QEHF\\Methods\\LSARP\\2019_05_07RG_MultiHILICN...</td>\n",
       "      <td>NaN</td>\n",
       "      <td>NaN</td>\n",
       "      <td>G:C11</td>\n",
       "      <td>2</td>\n",
       "      <td>NaN</td>\n",
       "      <td>...</td>\n",
       "      <td>0</td>\n",
       "      <td>0</td>\n",
       "      <td>0</td>\n",
       "      <td>NaN</td>\n",
       "      <td>NaN</td>\n",
       "      <td>NaN</td>\n",
       "      <td>NaN</td>\n",
       "      <td>NaN</td>\n",
       "      <td>NaN</td>\n",
       "      <td>NaN</td>\n",
       "    </tr>\n",
       "  </tbody>\n",
       "</table>\n",
       "<p>2 rows × 21 columns</p>\n",
       "</div>"
      ],
      "text/plain": [
       "  Sample Type                                          File Name  Sample ID  \\\n",
       "0     Unknown  2020_04_20RG_HILICPos15S_Col001_LSARP_SA008_Bl...        NaN   \n",
       "1     Unknown  2020_04_20RG_HILICNeg15S_Col002_LSARP_SA008_Bl...        NaN   \n",
       "\n",
       "                                   Path  \\\n",
       "0  F:\\QEHF\\LRG\\LSARP\\2020_04_20RG_SA008   \n",
       "1  F:\\QEHF\\LRG\\LSARP\\2020_04_20RG_SA008   \n",
       "\n",
       "                                   Instrument Method  Process Method  \\\n",
       "0  F:\\QEHF\\Methods\\LSARP\\2019_05_07RG_MultiHILICP...             NaN   \n",
       "1  F:\\QEHF\\Methods\\LSARP\\2019_05_07RG_MultiHILICN...             NaN   \n",
       "\n",
       "   Calibration File Position  Inj Vol  Level     ...       Sample Vol  \\\n",
       "0               NaN    G:C11        2    NaN     ...                0   \n",
       "1               NaN    G:C11        2    NaN     ...                0   \n",
       "\n",
       "   ISTD Amt  Dil Factor  L1 Study  L2 Client  L3 Laboratory  L4 Company  \\\n",
       "0         0           0       NaN        NaN            NaN         NaN   \n",
       "1         0           0       NaN        NaN            NaN         NaN   \n",
       "\n",
       "   L5 Phone  Comment  Sample Name  \n",
       "0       NaN      NaN          NaN  \n",
       "1       NaN      NaN          NaN  \n",
       "\n",
       "[2 rows x 21 columns]"
      ]
     },
     "execution_count": 5,
     "metadata": {},
     "output_type": "execute_result"
    }
   ],
   "source": [
    "info_df = pd.read_csv('LSARP-Full-May2020-Worklist.csv',skiprows=1)\n",
    "info_df.head(2)"
   ]
  },
  {
   "cell_type": "code",
   "execution_count": 6,
   "metadata": {},
   "outputs": [],
   "source": [
    "lsin = []\n",
    "for i in range(len(info_df)):\n",
    "    lsin.append('LSARP' in info_df['File Name'][i])\n",
    "    \n",
    "info_df['lsin'] = lsin\n",
    "info_df = info_df[info_df.lsin == True]\n",
    "info_df = info_df.drop(['lsin'],axis =1)"
   ]
  },
  {
   "cell_type": "code",
   "execution_count": 7,
   "metadata": {},
   "outputs": [],
   "source": [
    "info_df['plate'] = info_df['File Name'].str.split('LSARP_').apply(lambda x: x[1]).str.split('_').apply(lambda x: x[0])"
   ]
  },
  {
   "cell_type": "code",
   "execution_count": 8,
   "metadata": {},
   "outputs": [],
   "source": [
    "plin = []\n",
    "for i in range(len(info_df)):\n",
    "    plin.append(info_df.plate[i] in np.unique(ms_files.plate))\n",
    "    \n",
    "info_df['plin'] = plin\n",
    "info_df = info_df[info_df.plin == True]\n",
    "info_df = info_df.drop(['plin'],axis =1)"
   ]
  },
  {
   "cell_type": "code",
   "execution_count": 9,
   "metadata": {},
   "outputs": [],
   "source": [
    "info_df = info_df.reset_index()\n",
    "info_df = info_df.drop(['index'],axis = 1)"
   ]
  },
  {
   "cell_type": "code",
   "execution_count": 10,
   "metadata": {},
   "outputs": [
    {
     "data": {
      "text/html": [
       "<div>\n",
       "<style scoped>\n",
       "    .dataframe tbody tr th:only-of-type {\n",
       "        vertical-align: middle;\n",
       "    }\n",
       "\n",
       "    .dataframe tbody tr th {\n",
       "        vertical-align: top;\n",
       "    }\n",
       "\n",
       "    .dataframe thead th {\n",
       "        text-align: right;\n",
       "    }\n",
       "</style>\n",
       "<table border=\"1\" class=\"dataframe\">\n",
       "  <thead>\n",
       "    <tr style=\"text-align: right;\">\n",
       "      <th></th>\n",
       "      <th>file_name</th>\n",
       "      <th>FILE_SIZE</th>\n",
       "      <th>plate</th>\n",
       "    </tr>\n",
       "  </thead>\n",
       "  <tbody>\n",
       "    <tr>\n",
       "      <th>0</th>\n",
       "      <td>2020_05_11RG_HILICPos15S_Col001_LSARP_SA001_RP...</td>\n",
       "      <td>17618833</td>\n",
       "      <td>SA001</td>\n",
       "    </tr>\n",
       "    <tr>\n",
       "      <th>1</th>\n",
       "      <td>2020_05_11RG_HILICNeg15S_Col002_LSARP_SA001_RP...</td>\n",
       "      <td>22298335</td>\n",
       "      <td>SA001</td>\n",
       "    </tr>\n",
       "  </tbody>\n",
       "</table>\n",
       "</div>"
      ],
      "text/plain": [
       "                                           file_name  FILE_SIZE  plate\n",
       "0  2020_05_11RG_HILICPos15S_Col001_LSARP_SA001_RP...   17618833  SA001\n",
       "1  2020_05_11RG_HILICNeg15S_Col002_LSARP_SA001_RP...   22298335  SA001"
      ]
     },
     "execution_count": 10,
     "metadata": {},
     "output_type": "execute_result"
    }
   ],
   "source": [
    "ms_files.file_name = ms_files.file_name.str.split('/').apply(lambda x: x[-1][:-6])\n",
    "ms_files.head(2)"
   ]
  },
  {
   "cell_type": "code",
   "execution_count": 11,
   "metadata": {},
   "outputs": [
    {
     "data": {
      "text/html": [
       "<div>\n",
       "<style scoped>\n",
       "    .dataframe tbody tr th:only-of-type {\n",
       "        vertical-align: middle;\n",
       "    }\n",
       "\n",
       "    .dataframe tbody tr th {\n",
       "        vertical-align: top;\n",
       "    }\n",
       "\n",
       "    .dataframe thead th {\n",
       "        text-align: right;\n",
       "    }\n",
       "</style>\n",
       "<table border=\"1\" class=\"dataframe\">\n",
       "  <thead>\n",
       "    <tr style=\"text-align: right;\">\n",
       "      <th></th>\n",
       "      <th>File Name</th>\n",
       "      <th>Position</th>\n",
       "      <th>plate</th>\n",
       "    </tr>\n",
       "  </thead>\n",
       "  <tbody>\n",
       "    <tr>\n",
       "      <th>0</th>\n",
       "      <td>2020_05_11RG_HILICPos15S_Col001_LSARP_SA001_RP...</td>\n",
       "      <td>G:C11</td>\n",
       "      <td>SA001</td>\n",
       "    </tr>\n",
       "    <tr>\n",
       "      <th>1</th>\n",
       "      <td>2020_05_11RG_HILICNeg15S_Col002_LSARP_SA001_RP...</td>\n",
       "      <td>G:C11</td>\n",
       "      <td>SA001</td>\n",
       "    </tr>\n",
       "  </tbody>\n",
       "</table>\n",
       "</div>"
      ],
      "text/plain": [
       "                                           File Name Position  plate\n",
       "0  2020_05_11RG_HILICPos15S_Col001_LSARP_SA001_RP...    G:C11  SA001\n",
       "1  2020_05_11RG_HILICNeg15S_Col002_LSARP_SA001_RP...    G:C11  SA001"
      ]
     },
     "execution_count": 11,
     "metadata": {},
     "output_type": "execute_result"
    }
   ],
   "source": [
    "out_df = info_df.copy()\n",
    "out_df = out_df.drop(['Sample Type','Sample ID','Path','Level','Instrument Method',\n",
    "                      'Calibration File','Sample Wt','Sample Vol','L1 Study','L2 Client',\n",
    "                      'L3 Laboratory','L4 Company','L5 Phone','Comment','Process Method',\n",
    "                      'Inj Vol','ISTD Amt','Dil Factor','Sample Name'],axis = 1)\n",
    "out_df.head(2)"
   ]
  },
  {
   "cell_type": "code",
   "execution_count": 12,
   "metadata": {},
   "outputs": [
    {
     "data": {
      "text/html": [
       "<div>\n",
       "<style scoped>\n",
       "    .dataframe tbody tr th:only-of-type {\n",
       "        vertical-align: middle;\n",
       "    }\n",
       "\n",
       "    .dataframe tbody tr th {\n",
       "        vertical-align: top;\n",
       "    }\n",
       "\n",
       "    .dataframe thead th {\n",
       "        text-align: right;\n",
       "    }\n",
       "</style>\n",
       "<table border=\"1\" class=\"dataframe\">\n",
       "  <thead>\n",
       "    <tr style=\"text-align: right;\">\n",
       "      <th></th>\n",
       "      <th>file_name</th>\n",
       "      <th>FILE_SIZE</th>\n",
       "      <th>plate</th>\n",
       "    </tr>\n",
       "  </thead>\n",
       "  <tbody>\n",
       "    <tr>\n",
       "      <th>0</th>\n",
       "      <td>2020_05_11RG_HILICNeg15S_Col002_LSARP_SA001_RP...</td>\n",
       "      <td>22479052</td>\n",
       "      <td>SA001</td>\n",
       "    </tr>\n",
       "    <tr>\n",
       "      <th>1</th>\n",
       "      <td>2020_05_11RG_HILICNeg15S_Col002_LSARP_SA001_RP...</td>\n",
       "      <td>22452139</td>\n",
       "      <td>SA001</td>\n",
       "    </tr>\n",
       "  </tbody>\n",
       "</table>\n",
       "</div>"
      ],
      "text/plain": [
       "                                           file_name  FILE_SIZE  plate\n",
       "0  2020_05_11RG_HILICNeg15S_Col002_LSARP_SA001_RP...   22479052  SA001\n",
       "1  2020_05_11RG_HILICNeg15S_Col002_LSARP_SA001_RP...   22452139  SA001"
      ]
     },
     "execution_count": 12,
     "metadata": {},
     "output_type": "execute_result"
    }
   ],
   "source": [
    "ms_files = ms_files.sort_values(by = ['plate','file_name'], ascending = True)\n",
    "ms_files = ms_files.reset_index()\n",
    "ms_files = ms_files.drop(['index'], axis = 1)\n",
    "ms_files.head(2)"
   ]
  },
  {
   "cell_type": "code",
   "execution_count": 13,
   "metadata": {},
   "outputs": [
    {
     "data": {
      "text/html": [
       "<div>\n",
       "<style scoped>\n",
       "    .dataframe tbody tr th:only-of-type {\n",
       "        vertical-align: middle;\n",
       "    }\n",
       "\n",
       "    .dataframe tbody tr th {\n",
       "        vertical-align: top;\n",
       "    }\n",
       "\n",
       "    .dataframe thead th {\n",
       "        text-align: right;\n",
       "    }\n",
       "</style>\n",
       "<table border=\"1\" class=\"dataframe\">\n",
       "  <thead>\n",
       "    <tr style=\"text-align: right;\">\n",
       "      <th></th>\n",
       "      <th>File Name</th>\n",
       "      <th>Position</th>\n",
       "      <th>plate</th>\n",
       "    </tr>\n",
       "  </thead>\n",
       "  <tbody>\n",
       "    <tr>\n",
       "      <th>0</th>\n",
       "      <td>2020_05_11RG_HILICNeg15S_Col002_LSARP_SA001_RP...</td>\n",
       "      <td>G:A2</td>\n",
       "      <td>SA001</td>\n",
       "    </tr>\n",
       "    <tr>\n",
       "      <th>1</th>\n",
       "      <td>2020_05_11RG_HILICNeg15S_Col002_LSARP_SA001_RP...</td>\n",
       "      <td>G:A3</td>\n",
       "      <td>SA001</td>\n",
       "    </tr>\n",
       "    <tr>\n",
       "      <th>2</th>\n",
       "      <td>2020_05_11RG_HILICNeg15S_Col002_LSARP_SA001_RP...</td>\n",
       "      <td>G:A4</td>\n",
       "      <td>SA001</td>\n",
       "    </tr>\n",
       "    <tr>\n",
       "      <th>3</th>\n",
       "      <td>2020_05_11RG_HILICNeg15S_Col002_LSARP_SA001_RP...</td>\n",
       "      <td>G:A5</td>\n",
       "      <td>SA001</td>\n",
       "    </tr>\n",
       "    <tr>\n",
       "      <th>4</th>\n",
       "      <td>2020_05_11RG_HILICNeg15S_Col002_LSARP_SA001_RP...</td>\n",
       "      <td>G:A6</td>\n",
       "      <td>SA001</td>\n",
       "    </tr>\n",
       "  </tbody>\n",
       "</table>\n",
       "</div>"
      ],
      "text/plain": [
       "                                           File Name Position  plate\n",
       "0  2020_05_11RG_HILICNeg15S_Col002_LSARP_SA001_RP...     G:A2  SA001\n",
       "1  2020_05_11RG_HILICNeg15S_Col002_LSARP_SA001_RP...     G:A3  SA001\n",
       "2  2020_05_11RG_HILICNeg15S_Col002_LSARP_SA001_RP...     G:A4  SA001\n",
       "3  2020_05_11RG_HILICNeg15S_Col002_LSARP_SA001_RP...     G:A5  SA001\n",
       "4  2020_05_11RG_HILICNeg15S_Col002_LSARP_SA001_RP...     G:A6  SA001"
      ]
     },
     "execution_count": 13,
     "metadata": {},
     "output_type": "execute_result"
    }
   ],
   "source": [
    "out_df = out_df.sort_values(by = ['plate','File Name'], ascending = True)\n",
    "out_df = out_df.reset_index()\n",
    "out_df = out_df.drop(['index'], axis =1 )\n",
    "out_df.head()"
   ]
  },
  {
   "cell_type": "code",
   "execution_count": 14,
   "metadata": {},
   "outputs": [
    {
     "data": {
      "text/plain": [
       "'2020_05_11RG_HILICNeg15S_Col002_LSARP_SA001_RPT001_BI_16_0013'"
      ]
     },
     "execution_count": 14,
     "metadata": {},
     "output_type": "execute_result"
    }
   ],
   "source": [
    "out_df['File Name'][0]"
   ]
  },
  {
   "cell_type": "code",
   "execution_count": 15,
   "metadata": {},
   "outputs": [
    {
     "data": {
      "text/plain": [
       "'2020_05_11RG_HILICNeg15S_Col002_LSARP_SA001_RPT001_BI_16_0013'"
      ]
     },
     "execution_count": 15,
     "metadata": {},
     "output_type": "execute_result"
    }
   ],
   "source": [
    "ms_files.file_name[0]"
   ]
  },
  {
   "cell_type": "code",
   "execution_count": 16,
   "metadata": {},
   "outputs": [
    {
     "data": {
      "text/plain": [
       "array([ True])"
      ]
     },
     "execution_count": 16,
     "metadata": {},
     "output_type": "execute_result"
    }
   ],
   "source": [
    "np.unique(out_df['File Name'] == ms_files.file_name)"
   ]
  },
  {
   "cell_type": "code",
   "execution_count": 17,
   "metadata": {},
   "outputs": [
    {
     "data": {
      "text/html": [
       "<div>\n",
       "<style scoped>\n",
       "    .dataframe tbody tr th:only-of-type {\n",
       "        vertical-align: middle;\n",
       "    }\n",
       "\n",
       "    .dataframe tbody tr th {\n",
       "        vertical-align: top;\n",
       "    }\n",
       "\n",
       "    .dataframe thead th {\n",
       "        text-align: right;\n",
       "    }\n",
       "</style>\n",
       "<table border=\"1\" class=\"dataframe\">\n",
       "  <thead>\n",
       "    <tr style=\"text-align: right;\">\n",
       "      <th></th>\n",
       "      <th>ms_file</th>\n",
       "      <th>Position</th>\n",
       "      <th>plate</th>\n",
       "    </tr>\n",
       "  </thead>\n",
       "  <tbody>\n",
       "    <tr>\n",
       "      <th>0</th>\n",
       "      <td>2020_05_11RG_HILICNeg15S_Col002_LSARP_SA001_RP...</td>\n",
       "      <td>G:A2</td>\n",
       "      <td>SA001</td>\n",
       "    </tr>\n",
       "    <tr>\n",
       "      <th>1</th>\n",
       "      <td>2020_05_11RG_HILICNeg15S_Col002_LSARP_SA001_RP...</td>\n",
       "      <td>G:A3</td>\n",
       "      <td>SA001</td>\n",
       "    </tr>\n",
       "  </tbody>\n",
       "</table>\n",
       "</div>"
      ],
      "text/plain": [
       "                                             ms_file Position  plate\n",
       "0  2020_05_11RG_HILICNeg15S_Col002_LSARP_SA001_RP...     G:A2  SA001\n",
       "1  2020_05_11RG_HILICNeg15S_Col002_LSARP_SA001_RP...     G:A3  SA001"
      ]
     },
     "execution_count": 17,
     "metadata": {},
     "output_type": "execute_result"
    }
   ],
   "source": [
    "out_df = out_df.rename(columns = {'File Name':'ms_file'})\n",
    "out_df.head(2)"
   ]
  },
  {
   "cell_type": "code",
   "execution_count": 18,
   "metadata": {},
   "outputs": [
    {
     "data": {
      "text/html": [
       "<div>\n",
       "<style scoped>\n",
       "    .dataframe tbody tr th:only-of-type {\n",
       "        vertical-align: middle;\n",
       "    }\n",
       "\n",
       "    .dataframe tbody tr th {\n",
       "        vertical-align: top;\n",
       "    }\n",
       "\n",
       "    .dataframe thead th {\n",
       "        text-align: right;\n",
       "    }\n",
       "</style>\n",
       "<table border=\"1\" class=\"dataframe\">\n",
       "  <thead>\n",
       "    <tr style=\"text-align: right;\">\n",
       "      <th></th>\n",
       "      <th>ms_file</th>\n",
       "      <th>Position</th>\n",
       "      <th>plate</th>\n",
       "      <th>RUN_DATE</th>\n",
       "      <th>WELL_ROW</th>\n",
       "      <th>WELL_COL</th>\n",
       "      <th>METHOD</th>\n",
       "      <th>BI_NBR</th>\n",
       "      <th>FILE_SIZE</th>\n",
       "    </tr>\n",
       "  </thead>\n",
       "  <tbody>\n",
       "    <tr>\n",
       "      <th>0</th>\n",
       "      <td>2020_05_11RG_HILICNeg15S_Col002_LSARP_SA001_RP...</td>\n",
       "      <td>G:A2</td>\n",
       "      <td>SA001</td>\n",
       "      <td>2020-05-11</td>\n",
       "      <td>A</td>\n",
       "      <td>2</td>\n",
       "      <td>Neg</td>\n",
       "      <td>BI_16_0013</td>\n",
       "      <td>22479052</td>\n",
       "    </tr>\n",
       "    <tr>\n",
       "      <th>1</th>\n",
       "      <td>2020_05_11RG_HILICNeg15S_Col002_LSARP_SA001_RP...</td>\n",
       "      <td>G:A3</td>\n",
       "      <td>SA001</td>\n",
       "      <td>2020-05-11</td>\n",
       "      <td>A</td>\n",
       "      <td>3</td>\n",
       "      <td>Neg</td>\n",
       "      <td>BI_16_0017</td>\n",
       "      <td>22452139</td>\n",
       "    </tr>\n",
       "  </tbody>\n",
       "</table>\n",
       "</div>"
      ],
      "text/plain": [
       "                                             ms_file Position  plate  \\\n",
       "0  2020_05_11RG_HILICNeg15S_Col002_LSARP_SA001_RP...     G:A2  SA001   \n",
       "1  2020_05_11RG_HILICNeg15S_Col002_LSARP_SA001_RP...     G:A3  SA001   \n",
       "\n",
       "     RUN_DATE WELL_ROW WELL_COL METHOD      BI_NBR  FILE_SIZE  \n",
       "0  2020-05-11        A        2    Neg  BI_16_0013   22479052  \n",
       "1  2020-05-11        A        3    Neg  BI_16_0017   22452139  "
      ]
     },
     "execution_count": 18,
     "metadata": {},
     "output_type": "execute_result"
    }
   ],
   "source": [
    "out_df['RUN_DATE'] = out_df.ms_file.str.split('RG').apply(lambda x: x[0].replace('_','-'))\n",
    "out_df['WELL_ROW'] = out_df.Position.str.split(':').apply(lambda x: x[1][:1])\n",
    "out_df['WELL_COL'] = out_df.Position.str.split(':').apply(lambda x: x[1][1:])\n",
    "out_df['METHOD'] = out_df.ms_file.str.split('HILIC').apply(lambda x: x[-1][:3])\n",
    "out_df['BI_NBR'] = out_df.ms_file.str.split('RPT001_').apply(lambda x: x[-1])\n",
    "out_df['FILE_SIZE'] = ms_files.FILE_SIZE\n",
    "out_df = out_df.drop('Position'])\n",
    "out_df.head(2)"
   ]
  },
  {
   "cell_type": "code",
   "execution_count": 23,
   "metadata": {},
   "outputs": [],
   "source": [
    "from datetime import date\n",
    "# str(date.today()).replace('-','')"
   ]
  },
  {
   "cell_type": "code",
   "execution_count": 24,
   "metadata": {},
   "outputs": [],
   "source": [
    "out_df.to_csv(str(date.today()).replace('-','')+'_metadata_file.csv', index = False)"
   ]
  }
 ],
 "metadata": {
  "kernelspec": {
   "display_name": "Python 3",
   "language": "python",
   "name": "python3"
  },
  "language_info": {
   "codemirror_mode": {
    "name": "ipython",
    "version": 3
   },
   "file_extension": ".py",
   "mimetype": "text/x-python",
   "name": "python",
   "nbconvert_exporter": "python",
   "pygments_lexer": "ipython3",
   "version": "3.8.3"
  }
 },
 "nbformat": 4,
 "nbformat_minor": 4
}
