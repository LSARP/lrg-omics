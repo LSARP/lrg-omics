{
 "cells": [
  {
   "cell_type": "code",
   "execution_count": 1,
   "id": "c073cb12-3f67-4a0c-b238-294e28def6ab",
   "metadata": {},
   "outputs": [
    {
     "name": "stdout",
     "output_type": "stream",
     "text": [
      "Populating the interactive namespace from numpy and matplotlib\n"
     ]
    }
   ],
   "source": [
    "%pylab inline"
   ]
  },
  {
   "cell_type": "code",
   "execution_count": 2,
   "id": "32c41b85-7f8c-44b2-a00b-adb92d590df8",
   "metadata": {},
   "outputs": [],
   "source": [
    "from pathlib import Path as P"
   ]
  },
  {
   "cell_type": "code",
   "execution_count": 3,
   "id": "0d1b57ee-5ea0-40b8-8f1f-1f5a93d6de0a",
   "metadata": {},
   "outputs": [
    {
     "data": {
      "text/plain": [
       "'/home/swacker/miniconda3/envs/lrg/lib/python3.8/os.py'"
      ]
     },
     "execution_count": 3,
     "metadata": {},
     "output_type": "execute_result"
    }
   ],
   "source": [
    "import os\n",
    "os.__file__"
   ]
  },
  {
   "cell_type": "code",
   "execution_count": 4,
   "id": "207b4e9e-c60a-4852-884b-53567f741418",
   "metadata": {},
   "outputs": [
    {
     "data": {
      "text/plain": [
       "'/home/swacker/workspace/lrg-omics/lrg_omics/__init__.py'"
      ]
     },
     "execution_count": 4,
     "metadata": {},
     "output_type": "execute_result"
    }
   ],
   "source": [
    "import lrg_omics\n",
    "lrg_omics.__file__"
   ]
  },
  {
   "cell_type": "code",
   "execution_count": 5,
   "id": "8ff76cb4-77ab-4b53-a685-359307ac9f42",
   "metadata": {},
   "outputs": [],
   "source": [
    "from lrg_omics.proteomics import MaxQuantRunner"
   ]
  },
  {
   "cell_type": "code",
   "execution_count": 6,
   "id": "98f062ea-d651-43f2-8541-92fa5ca4445a",
   "metadata": {},
   "outputs": [],
   "source": [
    "PATH = P('../tests/data/')\n",
    "\n",
    "fn_raw = PATH/'fake'/'fake.raw'\n",
    "fn_mqp = PATH/'maxquant'/'tmt11'/'mqpar'/'mqpar.xml'\n",
    "fn_faa = PATH/'fasta'/'minimal.faa'\n",
    "cmd = '/home/swacker/miniconda3/envs/lrg/bin/maxquant'\n",
    "mq = MaxQuantRunner(mqpar_file=fn_mqp, fasta_file=fn_faa, maxquantcmd=cmd)"
   ]
  },
  {
   "cell_type": "code",
   "execution_count": 7,
   "id": "e7dac93b-6f42-4306-9cdd-6216679a52af",
   "metadata": {},
   "outputs": [],
   "source": [
    "mq._run_dir"
   ]
  },
  {
   "cell_type": "code",
   "execution_count": 8,
   "id": "678bb273-2e96-4b51-b533-c7019cdc8a85",
   "metadata": {},
   "outputs": [],
   "source": [
    "mq._tgt_dir"
   ]
  },
  {
   "cell_type": "code",
   "execution_count": 9,
   "id": "ac923f20-1315-4d2a-82f0-8fbca37aeac6",
   "metadata": {},
   "outputs": [
    {
     "name": "stderr",
     "output_type": "stream",
     "text": [
      "WARNING:root:Output directory exists (/home/swacker/workspace/lrg-omics/notebooks/out) omitting raw file: /home/swacker/workspace/lrg-omics/tests/data/fake/fake.raw.\n"
     ]
    }
   ],
   "source": [
    "mq.run(fn_raw, run=True, rerun=False, add_uuid=True)"
   ]
  },
  {
   "cell_type": "code",
   "execution_count": null,
   "id": "e749e1cc-ae13-4a39-8faf-0db2eb68184e",
   "metadata": {},
   "outputs": [],
   "source": []
  }
 ],
 "metadata": {
  "kernelspec": {
   "display_name": "LRG",
   "language": "python",
   "name": "lrg"
  },
  "language_info": {
   "codemirror_mode": {
    "name": "ipython",
    "version": 3
   },
   "file_extension": ".py",
   "mimetype": "text/x-python",
   "name": "python",
   "nbconvert_exporter": "python",
   "pygments_lexer": "ipython3",
   "version": "3.8.10"
  }
 },
 "nbformat": 4,
 "nbformat_minor": 5
}
