{
 "cells": [
  {
   "cell_type": "code",
   "execution_count": 1,
   "id": "c073cb12-3f67-4a0c-b238-294e28def6ab",
   "metadata": {},
   "outputs": [
    {
     "output_type": "stream",
     "name": "stdout",
     "text": [
      "Populating the interactive namespace from numpy and matplotlib\n"
     ]
    }
   ],
   "source": [
    "%pylab inline"
   ]
  },
  {
   "cell_type": "markdown",
   "id": "ada963f0-837b-480f-8655-87ee2ac54288",
   "metadata": {},
   "source": [
    "# Using MaxquantRunner() in a Jupyter notebook"
   ]
  },
  {
   "cell_type": "markdown",
   "id": "93e72e62-637b-4601-9585-f58265c8f526",
   "metadata": {},
   "source": [
    "There are issues with JupyterLab 3 finding the commands when they are installed in a different conda environment than `base`. A workaround is to provide the absolute path to `mono` and `MaxQuantCmd.exe` or use a notebook server that does not have that problem. For example, VSCode can run the code without problems. "
   ]
  },
  {
   "cell_type": "markdown",
   "id": "46ddca29-e75b-40e3-88b1-5028fbda90ed",
   "metadata": {},
   "source": [
    "The following should return the path to `mono` in the currently active environment."
   ]
  },
  {
   "cell_type": "code",
   "execution_count": 2,
   "id": "f3893072-fdb6-450a-b0f2-a7d2b3b496d7",
   "metadata": {},
   "outputs": [
    {
     "output_type": "stream",
     "name": "stdout",
     "text": [
      "/home/swacker/miniconda3/envs/lrg/bin/mono\n"
     ]
    }
   ],
   "source": [
    "! which mono"
   ]
  },
  {
   "cell_type": "code",
   "execution_count": 3,
   "id": "8f7bd912-f0e0-426f-8f74-a7e5301d157e",
   "metadata": {},
   "outputs": [
    {
     "output_type": "stream",
     "name": "stdout",
     "text": [
      "/home/swacker/miniconda3/envs/lrg/bin/maxquant\n"
     ]
    }
   ],
   "source": [
    "! which maxquant"
   ]
  },
  {
   "cell_type": "markdown",
   "id": "12acf2f1-73fe-49d1-9572-e01dcab2fc3d",
   "metadata": {},
   "source": [
    "This does not work in all versions of JupyterLab. You can try using VSCode instead until this is fixed."
   ]
  },
  {
   "cell_type": "code",
   "execution_count": 4,
   "id": "32c41b85-7f8c-44b2-a00b-adb92d590df8",
   "metadata": {},
   "outputs": [],
   "source": [
    "from pathlib import Path as P"
   ]
  },
  {
   "cell_type": "code",
   "execution_count": 5,
   "id": "207b4e9e-c60a-4852-884b-53567f741418",
   "metadata": {},
   "outputs": [
    {
     "output_type": "execute_result",
     "data": {
      "text/plain": [
       "'/home/swacker/workspace/lrg-omics/lrg_omics/__init__.py'"
      ]
     },
     "metadata": {},
     "execution_count": 5
    }
   ],
   "source": [
    "import lrg_omics\n",
    "lrg_omics.__file__"
   ]
  },
  {
   "cell_type": "code",
   "execution_count": 6,
   "id": "8ff76cb4-77ab-4b53-a685-359307ac9f42",
   "metadata": {},
   "outputs": [],
   "source": [
    "from lrg_omics.proteomics import MaxquantRunner"
   ]
  },
  {
   "cell_type": "markdown",
   "id": "e6d84560-3ff7-4169-9fec-e0c587996165",
   "metadata": {},
   "source": [
    "### Test the fake a run."
   ]
  },
  {
   "cell_type": "code",
   "execution_count": 7,
   "id": "ddc6d983-d85b-4160-b685-2c2d72e83d26",
   "metadata": {},
   "outputs": [
    {
     "output_type": "stream",
     "name": "stdout",
     "text": [
      "Running fake /home/swacker/workspace/lrg-omics/notebooks/run\n"
     ]
    }
   ],
   "source": [
    "PATH = P('../tests/data/')\n",
    "fn_raw = PATH/'fake'/'fake.raw'\n",
    "fn_mqp = PATH/'maxquant'/'tmt11'/'mqpar'/'mqpar.xml'\n",
    "fn_faa = PATH/'fasta'/'minimal.faa'\n",
    "cmd = '/home/swacker/miniconda3/envs/lrg/bin/maxquant'\n",
    "mq = MaxquantRunner(mqpar_file=fn_mqp, fasta_file=fn_faa, maxquantcmd=cmd)\n",
    "_ = mq.run(fn_raw, run=True, rerun=True)"
   ]
  },
  {
   "cell_type": "code",
   "execution_count": null,
   "id": "3e11308f-f7b8-4e81-94b3-fb68abe55c19",
   "metadata": {},
   "outputs": [],
   "source": []
  },
  {
   "cell_type": "code",
   "execution_count": 8,
   "id": "e749e1cc-ae13-4a39-8faf-0db2eb68184e",
   "metadata": {},
   "outputs": [
    {
     "output_type": "stream",
     "name": "stderr",
     "text": [
      "--- Logging error ---\n",
      "Traceback (most recent call last):\n",
      "  File \"/home/swacker/workspace/lrg-omics/lrg_omics/proteomics/maxquant/MaxquantRunner.py\", line 48, in __init__\n",
      "    assert os.system( f'{maxquantcmd} --version' ) == 0\n",
      "AssertionError\n",
      "\n",
      "During handling of the above exception, another exception occurred:\n",
      "\n",
      "Traceback (most recent call last):\n",
      "  File \"/home/swacker/miniconda3/envs/lrg/lib/python3.8/logging/__init__.py\", line 1085, in emit\n",
      "    msg = self.format(record)\n",
      "  File \"/home/swacker/miniconda3/envs/lrg/lib/python3.8/logging/__init__.py\", line 929, in format\n",
      "    return fmt.format(record)\n",
      "  File \"/home/swacker/miniconda3/envs/lrg/lib/python3.8/logging/__init__.py\", line 668, in format\n",
      "    record.message = record.getMessage()\n",
      "  File \"/home/swacker/miniconda3/envs/lrg/lib/python3.8/logging/__init__.py\", line 373, in getMessage\n",
      "    msg = msg % self.args\n",
      "TypeError: not all arguments converted during string formatting\n",
      "Call stack:\n",
      "  File \"/home/swacker/.vscode-server/extensions/ms-toolsai.jupyter-2021.6.832593372/pythonFiles/vscode_datascience_helpers/../pyvsc-run-isolated.py\", line 30, in <module>\n",
      "    runpy.run_path(module, run_name=\"__main__\")\n",
      "  File \"/home/swacker/miniconda3/envs/lrg/lib/python3.8/runpy.py\", line 265, in run_path\n",
      "    return _run_module_code(code, init_globals, run_name,\n",
      "  File \"/home/swacker/miniconda3/envs/lrg/lib/python3.8/runpy.py\", line 97, in _run_module_code\n",
      "    _run_code(code, mod_globals, init_globals,\n",
      "  File \"/home/swacker/miniconda3/envs/lrg/lib/python3.8/runpy.py\", line 87, in _run_code\n",
      "    exec(code, run_globals)\n",
      "  File \"/home/swacker/.vscode-server/extensions/ms-toolsai.jupyter-2021.6.832593372/pythonFiles/vscode_datascience_helpers/kernel_prewarm_starter.py\", line 31, in <module>\n",
      "    runpy.run_module(module, run_name=\"__main__\", alter_sys=False)\n",
      "  File \"/home/swacker/miniconda3/envs/lrg/lib/python3.8/runpy.py\", line 210, in run_module\n",
      "    return _run_code(code, {}, init_globals, run_name, mod_spec)\n",
      "  File \"/home/swacker/miniconda3/envs/lrg/lib/python3.8/runpy.py\", line 87, in _run_code\n",
      "    exec(code, run_globals)\n",
      "  File \"/home/swacker/miniconda3/envs/lrg/lib/python3.8/site-packages/ipykernel_launcher.py\", line 16, in <module>\n",
      "    app.launch_new_instance()\n",
      "  File \"/home/swacker/miniconda3/envs/lrg/lib/python3.8/site-packages/traitlets/config/application.py\", line 845, in launch_instance\n",
      "    app.start()\n",
      "  File \"/home/swacker/miniconda3/envs/lrg/lib/python3.8/site-packages/ipykernel/kernelapp.py\", line 619, in start\n",
      "    self.io_loop.start()\n",
      "  File \"/home/swacker/miniconda3/envs/lrg/lib/python3.8/site-packages/tornado/platform/asyncio.py\", line 199, in start\n",
      "    self.asyncio_loop.run_forever()\n",
      "  File \"/home/swacker/miniconda3/envs/lrg/lib/python3.8/asyncio/base_events.py\", line 570, in run_forever\n",
      "    self._run_once()\n",
      "  File \"/home/swacker/miniconda3/envs/lrg/lib/python3.8/asyncio/base_events.py\", line 1859, in _run_once\n",
      "    handle._run()\n",
      "  File \"/home/swacker/miniconda3/envs/lrg/lib/python3.8/asyncio/events.py\", line 81, in _run\n",
      "    self._context.run(self._callback, *self._args)\n",
      "  File \"/home/swacker/miniconda3/envs/lrg/lib/python3.8/site-packages/tornado/ioloop.py\", line 688, in <lambda>\n",
      "    lambda f: self._run_callback(functools.partial(callback, future))\n",
      "  File \"/home/swacker/miniconda3/envs/lrg/lib/python3.8/site-packages/tornado/ioloop.py\", line 741, in _run_callback\n",
      "    ret = callback()\n",
      "  File \"/home/swacker/miniconda3/envs/lrg/lib/python3.8/site-packages/tornado/gen.py\", line 814, in inner\n",
      "    self.ctx_run(self.run)\n",
      "  File \"/home/swacker/miniconda3/envs/lrg/lib/python3.8/site-packages/tornado/gen.py\", line 775, in run\n",
      "    yielded = self.gen.send(value)\n",
      "  File \"/home/swacker/miniconda3/envs/lrg/lib/python3.8/site-packages/ipykernel/kernelbase.py\", line 358, in process_one\n",
      "    yield gen.maybe_future(dispatch(*args))\n",
      "  File \"/home/swacker/miniconda3/envs/lrg/lib/python3.8/site-packages/tornado/gen.py\", line 234, in wrapper\n",
      "    yielded = ctx_run(next, result)\n",
      "  File \"/home/swacker/miniconda3/envs/lrg/lib/python3.8/site-packages/ipykernel/kernelbase.py\", line 261, in dispatch_shell\n",
      "    yield gen.maybe_future(handler(stream, idents, msg))\n",
      "  File \"/home/swacker/miniconda3/envs/lrg/lib/python3.8/site-packages/tornado/gen.py\", line 234, in wrapper\n",
      "    yielded = ctx_run(next, result)\n",
      "  File \"/home/swacker/miniconda3/envs/lrg/lib/python3.8/site-packages/ipykernel/kernelbase.py\", line 536, in execute_request\n",
      "    self.do_execute(\n",
      "  File \"/home/swacker/miniconda3/envs/lrg/lib/python3.8/site-packages/tornado/gen.py\", line 234, in wrapper\n",
      "    yielded = ctx_run(next, result)\n",
      "  File \"/home/swacker/miniconda3/envs/lrg/lib/python3.8/site-packages/ipykernel/ipkernel.py\", line 302, in do_execute\n",
      "    res = shell.run_cell(code, store_history=store_history, silent=silent)\n",
      "  File \"/home/swacker/miniconda3/envs/lrg/lib/python3.8/site-packages/ipykernel/zmqshell.py\", line 539, in run_cell\n",
      "    return super(ZMQInteractiveShell, self).run_cell(*args, **kwargs)\n",
      "  File \"/home/swacker/miniconda3/envs/lrg/lib/python3.8/site-packages/IPython/core/interactiveshell.py\", line 2898, in run_cell\n",
      "    result = self._run_cell(\n",
      "  File \"/home/swacker/miniconda3/envs/lrg/lib/python3.8/site-packages/IPython/core/interactiveshell.py\", line 2944, in _run_cell\n",
      "    return runner(coro)\n",
      "  File \"/home/swacker/miniconda3/envs/lrg/lib/python3.8/site-packages/IPython/core/async_helpers.py\", line 68, in _pseudo_sync_runner\n",
      "    coro.send(None)\n",
      "  File \"/home/swacker/miniconda3/envs/lrg/lib/python3.8/site-packages/IPython/core/interactiveshell.py\", line 3169, in run_cell_async\n",
      "    has_raised = await self.run_ast_nodes(code_ast.body, cell_name,\n",
      "  File \"/home/swacker/miniconda3/envs/lrg/lib/python3.8/site-packages/IPython/core/interactiveshell.py\", line 3361, in run_ast_nodes\n",
      "    if (await self.run_code(code, result,  async_=asy)):\n",
      "  File \"/home/swacker/miniconda3/envs/lrg/lib/python3.8/site-packages/IPython/core/interactiveshell.py\", line 3441, in run_code\n",
      "    exec(code_obj, self.user_global_ns, self.user_ns)\n",
      "  File \"<ipython-input-8-9e1aa8179662>\", line 8, in <module>\n",
      "    mq = MaxquantRunner(mqpar_file=fn_mqp, fasta_file=fn_faa, maxquantcmd=cmd)\n",
      "  File \"/home/swacker/workspace/lrg-omics/lrg_omics/proteomics/maxquant/MaxquantRunner.py\", line 50, in __init__\n",
      "    logging.warning('maxquantcmd not working', os.system( f'{maxquantcmd} --version') )\n",
      "Message: 'maxquantcmd not working'\n",
      "Arguments: (256,)\n",
      "Running SA010-R1-blank-200425-R2 /home/swacker/workspace/lrg-omics/notebooks/run\n"
     ]
    }
   ],
   "source": [
    "PATH = P('../tests/data/')\n",
    "fn_raw = '/data/proteomics_storage/testing/SA010-R1-blank-200425-R2.raw'\n",
    "fn_mqp = PATH/'maxquant'/'tmt11'/'mqpar'/'mqpar.xml'\n",
    "fn_faa = PATH/'fasta'/'minimal.faa'\n",
    "\n",
    "cmd = '/home/swacker/miniconda3/envs/lrg/bin/mono /home/swacker/miniconda3/envs/lrg/bin/MaxQuantCmd.exe'\n",
    "cmd = 'maxquant'\n",
    "\n",
    "mq = MaxquantRunner(mqpar_file=fn_mqp, fasta_file=fn_faa, maxquantcmd=cmd)\n",
    "mq.run(fn_raw, run=True, rerun=True)"
   ]
  },
  {
   "cell_type": "code",
   "execution_count": null,
   "id": "dd8fc13e-7468-4400-8a52-7e18a88f6cb1",
   "metadata": {},
   "outputs": [],
   "source": []
  }
 ],
 "metadata": {
  "kernelspec": {
   "name": "lrg",
   "display_name": "Python 3.8.10 64-bit ('lrg': conda)"
  },
  "language_info": {
   "codemirror_mode": {
    "name": "ipython",
    "version": 3
   },
   "file_extension": ".py",
   "mimetype": "text/x-python",
   "name": "python",
   "nbconvert_exporter": "python",
   "pygments_lexer": "ipython3",
   "version": "3.8.10"
  }
 },
 "nbformat": 4,
 "nbformat_minor": 5
}