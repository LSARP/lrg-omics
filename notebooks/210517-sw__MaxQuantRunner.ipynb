{
 "cells": [
  {
   "cell_type": "code",
   "execution_count": null,
   "id": "c073cb12-3f67-4a0c-b238-294e28def6ab",
   "metadata": {},
   "outputs": [],
   "source": [
    "%pylab inline"
   ]
  },
  {
   "cell_type": "markdown",
   "id": "ada963f0-837b-480f-8655-87ee2ac54288",
   "metadata": {},
   "source": [
    "# Using MaxquantRunner() in a Jupyter notebook"
   ]
  },
  {
   "cell_type": "markdown",
   "id": "93e72e62-637b-4601-9585-f58265c8f526",
   "metadata": {},
   "source": [
    "There are issues with JupyterLab 3 finding the commands when they are installed in a different conda environment than `base`. A workaround is to provide the absolute path to `mono` and `MaxQuantCmd.exe` or use a notebook server that does not have that problem. For example, VSCode can run the code without problems. "
   ]
  },
  {
   "cell_type": "markdown",
   "id": "46ddca29-e75b-40e3-88b1-5028fbda90ed",
   "metadata": {},
   "source": [
    "The following should return the path to `mono` in the currently active environment."
   ]
  },
  {
   "cell_type": "code",
   "execution_count": null,
   "id": "f3893072-fdb6-450a-b0f2-a7d2b3b496d7",
   "metadata": {},
   "outputs": [],
   "source": [
    "! which mono"
   ]
  },
  {
   "cell_type": "code",
   "execution_count": null,
   "id": "8f7bd912-f0e0-426f-8f74-a7e5301d157e",
   "metadata": {},
   "outputs": [],
   "source": [
    "! which maxquant"
   ]
  },
  {
   "cell_type": "markdown",
   "id": "12acf2f1-73fe-49d1-9572-e01dcab2fc3d",
   "metadata": {},
   "source": [
    "This does not work in all versions of JupyterLab. You can try using VSCode instead until this is fixed."
   ]
  },
  {
   "cell_type": "code",
   "execution_count": null,
   "id": "32c41b85-7f8c-44b2-a00b-adb92d590df8",
   "metadata": {},
   "outputs": [],
   "source": [
    "from pathlib import Path as P"
   ]
  },
  {
   "cell_type": "code",
   "execution_count": null,
   "id": "207b4e9e-c60a-4852-884b-53567f741418",
   "metadata": {},
   "outputs": [],
   "source": [
    "import lrg_omics\n",
    "lrg_omics.__file__"
   ]
  },
  {
   "cell_type": "code",
   "execution_count": null,
   "id": "8ff76cb4-77ab-4b53-a685-359307ac9f42",
   "metadata": {},
   "outputs": [],
   "source": [
    "from lrg_omics.proteomics import MaxquantRunner"
   ]
  },
  {
   "cell_type": "markdown",
   "id": "e6d84560-3ff7-4169-9fec-e0c587996165",
   "metadata": {},
   "source": [
    "### Test the fake a run."
   ]
  },
  {
   "cell_type": "code",
   "execution_count": null,
   "id": "ddc6d983-d85b-4160-b685-2c2d72e83d26",
   "metadata": {},
   "outputs": [],
   "source": [
    "PATH = P('../tests/data/')\n",
    "fn_raw = PATH/'fake'/'fake.raw'\n",
    "fn_mqp = PATH/'maxquant'/'tmt11'/'mqpar'/'mqpar.xml'\n",
    "fn_faa = PATH/'fasta'/'minimal.faa'\n",
    "cmd = '/home/swacker/miniconda3/envs/lrg/bin/maxquant'\n",
    "mq = MaxquantRunner(mqpar_file=fn_mqp, fasta_file=fn_faa, maxquantcmd=cmd)\n",
    "_ = mq.run(fn_raw, run=True, rerun=True)"
   ]
  },
  {
   "cell_type": "code",
   "execution_count": null,
   "id": "3e11308f-f7b8-4e81-94b3-fb68abe55c19",
   "metadata": {},
   "outputs": [],
   "source": [
    "# Test real .RAW file"
   ]
  },
  {
   "cell_type": "code",
   "execution_count": 8,
   "id": "e749e1cc-ae13-4a39-8faf-0db2eb68184e",
   "metadata": {},
   "outputs": [
    {
     "output_type": "stream",
     "name": "stdout",
     "text": [
      "Running SA010-R1-blank-200425-R2 /home/swacker/workspace/lrg-omics/notebooks/run\n"
     ]
    },
    {
     "output_type": "execute_result",
     "data": {
      "text/plain": [
       "'cd /home/swacker/workspace/lrg-omics/notebooks/run; ls -artlh; /usr/bin/time -o /home/swacker/workspace/lrg-omics/notebooks/run/time.txt -f \"%E\" maxquant /home/swacker/workspace/lrg-omics/notebooks/run/mqpar.xml 1>maxquant.out 2>maxquant.err; if [ ! -d /home/swacker/workspace/lrg-omics/notebooks/run/combined ]; then mkdir /home/swacker/workspace/lrg-omics/notebooks/run/combined ; fi; if [ ! -d /home/swacker/workspace/lrg-omics/notebooks/run/combined/txt ]; then mkdir /home/swacker/workspace/lrg-omics/notebooks/run/combined/txt ; fi; mv time.txt maxquant.err maxquant.out mqpar.xml /home/swacker/workspace/lrg-omics/notebooks/run/combined/txt/; mv /home/swacker/workspace/lrg-omics/notebooks/run/combined/txt/* /home/swacker/workspace/lrg-omics/notebooks/out'"
      ]
     },
     "metadata": {},
     "execution_count": 8
    }
   ],
   "source": [
    "PATH = P('../tests/data/')\n",
    "fn_raw = '/data/proteomics_storage/testing/SA010-R1-blank-200425-R2.raw'\n",
    "fn_mqp = PATH/'maxquant'/'tmt11'/'mqpar'/'mqpar.xml'\n",
    "fn_faa = PATH/'fasta'/'minimal.faa'\n",
    "\n",
    "cmd = '/home/swacker/miniconda3/envs/lrg/bin/mono /home/swacker/miniconda3/envs/lrg/bin/MaxQuantCmd.exe'\n",
    "cmd = 'maxquant'\n",
    "\n",
    "mq = MaxquantRunner(mqpar_file=fn_mqp, fasta_file=fn_faa, maxquantcmd=cmd)\n",
    "mq.run(fn_raw, run=True, rerun=True)"
   ]
  },
  {
   "cell_type": "code",
   "execution_count": null,
   "id": "dd8fc13e-7468-4400-8a52-7e18a88f6cb1",
   "metadata": {},
   "outputs": [],
   "source": []
  }
 ],
 "metadata": {
  "kernelspec": {
   "name": "lrg",
   "display_name": "Python 3.8.10 64-bit ('lrg': conda)"
  },
  "language_info": {
   "codemirror_mode": {
    "name": "ipython",
    "version": 3
   },
   "file_extension": ".py",
   "mimetype": "text/x-python",
   "name": "python",
   "nbconvert_exporter": "python",
   "pygments_lexer": "ipython3",
   "version": "3.8.10"
  }
 },
 "nbformat": 4,
 "nbformat_minor": 5
}