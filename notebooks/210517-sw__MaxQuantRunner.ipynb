{
 "cells": [
  {
   "cell_type": "code",
   "execution_count": 1,
   "id": "c073cb12-3f67-4a0c-b238-294e28def6ab",
   "metadata": {},
   "outputs": [
    {
     "name": "stdout",
     "output_type": "stream",
     "text": [
      "Populating the interactive namespace from numpy and matplotlib\n"
     ]
    }
   ],
   "source": [
    "%pylab inline"
   ]
  },
  {
   "cell_type": "markdown",
   "id": "ada963f0-837b-480f-8655-87ee2ac54288",
   "metadata": {},
   "source": [
    "# Using MaxquantRunner() in a Jupyter notebook"
   ]
  },
  {
   "cell_type": "markdown",
   "id": "93e72e62-637b-4601-9585-f58265c8f526",
   "metadata": {},
   "source": [
    "There are issues with JupyterLab 3 finding the commands when they are installed in a different conda environment than `base`. A workaround is to provide the absolute path to `mono` and `MaxQuantCmd.exe` or use a notebook server that does not have that problem. For example, VSCode can run the code without problems. "
   ]
  },
  {
   "cell_type": "markdown",
   "id": "46ddca29-e75b-40e3-88b1-5028fbda90ed",
   "metadata": {},
   "source": [
    "The following should return the path to `mono` in the currently active environment."
   ]
  },
  {
   "cell_type": "code",
   "execution_count": 7,
   "id": "f3893072-fdb6-450a-b0f2-a7d2b3b496d7",
   "metadata": {},
   "outputs": [
    {
     "name": "stdout",
     "output_type": "stream",
     "text": [
      "Mono JIT compiler version 6.12.0.90 (tarball Fri Mar  5 04:37:13 UTC 2021)\n",
      "Copyright (C) 2002-2014 Novell, Inc, Xamarin Inc and Contributors. www.mono-project.com\n",
      "\tTLS:           __thread\n",
      "\tSIGSEGV:       altstack\n",
      "\tNotifications: epoll\n",
      "\tArchitecture:  amd64\n",
      "\tDisabled:      none\n",
      "\tMisc:          softdebug \n",
      "\tInterpreter:   yes\n",
      "\tLLVM:          supported, not enabled.\n",
      "\tSuspend:       hybrid\n",
      "\tGC:            sgen (concurrent by default)\n",
      "\n"
     ]
    }
   ],
   "source": [
    "! conda run -n lrg mono --version"
   ]
  },
  {
   "cell_type": "code",
   "execution_count": 8,
   "id": "8f7bd912-f0e0-426f-8f74-a7e5301d157e",
   "metadata": {},
   "outputs": [
    {
     "name": "stdout",
     "output_type": "stream",
     "text": [
      "/home/swacker/miniconda3/envs/lrg/bin/maxquant\n",
      "\n"
     ]
    }
   ],
   "source": [
    "! conda run -n lrg which maxquant"
   ]
  },
  {
   "cell_type": "markdown",
   "id": "12acf2f1-73fe-49d1-9572-e01dcab2fc3d",
   "metadata": {},
   "source": [
    "This does not work in all versions of JupyterLab. You can try using VSCode instead until this is fixed."
   ]
  },
  {
   "cell_type": "markdown",
   "id": "e6d84560-3ff7-4169-9fec-e0c587996165",
   "metadata": {},
   "source": [
    "### Test run"
   ]
  },
  {
   "cell_type": "code",
   "execution_count": 16,
   "id": "4fc5cb81-301c-4104-b1aa-80d5035c09ec",
   "metadata": {},
   "outputs": [],
   "source": [
    "from pathlib import Path as P\n",
    "from lrg_omics.proteomics import MaxquantRunner"
   ]
  },
  {
   "cell_type": "code",
   "execution_count": 18,
   "id": "28372e23-2283-4b84-bfe4-114fe6c75416",
   "metadata": {},
   "outputs": [
    {
     "data": {
      "text/plain": [
       "\u001b[0;31mInit signature:\u001b[0m\n",
       "\u001b[0mMaxquantRunner\u001b[0m\u001b[0;34m(\u001b[0m\u001b[0;34m\u001b[0m\n",
       "\u001b[0;34m\u001b[0m    \u001b[0mfasta_file\u001b[0m\u001b[0;34m,\u001b[0m\u001b[0;34m\u001b[0m\n",
       "\u001b[0;34m\u001b[0m    \u001b[0mmqpar_file\u001b[0m\u001b[0;34m,\u001b[0m\u001b[0;34m\u001b[0m\n",
       "\u001b[0;34m\u001b[0m    \u001b[0mmaxquantcmd\u001b[0m\u001b[0;34m=\u001b[0m\u001b[0;34m'maxquant'\u001b[0m\u001b[0;34m,\u001b[0m\u001b[0;34m\u001b[0m\n",
       "\u001b[0;34m\u001b[0m    \u001b[0mrun_dir\u001b[0m\u001b[0;34m=\u001b[0m\u001b[0;32mNone\u001b[0m\u001b[0;34m,\u001b[0m\u001b[0;34m\u001b[0m\n",
       "\u001b[0;34m\u001b[0m    \u001b[0mout_dir\u001b[0m\u001b[0;34m=\u001b[0m\u001b[0;32mNone\u001b[0m\u001b[0;34m,\u001b[0m\u001b[0;34m\u001b[0m\n",
       "\u001b[0;34m\u001b[0m    \u001b[0madd_raw_name_to_outdir\u001b[0m\u001b[0;34m=\u001b[0m\u001b[0;32mFalse\u001b[0m\u001b[0;34m,\u001b[0m\u001b[0;34m\u001b[0m\n",
       "\u001b[0;34m\u001b[0m    \u001b[0madd_uuid_to_rundir\u001b[0m\u001b[0;34m=\u001b[0m\u001b[0;32mFalse\u001b[0m\u001b[0;34m,\u001b[0m\u001b[0;34m\u001b[0m\n",
       "\u001b[0;34m\u001b[0m    \u001b[0msbatch_cmds\u001b[0m\u001b[0;34m=\u001b[0m\u001b[0;32mNone\u001b[0m\u001b[0;34m,\u001b[0m\u001b[0;34m\u001b[0m\n",
       "\u001b[0;34m\u001b[0m    \u001b[0mcleanup\u001b[0m\u001b[0;34m=\u001b[0m\u001b[0;32mFalse\u001b[0m\u001b[0;34m,\u001b[0m\u001b[0;34m\u001b[0m\n",
       "\u001b[0;34m\u001b[0m    \u001b[0mverbose\u001b[0m\u001b[0;34m=\u001b[0m\u001b[0;32mFalse\u001b[0m\u001b[0;34m,\u001b[0m\u001b[0;34m\u001b[0m\n",
       "\u001b[0;34m\u001b[0m    \u001b[0moutput_dir\u001b[0m\u001b[0;34m=\u001b[0m\u001b[0;32mNone\u001b[0m\u001b[0;34m,\u001b[0m\u001b[0;34m\u001b[0m\n",
       "\u001b[0;34m\u001b[0m\u001b[0;34m)\u001b[0m\u001b[0;34m\u001b[0m\u001b[0;34m\u001b[0m\u001b[0m\n",
       "\u001b[0;31mDocstring:\u001b[0m      <no docstring>\n",
       "\u001b[0;31mFile:\u001b[0m           ~/workspace/lrg-omics/lrg_omics/proteomics/maxquant/MaxquantRunner.py\n",
       "\u001b[0;31mType:\u001b[0m           type\n",
       "\u001b[0;31mSubclasses:\u001b[0m     \n"
      ]
     },
     "metadata": {},
     "output_type": "display_data"
    }
   ],
   "source": [
    "MaxquantRunner?"
   ]
  },
  {
   "cell_type": "code",
   "execution_count": 14,
   "id": "e749e1cc-ae13-4a39-8faf-0db2eb68184e",
   "metadata": {},
   "outputs": [],
   "source": [
    "PATH = P('../tests/data/')\n",
    "fn_raw = '/data/proteomics_storage/testing/SA010-R1-blank-200425-R2.raw'\n",
    "fn_mqp = PATH/'maxquant'/'tmt11'/'mqpar'/'mqpar.xml'\n",
    "fn_faa = PATH/'fasta'/'minimal.faa'\n",
    "\n",
    "cmd = '/home/swacker/miniconda3/envs/lrg/bin/mono /home/swacker/miniconda3/envs/lrg/bin/MaxQuantCmd.exe'\n",
    "cmd = 'maxquant'\n",
    "\n",
    "mq = MaxquantRunner(mqpar_file=fn_mqp, fasta_file=fn_faa, maxquantcmd=cmd)\n",
    "cmds = mq.run(fn_raw, run=False, rerun=True)"
   ]
  },
  {
   "cell_type": "code",
   "execution_count": 15,
   "id": "dd8fc13e-7468-4400-8a52-7e18a88f6cb1",
   "metadata": {},
   "outputs": [
    {
     "data": {
      "text/plain": [
       "'cd /home/swacker/workspace/lrg-omics/notebooks/run; sleep 10; /usr/bin/time -o /home/swacker/workspace/lrg-omics/notebooks/run/time.txt -f \"%E\"  maxquant /home/swacker/workspace/lrg-omics/notebooks/run/mqpar.xml 1>maxquant.out 2>maxquant.err; if [ ! -d /home/swacker/workspace/lrg-omics/notebooks/run/combined ]; then mkdir /home/swacker/workspace/lrg-omics/notebooks/run/combined ; fi; if [ ! -d /home/swacker/workspace/lrg-omics/notebooks/run/combined/txt ]; then mkdir /home/swacker/workspace/lrg-omics/notebooks/run/combined/txt ; fi; cp time.txt maxquant.err maxquant.out /home/swacker/workspace/lrg-omics/notebooks/run/mqpar.xml /home/swacker/workspace/lrg-omics/notebooks/run/combined/txt/; mv /home/swacker/workspace/lrg-omics/notebooks/run/combined/txt/* /home/swacker/workspace/lrg-omics/notebooks/out'"
      ]
     },
     "execution_count": 15,
     "metadata": {},
     "output_type": "execute_result"
    }
   ],
   "source": [
    "cmds"
   ]
  },
  {
   "cell_type": "code",
   "execution_count": null,
   "id": "c91a4560-117b-4fe8-9406-652555667b04",
   "metadata": {},
   "outputs": [],
   "source": []
  }
 ],
 "metadata": {
  "kernelspec": {
   "display_name": "LRG",
   "language": "python",
   "name": "lrg"
  },
  "language_info": {
   "codemirror_mode": {
    "name": "ipython",
    "version": 3
   },
   "file_extension": ".py",
   "mimetype": "text/x-python",
   "name": "python",
   "nbconvert_exporter": "python",
   "pygments_lexer": "ipython3",
   "version": "3.8.10"
  }
 },
 "nbformat": 4,
 "nbformat_minor": 5
}
