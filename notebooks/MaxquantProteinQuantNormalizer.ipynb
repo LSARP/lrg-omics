{
 "cells": [
  {
   "cell_type": "code",
   "execution_count": null,
   "id": "60d28f98-d0f2-457c-a7f1-b2a5a2393aa8",
   "metadata": {},
   "outputs": [],
   "source": [
    "%pylab inline"
   ]
  },
  {
   "cell_type": "code",
   "execution_count": null,
   "id": "ededde3a-92d5-4c59-bdeb-8e53f1d95b7d",
   "metadata": {},
   "outputs": [],
   "source": [
    "from TB.c import *"
   ]
  },
  {
   "cell_type": "code",
   "execution_count": null,
   "id": "fdded672-3683-408b-a6f3-e27a5330a60d",
   "metadata": {},
   "outputs": [],
   "source": [
    "from lrg_omics.proteomics import MaxquantProteinQuantNormalizer"
   ]
  },
  {
   "cell_type": "code",
   "execution_count": null,
   "id": "b6b1d440-cc2f-4158-b82a-45a03bfc04cb",
   "metadata": {},
   "outputs": [],
   "source": [
    "paths = glob('/bulk/LSARP/proteomics/pipeline/S_aureus/211103-sw__process-downstream-latest/output/*')"
   ]
  },
  {
   "cell_type": "code",
   "execution_count": null,
   "id": "1095a937-73e3-460b-b730-a73752c5c18c",
   "metadata": {},
   "outputs": [],
   "source": [
    "norm = MaxquantProteinQuantNormalizer(paths[:30])"
   ]
  },
  {
   "cell_type": "code",
   "execution_count": null,
   "id": "a7b45ef2-3845-486a-b40d-1615998dc2a2",
   "metadata": {},
   "outputs": [],
   "source": [
    "df = norm.normalize()"
   ]
  },
  {
   "cell_type": "code",
   "execution_count": null,
   "id": "c6639c07-b90f-4081-83a8-612411fcaaa6",
   "metadata": {},
   "outputs": [],
   "source": [
    "df"
   ]
  },
  {
   "cell_type": "code",
   "execution_count": null,
   "id": "8c7ff851-e073-47f7-94e1-0c67b99ac865",
   "metadata": {},
   "outputs": [],
   "source": [
    "df"
   ]
  },
  {
   "cell_type": "code",
   "execution_count": null,
   "id": "795e8fa5-1d04-4691-8fe2-69f74abc2c74",
   "metadata": {},
   "outputs": [],
   "source": []
  },
  {
   "cell_type": "code",
   "execution_count": null,
   "id": "37f44c9b-c086-442f-b78c-9f05a33ef12a",
   "metadata": {},
   "outputs": [],
   "source": []
  }
 ],
 "metadata": {
  "kernelspec": {
   "display_name": "Lrg",
   "language": "python",
   "name": "lrg"
  },
  "language_info": {
   "codemirror_mode": {
    "name": "ipython",
    "version": 3
   },
   "file_extension": ".py",
   "mimetype": "text/x-python",
   "name": "python",
   "nbconvert_exporter": "python",
   "pygments_lexer": "ipython3",
   "version": "3.9.7"
  }
 },
 "nbformat": 4,
 "nbformat_minor": 5
}
